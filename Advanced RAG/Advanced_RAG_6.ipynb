{
  "nbformat": 4,
  "nbformat_minor": 0,
  "metadata": {
    "colab": {
      "provenance": [],
      "gpuType": "T4"
    },
    "kernelspec": {
      "name": "python3",
      "display_name": "Python 3"
    },
    "language_info": {
      "name": "python"
    },
    "accelerator": "GPU"
  },
  "cells": [
    {
      "cell_type": "code",
      "execution_count": 2,
      "metadata": {
        "colab": {
          "base_uri": "https://localhost:8080/",
          "height": 0
        },
        "id": "e5snMxiBNlKV",
        "outputId": "5cf7f706-7cb5-4a2e-80c6-a5786952d6af"
      },
      "outputs": [
        {
          "output_type": "stream",
          "name": "stdout",
          "text": [
            "\u001b[?25l     \u001b[90m━━━━━━━━━━━━━━━━━━━━━━━━━━━━━━━━━━━━━━━━\u001b[0m \u001b[32m0.0/171.6 kB\u001b[0m \u001b[31m?\u001b[0m eta \u001b[36m-:--:--\u001b[0m\r\u001b[2K     \u001b[91m━━━━━━━━━━━━━━━━━━━━━\u001b[0m\u001b[90m╺\u001b[0m\u001b[90m━━━━━━━━━━━━━━━━━━\u001b[0m \u001b[32m92.2/171.6 kB\u001b[0m \u001b[31m2.5 MB/s\u001b[0m eta \u001b[36m0:00:01\u001b[0m\r\u001b[2K     \u001b[90m━━━━━━━━━━━━━━━━━━━━━━━━━━━━━━━━━━━━━━━━\u001b[0m \u001b[32m171.6/171.6 kB\u001b[0m \u001b[31m2.9 MB/s\u001b[0m eta \u001b[36m0:00:00\u001b[0m\n",
            "\u001b[2K     \u001b[90m━━━━━━━━━━━━━━━━━━━━━━━━━━━━━━━━━━━━━━━━\u001b[0m \u001b[32m146.6/146.6 kB\u001b[0m \u001b[31m18.6 MB/s\u001b[0m eta \u001b[36m0:00:00\u001b[0m\n",
            "\u001b[2K     \u001b[90m━━━━━━━━━━━━━━━━━━━━━━━━━━━━━━━━━━━━━━━━\u001b[0m \u001b[32m215.3/215.3 kB\u001b[0m \u001b[31m5.6 MB/s\u001b[0m eta \u001b[36m0:00:00\u001b[0m\n",
            "\u001b[?25h  Installing build dependencies ... \u001b[?25l\u001b[?25hdone\n",
            "  Getting requirements to build wheel ... \u001b[?25l\u001b[?25hdone\n",
            "  Preparing metadata (pyproject.toml) ... \u001b[?25l\u001b[?25hdone\n",
            "  Building wheel for hnswlib (pyproject.toml) ... \u001b[?25l\u001b[?25hdone\n"
          ]
        }
      ],
      "source": [
        "!pip install -q langchain_experimental langchain_core google-generativeai==0.3.1 google-ai-generativelanguage==0.4.0 langchain-google-genai\n",
        "!pip install -q \"langchain[docarray]\""
      ]
    },
    {
      "cell_type": "code",
      "source": [
        "!pip -q install langchain huggingface_hub openai google-search-results tiktoken chromadb==0.4.3 lark"
      ],
      "metadata": {
        "colab": {
          "base_uri": "https://localhost:8080/",
          "height": 0
        },
        "id": "z_RB43JhNp9n",
        "outputId": "1215ae92-d869-4704-ee2f-fb8596cf8445"
      },
      "execution_count": 34,
      "outputs": [
        {
          "output_type": "stream",
          "name": "stdout",
          "text": [
            "\u001b[2K     \u001b[90m━━━━━━━━━━━━━━━━━━━━━━━━━━━━━━━━━━━━━━━━\u001b[0m \u001b[32m399.0/399.0 kB\u001b[0m \u001b[31m8.1 MB/s\u001b[0m eta \u001b[36m0:00:00\u001b[0m\n",
            "\u001b[2K     \u001b[90m━━━━━━━━━━━━━━━━━━━━━━━━━━━━━━━━━━━━━━━━\u001b[0m \u001b[32m3.1/3.1 MB\u001b[0m \u001b[31m85.9 MB/s\u001b[0m eta \u001b[36m0:00:00\u001b[0m\n",
            "\u001b[?25h  Installing build dependencies ... \u001b[?25l\u001b[?25hdone\n",
            "  Getting requirements to build wheel ... \u001b[?25l\u001b[?25hdone\n",
            "  Preparing metadata (pyproject.toml) ... \u001b[?25l\u001b[?25hdone\n",
            "\u001b[2K     \u001b[90m━━━━━━━━━━━━━━━━━━━━━━━━━━━━━━━━━━━━━━━━\u001b[0m \u001b[32m58.4/58.4 kB\u001b[0m \u001b[31m8.3 MB/s\u001b[0m eta \u001b[36m0:00:00\u001b[0m\n",
            "\u001b[2K     \u001b[90m━━━━━━━━━━━━━━━━━━━━━━━━━━━━━━━━━━━━━━━━\u001b[0m \u001b[32m67.0/67.0 kB\u001b[0m \u001b[31m9.0 MB/s\u001b[0m eta \u001b[36m0:00:00\u001b[0m\n",
            "\u001b[?25h  Building wheel for chroma-hnswlib (pyproject.toml) ... \u001b[?25l\u001b[?25hdone\n"
          ]
        }
      ]
    },
    {
      "cell_type": "code",
      "source": [
        "import os\n",
        "\n",
        "os.environ['GOOGLE_API_KEY']=\"\""
      ],
      "metadata": {
        "id": "J3Kxv-dYNz3k"
      },
      "execution_count": 35,
      "outputs": []
    },
    {
      "cell_type": "code",
      "source": [
        "import os\n",
        "import requests\n",
        "import zipfile\n",
        "from io import BytesIO\n",
        "import textwrap\n",
        "\n",
        "def download(url,target_folder):\n",
        "\n",
        "  if not os.path.exists(target_folder):\n",
        "    os.makedirs(target_folder)\n",
        "\n",
        "  response = requests.get(url)\n",
        "  if response.status_code!=200:\n",
        "    raise Exception(f\"Failed to download file :{url}\")\n",
        "\n",
        "  with zipfile.ZipFile(BytesIO(response.content)) as zip_ref:\n",
        "    zip_ref.extractall(target_folder)\n",
        "\n",
        "  print(f\"File extracted to {target_folder}\")"
      ],
      "metadata": {
        "id": "KaoaKynhOBN-"
      },
      "execution_count": 36,
      "outputs": []
    },
    {
      "cell_type": "code",
      "source": [
        "def zip(folder_path,zip_file_path):\n",
        "  with zipfile.ZipFile(zip_file_path,'w',zipfile.ZIP_DEFLATED) as zipf:\n",
        "\n",
        "    for root, dirs, files in os.walk(folder_path):\n",
        "      for file in files:\n",
        "         relative_path = os.path.relpath(os.path.join(root, file), os.path.dirname(folder_path))\n",
        "         zipf.write(os.path.join(root,file), arcname=relative_path)\n",
        "\n",
        "  print(f\"{zip_file_path} created Successfully\")"
      ],
      "metadata": {
        "id": "dB5CUeOqO3Hb"
      },
      "execution_count": 37,
      "outputs": []
    },
    {
      "cell_type": "code",
      "source": [
        "def wrap_text(text, width=90):\n",
        "    lines = text.split('\\n')\n",
        "    wrapped_lines = [textwrap.fill(line, width=width) for line in lines]\n",
        "    wrapped_text = '\\n'.join(wrapped_lines)\n",
        "\n",
        "    return wrapped_text\n",
        "\n",
        "url = \"https://www.dropbox.com/scl/fi/av3nw07o5mo29cjokyp41/singapore_text_files_languages.zip?rlkey=xqdy5f1modtbnrzzga9024jyw&dl=1\" # Ensure dl=1 for direct download\n",
        "\n",
        "folder = \"singapore_text\"\n",
        "\n",
        "download(url, folder)"
      ],
      "metadata": {
        "id": "tYfQYoBXPqzD",
        "outputId": "6c133114-ed5f-4a94-b661-23d6b63dc5ac",
        "colab": {
          "base_uri": "https://localhost:8080/",
          "height": 0
        }
      },
      "execution_count": 38,
      "outputs": [
        {
          "output_type": "stream",
          "name": "stdout",
          "text": [
            "File extracted to singapore_text\n"
          ]
        }
      ]
    },
    {
      "cell_type": "code",
      "source": [
        "!pip show langchain langchain-core"
      ],
      "metadata": {
        "id": "LvHlk2mVQUsQ",
        "outputId": "37682399-e372-4fe4-f4d8-a7fb1fbfe191",
        "colab": {
          "base_uri": "https://localhost:8080/",
          "height": 0
        }
      },
      "execution_count": 40,
      "outputs": [
        {
          "output_type": "stream",
          "name": "stdout",
          "text": [
            "Name: langchain\n",
            "Version: 0.1.9\n",
            "Summary: Building applications with LLMs through composability\n",
            "Home-page: https://github.com/langchain-ai/langchain\n",
            "Author: \n",
            "Author-email: \n",
            "License: MIT\n",
            "Location: /usr/local/lib/python3.10/dist-packages\n",
            "Requires: aiohttp, async-timeout, dataclasses-json, jsonpatch, langchain-community, langchain-core, langsmith, numpy, pydantic, PyYAML, requests, SQLAlchemy, tenacity\n",
            "Required-by: langchain-experimental\n",
            "---\n",
            "Name: langchain-core\n",
            "Version: 0.1.27\n",
            "Summary: Building applications with LLMs through composability\n",
            "Home-page: https://github.com/langchain-ai/langchain\n",
            "Author: \n",
            "Author-email: \n",
            "License: MIT\n",
            "Location: /usr/local/lib/python3.10/dist-packages\n",
            "Requires: anyio, jsonpatch, langsmith, packaging, pydantic, PyYAML, requests, tenacity\n",
            "Required-by: langchain, langchain-community, langchain-experimental, langchain-google-genai\n"
          ]
        }
      ]
    },
    {
      "cell_type": "code",
      "source": [
        "import os\n",
        "import google.generativeai as genai\n",
        "\n",
        "genai.configure(api_key=\"\")"
      ],
      "metadata": {
        "id": "qF5AYLu3QXP1"
      },
      "execution_count": 41,
      "outputs": []
    },
    {
      "cell_type": "code",
      "source": [
        "from langchain_google_genai.embeddings import GoogleGenerativeAIEmbeddings\n",
        "from langchain_google_genai.chat_models import ChatGoogleGenerativeAI\n",
        "from langchain.text_splitter import RecursiveCharacterTextSplitter\n",
        "from langchain.vectorstores import Chroma\n",
        "from langchain.schema import Document\n",
        "\n",
        "embeddings = GoogleGenerativeAIEmbeddings(model = \"models/embedding-001\")"
      ],
      "metadata": {
        "id": "jOhdo013QeQi"
      },
      "execution_count": 42,
      "outputs": []
    },
    {
      "cell_type": "code",
      "source": [
        "from langchain.document_loaders import DirectoryLoader\n",
        "from langchain.document_loaders import TextLoader"
      ],
      "metadata": {
        "id": "RYOOq3xKQnJt"
      },
      "execution_count": 43,
      "outputs": []
    },
    {
      "cell_type": "code",
      "source": [
        "!pip install -q unstructured"
      ],
      "metadata": {
        "id": "sgL5ui-DQwQQ"
      },
      "execution_count": 44,
      "outputs": []
    },
    {
      "cell_type": "code",
      "source": [
        "%%time\n",
        "loader = DirectoryLoader('/content/singapore_text/Textfiles3/English/', glob=\"*.txt\", show_progress=False)\n",
        "docs = loader.load()"
      ],
      "metadata": {
        "id": "_5ToXaFhQqEl",
        "outputId": "b9ef41e0-20a0-4dab-cf2f-a220a79ba72c",
        "colab": {
          "base_uri": "https://localhost:8080/",
          "height": 0
        }
      },
      "execution_count": 45,
      "outputs": [
        {
          "output_type": "stream",
          "name": "stdout",
          "text": [
            "CPU times: user 30.9 s, sys: 623 ms, total: 31.5 s\n",
            "Wall time: 31.6 s\n"
          ]
        }
      ]
    },
    {
      "cell_type": "code",
      "source": [
        "len(docs)\n"
      ],
      "metadata": {
        "id": "TtxNsN_HQ_WG",
        "outputId": "9fe39822-8f00-4e9c-9229-ecb0097fb632",
        "colab": {
          "base_uri": "https://localhost:8080/",
          "height": 0
        }
      },
      "execution_count": 46,
      "outputs": [
        {
          "output_type": "execute_result",
          "data": {
            "text/plain": [
              "646"
            ]
          },
          "metadata": {},
          "execution_count": 46
        }
      ]
    },
    {
      "cell_type": "code",
      "source": [
        "docs[0]"
      ],
      "metadata": {
        "id": "QCW5WsjJRB-X",
        "outputId": "5e6adb10-136e-4af1-85fc-081847125951",
        "colab": {
          "base_uri": "https://localhost:8080/",
          "height": 0
        }
      },
      "execution_count": 47,
      "outputs": [
        {
          "output_type": "execute_result",
          "data": {
            "text/plain": [
              "Document(page_content='Link: https://www.hellosingaporetours.com/food\\n\\ntour\\n\\nTitle: Hello! Singapore Food Tour — Hello! Singapore Tours\\n\\nAsk any Singaporean what their favourite past time is and they will say eating. Eat like a local on a private food tour and discover why Singaporeans love their food so much!\\n\\nOur Singapore food tours last 5.5 hours and cover four districts of Singapore; the East Coast (also known as Katong), Old Airport Road, Kampong Glam and Little India. In each district you will enjoy foods from each of the main ethnic groups of Singapore; Chinese, Peranakan, Malay (Muslim) and Indian. There are 10+ food tastings on this tour.\\n\\nPlease note that there is a wide variety of foods on this tour. If you are unable to consume any of the following then it does mean that you will NOT be able to eat/drink everything on the tour: milk, meat, pork, prawns, fish, wheat/gluten, spice. If you are unable to consume several of those foods then you may prefer to opt for a private customised tour rather than a food tour.\\n\\nWe offer both a public group and private food tours. Public group tours run on Tuesday, Thursday and Saturday mornings. Private food tours are available 7 days a week and can start any time before 3 pm.', metadata={'source': '/content/singapore_text/Textfiles3/English/Hello!_Singapore_Food_Tour_—_Hello!_Singapore_Tours.txt'})"
            ]
          },
          "metadata": {},
          "execution_count": 47
        }
      ]
    },
    {
      "cell_type": "code",
      "source": [
        "raw_text = \"\"\n",
        "\n",
        "for i,doc in enumerate(docs):\n",
        "  text = doc.page_content\n",
        "  if text:\n",
        "    raw_text += text"
      ],
      "metadata": {
        "id": "ZujqmbjtRDs_"
      },
      "execution_count": 48,
      "outputs": []
    },
    {
      "cell_type": "code",
      "source": [
        "text_splitter = RecursiveCharacterTextSplitter(\n",
        "    chunk_size = 1000,\n",
        "    chunk_overlap = 100,\n",
        "    length_function = len,\n",
        "    is_separator_regex = False\n",
        ")"
      ],
      "metadata": {
        "id": "-kbPr2qSRTGK"
      },
      "execution_count": 49,
      "outputs": []
    },
    {
      "cell_type": "code",
      "source": [
        "texts = text_splitter.split_text(raw_text)"
      ],
      "metadata": {
        "id": "xo_Svf85RngP"
      },
      "execution_count": 50,
      "outputs": []
    },
    {
      "cell_type": "code",
      "source": [
        "len(texts)"
      ],
      "metadata": {
        "id": "F3d2709PRrpr",
        "outputId": "1dcd0e7b-9fc8-4d20-ff43-db37645cff51",
        "colab": {
          "base_uri": "https://localhost:8080/",
          "height": 0
        }
      },
      "execution_count": 51,
      "outputs": [
        {
          "output_type": "execute_result",
          "data": {
            "text/plain": [
              "2687"
            ]
          },
          "metadata": {},
          "execution_count": 51
        }
      ]
    },
    {
      "cell_type": "code",
      "source": [
        "texts[1]"
      ],
      "metadata": {
        "id": "I4HtIXa2Rsm7",
        "outputId": "76782090-8288-4267-8db8-acf213e24b37",
        "colab": {
          "base_uri": "https://localhost:8080/",
          "height": 122
        }
      },
      "execution_count": 52,
      "outputs": [
        {
          "output_type": "execute_result",
          "data": {
            "text/plain": [
              "'Please note that there is a wide variety of foods on this tour. If you are unable to consume any of the following then it does mean that you will NOT be able to eat/drink everything on the tour: milk, meat, pork, prawns, fish, wheat/gluten, spice. If you are unable to consume several of those foods then you may prefer to opt for a private customised tour rather than a food tour.\\n\\nWe offer both a public group and private food tours. Public group tours run on Tuesday, Thursday and Saturday mornings. Private food tours are available 7 days a week and can start any time before 3 pm.Link: https://www.visitsingapore.com/editorials/unique\\n\\neats\\n\\nsix\\n\\nunusual\\n\\ndining\\n\\nexperiences\\n\\nin\\n\\nsingapore/\\n\\nTitle: Unique dining experiences in SG\\n\\nSingapore’s reputation as a food paradise is well warranted — besides delicious hawker food and world-class Michelin fare, The Lion City is also home to a range of experiential and immersive culinary experiences.'"
            ],
            "application/vnd.google.colaboratory.intrinsic+json": {
              "type": "string"
            }
          },
          "metadata": {},
          "execution_count": 52
        }
      ]
    },
    {
      "cell_type": "code",
      "source": [
        "!pip install -q hnswlib==0.7.0 chroma-hnswlib==0.7.1 chromadb==0.4.3"
      ],
      "metadata": {
        "id": "ZneIEB0OTXQB",
        "outputId": "ccff9ab7-d43c-41cd-bade-a941e159f171",
        "colab": {
          "base_uri": "https://localhost:8080/",
          "height": 0
        }
      },
      "execution_count": 54,
      "outputs": [
        {
          "output_type": "stream",
          "name": "stdout",
          "text": [
            "  Installing build dependencies ... \u001b[?25l\u001b[?25hdone\n",
            "  Getting requirements to build wheel ... \u001b[?25l\u001b[?25hdone\n",
            "  Preparing metadata (pyproject.toml) ... \u001b[?25l\u001b[?25hdone\n",
            "  Building wheel for hnswlib (pyproject.toml) ... \u001b[?25l\u001b[?25hdone\n"
          ]
        }
      ]
    },
    {
      "cell_type": "code",
      "source": [
        "!pip uninstall -q hnswlib"
      ],
      "metadata": {
        "id": "-rAgbWcrUW7V",
        "outputId": "d04f328d-1a12-4922-b6a7-9e8f700fa371",
        "colab": {
          "base_uri": "https://localhost:8080/",
          "height": 0
        }
      },
      "execution_count": 61,
      "outputs": [
        {
          "output_type": "stream",
          "name": "stdout",
          "text": [
            "Proceed (Y/n)? y\n"
          ]
        }
      ]
    },
    {
      "cell_type": "code",
      "source": [
        "!pip install -q faiss-gpu faiss-cpu"
      ],
      "metadata": {
        "id": "VXscJuT0XsHN",
        "outputId": "5c36a20a-0b4f-4c2f-c47b-bb0689288f5e",
        "colab": {
          "base_uri": "https://localhost:8080/",
          "height": 0
        }
      },
      "execution_count": 72,
      "outputs": [
        {
          "output_type": "stream",
          "name": "stdout",
          "text": [
            "\u001b[2K     \u001b[90m━━━━━━━━━━━━━━━━━━━━━━━━━━━━━━━━━━━━━━━━\u001b[0m \u001b[32m85.5/85.5 MB\u001b[0m \u001b[31m1.9 MB/s\u001b[0m eta \u001b[36m0:00:00\u001b[0m\n",
            "\u001b[2K     \u001b[90m━━━━━━━━━━━━━━━━━━━━━━━━━━━━━━━━━━━━━━━━\u001b[0m \u001b[32m17.6/17.6 MB\u001b[0m \u001b[31m58.7 MB/s\u001b[0m eta \u001b[36m0:00:00\u001b[0m\n",
            "\u001b[?25h"
          ]
        }
      ]
    },
    {
      "cell_type": "code",
      "source": [
        "%%time\n",
        "from langchain.vectorstores.faiss import FAISS\n",
        "\n",
        "vectorstore = FAISS.from_texts(texts,embeddings)\n",
        "\n",
        "vectorstore.save_local(\"index\")\n",
        "\n"
      ],
      "metadata": {
        "id": "5TvncKeeRtzp",
        "outputId": "ce233b35-aa9a-4095-9415-b5a74aef2f02",
        "colab": {
          "base_uri": "https://localhost:8080/",
          "height": 0
        }
      },
      "execution_count": 73,
      "outputs": [
        {
          "output_type": "stream",
          "name": "stdout",
          "text": [
            "CPU times: user 9.98 s, sys: 147 ms, total: 10.1 s\n",
            "Wall time: 54.8 s\n"
          ]
        }
      ]
    },
    {
      "cell_type": "code",
      "source": [
        "vectorstore = FAISS.load_local(\"index\",embeddings)"
      ],
      "metadata": {
        "id": "IdgqVR-RR3qs"
      },
      "execution_count": 74,
      "outputs": []
    },
    {
      "cell_type": "code",
      "source": [
        "query = \"Tell me about Universal Studios Singapore?\"\n",
        "\n",
        "vectorstore.similarity_search(query, k=5)"
      ],
      "metadata": {
        "id": "Tqswf5D8YFmU",
        "outputId": "7a79b1b6-d8d1-4fd2-de1a-369adfcbfd20",
        "colab": {
          "base_uri": "https://localhost:8080/",
          "height": 0
        }
      },
      "execution_count": 76,
      "outputs": [
        {
          "output_type": "execute_result",
          "data": {
            "text/plain": [
              "[Document(page_content=\"You may also want to check out the other interactive activities to get a taste of city planning and insights into the country's conservation efforts. It's a multi-sensory experience that takes you deep into Singapore's exciting planning journey.Link: https://www.visitsingapore.com/see\\n\\ndo\\n\\nsingapore/recreation\\n\\nleisure/fun\\n\\nthings\\n\\nto\\n\\ndo/universal\\n\\nstudios\\n\\nsingapore/\\n\\nTitle: Universal Studios Singapore\\n\\nThe shimmering wonders of the silver screen comes to vivid life at Universal Studios Singapore, the first-ever Hollywood movie theme park in Southeast Asia.\\n\\nWhether you’re a daredevil in search of adrenaline rushes and high-flying thrills, a film buff looking to immerse yourself in the world of movies, or in search of a thrilling jaunt with your loved ones, this theme park will provide you with a ride to remember.\\n\\nFun for the Family\"),\n",
              " Document(page_content='on\\n\\ntravelling\\n\\nwith\\n\\nkids/\\n\\nTitle: Tips on travelling with kids to Singapore\\n\\nFamily holidays are the best for getting quality time with the whole brood, but they can be as frazzling as they are fun-filled, especially with tiny tots in tow. Fret not, parents, we’ve got you—here’s a list of the most family-friendly experiences in Singapore.\\n\\nCheck in to family\\n\\nfriendly hotels'),\n",
              " Document(page_content='Universal Studios Singapore @ 40% Off\\n\\nUniversal Studios Singapore is a popular theme park that offers thrilling rides and entertainment for all ages. You can buy Universal Studios Singapore tickets and enjoy an unbeatable discount of 40% from MySingaporePass. The pass provides a hassle-free booking process, allowing you to skip the long queues and gain easy access to the park. Enjoy exhilarating roller coasters, live shows, and immersive themed zones inspired by your favorite movies. The discounted entry with My Singapore Pass makes it even more enjoyable, allowing you to have a memorable day of fun and adventure.\\n\\nGardens by the Bay @ 40% Off'),\n",
              " Document(page_content=\"Immerse yourself in the vibrant cultural heritage and atmosphere of Singapore with the MySingaporePass. This valuable resource provides flexibility, convenience, and significant savings for visitors, allowing them to create unforgettable memories in one of Asia's most captivating cities. Maximize your Singapore experience by visiting the MySingaporePass website and unlocking a world of possibilities.\\n\\nHere are some of the top attractions that can be booked with the My Singapore Pass:\\n\\nUniversal Studios Singapore @ 40% Off\"),\n",
              " Document(page_content='Where To Stay In Singapore\\n\\nWhether you are looking for that once-in-a-lifetime luxury hotel, a small intimate boutique hotel, a value-for-money mid-range hotel, or a budget guesthouse, Singapore has a comprehensive collection of them all.\\n\\nYou must be warned, though, that Singapore is among the most expensive cities in Asia. Singapore has been dubbed the world’s most expensive city to live in for the fifth year in a row, which is also reflected in the hotel prices. That said, in this guide, we reveal some good value options for your money, so there is no need to panic. 🙂')]"
            ]
          },
          "metadata": {},
          "execution_count": 76
        }
      ]
    },
    {
      "cell_type": "code",
      "source": [
        "retriever = vectorstore.as_retriever(k=5) # can add mmr fetch_k=20, search_type=\"mmr\"\n",
        "\n",
        "retriever.get_relevant_documents(query)[1]"
      ],
      "metadata": {
        "id": "yumoqIYnYMCB",
        "outputId": "b36c2fd1-8fe3-4cc2-e25d-42dfb65a5b08",
        "colab": {
          "base_uri": "https://localhost:8080/",
          "height": 0
        }
      },
      "execution_count": 77,
      "outputs": [
        {
          "output_type": "execute_result",
          "data": {
            "text/plain": [
              "Document(page_content='on\\n\\ntravelling\\n\\nwith\\n\\nkids/\\n\\nTitle: Tips on travelling with kids to Singapore\\n\\nFamily holidays are the best for getting quality time with the whole brood, but they can be as frazzling as they are fun-filled, especially with tiny tots in tow. Fret not, parents, we’ve got you—here’s a list of the most family-friendly experiences in Singapore.\\n\\nCheck in to family\\n\\nfriendly hotels')"
            ]
          },
          "metadata": {},
          "execution_count": 77
        }
      ]
    },
    {
      "cell_type": "code",
      "source": [
        "from operator import itemgetter\n",
        "\n",
        "from langchain_google_genai.chat_models import ChatGoogleGenerativeAI\n",
        "\n",
        "from langchain.prompts import ChatPromptTemplate\n",
        "from langchain.schema.output_parser import StrOutputParser\n",
        "from langchain.schema.runnable import RunnableLambda, RunnablePassthrough"
      ],
      "metadata": {
        "id": "jZXuRnl6YS3q"
      },
      "execution_count": 78,
      "outputs": []
    },
    {
      "cell_type": "code",
      "source": [
        "\n",
        "template = \"\"\"Answer the question based only on the following context:\n",
        "{context}\n",
        "\n",
        "Question: {question}\n",
        "\"\"\"\n",
        "prompt = ChatPromptTemplate.from_template(template)\n",
        "\n",
        "model = ChatGoogleGenerativeAI(model=\"gemini-pro\",temperature=0.8)"
      ],
      "metadata": {
        "id": "6uYeHXhXYnIN"
      },
      "execution_count": 80,
      "outputs": []
    },
    {
      "cell_type": "code",
      "source": [
        "chain = (\n",
        "    {\"context\": retriever, \"question\": RunnablePassthrough()}\n",
        "    | prompt\n",
        "    | model\n",
        "    | StrOutputParser()\n",
        ")"
      ],
      "metadata": {
        "id": "h0HYlj5OYqvQ"
      },
      "execution_count": 81,
      "outputs": []
    },
    {
      "cell_type": "code",
      "source": [
        "text_reply = chain.invoke(\"Tell me about Universal Studio Singapore\")\n",
        "\n",
        "print(wrap_text(text_reply))"
      ],
      "metadata": {
        "id": "M7ViNo_WYxEU",
        "outputId": "8ee1d7a1-bf93-407b-d8f8-7e6bd513d674",
        "colab": {
          "base_uri": "https://localhost:8080/",
          "height": 0
        }
      },
      "execution_count": 82,
      "outputs": [
        {
          "output_type": "stream",
          "name": "stdout",
          "text": [
            "Universal Studios Singapore is the first-ever Hollywood movie theme park in Southeast\n",
            "Asia. It offers thrilling rides, live shows, and immersive themed zones inspired by your\n",
            "favorite movies. You can buy Universal Studios Singapore tickets and enjoy an unbeatable\n",
            "discount of 40% from MySingaporePass. The pass provides a hassle-free booking process,\n",
            "allowing you to skip the long queues and gain easy access to the park.\n"
          ]
        }
      ]
    },
    {
      "cell_type": "markdown",
      "source": [
        "# **With RagFusion**"
      ],
      "metadata": {
        "id": "sS3h21WcY15L"
      }
    },
    {
      "cell_type": "code",
      "source": [
        "from langchain_google_genai.chat_models import ChatGoogleGenerativeAI\n",
        "from langchain.schema.output_parser import StrOutputParser\n",
        "from langchain.prompts import SystemMessagePromptTemplate, HumanMessagePromptTemplate\n",
        "from langchain.prompts import ChatMessagePromptTemplate, PromptTemplate"
      ],
      "metadata": {
        "id": "bdKCKfchY4r0"
      },
      "execution_count": 84,
      "outputs": []
    },
    {
      "cell_type": "code",
      "source": [
        "prompt = ChatPromptTemplate(\n",
        "    input_variables=['original_query'],\n",
        "    messages=[\n",
        "        SystemMessagePromptTemplate(prompt=PromptTemplate(input_variables=[], template='You are a helpful assistant that generates multiple search queries based on a single input query.')),\n",
        "        HumanMessagePromptTemplate(prompt=PromptTemplate(input_variables=['original_query'], template='Generate multiple search queries related to: {question} \\n OUTPUT (4 queries):'))\n",
        "        ]\n",
        "    )"
      ],
      "metadata": {
        "id": "pn9AVwo3Y7Bf"
      },
      "execution_count": 85,
      "outputs": []
    },
    {
      "cell_type": "code",
      "source": [
        "prompt"
      ],
      "metadata": {
        "id": "aUJiCJiiZIoo",
        "outputId": "cf3a56dd-d006-477a-b344-2d3ed443b6be",
        "colab": {
          "base_uri": "https://localhost:8080/",
          "height": 0
        }
      },
      "execution_count": 86,
      "outputs": [
        {
          "output_type": "execute_result",
          "data": {
            "text/plain": [
              "ChatPromptTemplate(input_variables=['question'], messages=[SystemMessagePromptTemplate(prompt=PromptTemplate(input_variables=[], template='You are a helpful assistant that generates multiple search queries based on a single input query.')), HumanMessagePromptTemplate(prompt=PromptTemplate(input_variables=['question'], template='Generate multiple search queries related to: {question} \\n OUTPUT (4 queries):'))])"
            ]
          },
          "metadata": {},
          "execution_count": 86
        }
      ]
    },
    {
      "cell_type": "code",
      "source": [
        "generate_queries = (\n",
        "    prompt\n",
        "    | ChatGoogleGenerativeAI(model=\"gemini-pro\",temperature=0.8,convert_system_message_to_human=True)\n",
        "    | StrOutputParser()\n",
        "    | (lambda x: x.split(\"\\n\"))\n",
        ")"
      ],
      "metadata": {
        "id": "HMn81IFYZKaf"
      },
      "execution_count": 100,
      "outputs": []
    },
    {
      "cell_type": "code",
      "source": [
        "original_query = \"universal studios Singapore\""
      ],
      "metadata": {
        "id": "3fW9U45GZS4t"
      },
      "execution_count": 101,
      "outputs": []
    },
    {
      "cell_type": "code",
      "source": [
        "from langchain.load import dumps, loads\n",
        "\n",
        "\n",
        "def reciprocal_rank_fusion(results: list[list], k=60):\n",
        "    fused_scores = {}\n",
        "    for docs in results:\n",
        "        # Assumes the docs are returned in sorted order of relevance\n",
        "        for rank, doc in enumerate(docs):\n",
        "            doc_str = dumps(doc)\n",
        "            if doc_str not in fused_scores:\n",
        "                fused_scores[doc_str] = 0\n",
        "            previous_score = fused_scores[doc_str]\n",
        "            fused_scores[doc_str] += 1 / (rank + k)\n",
        "\n",
        "    reranked_results = [\n",
        "        (loads(doc), score)\n",
        "        for doc, score in sorted(fused_scores.items(), key=lambda x: x[1], reverse=True)\n",
        "    ]\n",
        "    return reranked_results"
      ],
      "metadata": {
        "id": "Zj9zDsENZU0f"
      },
      "execution_count": 102,
      "outputs": []
    },
    {
      "cell_type": "code",
      "source": [
        "ragfusion_chain = generate_queries | retriever.map() | reciprocal_rank_fusion"
      ],
      "metadata": {
        "id": "kAnF-7s1ZYpY"
      },
      "execution_count": 103,
      "outputs": []
    },
    {
      "cell_type": "code",
      "source": [
        "!pip install -q langchain"
      ],
      "metadata": {
        "id": "KD9SgMN8Ze5G"
      },
      "execution_count": 104,
      "outputs": []
    },
    {
      "cell_type": "code",
      "source": [
        "import langchain\n",
        "langchain.debug = True"
      ],
      "metadata": {
        "id": "axD-BtdwZavN"
      },
      "execution_count": 105,
      "outputs": []
    },
    {
      "cell_type": "code",
      "source": [
        "ragfusion_chain.input_schema.schema()"
      ],
      "metadata": {
        "id": "GjYlecdBZcFP",
        "outputId": "33815230-5c91-4128-a51a-0d3e720d3e6e",
        "colab": {
          "base_uri": "https://localhost:8080/",
          "height": 0
        }
      },
      "execution_count": 106,
      "outputs": [
        {
          "output_type": "execute_result",
          "data": {
            "text/plain": [
              "{'title': 'PromptInput',\n",
              " 'type': 'object',\n",
              " 'properties': {'question': {'title': 'Question', 'type': 'string'}}}"
            ]
          },
          "metadata": {},
          "execution_count": 106
        }
      ]
    },
    {
      "cell_type": "code",
      "source": [
        "ragfusion_chain.invoke({\"question\": original_query})"
      ],
      "metadata": {
        "id": "FSXlznXPZmnF",
        "outputId": "1c24c678-3002-4088-c96c-8dbd995b52fe",
        "colab": {
          "base_uri": "https://localhost:8080/",
          "height": 0
        }
      },
      "execution_count": 107,
      "outputs": [
        {
          "output_type": "stream",
          "name": "stdout",
          "text": [
            "\u001b[32;1m\u001b[1;3m[chain/start]\u001b[0m \u001b[1m[1:chain:RunnableSequence] Entering Chain run with input:\n",
            "\u001b[0m{\n",
            "  \"question\": \"universal studios Singapore\"\n",
            "}\n",
            "\u001b[32;1m\u001b[1;3m[chain/start]\u001b[0m \u001b[1m[1:chain:RunnableSequence > 2:prompt:ChatPromptTemplate] Entering Prompt run with input:\n",
            "\u001b[0m{\n",
            "  \"question\": \"universal studios Singapore\"\n",
            "}\n",
            "\u001b[36;1m\u001b[1;3m[chain/end]\u001b[0m \u001b[1m[1:chain:RunnableSequence > 2:prompt:ChatPromptTemplate] [2ms] Exiting Prompt run with output:\n",
            "\u001b[0m{\n",
            "  \"lc\": 1,\n",
            "  \"type\": \"constructor\",\n",
            "  \"id\": [\n",
            "    \"langchain\",\n",
            "    \"prompts\",\n",
            "    \"chat\",\n",
            "    \"ChatPromptValue\"\n",
            "  ],\n",
            "  \"kwargs\": {\n",
            "    \"messages\": [\n",
            "      {\n",
            "        \"lc\": 1,\n",
            "        \"type\": \"constructor\",\n",
            "        \"id\": [\n",
            "          \"langchain\",\n",
            "          \"schema\",\n",
            "          \"messages\",\n",
            "          \"SystemMessage\"\n",
            "        ],\n",
            "        \"kwargs\": {\n",
            "          \"content\": \"You are a helpful assistant that generates multiple search queries based on a single input query.\",\n",
            "          \"additional_kwargs\": {}\n",
            "        }\n",
            "      },\n",
            "      {\n",
            "        \"lc\": 1,\n",
            "        \"type\": \"constructor\",\n",
            "        \"id\": [\n",
            "          \"langchain\",\n",
            "          \"schema\",\n",
            "          \"messages\",\n",
            "          \"HumanMessage\"\n",
            "        ],\n",
            "        \"kwargs\": {\n",
            "          \"content\": \"Generate multiple search queries related to: universal studios Singapore \\n OUTPUT (4 queries):\",\n",
            "          \"additional_kwargs\": {}\n",
            "        }\n",
            "      }\n",
            "    ]\n",
            "  }\n",
            "}\n",
            "\u001b[32;1m\u001b[1;3m[llm/start]\u001b[0m \u001b[1m[1:chain:RunnableSequence > 3:llm:ChatGoogleGenerativeAI] Entering LLM run with input:\n",
            "\u001b[0m{\n",
            "  \"prompts\": [\n",
            "    \"System: You are a helpful assistant that generates multiple search queries based on a single input query.\\nHuman: Generate multiple search queries related to: universal studios Singapore \\n OUTPUT (4 queries):\"\n",
            "  ]\n",
            "}\n",
            "\u001b[36;1m\u001b[1;3m[llm/end]\u001b[0m \u001b[1m[1:chain:RunnableSequence > 3:llm:ChatGoogleGenerativeAI] [4.74s] Exiting LLM run with output:\n",
            "\u001b[0m{\n",
            "  \"generations\": [\n",
            "    [\n",
            "      {\n",
            "        \"text\": \"1. Universal Studios Singapore hours of operation\\n2. Universal Studios Singapore ticket prices\\n3. Universal Studios Singapore attractions\\n4. Universal Studios Singapore dining options\",\n",
            "        \"generation_info\": {\n",
            "          \"finish_reason\": \"STOP\",\n",
            "          \"safety_ratings\": [\n",
            "            {\n",
            "              \"category\": \"HARM_CATEGORY_SEXUALLY_EXPLICIT\",\n",
            "              \"probability\": \"NEGLIGIBLE\",\n",
            "              \"blocked\": false\n",
            "            },\n",
            "            {\n",
            "              \"category\": \"HARM_CATEGORY_HATE_SPEECH\",\n",
            "              \"probability\": \"NEGLIGIBLE\",\n",
            "              \"blocked\": false\n",
            "            },\n",
            "            {\n",
            "              \"category\": \"HARM_CATEGORY_HARASSMENT\",\n",
            "              \"probability\": \"NEGLIGIBLE\",\n",
            "              \"blocked\": false\n",
            "            },\n",
            "            {\n",
            "              \"category\": \"HARM_CATEGORY_DANGEROUS_CONTENT\",\n",
            "              \"probability\": \"NEGLIGIBLE\",\n",
            "              \"blocked\": false\n",
            "            }\n",
            "          ]\n",
            "        },\n",
            "        \"type\": \"ChatGeneration\",\n",
            "        \"message\": {\n",
            "          \"lc\": 1,\n",
            "          \"type\": \"constructor\",\n",
            "          \"id\": [\n",
            "            \"langchain\",\n",
            "            \"schema\",\n",
            "            \"messages\",\n",
            "            \"AIMessage\"\n",
            "          ],\n",
            "          \"kwargs\": {\n",
            "            \"content\": \"1. Universal Studios Singapore hours of operation\\n2. Universal Studios Singapore ticket prices\\n3. Universal Studios Singapore attractions\\n4. Universal Studios Singapore dining options\",\n",
            "            \"additional_kwargs\": {}\n",
            "          }\n",
            "        }\n",
            "      }\n",
            "    ]\n",
            "  ],\n",
            "  \"llm_output\": {\n",
            "    \"prompt_feedback\": {\n",
            "      \"safety_ratings\": [\n",
            "        {\n",
            "          \"category\": 9,\n",
            "          \"probability\": 1,\n",
            "          \"blocked\": false\n",
            "        },\n",
            "        {\n",
            "          \"category\": 8,\n",
            "          \"probability\": 1,\n",
            "          \"blocked\": false\n",
            "        },\n",
            "        {\n",
            "          \"category\": 7,\n",
            "          \"probability\": 1,\n",
            "          \"blocked\": false\n",
            "        },\n",
            "        {\n",
            "          \"category\": 10,\n",
            "          \"probability\": 1,\n",
            "          \"blocked\": false\n",
            "        }\n",
            "      ],\n",
            "      \"block_reason\": 0\n",
            "    }\n",
            "  },\n",
            "  \"run\": null\n",
            "}\n",
            "\u001b[32;1m\u001b[1;3m[chain/start]\u001b[0m \u001b[1m[1:chain:RunnableSequence > 4:parser:StrOutputParser] Entering Parser run with input:\n",
            "\u001b[0m[inputs]\n",
            "\u001b[36;1m\u001b[1;3m[chain/end]\u001b[0m \u001b[1m[1:chain:RunnableSequence > 4:parser:StrOutputParser] [0ms] Exiting Parser run with output:\n",
            "\u001b[0m{\n",
            "  \"output\": \"1. Universal Studios Singapore hours of operation\\n2. Universal Studios Singapore ticket prices\\n3. Universal Studios Singapore attractions\\n4. Universal Studios Singapore dining options\"\n",
            "}\n",
            "\u001b[32;1m\u001b[1;3m[chain/start]\u001b[0m \u001b[1m[1:chain:RunnableSequence > 5:chain:RunnableLambda] Entering Chain run with input:\n",
            "\u001b[0m{\n",
            "  \"input\": \"1. Universal Studios Singapore hours of operation\\n2. Universal Studios Singapore ticket prices\\n3. Universal Studios Singapore attractions\\n4. Universal Studios Singapore dining options\"\n",
            "}\n",
            "\u001b[36;1m\u001b[1;3m[chain/end]\u001b[0m \u001b[1m[1:chain:RunnableSequence > 5:chain:RunnableLambda] [1ms] Exiting Chain run with output:\n",
            "\u001b[0m{\n",
            "  \"output\": [\n",
            "    \"1. Universal Studios Singapore hours of operation\",\n",
            "    \"2. Universal Studios Singapore ticket prices\",\n",
            "    \"3. Universal Studios Singapore attractions\",\n",
            "    \"4. Universal Studios Singapore dining options\"\n",
            "  ]\n",
            "}\n",
            "\u001b[32;1m\u001b[1;3m[chain/start]\u001b[0m \u001b[1m[1:chain:RunnableSequence > 6:chain:RunnableEach<VectorStoreRetriever>] Entering Chain run with input:\n",
            "\u001b[0m{\n",
            "  \"input\": [\n",
            "    \"1. Universal Studios Singapore hours of operation\",\n",
            "    \"2. Universal Studios Singapore ticket prices\",\n",
            "    \"3. Universal Studios Singapore attractions\",\n",
            "    \"4. Universal Studios Singapore dining options\"\n",
            "  ]\n",
            "}\n",
            "\u001b[36;1m\u001b[1;3m[chain/end]\u001b[0m \u001b[1m[1:chain:RunnableSequence > 6:chain:RunnableEach<VectorStoreRetriever>] [356ms] Exiting Chain run with output:\n",
            "\u001b[0m{\n",
            "  \"output\": [\n",
            "    [\n",
            "      {\n",
            "        \"lc\": 1,\n",
            "        \"type\": \"constructor\",\n",
            "        \"id\": [\n",
            "          \"langchain\",\n",
            "          \"schema\",\n",
            "          \"document\",\n",
            "          \"Document\"\n",
            "        ],\n",
            "        \"kwargs\": {\n",
            "          \"page_content\": \"Daily 8.30am\\n\\n6pm.\\n\\nNight Safari—Hang out at Singapore’s no.1 night spot\",\n",
            "          \"metadata\": {}\n",
            "        }\n",
            "      },\n",
            "      {\n",
            "        \"lc\": 1,\n",
            "        \"type\": \"constructor\",\n",
            "        \"id\": [\n",
            "          \"langchain\",\n",
            "          \"schema\",\n",
            "          \"document\",\n",
            "          \"Document\"\n",
            "        ],\n",
            "        \"kwargs\": {\n",
            "          \"page_content\": \"Mon-Thu & Sun 10.30am-11pm; Fri & Sat 10.30am-11.30pm.\\n\\nOne-stop shopping and dining at Suntec City\",\n",
            "          \"metadata\": {}\n",
            "        }\n",
            "      },\n",
            "      {\n",
            "        \"lc\": 1,\n",
            "        \"type\": \"constructor\",\n",
            "        \"id\": [\n",
            "          \"langchain\",\n",
            "          \"schema\",\n",
            "          \"document\",\n",
            "          \"Document\"\n",
            "        ],\n",
            "        \"kwargs\": {\n",
            "          \"page_content\": \"You may also want to check out the other interactive activities to get a taste of city planning and insights into the country's conservation efforts. It's a multi-sensory experience that takes you deep into Singapore's exciting planning journey.Link: https://www.visitsingapore.com/see\\n\\ndo\\n\\nsingapore/recreation\\n\\nleisure/fun\\n\\nthings\\n\\nto\\n\\ndo/universal\\n\\nstudios\\n\\nsingapore/\\n\\nTitle: Universal Studios Singapore\\n\\nThe shimmering wonders of the silver screen comes to vivid life at Universal Studios Singapore, the first-ever Hollywood movie theme park in Southeast Asia.\\n\\nWhether you’re a daredevil in search of adrenaline rushes and high-flying thrills, a film buff looking to immerse yourself in the world of movies, or in search of a thrilling jaunt with your loved ones, this theme park will provide you with a ride to remember.\\n\\nFun for the Family\",\n",
            "          \"metadata\": {}\n",
            "        }\n",
            "      },\n",
            "      {\n",
            "        \"lc\": 1,\n",
            "        \"type\": \"constructor\",\n",
            "        \"id\": [\n",
            "          \"langchain\",\n",
            "          \"schema\",\n",
            "          \"document\",\n",
            "          \"Document\"\n",
            "        ],\n",
            "        \"kwargs\": {\n",
            "          \"page_content\": \"daily, with each tour loop lasting approximately 45-60 minutes. Tickets start at S$37/adult. For online bookings, find out more here or call +65 6338 6877.\",\n",
            "          \"metadata\": {}\n",
            "        }\n",
            "      }\n",
            "    ],\n",
            "    [\n",
            "      {\n",
            "        \"lc\": 1,\n",
            "        \"type\": \"constructor\",\n",
            "        \"id\": [\n",
            "          \"langchain\",\n",
            "          \"schema\",\n",
            "          \"document\",\n",
            "          \"Document\"\n",
            "        ],\n",
            "        \"kwargs\": {\n",
            "          \"page_content\": \"Where To Stay In Singapore\\n\\nWhether you are looking for that once-in-a-lifetime luxury hotel, a small intimate boutique hotel, a value-for-money mid-range hotel, or a budget guesthouse, Singapore has a comprehensive collection of them all.\\n\\nYou must be warned, though, that Singapore is among the most expensive cities in Asia. Singapore has been dubbed the world’s most expensive city to live in for the fifth year in a row, which is also reflected in the hotel prices. That said, in this guide, we reveal some good value options for your money, so there is no need to panic. 🙂\",\n",
            "          \"metadata\": {}\n",
            "        }\n",
            "      },\n",
            "      {\n",
            "        \"lc\": 1,\n",
            "        \"type\": \"constructor\",\n",
            "        \"id\": [\n",
            "          \"langchain\",\n",
            "          \"schema\",\n",
            "          \"document\",\n",
            "          \"Document\"\n",
            "        ],\n",
            "        \"kwargs\": {\n",
            "          \"page_content\": \"Marina Bay Sands—Luxury retail paradise\",\n",
            "          \"metadata\": {}\n",
            "        }\n",
            "      },\n",
            "      {\n",
            "        \"lc\": 1,\n",
            "        \"type\": \"constructor\",\n",
            "        \"id\": [\n",
            "          \"langchain\",\n",
            "          \"schema\",\n",
            "          \"document\",\n",
            "          \"Document\"\n",
            "        ],\n",
            "        \"kwargs\": {\n",
            "          \"page_content\": \"Universal Studios Singapore @ 40% Off\\n\\nUniversal Studios Singapore is a popular theme park that offers thrilling rides and entertainment for all ages. You can buy Universal Studios Singapore tickets and enjoy an unbeatable discount of 40% from MySingaporePass. The pass provides a hassle-free booking process, allowing you to skip the long queues and gain easy access to the park. Enjoy exhilarating roller coasters, live shows, and immersive themed zones inspired by your favorite movies. The discounted entry with My Singapore Pass makes it even more enjoyable, allowing you to have a memorable day of fun and adventure.\\n\\nGardens by the Bay @ 40% Off\",\n",
            "          \"metadata\": {}\n",
            "        }\n",
            "      },\n",
            "      {\n",
            "        \"lc\": 1,\n",
            "        \"type\": \"constructor\",\n",
            "        \"id\": [\n",
            "          \"langchain\",\n",
            "          \"schema\",\n",
            "          \"document\",\n",
            "          \"Document\"\n",
            "        ],\n",
            "        \"kwargs\": {\n",
            "          \"page_content\": \"Daily 8.30am\\n\\n6pm.\\n\\nNight Safari—Hang out at Singapore’s no.1 night spot\",\n",
            "          \"metadata\": {}\n",
            "        }\n",
            "      }\n",
            "    ],\n",
            "    [\n",
            "      {\n",
            "        \"lc\": 1,\n",
            "        \"type\": \"constructor\",\n",
            "        \"id\": [\n",
            "          \"langchain\",\n",
            "          \"schema\",\n",
            "          \"document\",\n",
            "          \"Document\"\n",
            "        ],\n",
            "        \"kwargs\": {\n",
            "          \"page_content\": \"Marina Bay Sands—Luxury retail paradise\",\n",
            "          \"metadata\": {}\n",
            "        }\n",
            "      },\n",
            "      {\n",
            "        \"lc\": 1,\n",
            "        \"type\": \"constructor\",\n",
            "        \"id\": [\n",
            "          \"langchain\",\n",
            "          \"schema\",\n",
            "          \"document\",\n",
            "          \"Document\"\n",
            "        ],\n",
            "        \"kwargs\": {\n",
            "          \"page_content\": \"You may also want to check out the other interactive activities to get a taste of city planning and insights into the country's conservation efforts. It's a multi-sensory experience that takes you deep into Singapore's exciting planning journey.Link: https://www.visitsingapore.com/see\\n\\ndo\\n\\nsingapore/recreation\\n\\nleisure/fun\\n\\nthings\\n\\nto\\n\\ndo/universal\\n\\nstudios\\n\\nsingapore/\\n\\nTitle: Universal Studios Singapore\\n\\nThe shimmering wonders of the silver screen comes to vivid life at Universal Studios Singapore, the first-ever Hollywood movie theme park in Southeast Asia.\\n\\nWhether you’re a daredevil in search of adrenaline rushes and high-flying thrills, a film buff looking to immerse yourself in the world of movies, or in search of a thrilling jaunt with your loved ones, this theme park will provide you with a ride to remember.\\n\\nFun for the Family\",\n",
            "          \"metadata\": {}\n",
            "        }\n",
            "      },\n",
            "      {\n",
            "        \"lc\": 1,\n",
            "        \"type\": \"constructor\",\n",
            "        \"id\": [\n",
            "          \"langchain\",\n",
            "          \"schema\",\n",
            "          \"document\",\n",
            "          \"Document\"\n",
            "        ],\n",
            "        \"kwargs\": {\n",
            "          \"page_content\": \"Where To Stay In Singapore\\n\\nWhether you are looking for that once-in-a-lifetime luxury hotel, a small intimate boutique hotel, a value-for-money mid-range hotel, or a budget guesthouse, Singapore has a comprehensive collection of them all.\\n\\nYou must be warned, though, that Singapore is among the most expensive cities in Asia. Singapore has been dubbed the world’s most expensive city to live in for the fifth year in a row, which is also reflected in the hotel prices. That said, in this guide, we reveal some good value options for your money, so there is no need to panic. 🙂\",\n",
            "          \"metadata\": {}\n",
            "        }\n",
            "      },\n",
            "      {\n",
            "        \"lc\": 1,\n",
            "        \"type\": \"constructor\",\n",
            "        \"id\": [\n",
            "          \"langchain\",\n",
            "          \"schema\",\n",
            "          \"document\",\n",
            "          \"Document\"\n",
            "        ],\n",
            "        \"kwargs\": {\n",
            "          \"page_content\": \"Daily 8.30am\\n\\n6pm.\\n\\nNight Safari—Hang out at Singapore’s no.1 night spot\",\n",
            "          \"metadata\": {}\n",
            "        }\n",
            "      }\n",
            "    ],\n",
            "    [\n",
            "      {\n",
            "        \"lc\": 1,\n",
            "        \"type\": \"constructor\",\n",
            "        \"id\": [\n",
            "          \"langchain\",\n",
            "          \"schema\",\n",
            "          \"document\",\n",
            "          \"Document\"\n",
            "        ],\n",
            "        \"kwargs\": {\n",
            "          \"page_content\": \"Marina Bay Sands—Luxury retail paradise\",\n",
            "          \"metadata\": {}\n",
            "        }\n",
            "      },\n",
            "      {\n",
            "        \"lc\": 1,\n",
            "        \"type\": \"constructor\",\n",
            "        \"id\": [\n",
            "          \"langchain\",\n",
            "          \"schema\",\n",
            "          \"document\",\n",
            "          \"Document\"\n",
            "        ],\n",
            "        \"kwargs\": {\n",
            "          \"page_content\": \"Celebrity chef restaurants\",\n",
            "          \"metadata\": {}\n",
            "        }\n",
            "      },\n",
            "      {\n",
            "        \"lc\": 1,\n",
            "        \"type\": \"constructor\",\n",
            "        \"id\": [\n",
            "          \"langchain\",\n",
            "          \"schema\",\n",
            "          \"document\",\n",
            "          \"Document\"\n",
            "        ],\n",
            "        \"kwargs\": {\n",
            "          \"page_content\": \"Where To Stay In Singapore\\n\\nWhether you are looking for that once-in-a-lifetime luxury hotel, a small intimate boutique hotel, a value-for-money mid-range hotel, or a budget guesthouse, Singapore has a comprehensive collection of them all.\\n\\nYou must be warned, though, that Singapore is among the most expensive cities in Asia. Singapore has been dubbed the world’s most expensive city to live in for the fifth year in a row, which is also reflected in the hotel prices. That said, in this guide, we reveal some good value options for your money, so there is no need to panic. 🙂\",\n",
            "          \"metadata\": {}\n",
            "        }\n",
            "      },\n",
            "      {\n",
            "        \"lc\": 1,\n",
            "        \"type\": \"constructor\",\n",
            "        \"id\": [\n",
            "          \"langchain\",\n",
            "          \"schema\",\n",
            "          \"document\",\n",
            "          \"Document\"\n",
            "        ],\n",
            "        \"kwargs\": {\n",
            "          \"page_content\": \"a\\n\\ntrue\\n\\nfoodies\\n\\nparadise/\\n\\nTitle: Singapore: A true foodie’s paradise\\n\\nWondering where to eat in Singapore? From street food and heritage dining spots to swanky celebrity restaurants, options abound. We’ve got you covered with this handy little guide for you to navigate your way around this true foodie’s paradise.\\n\\nLocal delights\",\n",
            "          \"metadata\": {}\n",
            "        }\n",
            "      }\n",
            "    ]\n",
            "  ]\n",
            "}\n",
            "\u001b[32;1m\u001b[1;3m[chain/start]\u001b[0m \u001b[1m[1:chain:RunnableSequence > 11:chain:reciprocal_rank_fusion] Entering Chain run with input:\n",
            "\u001b[0m[inputs]\n",
            "\u001b[36;1m\u001b[1;3m[chain/end]\u001b[0m \u001b[1m[1:chain:RunnableSequence > 11:chain:reciprocal_rank_fusion] [12ms] Exiting Chain run with output:\n",
            "\u001b[0m{\n",
            "  \"output\": [\n",
            "    [\n",
            "      {\n",
            "        \"lc\": 1,\n",
            "        \"type\": \"constructor\",\n",
            "        \"id\": [\n",
            "          \"langchain\",\n",
            "          \"schema\",\n",
            "          \"document\",\n",
            "          \"Document\"\n",
            "        ],\n",
            "        \"kwargs\": {\n",
            "          \"page_content\": \"Marina Bay Sands—Luxury retail paradise\",\n",
            "          \"metadata\": {}\n",
            "        }\n",
            "      },\n",
            "      0.04972677595628415\n",
            "    ],\n",
            "    [\n",
            "      {\n",
            "        \"lc\": 1,\n",
            "        \"type\": \"constructor\",\n",
            "        \"id\": [\n",
            "          \"langchain\",\n",
            "          \"schema\",\n",
            "          \"document\",\n",
            "          \"Document\"\n",
            "        ],\n",
            "        \"kwargs\": {\n",
            "          \"page_content\": \"Where To Stay In Singapore\\n\\nWhether you are looking for that once-in-a-lifetime luxury hotel, a small intimate boutique hotel, a value-for-money mid-range hotel, or a budget guesthouse, Singapore has a comprehensive collection of them all.\\n\\nYou must be warned, though, that Singapore is among the most expensive cities in Asia. Singapore has been dubbed the world’s most expensive city to live in for the fifth year in a row, which is also reflected in the hotel prices. That said, in this guide, we reveal some good value options for your money, so there is no need to panic. 🙂\",\n",
            "          \"metadata\": {}\n",
            "        }\n",
            "      },\n",
            "      0.048924731182795694\n",
            "    ],\n",
            "    [\n",
            "      {\n",
            "        \"lc\": 1,\n",
            "        \"type\": \"constructor\",\n",
            "        \"id\": [\n",
            "          \"langchain\",\n",
            "          \"schema\",\n",
            "          \"document\",\n",
            "          \"Document\"\n",
            "        ],\n",
            "        \"kwargs\": {\n",
            "          \"page_content\": \"Daily 8.30am\\n\\n6pm.\\n\\nNight Safari—Hang out at Singapore’s no.1 night spot\",\n",
            "          \"metadata\": {}\n",
            "        }\n",
            "      },\n",
            "      0.04841269841269841\n",
            "    ],\n",
            "    [\n",
            "      {\n",
            "        \"lc\": 1,\n",
            "        \"type\": \"constructor\",\n",
            "        \"id\": [\n",
            "          \"langchain\",\n",
            "          \"schema\",\n",
            "          \"document\",\n",
            "          \"Document\"\n",
            "        ],\n",
            "        \"kwargs\": {\n",
            "          \"page_content\": \"You may also want to check out the other interactive activities to get a taste of city planning and insights into the country's conservation efforts. It's a multi-sensory experience that takes you deep into Singapore's exciting planning journey.Link: https://www.visitsingapore.com/see\\n\\ndo\\n\\nsingapore/recreation\\n\\nleisure/fun\\n\\nthings\\n\\nto\\n\\ndo/universal\\n\\nstudios\\n\\nsingapore/\\n\\nTitle: Universal Studios Singapore\\n\\nThe shimmering wonders of the silver screen comes to vivid life at Universal Studios Singapore, the first-ever Hollywood movie theme park in Southeast Asia.\\n\\nWhether you’re a daredevil in search of adrenaline rushes and high-flying thrills, a film buff looking to immerse yourself in the world of movies, or in search of a thrilling jaunt with your loved ones, this theme park will provide you with a ride to remember.\\n\\nFun for the Family\",\n",
            "          \"metadata\": {}\n",
            "        }\n",
            "      },\n",
            "      0.03252247488101534\n",
            "    ],\n",
            "    [\n",
            "      {\n",
            "        \"lc\": 1,\n",
            "        \"type\": \"constructor\",\n",
            "        \"id\": [\n",
            "          \"langchain\",\n",
            "          \"schema\",\n",
            "          \"document\",\n",
            "          \"Document\"\n",
            "        ],\n",
            "        \"kwargs\": {\n",
            "          \"page_content\": \"Mon-Thu & Sun 10.30am-11pm; Fri & Sat 10.30am-11.30pm.\\n\\nOne-stop shopping and dining at Suntec City\",\n",
            "          \"metadata\": {}\n",
            "        }\n",
            "      },\n",
            "      0.01639344262295082\n",
            "    ],\n",
            "    [\n",
            "      {\n",
            "        \"lc\": 1,\n",
            "        \"type\": \"constructor\",\n",
            "        \"id\": [\n",
            "          \"langchain\",\n",
            "          \"schema\",\n",
            "          \"document\",\n",
            "          \"Document\"\n",
            "        ],\n",
            "        \"kwargs\": {\n",
            "          \"page_content\": \"Celebrity chef restaurants\",\n",
            "          \"metadata\": {}\n",
            "        }\n",
            "      },\n",
            "      0.01639344262295082\n",
            "    ],\n",
            "    [\n",
            "      {\n",
            "        \"lc\": 1,\n",
            "        \"type\": \"constructor\",\n",
            "        \"id\": [\n",
            "          \"langchain\",\n",
            "          \"schema\",\n",
            "          \"document\",\n",
            "          \"Document\"\n",
            "        ],\n",
            "        \"kwargs\": {\n",
            "          \"page_content\": \"Universal Studios Singapore @ 40% Off\\n\\nUniversal Studios Singapore is a popular theme park that offers thrilling rides and entertainment for all ages. You can buy Universal Studios Singapore tickets and enjoy an unbeatable discount of 40% from MySingaporePass. The pass provides a hassle-free booking process, allowing you to skip the long queues and gain easy access to the park. Enjoy exhilarating roller coasters, live shows, and immersive themed zones inspired by your favorite movies. The discounted entry with My Singapore Pass makes it even more enjoyable, allowing you to have a memorable day of fun and adventure.\\n\\nGardens by the Bay @ 40% Off\",\n",
            "          \"metadata\": {}\n",
            "        }\n",
            "      },\n",
            "      0.016129032258064516\n",
            "    ],\n",
            "    [\n",
            "      {\n",
            "        \"lc\": 1,\n",
            "        \"type\": \"constructor\",\n",
            "        \"id\": [\n",
            "          \"langchain\",\n",
            "          \"schema\",\n",
            "          \"document\",\n",
            "          \"Document\"\n",
            "        ],\n",
            "        \"kwargs\": {\n",
            "          \"page_content\": \"daily, with each tour loop lasting approximately 45-60 minutes. Tickets start at S$37/adult. For online bookings, find out more here or call +65 6338 6877.\",\n",
            "          \"metadata\": {}\n",
            "        }\n",
            "      },\n",
            "      0.015873015873015872\n",
            "    ],\n",
            "    [\n",
            "      {\n",
            "        \"lc\": 1,\n",
            "        \"type\": \"constructor\",\n",
            "        \"id\": [\n",
            "          \"langchain\",\n",
            "          \"schema\",\n",
            "          \"document\",\n",
            "          \"Document\"\n",
            "        ],\n",
            "        \"kwargs\": {\n",
            "          \"page_content\": \"a\\n\\ntrue\\n\\nfoodies\\n\\nparadise/\\n\\nTitle: Singapore: A true foodie’s paradise\\n\\nWondering where to eat in Singapore? From street food and heritage dining spots to swanky celebrity restaurants, options abound. We’ve got you covered with this handy little guide for you to navigate your way around this true foodie’s paradise.\\n\\nLocal delights\",\n",
            "          \"metadata\": {}\n",
            "        }\n",
            "      },\n",
            "      0.015873015873015872\n",
            "    ]\n",
            "  ]\n",
            "}\n",
            "\u001b[36;1m\u001b[1;3m[chain/end]\u001b[0m \u001b[1m[1:chain:RunnableSequence] [5.12s] Exiting Chain run with output:\n",
            "\u001b[0m[outputs]\n"
          ]
        },
        {
          "output_type": "execute_result",
          "data": {
            "text/plain": [
              "[(Document(page_content='Marina Bay Sands—Luxury retail paradise'),\n",
              "  0.04972677595628415),\n",
              " (Document(page_content='Where To Stay In Singapore\\n\\nWhether you are looking for that once-in-a-lifetime luxury hotel, a small intimate boutique hotel, a value-for-money mid-range hotel, or a budget guesthouse, Singapore has a comprehensive collection of them all.\\n\\nYou must be warned, though, that Singapore is among the most expensive cities in Asia. Singapore has been dubbed the world’s most expensive city to live in for the fifth year in a row, which is also reflected in the hotel prices. That said, in this guide, we reveal some good value options for your money, so there is no need to panic. 🙂'),\n",
              "  0.048924731182795694),\n",
              " (Document(page_content='Daily 8.30am\\n\\n6pm.\\n\\nNight Safari—Hang out at Singapore’s no.1 night spot'),\n",
              "  0.04841269841269841),\n",
              " (Document(page_content=\"You may also want to check out the other interactive activities to get a taste of city planning and insights into the country's conservation efforts. It's a multi-sensory experience that takes you deep into Singapore's exciting planning journey.Link: https://www.visitsingapore.com/see\\n\\ndo\\n\\nsingapore/recreation\\n\\nleisure/fun\\n\\nthings\\n\\nto\\n\\ndo/universal\\n\\nstudios\\n\\nsingapore/\\n\\nTitle: Universal Studios Singapore\\n\\nThe shimmering wonders of the silver screen comes to vivid life at Universal Studios Singapore, the first-ever Hollywood movie theme park in Southeast Asia.\\n\\nWhether you’re a daredevil in search of adrenaline rushes and high-flying thrills, a film buff looking to immerse yourself in the world of movies, or in search of a thrilling jaunt with your loved ones, this theme park will provide you with a ride to remember.\\n\\nFun for the Family\"),\n",
              "  0.03252247488101534),\n",
              " (Document(page_content='Mon-Thu & Sun 10.30am-11pm; Fri & Sat 10.30am-11.30pm.\\n\\nOne-stop shopping and dining at Suntec City'),\n",
              "  0.01639344262295082),\n",
              " (Document(page_content='Celebrity chef restaurants'), 0.01639344262295082),\n",
              " (Document(page_content='Universal Studios Singapore @ 40% Off\\n\\nUniversal Studios Singapore is a popular theme park that offers thrilling rides and entertainment for all ages. You can buy Universal Studios Singapore tickets and enjoy an unbeatable discount of 40% from MySingaporePass. The pass provides a hassle-free booking process, allowing you to skip the long queues and gain easy access to the park. Enjoy exhilarating roller coasters, live shows, and immersive themed zones inspired by your favorite movies. The discounted entry with My Singapore Pass makes it even more enjoyable, allowing you to have a memorable day of fun and adventure.\\n\\nGardens by the Bay @ 40% Off'),\n",
              "  0.016129032258064516),\n",
              " (Document(page_content='daily, with each tour loop lasting approximately 45-60 minutes. Tickets start at S$37/adult. For online bookings, find out more here or call +65 6338 6877.'),\n",
              "  0.015873015873015872),\n",
              " (Document(page_content='a\\n\\ntrue\\n\\nfoodies\\n\\nparadise/\\n\\nTitle: Singapore: A true foodie’s paradise\\n\\nWondering where to eat in Singapore? From street food and heritage dining spots to swanky celebrity restaurants, options abound. We’ve got you covered with this handy little guide for you to navigate your way around this true foodie’s paradise.\\n\\nLocal delights'),\n",
              "  0.015873015873015872)]"
            ]
          },
          "metadata": {},
          "execution_count": 107
        }
      ]
    },
    {
      "cell_type": "code",
      "source": [
        "from langchain.schema.runnable import RunnablePassthrough\n",
        "template = \"\"\"Answer the question based only on the following context:\n",
        "{context}\n",
        "\n",
        "Question: {question}\n",
        "\"\"\"\n",
        "prompt = ChatPromptTemplate.from_template(template)\n",
        "\n",
        "full_rag_fusion_chain = (\n",
        "    {\n",
        "        \"context\": ragfusion_chain,\n",
        "        \"question\": RunnablePassthrough()\n",
        "    }\n",
        "    | prompt\n",
        "    | model\n",
        "    | StrOutputParser()\n",
        ")"
      ],
      "metadata": {
        "id": "xa7aI-XxZxAI"
      },
      "execution_count": 108,
      "outputs": []
    },
    {
      "cell_type": "code",
      "source": [
        "full_rag_fusion_chain.input_schema.schema()"
      ],
      "metadata": {
        "id": "VpxYnXlVZ-89",
        "outputId": "d4f8d54d-1cc4-43a1-edb3-f911d292a55d",
        "colab": {
          "base_uri": "https://localhost:8080/",
          "height": 0
        }
      },
      "execution_count": 110,
      "outputs": [
        {
          "output_type": "execute_result",
          "data": {
            "text/plain": [
              "{'title': 'RunnableParallel<context,question>Input',\n",
              " 'type': 'object',\n",
              " 'properties': {'question': {'title': 'Question', 'type': 'string'}}}"
            ]
          },
          "metadata": {},
          "execution_count": 110
        }
      ]
    },
    {
      "cell_type": "code",
      "source": [
        "full_rag_fusion_chain.invoke({\"question\": \"Tell me about Universal Studio Singapore?\"})"
      ],
      "metadata": {
        "id": "nI-gjH6gaAwn",
        "outputId": "bed643f8-6eac-4eb1-fb50-3498fc5d4c11",
        "colab": {
          "base_uri": "https://localhost:8080/",
          "height": 11420
        }
      },
      "execution_count": 111,
      "outputs": [
        {
          "output_type": "stream",
          "name": "stdout",
          "text": [
            "\u001b[32;1m\u001b[1;3m[chain/start]\u001b[0m \u001b[1m[1:chain:RunnableSequence] Entering Chain run with input:\n",
            "\u001b[0m{\n",
            "  \"question\": \"Tell me about Universal Studio Singapore?\"\n",
            "}\n",
            "\u001b[32;1m\u001b[1;3m[chain/start]\u001b[0m \u001b[1m[1:chain:RunnableSequence > 2:chain:RunnableParallel<context,question>] Entering Chain run with input:\n",
            "\u001b[0m{\n",
            "  \"question\": \"Tell me about Universal Studio Singapore?\"\n",
            "}\n",
            "\u001b[32;1m\u001b[1;3m[chain/start]\u001b[0m \u001b[1m[1:chain:RunnableSequence > 2:chain:RunnableParallel<context,question> > 3:chain:RunnableSequence] Entering Chain run with input:\n",
            "\u001b[0m{\n",
            "  \"question\": \"Tell me about Universal Studio Singapore?\"\n",
            "}\n",
            "\u001b[32;1m\u001b[1;3m[chain/start]\u001b[0m \u001b[1m[1:chain:RunnableSequence > 2:chain:RunnableParallel<context,question> > 4:chain:RunnablePassthrough] Entering Chain run with input:\n",
            "\u001b[0m{\n",
            "  \"question\": \"Tell me about Universal Studio Singapore?\"\n",
            "}\u001b[32;1m\u001b[1;3m[chain/start]\u001b[0m \u001b[1m[1:chain:RunnableSequence > 2:chain:RunnableParallel<context,question> > 3:chain:RunnableSequence > 4:prompt:ChatPromptTemplate] Entering Prompt run with input:\n",
            "\u001b[0m{\n",
            "  \"question\": \"Tell me about Universal Studio Singapore?\"\n",
            "}\n",
            "\n",
            "\u001b[36;1m\u001b[1;3m[chain/end]\u001b[0m \u001b[1m[1:chain:RunnableSequence > 2:chain:RunnableParallel<context,question> > 4:chain:RunnablePassthrough] [3ms] Exiting Chain run with output:\n",
            "\u001b[0m{\n",
            "  \"question\": \"Tell me about Universal Studio Singapore?\"\n",
            "}\n",
            "\u001b[36;1m\u001b[1;3m[chain/end]\u001b[0m \u001b[1m[1:chain:RunnableSequence > 2:chain:RunnableParallel<context,question> > 3:chain:RunnableSequence > 4:prompt:ChatPromptTemplate] [2ms] Exiting Prompt run with output:\n",
            "\u001b[0m{\n",
            "  \"lc\": 1,\n",
            "  \"type\": \"constructor\",\n",
            "  \"id\": [\n",
            "    \"langchain\",\n",
            "    \"prompts\",\n",
            "    \"chat\",\n",
            "    \"ChatPromptValue\"\n",
            "  ],\n",
            "  \"kwargs\": {\n",
            "    \"messages\": [\n",
            "      {\n",
            "        \"lc\": 1,\n",
            "        \"type\": \"constructor\",\n",
            "        \"id\": [\n",
            "          \"langchain\",\n",
            "          \"schema\",\n",
            "          \"messages\",\n",
            "          \"SystemMessage\"\n",
            "        ],\n",
            "        \"kwargs\": {\n",
            "          \"content\": \"You are a helpful assistant that generates multiple search queries based on a single input query.\",\n",
            "          \"additional_kwargs\": {}\n",
            "        }\n",
            "      },\n",
            "      {\n",
            "        \"lc\": 1,\n",
            "        \"type\": \"constructor\",\n",
            "        \"id\": [\n",
            "          \"langchain\",\n",
            "          \"schema\",\n",
            "          \"messages\",\n",
            "          \"HumanMessage\"\n",
            "        ],\n",
            "        \"kwargs\": {\n",
            "          \"content\": \"Generate multiple search queries related to: Tell me about Universal Studio Singapore? \\n OUTPUT (4 queries):\",\n",
            "          \"additional_kwargs\": {}\n",
            "        }\n",
            "      }\n",
            "    ]\n",
            "  }\n",
            "}\n",
            "\u001b[32;1m\u001b[1;3m[llm/start]\u001b[0m \u001b[1m[1:chain:RunnableSequence > 2:chain:RunnableParallel<context,question> > 3:chain:RunnableSequence > 5:llm:ChatGoogleGenerativeAI] Entering LLM run with input:\n",
            "\u001b[0m{\n",
            "  \"prompts\": [\n",
            "    \"System: You are a helpful assistant that generates multiple search queries based on a single input query.\\nHuman: Generate multiple search queries related to: Tell me about Universal Studio Singapore? \\n OUTPUT (4 queries):\"\n",
            "  ]\n",
            "}\n",
            "\u001b[36;1m\u001b[1;3m[llm/end]\u001b[0m \u001b[1m[1:chain:RunnableSequence > 2:chain:RunnableParallel<context,question> > 3:chain:RunnableSequence > 5:llm:ChatGoogleGenerativeAI] [1.49s] Exiting LLM run with output:\n",
            "\u001b[0m{\n",
            "  \"generations\": [\n",
            "    [\n",
            "      {\n",
            "        \"text\": \"1. What are the highlights of Universal Studios Singapore?\\n2. How to get to Universal Studios Singapore?\\n3. What are the popular attractions at Universal Studios Singapore?\\n4. Is Universal Studios Singapore suitable for children?\",\n",
            "        \"generation_info\": {\n",
            "          \"finish_reason\": \"STOP\",\n",
            "          \"safety_ratings\": [\n",
            "            {\n",
            "              \"category\": \"HARM_CATEGORY_SEXUALLY_EXPLICIT\",\n",
            "              \"probability\": \"NEGLIGIBLE\",\n",
            "              \"blocked\": false\n",
            "            },\n",
            "            {\n",
            "              \"category\": \"HARM_CATEGORY_HATE_SPEECH\",\n",
            "              \"probability\": \"NEGLIGIBLE\",\n",
            "              \"blocked\": false\n",
            "            },\n",
            "            {\n",
            "              \"category\": \"HARM_CATEGORY_HARASSMENT\",\n",
            "              \"probability\": \"NEGLIGIBLE\",\n",
            "              \"blocked\": false\n",
            "            },\n",
            "            {\n",
            "              \"category\": \"HARM_CATEGORY_DANGEROUS_CONTENT\",\n",
            "              \"probability\": \"NEGLIGIBLE\",\n",
            "              \"blocked\": false\n",
            "            }\n",
            "          ]\n",
            "        },\n",
            "        \"type\": \"ChatGeneration\",\n",
            "        \"message\": {\n",
            "          \"lc\": 1,\n",
            "          \"type\": \"constructor\",\n",
            "          \"id\": [\n",
            "            \"langchain\",\n",
            "            \"schema\",\n",
            "            \"messages\",\n",
            "            \"AIMessage\"\n",
            "          ],\n",
            "          \"kwargs\": {\n",
            "            \"content\": \"1. What are the highlights of Universal Studios Singapore?\\n2. How to get to Universal Studios Singapore?\\n3. What are the popular attractions at Universal Studios Singapore?\\n4. Is Universal Studios Singapore suitable for children?\",\n",
            "            \"additional_kwargs\": {}\n",
            "          }\n",
            "        }\n",
            "      }\n",
            "    ]\n",
            "  ],\n",
            "  \"llm_output\": {\n",
            "    \"prompt_feedback\": {\n",
            "      \"safety_ratings\": [\n",
            "        {\n",
            "          \"category\": 9,\n",
            "          \"probability\": 1,\n",
            "          \"blocked\": false\n",
            "        },\n",
            "        {\n",
            "          \"category\": 8,\n",
            "          \"probability\": 1,\n",
            "          \"blocked\": false\n",
            "        },\n",
            "        {\n",
            "          \"category\": 7,\n",
            "          \"probability\": 1,\n",
            "          \"blocked\": false\n",
            "        },\n",
            "        {\n",
            "          \"category\": 10,\n",
            "          \"probability\": 1,\n",
            "          \"blocked\": false\n",
            "        }\n",
            "      ],\n",
            "      \"block_reason\": 0\n",
            "    }\n",
            "  },\n",
            "  \"run\": null\n",
            "}\n",
            "\u001b[32;1m\u001b[1;3m[chain/start]\u001b[0m \u001b[1m[1:chain:RunnableSequence > 2:chain:RunnableParallel<context,question> > 3:chain:RunnableSequence > 6:parser:StrOutputParser] Entering Parser run with input:\n",
            "\u001b[0m[inputs]\n",
            "\u001b[36;1m\u001b[1;3m[chain/end]\u001b[0m \u001b[1m[1:chain:RunnableSequence > 2:chain:RunnableParallel<context,question> > 3:chain:RunnableSequence > 6:parser:StrOutputParser] [1ms] Exiting Parser run with output:\n",
            "\u001b[0m{\n",
            "  \"output\": \"1. What are the highlights of Universal Studios Singapore?\\n2. How to get to Universal Studios Singapore?\\n3. What are the popular attractions at Universal Studios Singapore?\\n4. Is Universal Studios Singapore suitable for children?\"\n",
            "}\n",
            "\u001b[32;1m\u001b[1;3m[chain/start]\u001b[0m \u001b[1m[1:chain:RunnableSequence > 2:chain:RunnableParallel<context,question> > 3:chain:RunnableSequence > 7:chain:RunnableLambda] Entering Chain run with input:\n",
            "\u001b[0m{\n",
            "  \"input\": \"1. What are the highlights of Universal Studios Singapore?\\n2. How to get to Universal Studios Singapore?\\n3. What are the popular attractions at Universal Studios Singapore?\\n4. Is Universal Studios Singapore suitable for children?\"\n",
            "}\n",
            "\u001b[36;1m\u001b[1;3m[chain/end]\u001b[0m \u001b[1m[1:chain:RunnableSequence > 2:chain:RunnableParallel<context,question> > 3:chain:RunnableSequence > 7:chain:RunnableLambda] [1ms] Exiting Chain run with output:\n",
            "\u001b[0m{\n",
            "  \"output\": [\n",
            "    \"1. What are the highlights of Universal Studios Singapore?\",\n",
            "    \"2. How to get to Universal Studios Singapore?\",\n",
            "    \"3. What are the popular attractions at Universal Studios Singapore?\",\n",
            "    \"4. Is Universal Studios Singapore suitable for children?\"\n",
            "  ]\n",
            "}\n",
            "\u001b[32;1m\u001b[1;3m[chain/start]\u001b[0m \u001b[1m[1:chain:RunnableSequence > 2:chain:RunnableParallel<context,question> > 3:chain:RunnableSequence > 8:chain:RunnableEach<VectorStoreRetriever>] Entering Chain run with input:\n",
            "\u001b[0m{\n",
            "  \"input\": [\n",
            "    \"1. What are the highlights of Universal Studios Singapore?\",\n",
            "    \"2. How to get to Universal Studios Singapore?\",\n",
            "    \"3. What are the popular attractions at Universal Studios Singapore?\",\n",
            "    \"4. Is Universal Studios Singapore suitable for children?\"\n",
            "  ]\n",
            "}\n",
            "\u001b[36;1m\u001b[1;3m[chain/end]\u001b[0m \u001b[1m[1:chain:RunnableSequence > 2:chain:RunnableParallel<context,question> > 3:chain:RunnableSequence > 8:chain:RunnableEach<VectorStoreRetriever>] [357ms] Exiting Chain run with output:\n",
            "\u001b[0m{\n",
            "  \"output\": [\n",
            "    [\n",
            "      {\n",
            "        \"lc\": 1,\n",
            "        \"type\": \"constructor\",\n",
            "        \"id\": [\n",
            "          \"langchain\",\n",
            "          \"schema\",\n",
            "          \"document\",\n",
            "          \"Document\"\n",
            "        ],\n",
            "        \"kwargs\": {\n",
            "          \"page_content\": \"You may also want to check out the other interactive activities to get a taste of city planning and insights into the country's conservation efforts. It's a multi-sensory experience that takes you deep into Singapore's exciting planning journey.Link: https://www.visitsingapore.com/see\\n\\ndo\\n\\nsingapore/recreation\\n\\nleisure/fun\\n\\nthings\\n\\nto\\n\\ndo/universal\\n\\nstudios\\n\\nsingapore/\\n\\nTitle: Universal Studios Singapore\\n\\nThe shimmering wonders of the silver screen comes to vivid life at Universal Studios Singapore, the first-ever Hollywood movie theme park in Southeast Asia.\\n\\nWhether you’re a daredevil in search of adrenaline rushes and high-flying thrills, a film buff looking to immerse yourself in the world of movies, or in search of a thrilling jaunt with your loved ones, this theme park will provide you with a ride to remember.\\n\\nFun for the Family\",\n",
            "          \"metadata\": {}\n",
            "        }\n",
            "      },\n",
            "      {\n",
            "        \"lc\": 1,\n",
            "        \"type\": \"constructor\",\n",
            "        \"id\": [\n",
            "          \"langchain\",\n",
            "          \"schema\",\n",
            "          \"document\",\n",
            "          \"Document\"\n",
            "        ],\n",
            "        \"kwargs\": {\n",
            "          \"page_content\": \"Universal Studios Singapore @ 40% Off\\n\\nUniversal Studios Singapore is a popular theme park that offers thrilling rides and entertainment for all ages. You can buy Universal Studios Singapore tickets and enjoy an unbeatable discount of 40% from MySingaporePass. The pass provides a hassle-free booking process, allowing you to skip the long queues and gain easy access to the park. Enjoy exhilarating roller coasters, live shows, and immersive themed zones inspired by your favorite movies. The discounted entry with My Singapore Pass makes it even more enjoyable, allowing you to have a memorable day of fun and adventure.\\n\\nGardens by the Bay @ 40% Off\",\n",
            "          \"metadata\": {}\n",
            "        }\n",
            "      },\n",
            "      {\n",
            "        \"lc\": 1,\n",
            "        \"type\": \"constructor\",\n",
            "        \"id\": [\n",
            "          \"langchain\",\n",
            "          \"schema\",\n",
            "          \"document\",\n",
            "          \"Document\"\n",
            "        ],\n",
            "        \"kwargs\": {\n",
            "          \"page_content\": \"Immerse yourself in the vibrant cultural heritage and atmosphere of Singapore with the MySingaporePass. This valuable resource provides flexibility, convenience, and significant savings for visitors, allowing them to create unforgettable memories in one of Asia's most captivating cities. Maximize your Singapore experience by visiting the MySingaporePass website and unlocking a world of possibilities.\\n\\nHere are some of the top attractions that can be booked with the My Singapore Pass:\\n\\nUniversal Studios Singapore @ 40% Off\",\n",
            "          \"metadata\": {}\n",
            "        }\n",
            "      },\n",
            "      {\n",
            "        \"lc\": 1,\n",
            "        \"type\": \"constructor\",\n",
            "        \"id\": [\n",
            "          \"langchain\",\n",
            "          \"schema\",\n",
            "          \"document\",\n",
            "          \"Document\"\n",
            "        ],\n",
            "        \"kwargs\": {\n",
            "          \"page_content\": \"Universal Studios Singapore\\n\\nThe magic of Hollywood comes to life at Universal Studios Singapore (USS), a theme park filled with adrenaline-pumping rides, immersive live entertainment and a wide variety of attractions based on some of your favourite movie characters. Revisit childhood with your loved ones as you explore six distinct zones, from science-fiction worlds to the Jurassic era and ancient Egypt. We recommend visiting Far Far Away, modelled after the iconic world from the Shrek movie series. Check out shows like the Shrek 4-D Adventure—a multisensory adventure of sight, sound, touch and smell—or soar high on the Enchanted Airways, a junior roller coaster that soars over the canopies of the forest. Universal Studios Singapore. 8 Sentosa Gateway, Singapore 098269.\\n\\nAdventure Cove Waterpark\",\n",
            "          \"metadata\": {}\n",
            "        }\n",
            "      }\n",
            "    ],\n",
            "    [\n",
            "      {\n",
            "        \"lc\": 1,\n",
            "        \"type\": \"constructor\",\n",
            "        \"id\": [\n",
            "          \"langchain\",\n",
            "          \"schema\",\n",
            "          \"document\",\n",
            "          \"Document\"\n",
            "        ],\n",
            "        \"kwargs\": {\n",
            "          \"page_content\": \"You may also want to check out the other interactive activities to get a taste of city planning and insights into the country's conservation efforts. It's a multi-sensory experience that takes you deep into Singapore's exciting planning journey.Link: https://www.visitsingapore.com/see\\n\\ndo\\n\\nsingapore/recreation\\n\\nleisure/fun\\n\\nthings\\n\\nto\\n\\ndo/universal\\n\\nstudios\\n\\nsingapore/\\n\\nTitle: Universal Studios Singapore\\n\\nThe shimmering wonders of the silver screen comes to vivid life at Universal Studios Singapore, the first-ever Hollywood movie theme park in Southeast Asia.\\n\\nWhether you’re a daredevil in search of adrenaline rushes and high-flying thrills, a film buff looking to immerse yourself in the world of movies, or in search of a thrilling jaunt with your loved ones, this theme park will provide you with a ride to remember.\\n\\nFun for the Family\",\n",
            "          \"metadata\": {}\n",
            "        }\n",
            "      },\n",
            "      {\n",
            "        \"lc\": 1,\n",
            "        \"type\": \"constructor\",\n",
            "        \"id\": [\n",
            "          \"langchain\",\n",
            "          \"schema\",\n",
            "          \"document\",\n",
            "          \"Document\"\n",
            "        ],\n",
            "        \"kwargs\": {\n",
            "          \"page_content\": \"Universal Studios Singapore @ 40% Off\\n\\nUniversal Studios Singapore is a popular theme park that offers thrilling rides and entertainment for all ages. You can buy Universal Studios Singapore tickets and enjoy an unbeatable discount of 40% from MySingaporePass. The pass provides a hassle-free booking process, allowing you to skip the long queues and gain easy access to the park. Enjoy exhilarating roller coasters, live shows, and immersive themed zones inspired by your favorite movies. The discounted entry with My Singapore Pass makes it even more enjoyable, allowing you to have a memorable day of fun and adventure.\\n\\nGardens by the Bay @ 40% Off\",\n",
            "          \"metadata\": {}\n",
            "        }\n",
            "      },\n",
            "      {\n",
            "        \"lc\": 1,\n",
            "        \"type\": \"constructor\",\n",
            "        \"id\": [\n",
            "          \"langchain\",\n",
            "          \"schema\",\n",
            "          \"document\",\n",
            "          \"Document\"\n",
            "        ],\n",
            "        \"kwargs\": {\n",
            "          \"page_content\": \"Where To Stay In Singapore\\n\\nWhether you are looking for that once-in-a-lifetime luxury hotel, a small intimate boutique hotel, a value-for-money mid-range hotel, or a budget guesthouse, Singapore has a comprehensive collection of them all.\\n\\nYou must be warned, though, that Singapore is among the most expensive cities in Asia. Singapore has been dubbed the world’s most expensive city to live in for the fifth year in a row, which is also reflected in the hotel prices. That said, in this guide, we reveal some good value options for your money, so there is no need to panic. 🙂\",\n",
            "          \"metadata\": {}\n",
            "        }\n",
            "      },\n",
            "      {\n",
            "        \"lc\": 1,\n",
            "        \"type\": \"constructor\",\n",
            "        \"id\": [\n",
            "          \"langchain\",\n",
            "          \"schema\",\n",
            "          \"document\",\n",
            "          \"Document\"\n",
            "        ],\n",
            "        \"kwargs\": {\n",
            "          \"page_content\": \"on\\n\\ntravelling\\n\\nwith\\n\\nkids/\\n\\nTitle: Tips on travelling with kids to Singapore\\n\\nFamily holidays are the best for getting quality time with the whole brood, but they can be as frazzling as they are fun-filled, especially with tiny tots in tow. Fret not, parents, we’ve got you—here’s a list of the most family-friendly experiences in Singapore.\\n\\nCheck in to family\\n\\nfriendly hotels\",\n",
            "          \"metadata\": {}\n",
            "        }\n",
            "      }\n",
            "    ],\n",
            "    [\n",
            "      {\n",
            "        \"lc\": 1,\n",
            "        \"type\": \"constructor\",\n",
            "        \"id\": [\n",
            "          \"langchain\",\n",
            "          \"schema\",\n",
            "          \"document\",\n",
            "          \"Document\"\n",
            "        ],\n",
            "        \"kwargs\": {\n",
            "          \"page_content\": \"You may also want to check out the other interactive activities to get a taste of city planning and insights into the country's conservation efforts. It's a multi-sensory experience that takes you deep into Singapore's exciting planning journey.Link: https://www.visitsingapore.com/see\\n\\ndo\\n\\nsingapore/recreation\\n\\nleisure/fun\\n\\nthings\\n\\nto\\n\\ndo/universal\\n\\nstudios\\n\\nsingapore/\\n\\nTitle: Universal Studios Singapore\\n\\nThe shimmering wonders of the silver screen comes to vivid life at Universal Studios Singapore, the first-ever Hollywood movie theme park in Southeast Asia.\\n\\nWhether you’re a daredevil in search of adrenaline rushes and high-flying thrills, a film buff looking to immerse yourself in the world of movies, or in search of a thrilling jaunt with your loved ones, this theme park will provide you with a ride to remember.\\n\\nFun for the Family\",\n",
            "          \"metadata\": {}\n",
            "        }\n",
            "      },\n",
            "      {\n",
            "        \"lc\": 1,\n",
            "        \"type\": \"constructor\",\n",
            "        \"id\": [\n",
            "          \"langchain\",\n",
            "          \"schema\",\n",
            "          \"document\",\n",
            "          \"Document\"\n",
            "        ],\n",
            "        \"kwargs\": {\n",
            "          \"page_content\": \"Universal Studios Singapore @ 40% Off\\n\\nUniversal Studios Singapore is a popular theme park that offers thrilling rides and entertainment for all ages. You can buy Universal Studios Singapore tickets and enjoy an unbeatable discount of 40% from MySingaporePass. The pass provides a hassle-free booking process, allowing you to skip the long queues and gain easy access to the park. Enjoy exhilarating roller coasters, live shows, and immersive themed zones inspired by your favorite movies. The discounted entry with My Singapore Pass makes it even more enjoyable, allowing you to have a memorable day of fun and adventure.\\n\\nGardens by the Bay @ 40% Off\",\n",
            "          \"metadata\": {}\n",
            "        }\n",
            "      },\n",
            "      {\n",
            "        \"lc\": 1,\n",
            "        \"type\": \"constructor\",\n",
            "        \"id\": [\n",
            "          \"langchain\",\n",
            "          \"schema\",\n",
            "          \"document\",\n",
            "          \"Document\"\n",
            "        ],\n",
            "        \"kwargs\": {\n",
            "          \"page_content\": \"Universal Studios Singapore\\n\\nThe magic of Hollywood comes to life at Universal Studios Singapore (USS), a theme park filled with adrenaline-pumping rides, immersive live entertainment and a wide variety of attractions based on some of your favourite movie characters. Revisit childhood with your loved ones as you explore six distinct zones, from science-fiction worlds to the Jurassic era and ancient Egypt. We recommend visiting Far Far Away, modelled after the iconic world from the Shrek movie series. Check out shows like the Shrek 4-D Adventure—a multisensory adventure of sight, sound, touch and smell—or soar high on the Enchanted Airways, a junior roller coaster that soars over the canopies of the forest. Universal Studios Singapore. 8 Sentosa Gateway, Singapore 098269.\\n\\nAdventure Cove Waterpark\",\n",
            "          \"metadata\": {}\n",
            "        }\n",
            "      },\n",
            "      {\n",
            "        \"lc\": 1,\n",
            "        \"type\": \"constructor\",\n",
            "        \"id\": [\n",
            "          \"langchain\",\n",
            "          \"schema\",\n",
            "          \"document\",\n",
            "          \"Document\"\n",
            "        ],\n",
            "        \"kwargs\": {\n",
            "          \"page_content\": \"Immerse yourself in the vibrant cultural heritage and atmosphere of Singapore with the MySingaporePass. This valuable resource provides flexibility, convenience, and significant savings for visitors, allowing them to create unforgettable memories in one of Asia's most captivating cities. Maximize your Singapore experience by visiting the MySingaporePass website and unlocking a world of possibilities.\\n\\nHere are some of the top attractions that can be booked with the My Singapore Pass:\\n\\nUniversal Studios Singapore @ 40% Off\",\n",
            "          \"metadata\": {}\n",
            "        }\n",
            "      }\n",
            "    ],\n",
            "    [\n",
            "      {\n",
            "        \"lc\": 1,\n",
            "        \"type\": \"constructor\",\n",
            "        \"id\": [\n",
            "          \"langchain\",\n",
            "          \"schema\",\n",
            "          \"document\",\n",
            "          \"Document\"\n",
            "        ],\n",
            "        \"kwargs\": {\n",
            "          \"page_content\": \"You may also want to check out the other interactive activities to get a taste of city planning and insights into the country's conservation efforts. It's a multi-sensory experience that takes you deep into Singapore's exciting planning journey.Link: https://www.visitsingapore.com/see\\n\\ndo\\n\\nsingapore/recreation\\n\\nleisure/fun\\n\\nthings\\n\\nto\\n\\ndo/universal\\n\\nstudios\\n\\nsingapore/\\n\\nTitle: Universal Studios Singapore\\n\\nThe shimmering wonders of the silver screen comes to vivid life at Universal Studios Singapore, the first-ever Hollywood movie theme park in Southeast Asia.\\n\\nWhether you’re a daredevil in search of adrenaline rushes and high-flying thrills, a film buff looking to immerse yourself in the world of movies, or in search of a thrilling jaunt with your loved ones, this theme park will provide you with a ride to remember.\\n\\nFun for the Family\",\n",
            "          \"metadata\": {}\n",
            "        }\n",
            "      },\n",
            "      {\n",
            "        \"lc\": 1,\n",
            "        \"type\": \"constructor\",\n",
            "        \"id\": [\n",
            "          \"langchain\",\n",
            "          \"schema\",\n",
            "          \"document\",\n",
            "          \"Document\"\n",
            "        ],\n",
            "        \"kwargs\": {\n",
            "          \"page_content\": \"on\\n\\ntravelling\\n\\nwith\\n\\nkids/\\n\\nTitle: Tips on travelling with kids to Singapore\\n\\nFamily holidays are the best for getting quality time with the whole brood, but they can be as frazzling as they are fun-filled, especially with tiny tots in tow. Fret not, parents, we’ve got you—here’s a list of the most family-friendly experiences in Singapore.\\n\\nCheck in to family\\n\\nfriendly hotels\",\n",
            "          \"metadata\": {}\n",
            "        }\n",
            "      },\n",
            "      {\n",
            "        \"lc\": 1,\n",
            "        \"type\": \"constructor\",\n",
            "        \"id\": [\n",
            "          \"langchain\",\n",
            "          \"schema\",\n",
            "          \"document\",\n",
            "          \"Document\"\n",
            "        ],\n",
            "        \"kwargs\": {\n",
            "          \"page_content\": \"Universal Studios Singapore\\n\\nThe magic of Hollywood comes to life at Universal Studios Singapore (USS), a theme park filled with adrenaline-pumping rides, immersive live entertainment and a wide variety of attractions based on some of your favourite movie characters. Revisit childhood with your loved ones as you explore six distinct zones, from science-fiction worlds to the Jurassic era and ancient Egypt. We recommend visiting Far Far Away, modelled after the iconic world from the Shrek movie series. Check out shows like the Shrek 4-D Adventure—a multisensory adventure of sight, sound, touch and smell—or soar high on the Enchanted Airways, a junior roller coaster that soars over the canopies of the forest. Universal Studios Singapore. 8 Sentosa Gateway, Singapore 098269.\\n\\nAdventure Cove Waterpark\",\n",
            "          \"metadata\": {}\n",
            "        }\n",
            "      },\n",
            "      {\n",
            "        \"lc\": 1,\n",
            "        \"type\": \"constructor\",\n",
            "        \"id\": [\n",
            "          \"langchain\",\n",
            "          \"schema\",\n",
            "          \"document\",\n",
            "          \"Document\"\n",
            "        ],\n",
            "        \"kwargs\": {\n",
            "          \"page_content\": \"Universal Studios Singapore @ 40% Off\\n\\nUniversal Studios Singapore is a popular theme park that offers thrilling rides and entertainment for all ages. You can buy Universal Studios Singapore tickets and enjoy an unbeatable discount of 40% from MySingaporePass. The pass provides a hassle-free booking process, allowing you to skip the long queues and gain easy access to the park. Enjoy exhilarating roller coasters, live shows, and immersive themed zones inspired by your favorite movies. The discounted entry with My Singapore Pass makes it even more enjoyable, allowing you to have a memorable day of fun and adventure.\\n\\nGardens by the Bay @ 40% Off\",\n",
            "          \"metadata\": {}\n",
            "        }\n",
            "      }\n",
            "    ]\n",
            "  ]\n",
            "}\n",
            "\u001b[32;1m\u001b[1;3m[chain/start]\u001b[0m \u001b[1m[1:chain:RunnableSequence > 2:chain:RunnableParallel<context,question> > 3:chain:RunnableSequence > 13:chain:reciprocal_rank_fusion] Entering Chain run with input:\n",
            "\u001b[0m[inputs]\n",
            "\u001b[36;1m\u001b[1;3m[chain/end]\u001b[0m \u001b[1m[1:chain:RunnableSequence > 2:chain:RunnableParallel<context,question> > 3:chain:RunnableSequence > 13:chain:reciprocal_rank_fusion] [1ms] Exiting Chain run with output:\n",
            "\u001b[0m{\n",
            "  \"output\": [\n",
            "    [\n",
            "      {\n",
            "        \"lc\": 1,\n",
            "        \"type\": \"constructor\",\n",
            "        \"id\": [\n",
            "          \"langchain\",\n",
            "          \"schema\",\n",
            "          \"document\",\n",
            "          \"Document\"\n",
            "        ],\n",
            "        \"kwargs\": {\n",
            "          \"page_content\": \"You may also want to check out the other interactive activities to get a taste of city planning and insights into the country's conservation efforts. It's a multi-sensory experience that takes you deep into Singapore's exciting planning journey.Link: https://www.visitsingapore.com/see\\n\\ndo\\n\\nsingapore/recreation\\n\\nleisure/fun\\n\\nthings\\n\\nto\\n\\ndo/universal\\n\\nstudios\\n\\nsingapore/\\n\\nTitle: Universal Studios Singapore\\n\\nThe shimmering wonders of the silver screen comes to vivid life at Universal Studios Singapore, the first-ever Hollywood movie theme park in Southeast Asia.\\n\\nWhether you’re a daredevil in search of adrenaline rushes and high-flying thrills, a film buff looking to immerse yourself in the world of movies, or in search of a thrilling jaunt with your loved ones, this theme park will provide you with a ride to remember.\\n\\nFun for the Family\",\n",
            "          \"metadata\": {}\n",
            "        }\n",
            "      },\n",
            "      0.06666666666666667\n",
            "    ],\n",
            "    [\n",
            "      {\n",
            "        \"lc\": 1,\n",
            "        \"type\": \"constructor\",\n",
            "        \"id\": [\n",
            "          \"langchain\",\n",
            "          \"schema\",\n",
            "          \"document\",\n",
            "          \"Document\"\n",
            "        ],\n",
            "        \"kwargs\": {\n",
            "          \"page_content\": \"Universal Studios Singapore @ 40% Off\\n\\nUniversal Studios Singapore is a popular theme park that offers thrilling rides and entertainment for all ages. You can buy Universal Studios Singapore tickets and enjoy an unbeatable discount of 40% from MySingaporePass. The pass provides a hassle-free booking process, allowing you to skip the long queues and gain easy access to the park. Enjoy exhilarating roller coasters, live shows, and immersive themed zones inspired by your favorite movies. The discounted entry with My Singapore Pass makes it even more enjoyable, allowing you to have a memorable day of fun and adventure.\\n\\nGardens by the Bay @ 40% Off\",\n",
            "          \"metadata\": {}\n",
            "        }\n",
            "      },\n",
            "      0.06505334374186833\n",
            "    ],\n",
            "    [\n",
            "      {\n",
            "        \"lc\": 1,\n",
            "        \"type\": \"constructor\",\n",
            "        \"id\": [\n",
            "          \"langchain\",\n",
            "          \"schema\",\n",
            "          \"document\",\n",
            "          \"Document\"\n",
            "        ],\n",
            "        \"kwargs\": {\n",
            "          \"page_content\": \"Universal Studios Singapore\\n\\nThe magic of Hollywood comes to life at Universal Studios Singapore (USS), a theme park filled with adrenaline-pumping rides, immersive live entertainment and a wide variety of attractions based on some of your favourite movie characters. Revisit childhood with your loved ones as you explore six distinct zones, from science-fiction worlds to the Jurassic era and ancient Egypt. We recommend visiting Far Far Away, modelled after the iconic world from the Shrek movie series. Check out shows like the Shrek 4-D Adventure—a multisensory adventure of sight, sound, touch and smell—or soar high on the Enchanted Airways, a junior roller coaster that soars over the canopies of the forest. Universal Studios Singapore. 8 Sentosa Gateway, Singapore 098269.\\n\\nAdventure Cove Waterpark\",\n",
            "          \"metadata\": {}\n",
            "        }\n",
            "      },\n",
            "      0.048131080389144903\n",
            "    ],\n",
            "    [\n",
            "      {\n",
            "        \"lc\": 1,\n",
            "        \"type\": \"constructor\",\n",
            "        \"id\": [\n",
            "          \"langchain\",\n",
            "          \"schema\",\n",
            "          \"document\",\n",
            "          \"Document\"\n",
            "        ],\n",
            "        \"kwargs\": {\n",
            "          \"page_content\": \"on\\n\\ntravelling\\n\\nwith\\n\\nkids/\\n\\nTitle: Tips on travelling with kids to Singapore\\n\\nFamily holidays are the best for getting quality time with the whole brood, but they can be as frazzling as they are fun-filled, especially with tiny tots in tow. Fret not, parents, we’ve got you—here’s a list of the most family-friendly experiences in Singapore.\\n\\nCheck in to family\\n\\nfriendly hotels\",\n",
            "          \"metadata\": {}\n",
            "        }\n",
            "      },\n",
            "      0.032266458495966696\n",
            "    ],\n",
            "    [\n",
            "      {\n",
            "        \"lc\": 1,\n",
            "        \"type\": \"constructor\",\n",
            "        \"id\": [\n",
            "          \"langchain\",\n",
            "          \"schema\",\n",
            "          \"document\",\n",
            "          \"Document\"\n",
            "        ],\n",
            "        \"kwargs\": {\n",
            "          \"page_content\": \"Immerse yourself in the vibrant cultural heritage and atmosphere of Singapore with the MySingaporePass. This valuable resource provides flexibility, convenience, and significant savings for visitors, allowing them to create unforgettable memories in one of Asia's most captivating cities. Maximize your Singapore experience by visiting the MySingaporePass website and unlocking a world of possibilities.\\n\\nHere are some of the top attractions that can be booked with the My Singapore Pass:\\n\\nUniversal Studios Singapore @ 40% Off\",\n",
            "          \"metadata\": {}\n",
            "        }\n",
            "      },\n",
            "      0.03200204813108039\n",
            "    ],\n",
            "    [\n",
            "      {\n",
            "        \"lc\": 1,\n",
            "        \"type\": \"constructor\",\n",
            "        \"id\": [\n",
            "          \"langchain\",\n",
            "          \"schema\",\n",
            "          \"document\",\n",
            "          \"Document\"\n",
            "        ],\n",
            "        \"kwargs\": {\n",
            "          \"page_content\": \"Where To Stay In Singapore\\n\\nWhether you are looking for that once-in-a-lifetime luxury hotel, a small intimate boutique hotel, a value-for-money mid-range hotel, or a budget guesthouse, Singapore has a comprehensive collection of them all.\\n\\nYou must be warned, though, that Singapore is among the most expensive cities in Asia. Singapore has been dubbed the world’s most expensive city to live in for the fifth year in a row, which is also reflected in the hotel prices. That said, in this guide, we reveal some good value options for your money, so there is no need to panic. 🙂\",\n",
            "          \"metadata\": {}\n",
            "        }\n",
            "      },\n",
            "      0.016129032258064516\n",
            "    ]\n",
            "  ]\n",
            "}\n",
            "\u001b[36;1m\u001b[1;3m[chain/end]\u001b[0m \u001b[1m[1:chain:RunnableSequence > 2:chain:RunnableParallel<context,question> > 3:chain:RunnableSequence] [1.86s] Exiting Chain run with output:\n",
            "\u001b[0m[outputs]\n",
            "\u001b[36;1m\u001b[1;3m[chain/end]\u001b[0m \u001b[1m[1:chain:RunnableSequence > 2:chain:RunnableParallel<context,question>] [1.87s] Exiting Chain run with output:\n",
            "\u001b[0m[outputs]\n",
            "\u001b[32;1m\u001b[1;3m[chain/start]\u001b[0m \u001b[1m[1:chain:RunnableSequence > 14:prompt:ChatPromptTemplate] Entering Prompt run with input:\n",
            "\u001b[0m[inputs]\n",
            "\u001b[36;1m\u001b[1;3m[chain/end]\u001b[0m \u001b[1m[1:chain:RunnableSequence > 14:prompt:ChatPromptTemplate] [1ms] Exiting Prompt run with output:\n",
            "\u001b[0m{\n",
            "  \"lc\": 1,\n",
            "  \"type\": \"constructor\",\n",
            "  \"id\": [\n",
            "    \"langchain\",\n",
            "    \"prompts\",\n",
            "    \"chat\",\n",
            "    \"ChatPromptValue\"\n",
            "  ],\n",
            "  \"kwargs\": {\n",
            "    \"messages\": [\n",
            "      {\n",
            "        \"lc\": 1,\n",
            "        \"type\": \"constructor\",\n",
            "        \"id\": [\n",
            "          \"langchain\",\n",
            "          \"schema\",\n",
            "          \"messages\",\n",
            "          \"HumanMessage\"\n",
            "        ],\n",
            "        \"kwargs\": {\n",
            "          \"content\": \"Answer the question based only on the following context:\\n[(Document(page_content=\\\"You may also want to check out the other interactive activities to get a taste of city planning and insights into the country's conservation efforts. It's a multi-sensory experience that takes you deep into Singapore's exciting planning journey.Link: https://www.visitsingapore.com/see\\\\n\\\\ndo\\\\n\\\\nsingapore/recreation\\\\n\\\\nleisure/fun\\\\n\\\\nthings\\\\n\\\\nto\\\\n\\\\ndo/universal\\\\n\\\\nstudios\\\\n\\\\nsingapore/\\\\n\\\\nTitle: Universal Studios Singapore\\\\n\\\\nThe shimmering wonders of the silver screen comes to vivid life at Universal Studios Singapore, the first-ever Hollywood movie theme park in Southeast Asia.\\\\n\\\\nWhether you’re a daredevil in search of adrenaline rushes and high-flying thrills, a film buff looking to immerse yourself in the world of movies, or in search of a thrilling jaunt with your loved ones, this theme park will provide you with a ride to remember.\\\\n\\\\nFun for the Family\\\"), 0.06666666666666667), (Document(page_content='Universal Studios Singapore @ 40% Off\\\\n\\\\nUniversal Studios Singapore is a popular theme park that offers thrilling rides and entertainment for all ages. You can buy Universal Studios Singapore tickets and enjoy an unbeatable discount of 40% from MySingaporePass. The pass provides a hassle-free booking process, allowing you to skip the long queues and gain easy access to the park. Enjoy exhilarating roller coasters, live shows, and immersive themed zones inspired by your favorite movies. The discounted entry with My Singapore Pass makes it even more enjoyable, allowing you to have a memorable day of fun and adventure.\\\\n\\\\nGardens by the Bay @ 40% Off'), 0.06505334374186833), (Document(page_content='Universal Studios Singapore\\\\n\\\\nThe magic of Hollywood comes to life at Universal Studios Singapore (USS), a theme park filled with adrenaline-pumping rides, immersive live entertainment and a wide variety of attractions based on some of your favourite movie characters. Revisit childhood with your loved ones as you explore six distinct zones, from science-fiction worlds to the Jurassic era and ancient Egypt. We recommend visiting Far Far Away, modelled after the iconic world from the Shrek movie series. Check out shows like the Shrek 4-D Adventure—a multisensory adventure of sight, sound, touch and smell—or soar high on the Enchanted Airways, a junior roller coaster that soars over the canopies of the forest. Universal Studios Singapore. 8 Sentosa Gateway, Singapore 098269.\\\\n\\\\nAdventure Cove Waterpark'), 0.048131080389144903), (Document(page_content='on\\\\n\\\\ntravelling\\\\n\\\\nwith\\\\n\\\\nkids/\\\\n\\\\nTitle: Tips on travelling with kids to Singapore\\\\n\\\\nFamily holidays are the best for getting quality time with the whole brood, but they can be as frazzling as they are fun-filled, especially with tiny tots in tow. Fret not, parents, we’ve got you—here’s a list of the most family-friendly experiences in Singapore.\\\\n\\\\nCheck in to family\\\\n\\\\nfriendly hotels'), 0.032266458495966696), (Document(page_content=\\\"Immerse yourself in the vibrant cultural heritage and atmosphere of Singapore with the MySingaporePass. This valuable resource provides flexibility, convenience, and significant savings for visitors, allowing them to create unforgettable memories in one of Asia's most captivating cities. Maximize your Singapore experience by visiting the MySingaporePass website and unlocking a world of possibilities.\\\\n\\\\nHere are some of the top attractions that can be booked with the My Singapore Pass:\\\\n\\\\nUniversal Studios Singapore @ 40% Off\\\"), 0.03200204813108039), (Document(page_content='Where To Stay In Singapore\\\\n\\\\nWhether you are looking for that once-in-a-lifetime luxury hotel, a small intimate boutique hotel, a value-for-money mid-range hotel, or a budget guesthouse, Singapore has a comprehensive collection of them all.\\\\n\\\\nYou must be warned, though, that Singapore is among the most expensive cities in Asia. Singapore has been dubbed the world’s most expensive city to live in for the fifth year in a row, which is also reflected in the hotel prices. That said, in this guide, we reveal some good value options for your money, so there is no need to panic. 🙂'), 0.016129032258064516)]\\n\\nQuestion: {'question': 'Tell me about Universal Studio Singapore?'}\\n\",\n",
            "          \"additional_kwargs\": {}\n",
            "        }\n",
            "      }\n",
            "    ]\n",
            "  }\n",
            "}\n",
            "\u001b[32;1m\u001b[1;3m[llm/start]\u001b[0m \u001b[1m[1:chain:RunnableSequence > 15:llm:ChatGoogleGenerativeAI] Entering LLM run with input:\n",
            "\u001b[0m{\n",
            "  \"prompts\": [\n",
            "    \"Human: Answer the question based only on the following context:\\n[(Document(page_content=\\\"You may also want to check out the other interactive activities to get a taste of city planning and insights into the country's conservation efforts. It's a multi-sensory experience that takes you deep into Singapore's exciting planning journey.Link: https://www.visitsingapore.com/see\\\\n\\\\ndo\\\\n\\\\nsingapore/recreation\\\\n\\\\nleisure/fun\\\\n\\\\nthings\\\\n\\\\nto\\\\n\\\\ndo/universal\\\\n\\\\nstudios\\\\n\\\\nsingapore/\\\\n\\\\nTitle: Universal Studios Singapore\\\\n\\\\nThe shimmering wonders of the silver screen comes to vivid life at Universal Studios Singapore, the first-ever Hollywood movie theme park in Southeast Asia.\\\\n\\\\nWhether you’re a daredevil in search of adrenaline rushes and high-flying thrills, a film buff looking to immerse yourself in the world of movies, or in search of a thrilling jaunt with your loved ones, this theme park will provide you with a ride to remember.\\\\n\\\\nFun for the Family\\\"), 0.06666666666666667), (Document(page_content='Universal Studios Singapore @ 40% Off\\\\n\\\\nUniversal Studios Singapore is a popular theme park that offers thrilling rides and entertainment for all ages. You can buy Universal Studios Singapore tickets and enjoy an unbeatable discount of 40% from MySingaporePass. The pass provides a hassle-free booking process, allowing you to skip the long queues and gain easy access to the park. Enjoy exhilarating roller coasters, live shows, and immersive themed zones inspired by your favorite movies. The discounted entry with My Singapore Pass makes it even more enjoyable, allowing you to have a memorable day of fun and adventure.\\\\n\\\\nGardens by the Bay @ 40% Off'), 0.06505334374186833), (Document(page_content='Universal Studios Singapore\\\\n\\\\nThe magic of Hollywood comes to life at Universal Studios Singapore (USS), a theme park filled with adrenaline-pumping rides, immersive live entertainment and a wide variety of attractions based on some of your favourite movie characters. Revisit childhood with your loved ones as you explore six distinct zones, from science-fiction worlds to the Jurassic era and ancient Egypt. We recommend visiting Far Far Away, modelled after the iconic world from the Shrek movie series. Check out shows like the Shrek 4-D Adventure—a multisensory adventure of sight, sound, touch and smell—or soar high on the Enchanted Airways, a junior roller coaster that soars over the canopies of the forest. Universal Studios Singapore. 8 Sentosa Gateway, Singapore 098269.\\\\n\\\\nAdventure Cove Waterpark'), 0.048131080389144903), (Document(page_content='on\\\\n\\\\ntravelling\\\\n\\\\nwith\\\\n\\\\nkids/\\\\n\\\\nTitle: Tips on travelling with kids to Singapore\\\\n\\\\nFamily holidays are the best for getting quality time with the whole brood, but they can be as frazzling as they are fun-filled, especially with tiny tots in tow. Fret not, parents, we’ve got you—here’s a list of the most family-friendly experiences in Singapore.\\\\n\\\\nCheck in to family\\\\n\\\\nfriendly hotels'), 0.032266458495966696), (Document(page_content=\\\"Immerse yourself in the vibrant cultural heritage and atmosphere of Singapore with the MySingaporePass. This valuable resource provides flexibility, convenience, and significant savings for visitors, allowing them to create unforgettable memories in one of Asia's most captivating cities. Maximize your Singapore experience by visiting the MySingaporePass website and unlocking a world of possibilities.\\\\n\\\\nHere are some of the top attractions that can be booked with the My Singapore Pass:\\\\n\\\\nUniversal Studios Singapore @ 40% Off\\\"), 0.03200204813108039), (Document(page_content='Where To Stay In Singapore\\\\n\\\\nWhether you are looking for that once-in-a-lifetime luxury hotel, a small intimate boutique hotel, a value-for-money mid-range hotel, or a budget guesthouse, Singapore has a comprehensive collection of them all.\\\\n\\\\nYou must be warned, though, that Singapore is among the most expensive cities in Asia. Singapore has been dubbed the world’s most expensive city to live in for the fifth year in a row, which is also reflected in the hotel prices. That said, in this guide, we reveal some good value options for your money, so there is no need to panic. 🙂'), 0.016129032258064516)]\\n\\nQuestion: {'question': 'Tell me about Universal Studio Singapore?'}\"\n",
            "  ]\n",
            "}\n",
            "\u001b[36;1m\u001b[1;3m[llm/end]\u001b[0m \u001b[1m[1:chain:RunnableSequence > 15:llm:ChatGoogleGenerativeAI] [2.91s] Exiting LLM run with output:\n",
            "\u001b[0m{\n",
            "  \"generations\": [\n",
            "    [\n",
            "      {\n",
            "        \"text\": \"Universal Studios Singapore is the first-ever Hollywood movie theme park in Southeast Asia. It offers thrilling rides and entertainment for all ages, including adrenaline-pumping roller coasters, live shows, and immersive themed zones inspired by your favorite movies.\",\n",
            "        \"generation_info\": {\n",
            "          \"finish_reason\": \"STOP\",\n",
            "          \"safety_ratings\": [\n",
            "            {\n",
            "              \"category\": \"HARM_CATEGORY_SEXUALLY_EXPLICIT\",\n",
            "              \"probability\": \"NEGLIGIBLE\",\n",
            "              \"blocked\": false\n",
            "            },\n",
            "            {\n",
            "              \"category\": \"HARM_CATEGORY_HATE_SPEECH\",\n",
            "              \"probability\": \"NEGLIGIBLE\",\n",
            "              \"blocked\": false\n",
            "            },\n",
            "            {\n",
            "              \"category\": \"HARM_CATEGORY_HARASSMENT\",\n",
            "              \"probability\": \"NEGLIGIBLE\",\n",
            "              \"blocked\": false\n",
            "            },\n",
            "            {\n",
            "              \"category\": \"HARM_CATEGORY_DANGEROUS_CONTENT\",\n",
            "              \"probability\": \"NEGLIGIBLE\",\n",
            "              \"blocked\": false\n",
            "            }\n",
            "          ]\n",
            "        },\n",
            "        \"type\": \"ChatGeneration\",\n",
            "        \"message\": {\n",
            "          \"lc\": 1,\n",
            "          \"type\": \"constructor\",\n",
            "          \"id\": [\n",
            "            \"langchain\",\n",
            "            \"schema\",\n",
            "            \"messages\",\n",
            "            \"AIMessage\"\n",
            "          ],\n",
            "          \"kwargs\": {\n",
            "            \"content\": \"Universal Studios Singapore is the first-ever Hollywood movie theme park in Southeast Asia. It offers thrilling rides and entertainment for all ages, including adrenaline-pumping roller coasters, live shows, and immersive themed zones inspired by your favorite movies.\",\n",
            "            \"additional_kwargs\": {}\n",
            "          }\n",
            "        }\n",
            "      }\n",
            "    ]\n",
            "  ],\n",
            "  \"llm_output\": {\n",
            "    \"prompt_feedback\": {\n",
            "      \"safety_ratings\": [\n",
            "        {\n",
            "          \"category\": 9,\n",
            "          \"probability\": 1,\n",
            "          \"blocked\": false\n",
            "        },\n",
            "        {\n",
            "          \"category\": 8,\n",
            "          \"probability\": 1,\n",
            "          \"blocked\": false\n",
            "        },\n",
            "        {\n",
            "          \"category\": 7,\n",
            "          \"probability\": 1,\n",
            "          \"blocked\": false\n",
            "        },\n",
            "        {\n",
            "          \"category\": 10,\n",
            "          \"probability\": 1,\n",
            "          \"blocked\": false\n",
            "        }\n",
            "      ],\n",
            "      \"block_reason\": 0\n",
            "    }\n",
            "  },\n",
            "  \"run\": null\n",
            "}\n",
            "\u001b[32;1m\u001b[1;3m[chain/start]\u001b[0m \u001b[1m[1:chain:RunnableSequence > 16:parser:StrOutputParser] Entering Parser run with input:\n",
            "\u001b[0m[inputs]\n",
            "\u001b[36;1m\u001b[1;3m[chain/end]\u001b[0m \u001b[1m[1:chain:RunnableSequence > 16:parser:StrOutputParser] [1ms] Exiting Parser run with output:\n",
            "\u001b[0m{\n",
            "  \"output\": \"Universal Studios Singapore is the first-ever Hollywood movie theme park in Southeast Asia. It offers thrilling rides and entertainment for all ages, including adrenaline-pumping roller coasters, live shows, and immersive themed zones inspired by your favorite movies.\"\n",
            "}\n",
            "\u001b[36;1m\u001b[1;3m[chain/end]\u001b[0m \u001b[1m[1:chain:RunnableSequence] [4.79s] Exiting Chain run with output:\n",
            "\u001b[0m{\n",
            "  \"output\": \"Universal Studios Singapore is the first-ever Hollywood movie theme park in Southeast Asia. It offers thrilling rides and entertainment for all ages, including adrenaline-pumping roller coasters, live shows, and immersive themed zones inspired by your favorite movies.\"\n",
            "}\n"
          ]
        },
        {
          "output_type": "execute_result",
          "data": {
            "text/plain": [
              "'Universal Studios Singapore is the first-ever Hollywood movie theme park in Southeast Asia. It offers thrilling rides and entertainment for all ages, including adrenaline-pumping roller coasters, live shows, and immersive themed zones inspired by your favorite movies.'"
            ],
            "application/vnd.google.colaboratory.intrinsic+json": {
              "type": "string"
            }
          },
          "metadata": {},
          "execution_count": 111
        }
      ]
    },
    {
      "cell_type": "code",
      "source": [],
      "metadata": {
        "id": "czMh7w2HaDk3"
      },
      "execution_count": null,
      "outputs": []
    }
  ]
}