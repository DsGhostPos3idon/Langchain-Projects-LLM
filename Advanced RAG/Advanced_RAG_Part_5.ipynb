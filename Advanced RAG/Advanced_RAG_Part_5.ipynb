{
  "nbformat": 4,
  "nbformat_minor": 0,
  "metadata": {
    "colab": {
      "provenance": []
    },
    "kernelspec": {
      "name": "python3",
      "display_name": "Python 3"
    },
    "language_info": {
      "name": "python"
    }
  },
  "cells": [
    {
      "cell_type": "code",
      "source": [
        "!pip -q install langchain huggingface_hub openai google-search-results tiktoken chromadb lark"
      ],
      "metadata": {
        "colab": {
          "base_uri": "https://localhost:8080/"
        },
        "id": "bCq0pp9pyiYN",
        "outputId": "d363b6c5-e4d3-4b18-b627-9586711aef76"
      },
      "execution_count": 2,
      "outputs": [
        {
          "output_type": "stream",
          "name": "stdout",
          "text": [
            "\u001b[2K     \u001b[90m━━━━━━━━━━━━━━━━━━━━━━━━━━━━━━━━━━━━━━━━\u001b[0m \u001b[32m226.7/226.7 kB\u001b[0m \u001b[31m2.2 MB/s\u001b[0m eta \u001b[36m0:00:00\u001b[0m\n",
            "\u001b[?25h  Preparing metadata (setup.py) ... \u001b[?25l\u001b[?25hdone\n",
            "\u001b[2K     \u001b[90m━━━━━━━━━━━━━━━━━━━━━━━━━━━━━━━━━━━━━━━━\u001b[0m \u001b[32m1.8/1.8 MB\u001b[0m \u001b[31m17.6 MB/s\u001b[0m eta \u001b[36m0:00:00\u001b[0m\n",
            "\u001b[2K     \u001b[90m━━━━━━━━━━━━━━━━━━━━━━━━━━━━━━━━━━━━━━━━\u001b[0m \u001b[32m509.0/509.0 kB\u001b[0m \u001b[31m41.9 MB/s\u001b[0m eta \u001b[36m0:00:00\u001b[0m\n",
            "\u001b[2K     \u001b[90m━━━━━━━━━━━━━━━━━━━━━━━━━━━━━━━━━━━━━━━━\u001b[0m \u001b[32m111.7/111.7 kB\u001b[0m \u001b[31m11.6 MB/s\u001b[0m eta \u001b[36m0:00:00\u001b[0m\n",
            "\u001b[2K     \u001b[90m━━━━━━━━━━━━━━━━━━━━━━━━━━━━━━━━━━━━━━━━\u001b[0m \u001b[32m75.9/75.9 kB\u001b[0m \u001b[31m7.2 MB/s\u001b[0m eta \u001b[36m0:00:00\u001b[0m\n",
            "\u001b[2K     \u001b[90m━━━━━━━━━━━━━━━━━━━━━━━━━━━━━━━━━━━━━━━━\u001b[0m \u001b[32m2.4/2.4 MB\u001b[0m \u001b[31m37.7 MB/s\u001b[0m eta \u001b[36m0:00:00\u001b[0m\n",
            "\u001b[2K     \u001b[90m━━━━━━━━━━━━━━━━━━━━━━━━━━━━━━━━━━━━━━━━\u001b[0m \u001b[32m92.1/92.1 kB\u001b[0m \u001b[31m9.0 MB/s\u001b[0m eta \u001b[36m0:00:00\u001b[0m\n",
            "\u001b[2K     \u001b[90m━━━━━━━━━━━━━━━━━━━━━━━━━━━━━━━━━━━━━━━━\u001b[0m \u001b[32m60.8/60.8 kB\u001b[0m \u001b[31m7.3 MB/s\u001b[0m eta \u001b[36m0:00:00\u001b[0m\n",
            "\u001b[2K     \u001b[90m━━━━━━━━━━━━━━━━━━━━━━━━━━━━━━━━━━━━━━━━\u001b[0m \u001b[32m41.1/41.1 kB\u001b[0m \u001b[31m4.8 MB/s\u001b[0m eta \u001b[36m0:00:00\u001b[0m\n",
            "\u001b[2K     \u001b[90m━━━━━━━━━━━━━━━━━━━━━━━━━━━━━━━━━━━━━━━━\u001b[0m \u001b[32m5.4/5.4 MB\u001b[0m \u001b[31m31.8 MB/s\u001b[0m eta \u001b[36m0:00:00\u001b[0m\n",
            "\u001b[2K     \u001b[90m━━━━━━━━━━━━━━━━━━━━━━━━━━━━━━━━━━━━━━━━\u001b[0m \u001b[32m6.8/6.8 MB\u001b[0m \u001b[31m28.6 MB/s\u001b[0m eta \u001b[36m0:00:00\u001b[0m\n",
            "\u001b[2K     \u001b[90m━━━━━━━━━━━━━━━━━━━━━━━━━━━━━━━━━━━━━━━━\u001b[0m \u001b[32m57.9/57.9 kB\u001b[0m \u001b[31m6.9 MB/s\u001b[0m eta \u001b[36m0:00:00\u001b[0m\n",
            "\u001b[2K     \u001b[90m━━━━━━━━━━━━━━━━━━━━━━━━━━━━━━━━━━━━━━━━\u001b[0m \u001b[32m105.6/105.6 kB\u001b[0m \u001b[31m8.8 MB/s\u001b[0m eta \u001b[36m0:00:00\u001b[0m\n",
            "\u001b[2K     \u001b[90m━━━━━━━━━━━━━━━━━━━━━━━━━━━━━━━━━━━━━━━━\u001b[0m \u001b[32m67.3/67.3 kB\u001b[0m \u001b[31m6.0 MB/s\u001b[0m eta \u001b[36m0:00:00\u001b[0m\n",
            "\u001b[?25h  Installing build dependencies ... \u001b[?25l\u001b[?25hdone\n",
            "  Getting requirements to build wheel ... \u001b[?25l\u001b[?25hdone\n",
            "  Preparing metadata (pyproject.toml) ... \u001b[?25l\u001b[?25hdone\n",
            "\u001b[2K     \u001b[90m━━━━━━━━━━━━━━━━━━━━━━━━━━━━━━━━━━━━━━━━\u001b[0m \u001b[32m698.9/698.9 kB\u001b[0m \u001b[31m27.0 MB/s\u001b[0m eta \u001b[36m0:00:00\u001b[0m\n",
            "\u001b[2K     \u001b[90m━━━━━━━━━━━━━━━━━━━━━━━━━━━━━━━━━━━━━━━━\u001b[0m \u001b[32m1.6/1.6 MB\u001b[0m \u001b[31m22.1 MB/s\u001b[0m eta \u001b[36m0:00:00\u001b[0m\n",
            "\u001b[2K     \u001b[90m━━━━━━━━━━━━━━━━━━━━━━━━━━━━━━━━━━━━━━━━\u001b[0m \u001b[32m67.6/67.6 kB\u001b[0m \u001b[31m8.4 MB/s\u001b[0m eta \u001b[36m0:00:00\u001b[0m\n",
            "\u001b[2K     \u001b[90m━━━━━━━━━━━━━━━━━━━━━━━━━━━━━━━━━━━━━━━━\u001b[0m \u001b[32m71.5/71.5 kB\u001b[0m \u001b[31m8.0 MB/s\u001b[0m eta \u001b[36m0:00:00\u001b[0m\n",
            "\u001b[2K     \u001b[90m━━━━━━━━━━━━━━━━━━━━━━━━━━━━━━━━━━━━━━━━\u001b[0m \u001b[32m77.0/77.0 kB\u001b[0m \u001b[31m9.6 MB/s\u001b[0m eta \u001b[36m0:00:00\u001b[0m\n",
            "\u001b[2K     \u001b[90m━━━━━━━━━━━━━━━━━━━━━━━━━━━━━━━━━━━━━━━━\u001b[0m \u001b[32m58.3/58.3 kB\u001b[0m \u001b[31m5.8 MB/s\u001b[0m eta \u001b[36m0:00:00\u001b[0m\n",
            "\u001b[2K     \u001b[90m━━━━━━━━━━━━━━━━━━━━━━━━━━━━━━━━━━━━━━━━\u001b[0m \u001b[32m46.0/46.0 kB\u001b[0m \u001b[31m4.7 MB/s\u001b[0m eta \u001b[36m0:00:00\u001b[0m\n",
            "\u001b[2K     \u001b[90m━━━━━━━━━━━━━━━━━━━━━━━━━━━━━━━━━━━━━━━━\u001b[0m \u001b[32m50.8/50.8 kB\u001b[0m \u001b[31m6.1 MB/s\u001b[0m eta \u001b[36m0:00:00\u001b[0m\n",
            "\u001b[2K     \u001b[90m━━━━━━━━━━━━━━━━━━━━━━━━━━━━━━━━━━━━━━━━\u001b[0m \u001b[32m341.4/341.4 kB\u001b[0m \u001b[31m3.6 MB/s\u001b[0m eta \u001b[36m0:00:00\u001b[0m\n",
            "\u001b[2K     \u001b[90m━━━━━━━━━━━━━━━━━━━━━━━━━━━━━━━━━━━━━━━━\u001b[0m \u001b[32m3.4/3.4 MB\u001b[0m \u001b[31m26.1 MB/s\u001b[0m eta \u001b[36m0:00:00\u001b[0m\n",
            "\u001b[2K     \u001b[90m━━━━━━━━━━━━━━━━━━━━━━━━━━━━━━━━━━━━━━━━\u001b[0m \u001b[32m1.3/1.3 MB\u001b[0m \u001b[31m25.7 MB/s\u001b[0m eta \u001b[36m0:00:00\u001b[0m\n",
            "\u001b[2K     \u001b[90m━━━━━━━━━━━━━━━━━━━━━━━━━━━━━━━━━━━━━━━━\u001b[0m \u001b[32m130.2/130.2 kB\u001b[0m \u001b[31m14.5 MB/s\u001b[0m eta \u001b[36m0:00:00\u001b[0m\n",
            "\u001b[2K     \u001b[90m━━━━━━━━━━━━━━━━━━━━━━━━━━━━━━━━━━━━━━━━\u001b[0m \u001b[32m86.8/86.8 kB\u001b[0m \u001b[31m9.9 MB/s\u001b[0m eta \u001b[36m0:00:00\u001b[0m\n",
            "\u001b[?25h  Building wheel for google-search-results (setup.py) ... \u001b[?25l\u001b[?25hdone\n",
            "  Building wheel for pypika (pyproject.toml) ... \u001b[?25l\u001b[?25hdone\n",
            "\u001b[31mERROR: pip's dependency resolver does not currently take into account all the packages that are installed. This behaviour is the source of the following dependency conflicts.\n",
            "lida 0.0.10 requires kaleido, which is not installed.\n",
            "lida 0.0.10 requires python-multipart, which is not installed.\n",
            "llmx 0.0.15a0 requires cohere, which is not installed.\u001b[0m\u001b[31m\n",
            "\u001b[0m"
          ]
        }
      ]
    },
    {
      "cell_type": "code",
      "source": [
        "!pip -q install sentence_transformers\n",
        "!pip -q install -U FlagEmbedding"
      ],
      "metadata": {
        "colab": {
          "base_uri": "https://localhost:8080/"
        },
        "id": "cWYHGfUSyoTY",
        "outputId": "f571f1c6-4aa6-40aa-9faf-34dec64358f8"
      },
      "execution_count": 3,
      "outputs": [
        {
          "output_type": "stream",
          "name": "stdout",
          "text": [
            "\u001b[2K     \u001b[90m━━━━━━━━━━━━━━━━━━━━━━━━━━━━━━━━━━━━━━━━\u001b[0m \u001b[32m132.8/132.8 kB\u001b[0m \u001b[31m359.6 kB/s\u001b[0m eta \u001b[36m0:00:00\u001b[0m\n",
            "\u001b[?25h  Preparing metadata (setup.py) ... \u001b[?25l\u001b[?25hdone\n",
            "\u001b[2K     \u001b[90m━━━━━━━━━━━━━━━━━━━━━━━━━━━━━━━━━━━━━━━━\u001b[0m \u001b[32m536.6/536.6 kB\u001b[0m \u001b[31m4.7 MB/s\u001b[0m eta \u001b[36m0:00:00\u001b[0m\n",
            "\u001b[2K     \u001b[90m━━━━━━━━━━━━━━━━━━━━━━━━━━━━━━━━━━━━━━━━\u001b[0m \u001b[32m280.0/280.0 kB\u001b[0m \u001b[31m21.5 MB/s\u001b[0m eta \u001b[36m0:00:00\u001b[0m\n",
            "\u001b[2K     \u001b[90m━━━━━━━━━━━━━━━━━━━━━━━━━━━━━━━━━━━━━━━━\u001b[0m \u001b[32m38.3/38.3 MB\u001b[0m \u001b[31m29.1 MB/s\u001b[0m eta \u001b[36m0:00:00\u001b[0m\n",
            "\u001b[2K     \u001b[90m━━━━━━━━━━━━━━━━━━━━━━━━━━━━━━━━━━━━━━━━\u001b[0m \u001b[32m116.3/116.3 kB\u001b[0m \u001b[31m12.6 MB/s\u001b[0m eta \u001b[36m0:00:00\u001b[0m\n",
            "\u001b[2K     \u001b[90m━━━━━━━━━━━━━━━━━━━━━━━━━━━━━━━━━━━━━━━━\u001b[0m \u001b[32m134.8/134.8 kB\u001b[0m \u001b[31m13.6 MB/s\u001b[0m eta \u001b[36m0:00:00\u001b[0m\n",
            "\u001b[?25h  Building wheel for FlagEmbedding (setup.py) ... \u001b[?25l\u001b[?25hdone\n",
            "\u001b[31mERROR: pip's dependency resolver does not currently take into account all the packages that are installed. This behaviour is the source of the following dependency conflicts.\n",
            "ibis-framework 7.1.0 requires pyarrow<15,>=2, but you have pyarrow 15.0.0 which is incompatible.\u001b[0m\u001b[31m\n",
            "\u001b[0m"
          ]
        }
      ]
    },
    {
      "cell_type": "code",
      "source": [
        "!mkdir -p Data\n",
        "!unzip -q /content/langchain_blog_posts.zip -d Data"
      ],
      "metadata": {
        "id": "CJpOXnDZzMsB"
      },
      "execution_count": 6,
      "outputs": []
    },
    {
      "cell_type": "code",
      "source": [
        "import os\n",
        "\n",
        "os.environ[\"OPENAI_API_KEY\"] = \"\""
      ],
      "metadata": {
        "id": "yQnrgSxL5WaM"
      },
      "execution_count": 36,
      "outputs": []
    },
    {
      "cell_type": "markdown",
      "source": [
        "# **Hypothetical Document Embeddings (HyDE)**\n",
        "\n",
        "HyDE is a technique that uses a large language model to generate hypothetical answers, which can then be used for better retrieval in a RAG system"
      ],
      "metadata": {
        "id": "dJmEHX0czjW2"
      }
    },
    {
      "cell_type": "code",
      "source": [
        "from langchain.llms import OpenAI\n",
        "from langchain.embeddings import OpenAIEmbeddings\n",
        "from langchain.chains import LLMChain, HypotheticalDocumentEmbedder\n",
        "from langchain.prompts import PromptTemplate\n",
        "\n",
        "from langchain.document_loaders import TextLoader\n",
        "import langchain"
      ],
      "metadata": {
        "id": "Ct05YDDD5PJA"
      },
      "execution_count": 37,
      "outputs": []
    },
    {
      "cell_type": "code",
      "source": [
        "llm = OpenAI()\n",
        "\n",
        "embeddings = HypotheticalDocumentEmbedder.from_llm(llm,\n",
        "                                                   OpenAIEmbeddings(),\n",
        "                                                   prompt_key=\"web_search\"\n",
        "                                                   )"
      ],
      "metadata": {
        "id": "-sy0JoXQ2NQD"
      },
      "execution_count": 38,
      "outputs": []
    },
    {
      "cell_type": "code",
      "source": [
        "embeddings.llm_chain.prompt"
      ],
      "metadata": {
        "colab": {
          "base_uri": "https://localhost:8080/"
        },
        "id": "CHsdyi365rHu",
        "outputId": "ce153c3f-cbaf-4f43-8ee2-9f427aa3531c"
      },
      "execution_count": 39,
      "outputs": [
        {
          "output_type": "execute_result",
          "data": {
            "text/plain": [
              "PromptTemplate(input_variables=['QUESTION'], template='Please write a passage to answer the question \\nQuestion: {QUESTION}\\nPassage:')"
            ]
          },
          "metadata": {},
          "execution_count": 39
        }
      ]
    },
    {
      "cell_type": "code",
      "source": [
        "langchain.debug = True"
      ],
      "metadata": {
        "id": "JechPrnp5uJU"
      },
      "execution_count": 40,
      "outputs": []
    },
    {
      "cell_type": "code",
      "source": [
        "result = embeddings.embed_query(\"What items does McDonalds make?\")"
      ],
      "metadata": {
        "colab": {
          "base_uri": "https://localhost:8080/"
        },
        "id": "V1xRGAZd5vjn",
        "outputId": "d4fd8d4d-b7f2-467c-b73c-93da5e1fb527"
      },
      "execution_count": 41,
      "outputs": [
        {
          "output_type": "stream",
          "name": "stdout",
          "text": [
            "\u001b[32;1m\u001b[1;3m[llm/start]\u001b[0m \u001b[1m[1:llm:OpenAI] Entering LLM run with input:\n",
            "\u001b[0m{\n",
            "  \"prompts\": [\n",
            "    \"Please write a passage to answer the question \\nQuestion: What items does McDonalds make?\\nPassage:\"\n",
            "  ]\n",
            "}\n",
            "\u001b[36;1m\u001b[1;3m[llm/end]\u001b[0m \u001b[1m[1:llm:OpenAI] [2.16s] Exiting LLM run with output:\n",
            "\u001b[0m{\n",
            "  \"generations\": [\n",
            "    [\n",
            "      {\n",
            "        \"text\": \" McDonalds is a popular fast food chain that offers a wide range of food items on their menu. Some of the most popular items that McDonalds makes include their iconic Big Mac burger, crispy and golden French fries, chicken McNuggets, and Filet-O-Fish sandwich. These items have become staples in the diet of many people around the world and are synonymous with the McDonalds brand. In addition to these classic items, McDonalds also offers a variety of other burgers, sandwiches, salads, and breakfast items. They also have a selection of desserts, such as their famous apple pie and McFlurry. McDonalds is constantly innovating and adding new items to their menu, such as their plant-based burger, the McPlant. With such a diverse range of options, McDonalds continues to be a go-to choice for a quick and satisfying meal.\",\n",
            "        \"generation_info\": {\n",
            "          \"finish_reason\": \"stop\",\n",
            "          \"logprobs\": null\n",
            "        },\n",
            "        \"type\": \"Generation\"\n",
            "      }\n",
            "    ]\n",
            "  ],\n",
            "  \"llm_output\": {\n",
            "    \"token_usage\": {\n",
            "      \"prompt_tokens\": 21,\n",
            "      \"total_tokens\": 193,\n",
            "      \"completion_tokens\": 172\n",
            "    },\n",
            "    \"model_name\": \"gpt-3.5-turbo-instruct\"\n",
            "  },\n",
            "  \"run\": null\n",
            "}\n"
          ]
        }
      ]
    },
    {
      "cell_type": "markdown",
      "source": [
        "# **Multiple Documents / Generation**"
      ],
      "metadata": {
        "id": "hUnWX1Z051cB"
      }
    },
    {
      "cell_type": "code",
      "source": [
        "llms = OpenAI(n=4, best_of=4)\n",
        "\n",
        "embeddings = HypotheticalDocumentEmbedder.from_llm(\n",
        "    llms,\n",
        "    embeddings,\n",
        "    \"web_search\"\n",
        ")"
      ],
      "metadata": {
        "id": "RbFyLTic578m"
      },
      "execution_count": 44,
      "outputs": []
    },
    {
      "cell_type": "code",
      "source": [
        "result = embeddings.embed_query(\"What is McDonalds best selling item?\")"
      ],
      "metadata": {
        "colab": {
          "base_uri": "https://localhost:8080/"
        },
        "id": "wVx0OEfU6Asl",
        "outputId": "f8718d98-426e-446d-aa52-38f26fc6589a"
      },
      "execution_count": 45,
      "outputs": [
        {
          "output_type": "stream",
          "name": "stdout",
          "text": [
            "\u001b[32;1m\u001b[1;3m[llm/start]\u001b[0m \u001b[1m[1:llm:OpenAI] Entering LLM run with input:\n",
            "\u001b[0m{\n",
            "  \"prompts\": [\n",
            "    \"Please write a passage to answer the question \\nQuestion: What is McDonalds best selling item?\\nPassage:\"\n",
            "  ]\n",
            "}\n",
            "\u001b[36;1m\u001b[1;3m[llm/end]\u001b[0m \u001b[1m[1:llm:OpenAI] [2.60s] Exiting LLM run with output:\n",
            "\u001b[0m{\n",
            "  \"generations\": [\n",
            "    [\n",
            "      {\n",
            "        \"text\": \" McDonald's is a global fast food chain that is known for its wide range of menu offerings. From burgers and fries to salads and breakfast items, there is something for everyone at McDonald's. However, when it comes to their best-selling item, one item stands out among the rest - the Big Mac. This iconic burger, with its two all-beef patties, special sauce, lettuce, cheese, pickles, and onions on a sesame seed bun, has been a fan favorite since its introduction in 1967. It has become a symbol of McDonald's and is recognized worldwide. The Big Mac has a perfect combination of flavors and textures that keep customers coming back for more. It has even inspired spin-off items such as the Mac Jr. and the Grand Big Mac. Despite the introduction of new items on the menu, the Big Mac remains McDonald's best-selling item and continues to be a staple in the fast food industry. So, if you're looking to try the best-selling item at McDonald's, look no further than the iconic Big Mac.\",\n",
            "        \"generation_info\": {\n",
            "          \"finish_reason\": \"stop\",\n",
            "          \"logprobs\": null\n",
            "        },\n",
            "        \"type\": \"Generation\"\n",
            "      },\n",
            "      {\n",
            "        \"text\": \" McDonald's is one of the most popular fast food chains in the world, known for its delicious and convenient menu items. With a wide variety of options to choose from, it can be difficult to determine what their best selling item is. However, there is one item that stands out above the rest - the Big Mac. This iconic burger, with its two all-beef patties, special sauce, lettuce, cheese, pickles, and onions, has been a fan favorite since its creation in 1968. It has become a staple in the McDonald's menu and is recognized globally as the symbol of the brand. The Big Mac's popularity can be attributed to its unique and delicious flavor, as well as its consistent quality across all McDonald's locations. Despite the introduction of new items and limited-time offers, the Big Mac remains the best selling item at McDonald's, solidifying its place as a beloved classic among customers. So the next time you visit McDonald's, don't forget to order their famous Big Mac and see for yourself why it is the best selling item at this fast food giant. \",\n",
            "        \"generation_info\": {\n",
            "          \"finish_reason\": \"stop\",\n",
            "          \"logprobs\": null\n",
            "        },\n",
            "        \"type\": \"Generation\"\n",
            "      },\n",
            "      {\n",
            "        \"text\": \"\\n\\nMcDonald's, the world-renowned fast food chain, offers a wide variety of menu items to cater to its diverse customer base. From burgers to chicken sandwiches and fries to milkshakes, there is something for everyone at this popular restaurant. However, when it comes to their best-selling item, one particular menu item stands out amongst the rest - the iconic Big Mac.\\n\\nThe Big Mac, a double-decker burger consisting of two beef patties, special sauce, lettuce, cheese, pickles, and onions, sandwiched between a sesame seed bun, has been a staple on the McDonald's menu since its inception in 1967. With its distinctive taste and unique combination of ingredients, the Big Mac has become a fan favorite and has retained its position as the best-selling item at McDonald's for decades.\\n\\nWhat makes the Big Mac so popular? Some say it's the secret sauce that adds a tangy kick to the burger, while others credit the perfect ratio of meat to toppings. Whatever the reason may be, the Big Mac has managed to stand the test of time and continues to be a top choice for customers around the world.\\n\\nIn addition to its delectable taste, the Big Mac has also become a cultural icon, appearing in popular movies, TV shows\",\n",
            "        \"generation_info\": {\n",
            "          \"finish_reason\": \"length\",\n",
            "          \"logprobs\": null\n",
            "        },\n",
            "        \"type\": \"Generation\"\n",
            "      },\n",
            "      {\n",
            "        \"text\": \" McDonald's is one of the most popular fast food chains in the world, with over 38,000 locations in over 100 countries. With such a wide variety of menu options, it can be difficult to determine their best selling item. However, according to the most recent sales data, it appears that McDonald's best selling item is their iconic Big Mac burger. This famous burger, consisting of two all-beef patties, special sauce, lettuce, cheese, pickles, and onions on a sesame seed bun, has been a fan favorite since it was first introduced in 1967. Its unique combination of flavors and affordable price make it a top choice for customers around the globe. In fact, McDonald's sells an estimated 17 Big Macs every second, making it their most popular menu item and solidifying its place as the best selling item at McDonald's.\",\n",
            "        \"generation_info\": {\n",
            "          \"finish_reason\": \"stop\",\n",
            "          \"logprobs\": null\n",
            "        },\n",
            "        \"type\": \"Generation\"\n",
            "      }\n",
            "    ]\n",
            "  ],\n",
            "  \"llm_output\": {\n",
            "    \"token_usage\": {\n",
            "      \"prompt_tokens\": 22,\n",
            "      \"total_tokens\": 886,\n",
            "      \"completion_tokens\": 864\n",
            "    },\n",
            "    \"model_name\": \"gpt-3.5-turbo-instruct\"\n",
            "  },\n",
            "  \"run\": null\n",
            "}\n"
          ]
        }
      ]
    },
    {
      "cell_type": "markdown",
      "source": [
        "# **Own Prompt**"
      ],
      "metadata": {
        "id": "OL8yzcnl6VsA"
      }
    },
    {
      "cell_type": "code",
      "source": [
        "prompt_template = \"\"\"Please answer the user's question as a single food item\n",
        "Question: {question}\n",
        "Answer:\"\"\"\n",
        "\n",
        "prompt = PromptTemplate(input_variables=[\"question\"], template=prompt_template)\n",
        "\n",
        "llm_chain = LLMChain(llm=llm, prompt=prompt)"
      ],
      "metadata": {
        "id": "Nee38YyS6IHc"
      },
      "execution_count": 46,
      "outputs": []
    },
    {
      "cell_type": "code",
      "source": [
        "embeddings = HypotheticalDocumentEmbedder(\n",
        "    llm_chain=llm_chain,\n",
        "    base_embeddings=embeddings\n",
        ")"
      ],
      "metadata": {
        "id": "8EkxqV3d6cU9"
      },
      "execution_count": 47,
      "outputs": []
    },
    {
      "cell_type": "code",
      "source": [
        "result = embeddings.embed_query(\n",
        "    \"What is is McDonalds best selling item?\"\n",
        ")"
      ],
      "metadata": {
        "colab": {
          "base_uri": "https://localhost:8080/"
        },
        "id": "UNzoVy7m6fSZ",
        "outputId": "ffc47f7f-a3b8-4b4a-98c9-348ad5c46ecd"
      },
      "execution_count": 48,
      "outputs": [
        {
          "output_type": "stream",
          "name": "stdout",
          "text": [
            "\u001b[32;1m\u001b[1;3m[llm/start]\u001b[0m \u001b[1m[1:llm:OpenAI] Entering LLM run with input:\n",
            "\u001b[0m{\n",
            "  \"prompts\": [\n",
            "    \"Please answer the user's question as a single food item\\nQuestion: What is is McDonalds best selling item?\\nAnswer:\"\n",
            "  ]\n",
            "}\n",
            "\u001b[36;1m\u001b[1;3m[llm/end]\u001b[0m \u001b[1m[1:llm:OpenAI] [301ms] Exiting LLM run with output:\n",
            "\u001b[0m{\n",
            "  \"generations\": [\n",
            "    [\n",
            "      {\n",
            "        \"text\": \" McDonald's best selling item is the Big Mac.\",\n",
            "        \"generation_info\": {\n",
            "          \"finish_reason\": \"stop\",\n",
            "          \"logprobs\": null\n",
            "        },\n",
            "        \"type\": \"Generation\"\n",
            "      }\n",
            "    ]\n",
            "  ],\n",
            "  \"llm_output\": {\n",
            "    \"token_usage\": {\n",
            "      \"prompt_tokens\": 25,\n",
            "      \"total_tokens\": 35,\n",
            "      \"completion_tokens\": 10\n",
            "    },\n",
            "    \"model_name\": \"gpt-3.5-turbo-instruct\"\n",
            "  },\n",
            "  \"run\": null\n",
            "}\n"
          ]
        }
      ]
    },
    {
      "cell_type": "code",
      "source": [
        "print(result)"
      ],
      "metadata": {
        "colab": {
          "base_uri": "https://localhost:8080/"
        },
        "id": "FhB_COWS6hMQ",
        "outputId": "cf597d3e-c53d-486f-9d48-b14143105ce4"
      },
      "execution_count": 50,
      "outputs": [
        {
          "output_type": "stream",
          "name": "stdout",
          "text": [
            "[-0.022104659721515995, -0.002728893381151363, -0.01163043250789999, -0.011394218372832957, 0.0012377925266556105, -0.012276912857456976, -0.033194284394221805, -0.015577692307656897, -0.0025051117037792805, -0.010200715472633475, 0.007969114811344801, 0.042717441283443916, 0.022850596938664907, -0.017231190321803577, -0.01628633378153544, 0.025175440683419755, 0.027798659687563194, -0.013874465394052975, 0.018399828772274435, -0.003087876551660711, -0.0010404294435355092, 0.00516873543873173, -0.017877671602683123, -0.015739312162215503, 0.025585706897909708, 0.015266884823403996, 0.004152393838324444, -0.01251312699252401, 0.017803076390852133, -0.006962097146755109, -0.006688586337095142, 0.0005757716631875955, -0.023770589029204422, 0.008534785233622486, -0.023173838510427244, 0.010399632933107575, -0.0088269448462402, -0.012904744404056215, 0.03563101909407801, 0.005731298037623974, 0.016584710903569153, 0.003850910057058495, 0.013712845539494369, 0.0006674600200538112, -0.02665488754946608, 0.006856422769747184, 0.027002991708311913, -0.004606173305500764, -0.04189690512917377, -0.002582813807673146, 0.002938688921966416, -0.004714955971555408, -0.006085618774563245, -0.029066755936948543, 0.010635847068174609, -0.004404148021641226, -0.002784838858702044, 0.00916883335831516, 0.00706155587699216, -0.010424497382836198, 0.015440936902826915, 0.010300174202870525, -0.032448347177072887, -0.002430517888932133, 0.010188283247769164, 0.01148746052497657, -0.020998183326689252, -0.01137556956987521, 0.01695767951214361, 0.008541001811715921, 0.027351095867157747, 0.03863963800033766, 0.005252653655057751, 0.030832144906196582, 0.00363023643590249, -0.0003710269465543094, -0.03513372637421532, 0.02561057134763833, 0.006489669342282321, -0.012121508649669245, 0.019170632301797094, -0.015552827857928275, -0.002539300554986776, 0.013625819034121628, 0.008354516576106131, -0.0004743705724384768, -0.04478120364943543, 0.033989954236118204, 0.004562660052814395, 0.00892640357647725, -0.010648279293038921, -0.006750747927077978, 0.003959692955943779, 0.013190687438580494, -0.03948503674169131, 0.012730692324633298, 0.02256465483546319, 0.019506305167101178, 0.005451570649870571, -0.015938229622689603, -0.005672244271026575, -0.02747541997844598, -0.01874793293112027, -0.006676154112230831, 0.009970717915659877, 0.02021494664097972, -0.008366948800970444, -0.030484040747350748, 0.008410462053656812, -0.00343131944108967, 0.005122114362659922, 0.04018124878467322, 0.00620683413114348, -0.040156382472299475, 0.003341185112331493, 0.004052935108087393, -0.004003205742968868, -0.013638251258985941, -0.004774009738152807, -0.01746740538819317, 0.029464590857896746, 0.009591531797669422, 0.03960936085297954, 0.009442344167975127, 0.012817717898683476, 0.015664718813029638, -0.04590011320044904, -0.027525148877903225, 0.009386398690424446, 3.100794446688572e-05, 0.044855798861266415, 0.0035711829021357316, 0.006185077504800295, 0.011692593632221547, 0.007894521462158936, 0.02327329630934173, -0.03483534925218161, 0.026406241189534732, -0.007266688984237136, -0.02660515678736371, -0.0020140353291793855, 0.013513928079020267, -0.004152393838324444, 0.01056125278766618, 0.0024336259451482106, 0.03137916652551652, -0.005075493286588115, 0.014073381923204514, -0.015465801352555536, 0.007509119231736325, 0.014570674643067204, -0.001900590345969985, 0.027550013327631847, 0.0030816604392285554, 0.01172989030681448, -0.015229588148811063, -0.017231190321803577, 0.004770901449106088, -0.01571444771248688, -0.03592939621611172, -0.009989366718617623, -0.0023170730221380525, 0.011269895192867283, -0.005240221430193439, 0.028992162587762677, 0.028644056566271718, 0.029365131196337133, 0.010088824517532112, 0.027351095867157747, -0.013638251258985941, 0.0023901129252924813, 0.01805172275078348, -0.03781910557135775, 0.020662510461385168, 0.00657669538199378, 0.02924080894769402, 0.002083966943287096, -0.015043102913201274, -0.007005610399441479, 0.007204527394254299, -0.03364184821462725, -0.0018679555228705278, 0.021520340496280564, 0.0071050691296785295, 0.003947260731079468, -0.01040584857987845, 0.007583713046583473, -0.00764587463656631, 0.005454678938917289, -0.030459176297622126, 0.03356725300279626, 0.02237817053117596, 0.01982954487621839, -0.0025066658483026394, -0.6325562502583768, -0.004525363378221461, -0.029290537847151264, -0.001205934659402513, 0.005221573092896972, 0.01501823846347265, 0.02660515678736371, 0.012395019459329214, 0.0193322521563557, -0.001968968164800297, -0.0031282817481310026, -0.0074593898666178, 0.009417479718246505, -0.03205051225612469, -0.0016224173355705804, 0.0014118449553244883, -0.005582109942268399, -0.014396622563644287, -0.019866842482133884, 0.014881483058642666, -0.03856504651379691, 0.02169439164438092, 0.02062521285546967, -0.006359130049884493, -0.00726047287180498, 0.0069496649218907984, 0.00834208435124182, -0.01923279435744121, 0.009013429150527429, 0.017032272861329474, -0.008360733154199567, 0.005501300014989096, 0.005031980033901745, -0.015229588148811063, 0.043165001378559116, -0.007415876613931431, -0.016510115691738162, 0.010418280804742762, 0.014085815079391386, -0.013464199179563022, -0.01874793293112027, -0.01882252814295126, 0.007322634461787816, -0.008839377071104512, 0.0151176971937097, 0.003785640410859581, 0.015764176611944125, 0.007478038203914267, -0.004453877386759751, -0.016522548847925034, 0.0024833553102667355, 0.006738315702213667, -0.004251852102900213, -0.01959333167247392, 0.010418280804742762, 0.0036582091746778303, 0.027624606676817716, -0.011381786147968646, -0.01619930913880782, -0.003140713972995314, -0.019195496751525716, 0.034313193945235416, -0.010300174202870525, 0.003443751665953981, 0.0037048302507496377, 0.013675547933578874, -0.009398830915288758, 0.021644662744923677, -0.0011344489007714433, -0.007316418349355661, 0.006312508508151406, 0.018859823886221632, 0.03366671452700099, -0.007372363826906342, 0.0008733702577681266, 0.043587702611881066, 0.009286940891509957, -0.0007657530254830221, -0.02382031792866167, 0.039161797032574094, 0.007154798029135774, -0.011816916812187219, -0.0054702194528283175, 0.01500580623860834, 0.00784479163137913, -0.00283301407929721, 0.0048423874405677985, -0.014769592103541306, 0.013364740449325972, -0.003822937318283155, 0.015664718813029638, 0.0054702194528283175, -0.007111285242110685, -0.0018089021055190894, -0.027798659687563194, -0.0009409709461290991, -0.04204609555283575, -0.007838575984608255, 0.02266411263437768, -0.02219168436424361, -0.013464199179563022, 0.03595425880319522, 0.0007676955315142407, 0.019394414211999816, 0.026132728517229642, 0.018387395616087564, 0.0007222398892119727, 0.008329652126377509, 0.012867447729463282, -0.0429163568812729, 0.03326887960605279, -0.012606369144667626, -0.015440936902826915, -0.0258840821572983, -0.018984147997509866, -0.028768380677559952, -0.0042580682153323685, -0.018921985941865747, 0.019145767852068472, -0.023360322814714472, 0.014409054788508598, 0.008708837313045403, 0.0327715868861901, 0.017355514433091808, 0.009479641773890622, -0.01383716871946004, 0.015217154992624191, -0.01943170995527019, -0.029141349286134408, -0.023422484870358588, 0.0004681544309024912, -0.008186680143454089, 0.03142889542497376, -0.0028112576857846653, -0.018859823886221632, 0.03794342968264599, 0.026555427887906467, -0.020177649035064225, 0.0017918075635000212, -0.006017241072148253, -0.01471986320408406, 0.005181168129257321, 0.0182755046609862, 0.02032683759608108, -0.04226987746303847, -0.03254780497598738, 0.0017716050816801955, -0.0011010370054103066, -0.023882479984305784, -0.002696258674467226, 0.01874793293112027, -0.02373329142328893, 0.006825341741925126, 0.013924194293510219, 0.02298735234349489, 0.002310856909705897, -0.0007921716779426635, 0.009659909500084414, 0.006383994499613116, -0.01029395855609965, 0.015453369127691225, 0.015925798329147853, -0.018399828772274435, -0.013799871113544547, -0.028320816857154506, 0.011039896704571126, -0.007391012164202808, -0.00600791713633066, -0.03707316835420884, -0.031031062366670685, -0.004102664473205918, -0.024056532995051262, 0.0042580682153323685, -0.01172989030681448, 0.002087075232333814, 0.017616592086564905, -0.018847392592679882, -0.018437124515544807, 0.013165822988851873, -0.006682370224662986, 0.02430517935498261, -0.00024670379569246675, 0.005855621217589647, 0.013451766954698711, 0.04816279488955977, -0.016646871096568146, -0.007515335344168481, 0.017604160793023155, -0.015279317048268308, 0.030832144906196582, -0.0018695095509785667, 0.013526360303884578, 0.004422796824598974, -0.014458783687965843, -0.005743730262488285, -0.004494282350399403, 0.004643470445754978, 0.016050120577790965, 0.013949058743238842, 0.0031655786555545764, -0.0021523448785327284, 0.0123017773071856, 0.0023357213594345193, -0.027624606676817716, 0.008304787676648887, 0.006713450786823764, 0.019754951527032525, -0.011512324974705194, -0.014384190338779976, 0.019506305167101178, 0.004124421099549103, -0.008304787676648887, 0.0017716050816801955, 0.0005361436553943034, -0.00039725136005236097, 0.022800868039207663, -0.00028788583159379777, 0.02246519517390358, 0.005945755546347823, 0.007969114811344801, 0.0011997185469703573, 0.007962899164573926, 0.00814316689076772, -0.03060836299599386, 0.006514533792010944, 0.02068737491111379, 0.009405047493382194, 0.003909963590825254, 0.01372527776435868, -0.016050120577790965, -0.02215438862097324, 0.023099243298596254, 0.011605567126848808, -0.0023326133032184415, 0.028892702926203065, -0.020227379797166593, 0.027848388587020437, -0.019754951527032525, 0.0062254824684399475, 0.009286940891509957, -0.01803929145724173, 0.012792853448954854, 0.01046179405742913, -0.007801278844354041, 0.021992768766414632, 0.0024709228525717844, 0.01647281994846779, 0.009703422752770785, -0.013426901573647529, 0.016037687421604094, 0.002660515678736371, 0.0034499677783861368, -0.01668416870248364, 0.022228981970159108, 7.216571141195431e-05, -0.015142561643438324, 0.038589909100880414, -0.0030350393631567484, 0.01590093201677411, 0.04003205836101124, -0.008136951243996845, 0.007055339764560005, 0.009641261628449228, -0.005010223407558561, -0.004705632035737815, 0.01882252814295126, 0.0340894120350327, -0.00990855586001576, 0.0005272079064615896, -0.005013331696605279, 0.006247239094783132, 0.005361436321112393, 0.005215356980464817, -0.022030064509685005, -0.008006411485937736, -0.014496081293881339, 0.017106868073160465, 0.0008819174705700006, -0.039559631953522294, 0.01529174927313262, -0.0016845789255534168, -0.017914967345953495, -0.011437731625519327, 0.02482733652457392, -0.011027464479706813, 0.0021601149026576026, -0.01877279738084889, 0.014595540024118388, -0.02265168134083593, 0.010101256742396425, -0.03384076381245623, 0.0008096546396772513, 0.0080872223445396, -0.0030630121019320886, -0.0022347089503353904, 0.0116739448292638, 0.028693787328374087, 0.00666372188736652, 0.01127611083963816, 0.017206325872074955, 0.021545204946009186, -0.014322028283135859, -0.01571444771248688, -0.01237015500960059, 0.037421274375699795, -0.01784037399676763, -0.009579099572805111, -0.01163043250789999, 0.008248842199098206, -0.0008990118961737485, -0.012674746847082616, 0.008286138873691139, -0.01402365302374727, -0.035854801004280734, 0.017914967345953495, -0.004665226606436883, 0.017082003623431843, 0.014583106867931517, 0.019220361201254338, 0.0006072409361021935, -0.008957483672976748, 0.015813907374046494, -0.009056942403213798, 0.03369157711408449, 0.12114049314750659, 0.002686934505818993, 0.00468387540939463, -0.00011383339564896253, -0.0043326624958407965, 0.024790038918658427, -0.01201583427266132, -0.03806775379393422, -0.0014390406218381493, 0.0007696380957531194, -0.011095842182121805, -0.034188869833947186, 0.004596848904021891, -0.010729089220318224, 0.016994977118059102, 0.012177454127219926, -0.014259867158814304, -0.025908948469672042, 0.011754755687865664, -0.0008073235393075329, -0.006082510951177808, 0.005877377843932832, 0.028121899396680406, 0.018723068481391648, 0.014545810193338582, -0.008572081908215418, 0.028295952407425884, 0.05624379879336081, 0.0021974120429118166, -0.021296558586077843, -0.004270500905857961, -0.015764176611944125, -0.002512881960734795, 0.005662920335208982, -0.0037700998969485517, 0.030931602705111073, -0.02089872366512964, 0.019879273775675638, 0.00209329134476597, 0.016920381906228115, 0.023559240275188572, -0.005874269554886114, 0.01029395855609965, -0.00814316689076772, 0.022415466274446336, -0.014744727653812684, -0.013563656978477513, 0.027127313956955026, -0.008311003323419762, 0.005333463582337054, 0.014147976203712942, -0.015428504677962602, -0.016534980141466784, -0.003306996261123997, 0.0037390191019571334, 0.009050726756442922, -0.026058135168043776, -0.004690091521826785, -0.025635435797366952, -0.011605567126848808, 0.009759368230321464, -0.013663115708714563, 0.003561858733487498, -0.023981937783220275, 0.00029759856547670094, -0.004379283571912604, -0.012307992953956475, -0.03565588540645176, -0.03100619791694206, -0.009193697808043782, 2.6151572068466004e-05, -0.01641065789282367, 0.003033485218633389, -0.02009062439233661, 0.043886076008624535, -0.0017436323429048553, 0.022838165645123157, 0.025063549728318396, 0.012724475746539862, 0.035705614305909, 0.005031980033901745, -0.015813907374046494, -0.0182755046609862, -0.027922983798851428, -0.027425691078988738, 0.023410051714171716, 0.035158592686589066, -0.015876067567045488, -0.01648525124200954, -0.007366147714474186, 0.01775334749139489, 0.0032355102696622873, 0.022017633216143254, 0.0024072073508962294, -0.02324843185961311, -0.011847997840009278, -0.012345290559871968, 0.01697011266833048, -0.0059892683333729125, 0.005075493286588115, -0.00012607146158721645, 0.01237015500960059, -0.029862423916199823, -0.00025719354362938935, 0.03080728045646796, -0.0037918565232917365, 0.013315010618546166, -0.00566602815859442, -0.022601950578733564, 0.0013131634137644376, 0.0031360517722558772, -0.025908948469672042, -0.01677119520785638, 0.000539640247741221, 0.019991164730776997, 0.03794342968264599, -0.002424301776499977, -0.006843990079221592, -0.0258840821572983, -0.013352308224461661, 0.003717262708444589, -0.0349099444640126, 0.029613777556268477, 0.0052650858799220615, 0.011400434019603832, 0.0017529566279684088, -0.0012510018237816012, -0.029489455307625367, -0.018859823886221632, 0.003176456968726169, -0.01059233381548824, 0.02502625398504802, -0.027500284428174603, -0.013924194293510219, -0.010853412400283896, -0.01094665455242751, 0.018959283547781244, 0.021856013361584648, -0.024280314905253987, -0.034984539675843584, -0.024926794323488412, 0.007185879056957833, 0.00887045809892657, -0.0004032732626267567, 0.0007902291137037849, -0.030857009355925204, -0.0008112086677852902, 0.011953672217017203, 0.0024149773750211036, 0.005526164930378999, -0.003645776716982879, -0.017019841567787724, -0.01638579344309505, 0.024765174468929806, 0.05087304039907595, 0.009715854977635096, -0.011325840670417964, 0.009902340213244884, 0.006433723864731641, 0.03473589145326712, 0.005311707421655149, -0.002475585053311221, 0.023671131230289934, -0.001342690180647817, 0.003122065402868207, -0.0060980514650888365, 0.003150038141643547, -0.01961819612220254, -0.012680962493853492, -0.0009005659242817874, 0.04580065540153455, 0.010101256742396425, -0.010623414843310298, 0.005933322855822232, -0.021047912226146496, -0.008286138873691139, 0.007906953687023247, -0.009585316150898547, -0.020364135201996578, 0.003804288748156048, 0.012792853448954854, -0.009342885437738077, -0.009560451701169925, 0.005146979278049825, -0.019493872010914307, -0.03428832763286167, -0.00461238941793292, 0.03264726277490187, 0.010698008192496165, 0.03050890519707937, 0.02434247509825298, -0.011437731625519327, 0.012904744404056215, -0.018884688335950254, -0.006051429923355749, -0.015465801352555536, -0.015826338667588244, -0.009007213503756554, -0.014433919238237222, 0.0074096605014992755, 0.006626424747112306, 0.0030630121019320886, 0.0027801768907932474, -0.004643470445754978, 0.0036892899696692487, -0.005178059840210603, -0.008945051448112437, -0.004848603552999954, 0.0037048302507496377, -0.0348850818769291, -0.012407451684193525, -0.026008406268586533, -0.04105151011311037, -0.04607416621119452, 0.021371151935263708, 0.0027755146900538103, -0.046447134819768976, 0.004323338094361923, -0.012767988999226232, -0.011649080379535177, 0.006993178174577168, 0.0030536877004532148, 0.037843971883731495, 0.002584367719365865, 0.014185272878305876, 0.017380378882820433, -0.00970963933086422, -0.03762018997352878, -0.0021430204770538546, 0.015316613722861241, 0.009983150140524187, 0.02247762833009045, -0.009821530285965581, 0.02030197314635246, -0.010262877528277592, -0.0035152374245850508, -0.0032199699885818982, -0.015950662778876478, -0.020152784585335603, 0.017902536052411745, -0.010424497382836198, -0.0064772371174180105, 0.001261103064691514, -0.008845593649197948, 0.003959692955943779, 0.021023047776417874, -0.010511523888208937, -0.01706957046724497, -0.012307992953956475, -0.03287104468510459, -0.021744122406483286, 0.014036085248611581, -0.02580948880811243, -0.009243427638823588, 7.483671541253993e-05, -0.053558419596218376, -0.02117223447478961, -0.006160213055071673, -0.0031080790334805366, -0.005572786006450806, -0.02490192987375979, -0.00990855586001576, 0.005833864591246463, 0.039310983730945825, -0.008186680143454089, -0.007496687006872014, -0.004606173305500764, 0.016249038038265065, 0.014993374013744029, 0.024926794323488412, -0.01694524821860186, -0.02000359788696387, 0.0046154977069796385, -0.0014988711114512672, 0.011064762085622308, -0.020488457450639687, -0.017293352377447693, -0.03262240018781837, -0.015416072453098291, -0.016000391678333722, 0.011046113282664562, 0.006968313259187265, -0.005995484445805069, -0.009286940891509957, 0.009572883926034236, -0.018026858301054858, -0.03182673034592196, -0.009112887880764479, 0.01010747332048986, -0.015527963408199653, 0.005174951551163885, -0.017691187298395895, -0.00014530270494334793, 0.007807494956786196, 0.0018555232980062167, -0.020960885720773755, 0.009485857420661497, 0.019009012447238488, -0.019282523256898457, 0.006163320878457111, -0.0061446725411606435, 0.013476631404427335, 0.02042629539499557, -0.0035369940509282355, 0.0013139404860261171, -0.011195300912358857, 0.0017747131378962734, -0.007652090748998465, 0.011400434019603832, -0.0266797519991947, -0.009722071555728531, 0.017305785533634564, -0.0013419131083861374, 0.04149907393351581, 0.008814512621375888, 0.03423859873340443, 0.011300975289366782, -0.03058349854626524, -0.013426901573647529, -0.00040210774154572756, -0.016423091049010546, -0.019145767852068472, 0.027823524137291816, -0.0026931506182511483, -0.017330649983363186, 0.0021430204770538546, -0.010598549462259115, -0.007328850574219972, -0.001597552653011318, -0.009361534240695824, -0.05475192063377274, 0.03682452013163237, 0.0046248216427972316, -0.0032013214184547912, -0.03100619791694206, 0.018785230537035767, -0.001782483394851788, 0.009983150140524187, -0.01647281994846779, -0.008814512621375888, 0.015938229622689603, 0.023695995680018556, 0.0007342836943607643, 0.014135543978848631, -0.042170415938833736, -0.00755884859685485, -0.012525559217388321, -0.005078601109973552, -0.0059426472573011055, -0.02854459876735723, -0.014794456553269927, 0.01877279738084889, 0.009193697808043782, -0.010511523888208937, -0.030135934725859792, 0.013178255213716183, -0.04234446894957922, -0.007322634461787816, 0.009572883926034236, 0.025200305133148377, -0.006085618774563245, -0.009081806852942421, 0.007453173754185645, 0.029066755936948543, -0.0016845789255534168, 0.012991770909428954, -0.0027102450438548963, 0.012127725227762681, 0.00600791713633066, -0.008155600046954592, -0.007167230254000085, -0.00310341706557174, -0.0005944201168993824, -0.031180249065042416, 0.028867838476474443, -0.007726684563845613, 0.022900327700767276, 0.018884688335950254, 0.009436128521204252, -0.003257266896005472, -0.009740720358686278, -0.021570069395737808, 0.010014231168346247, -0.015043102913201274, 0.04137474982222758, -0.004382391395298042, -0.01971765392111703, 0.01462040447384701, -0.004195906625349533, -0.01373770998922299, 0.00022572424161096144, 0.004236312054650465, 0.01806415590697035, -0.0004856373635332489, 0.000623558347651922, -0.0041306372119812584, 0.021221965236891974, 0.006241022982350976, -0.008976132475934494, 0.0039969896305367125, 0.001849307069158741, 0.0246035546143712, 0.0019611979078447824, -0.026505698988449223, -0.0037110465960124334, 0.008572081908215418, 0.012382587234464903, -0.006446156089595952, -0.0015757961430834533, -0.03125484241422828, -0.015378775778505358, -0.0041772582880530654, 0.02687866759702368, -0.0019052525467094217, -0.023385187264443094, -0.012189886352084237, -0.007366147714474186, -0.02276357229593729, 0.009529370673347866, 0.00877099936868952, 0.00345929217986501, 0.01627390248799369, 0.009460992970932874, 0.031180249065042416, 0.023397620420629966, 0.004012530144447741, 0.0037048302507496377, -0.010791250344639779, -0.007353715023948594, 0.024454366053354343, -0.00563805541981908, -0.0323488893781584, 0.009330453212873766, -0.007453173754185645, 0.0034996971435046617, 0.022838165645123157, 0.2418831550993552, -1.3792101322250313e-05, -1.2098441223201503e-05, 0.059824305631314134, 0.008621811738995224, 0.0007820704370327506, 0.010517739534979812, -0.0018073479609957304, 0.0237457245794758, 0.012426100487151271, 0.009255859863687899, 0.027649471126546338, -0.030857009355925204, 0.007403444389067119, 0.013762574438951613, -0.01571444771248688, -0.036277498512312434, -0.02854459876735723, 0.007993979261073425, -0.01305393203375051, -0.011288543064502471, -0.011182868687494544, -0.0027413258388463146, -0.009150184555357412, -0.014098247304255698, -0.008379381025834754, -0.014545810193338582, -0.0195311696168298, 0.024765174468929806, 0.018673339581934404, 0.002592137976321379, 0.011661512604399488, -0.005917782807572484, 0.025859217707569677, -0.0365510093219724, 0.006054538212402467, -0.028097034946951784, -0.008752350565731771, 0.01992900267513288, 0.015179858318031257, -0.0006868854878196175, -0.009896123635151449, 0.019568465360100176, 0.008348300929335256, 0.013227985044495988, -0.021532771789822314, -0.020264675540436965, 0.0026745020481240413, 0.02067494175492692, 0.010573685012530493, -0.031155384615313794, -0.043985537532829265, -0.0021445746215772135, 0.04189690512917377, -0.0014926549990191115, -0.006875071107043651, 0.0123017773071856, -0.029912152815657067, 0.004994683359308812, -0.009305588763145143, -0.015353911328776735, 0.03294563989693558, -0.0071610141415679295, 0.01903387689696711, -0.025486249098995217, 0.01754199873737904, -0.04629794812139724, 0.01138800179473952, -0.012575288116845567, -0.024690581119743937, 0.010225579922362097, -0.01982954487621839, -0.004469417900670781, 0.0001867761283908938, -0.0022891002833627123, 0.011164219884536798, 0.04239419784903646, 0.009510721870390119, 0.015167426093166946, 0.043612565198964566, -0.02854459876735723, -0.0022813300264071974, -0.028420276518714118, -0.018076589063157223, -0.021072776675875118, -0.007136149691839308, 0.014632836698711321, -0.014993374013744029, -0.012432316133922146, -0.00952315409525443, 0.004143069436845569, -0.03677479123217513, 0.008006411485937736, -0.013377172674190283, 0.011419082822561578, 0.02462841906409982, -0.011680161407357236, 0.0010427605439052275, -0.026530563438177845, -0.013775006663815923, -0.02384518237839029, 0.0035991556409110718, 0.018089020356698973, -0.007763981704099827, -0.0035587506772714202, -0.03147862432443101, -0.011002600029978191, 0.0030599038128853707, 0.014073381923204514, -0.03033485218633389, -0.006371562274748804, -0.014235002709085681, -0.015192290542895568, -0.01510526496884539, -0.0022797761147144787, 0.020152784585335603, -0.0002191195784960511, -0.014533377968474271, 0.011238814165045225, -0.02139601638499233, 0.022117091015057745, -0.00529616690774412, 0.010368551905285517, -0.002986864142561582, -0.019083605796424354, 0.0002797271258189335, 0.006371562274748804, -0.019580898516287047, 0.019692789471388406, -0.03336833740496728, 0.011257462968002972, -0.014943644182964223, -0.021644662744923677, 0.0004646578385555736, -0.04276717018290116, 0.030160799175588414, -0.007757765591667671, -0.015540395633063964, -0.01269961129681124, 0.0034033467023143293, -0.016162011532892328, 0.0032852396347808122, -0.004329554206794079, -0.014732295428948373, 0.01940684550554157, 0.003397130589882174, -0.0034996971435046617, 0.023372755970901344, -0.02333545836498585, -0.0019503197110885102, -0.009672342656271286, -0.014583106867931517, -0.012202318576948548, -0.006228590757486665, -0.008559649683351107, 0.009740720358686278, -0.0412006968114821, -0.024964091929403905, -0.003813613149634921, -0.0028532165611170356, -0.028992162587762677, -0.02413112634423713, 0.028196494608511397, 0.019220361201254338, 0.0023326133032184415, -0.00038812137215805736, -0.15326559316488178, 0.027351095867157747, 0.014682565598168567, -0.002547070811942291, 0.017591727636836283, -0.03689911534346336, 0.00481130641274574, 0.021047912226146496, 0.004326446383408641, 0.008503704205800426, 0.033741306013541736, -0.02000359788696387, -0.023658698074103063, -0.01305393203375051, 0.008988564700798805, -0.024280314905253987, -0.010884493428105955, -0.017815509547039005, -0.01016341879804054, -0.010623414843310298, 0.034984539675843584, -0.016522548847925034, -0.003614695921991461, -0.00941126407147563, -0.010747738023275971, 0.017803076390852133, -0.00019474058065225322, 0.027525148877903225, 0.012569072470074692, -0.020028462336692494, -0.0072356084220763575, -0.02088629237158789, 0.02787325303674906, 0.004690091521826785, 0.008945051448112437, 0.0015587017174797052, -0.0011903942619068038, -0.007005610399441479, -0.008690189441410217, 0.007689387889252679, 0.02774893078810595, 0.03473589145326712, -0.003561858733487498, -0.00297598582938999, 0.016907950612686365, -0.016373360286908178, 0.01294204107864915, 0.027525148877903225, 0.007621010186837687, -0.0031469300854274694, 0.0266797519991947, -0.045676331290246314, -0.004289149243154427, 0.012600152566574188, 0.018984147997509866, 0.01107719431048662, 0.008211545524505273, 0.013750142214087302, 0.0038353695431474657, -0.008093437991310475, 0.00794425036161618, -0.015154993868302635, -0.005830756302199744, -0.012165021902355615, -0.022017633216143254, -0.053558419596218376, -0.015801474217859622, 0.006812909517060814, -0.0235468071190017, 0.007807494956786196, -0.003191997249806558, -0.001782483394851788, 0.012463397161744206, -0.01704470601751635, -0.011238814165045225, 0.025187873839606627, -0.02021494664097972, 0.0015750190708217736, -0.014135543978848631, -0.0053956251723198895, 0.0016239713636786192, 0.0023807885238136075, -0.021806282599482283, 0.022539790385734566, -0.003614695921991461, -0.019767382820574275, 0.0030101746805974855, 0.009119104458857915, -0.005986160509987475, -0.01854901547064617, 0.006312508508151406, -0.04192177144154751, -0.004481850125535092, -0.012444749290109018, 0.0038757747396177575, 0.026132728517229642, -0.0060141332487628155, 0.018909552785678876, -0.00019911132108590014, -0.0109342223275632, -0.003751451559652085, 0.007689387889252679, -0.027574877777360472, 0.015142561643438324, 0.03140403283789026, 0.022912758994309026, 0.016559846453840527, 0.002764636376882218, 0.00965369385331354, -0.01148746052497657, -0.003101862921048381, -0.0050506283711982125, 0.019158199145610223, 0.013949058743238842, -0.011064762085622308, 0.019742518370845653, 0.007726684563845613, -8.892020428100504e-05, 0.02973810166755671, 0.0290170270374913, 0.03525805048550355, 0.015851203117316866, -0.006396426724477427, 0.015602557688708081, -0.010380984130149828, 0.006153996476978237, -0.08125761775957684, -0.023074378848867632, 0.016360928993366428, 0.01782794270322588, -0.016609575353297774, 0.0453779541682126, -0.011686377985450672, 0.008553434036580232, -0.0064275077522994856, 0.019730087077303903, 0.010418280804742762, -0.015938229622689603, -0.0037887484670756587, 0.013924194293510219, 0.04766550216969708, -0.006732099589781511, 0.011220165362087479, -0.008907754773519502, -0.04406012901937001, 0.012252048407728354, 0.005843188992725336, -0.008447758728249747, -0.021035479069959624, -0.010660711517903232, -0.009610180600627169, 0.002666731791168527, -0.014856618608914044, 0.018014427007513108, 0.025660302109740695, -0.0012393465547636494, 0.012805285673819165, -0.009056942403213798, 0.008553434036580232, -0.03267212908727561, 0.008049924738624105, -0.007285337321533602, -0.03170240623463373, 0.00912532010562879, 0.02745055552871736, -0.008453975306343182, -0.0001339387798158659, 0.002575043550717631, 0.019220361201254338, -0.05360814849567563, 0.01148746052497657, -0.023497078219544457, -0.0076147940744055315, 0.005488867790124785, -0.007179662944525677, -0.0101944998258626, -0.0010668481542028107, 0.0001849307127366401, -0.021420880834720952, -0.006237914693304258, -0.005871161265839395, 0.014085815079391386, -0.015565260082792586, -0.020749536966757905, -0.0017234298610850295, 0.012307992953956475, -0.0075650647092870065, -0.0020901832885498917, -0.02767433743892008, 0.017529565581192168, -0.0014025206702609348, 0.022788436745665913, -0.00847262410930093, -0.014993374013744029, -0.01030639078096396, -0.017392810176362183, 0.01034990310232777, 0.01806415590697035, -0.01433446050800017, 0.021793851305940533, -0.024404637153897096, -0.0028920676130639684, -0.02215438862097324, -0.024553825714913952, -0.009230995413959277, -0.027699201888648703, -0.002301532508227023, -0.01343933379851184, 0.020165217741522475, -0.02088629237158789, -0.008447758728249747, 0.007608577496312096, -0.008746134918960896, -0.0030801065275358366, 0.002508219759995358, -0.021507907340093693, 0.03227429416632741, 0.029464590857896746, 0.012488261611472828, -0.018437124515544807, -0.03762018997352878, 0.02115980318124786, -0.02615759482960339, -0.0049231973678471016, 0.042617979759239186, 0.005519948352285563, 0.0008990118961737485, 0.0007680840676450804, -0.04134988350985384, 0.017405243332549055, 0.010032879039981433, 0.02198033561022776, 0.01909603895261123, -0.018897121492137126, 0.0018291045873389151, -0.03724722136495432, 0.025250034032605624, 0.006458588314460263, -0.02380788663511992, 0.010132337770218483, 0.01049287508525119, -0.004105772762252637, -0.035581290194620765, -0.029887288365928445, -0.002578151606933709, 0.01669660185867051, -0.014098247304255698, 0.022117091015057745, 0.0003550980420315906, 0.011798268009229472, 0.03080728045646796, -0.003195105306022636, -0.010573685012530493, 0.03513372637421532, 0.0009448560746068563, 0.03933585004331957, -0.035432103496249034, -0.0023776804675975298, 0.04013151615992573, -0.00515319539048198, 0.00257659769524099, -0.0007319526521987059, -0.004935629592711413, -0.048560629810507974, -0.029588913106539855, 0.004631037755229387, 0.006800477292196503, -0.009610180600627169, -0.015229588148811063, -0.01826307336744445, 0.01931981900016883, -0.031180249065042416, -0.002683826216772275, 0.005044412258766056, -0.010772602473004593, -0.009088023431035857, 0.017392810176362183, 0.0018788338360421202, 0.0258840821572983, 0.015963094072418228, -0.012792853448954854, -0.015043102913201274, -0.002254911432155216, 0.004360635234616137, 0.003191997249806558, 0.0051252226517066405, 0.005330355758951616, -0.01245718151497333, 0.0161744446890792, -0.0021818715290007873, 0.0258840821572983, -0.0027724066338377326, 0.01863604197601891, 0.00023951634293321175, -0.017579296343294533, 0.012531774864159198, 0.03520832158604631, -0.006526966016875255, 0.008404246406885937, 0.0021445746215772135, 0.030832144906196582, -0.011636648154670866, 0.014483649069017026, -0.013190687438580494, 0.005840080703678618, -0.00040832388308171316, -0.0032510507835733166, 0.010648279293038921, -0.015552827857928275, -0.0014825537581091986, -0.011394218372832957, 0.0030909846078767886, -0.004111988874684792, 0.009852611313787639, -0.03008620582640255, -0.00042192174544237364, -0.025933812919400664, 0.016323631387450934, -0.00878343159355383, 0.012482045964701953, 0.0017203218048689516, 0.023385187264443094, 9.35337579685543e-05, 0.03734667916386881, -0.009510721870390119, -0.01147502830011226, -0.014757159878676995, 0.005451570649870571, -0.00037199822867374873, -0.0059892683333729125, -0.026779209798109188, -0.0035805070707839648, -0.03483534925218161, -0.006126024203864177, 0.005529272753764436, -0.01863604197601891, -0.006887503331907962, 0.02020251348479285, 0.004435229049463285, 0.008391813250699065, -0.0017374162304726996, 0.004087123959294889, -0.002868757075028065, -0.014819321002998551, 0.008136951243996845, -0.0041182049871169475, 0.0006833888954727, 0.009852611313787639, -0.012830151054870348, 0.01943170995527019, 0.00411509669807023, -0.008261274423962517, -0.019568465360100176, 0.0025812596631497866, 0.008932619223248126, -0.017007408411600852, 0.02091115682131651, -0.004472525724056218, -0.03376617232591548, -0.010523956113073248, 0.013377172674190283, -0.0077080362265491455, -0.00536765243354455, -0.014284731608542926, -0.0023077488534898193, 0.023882479984305784, 0.0019099146310335385, 0.04741685394712061, -0.0017793753386357101, 0.005560353781586495, 0.012388803812558339, -0.005215356980464817, 0.02943972640816812, 0.023882479984305784, 0.006701018561959453, -0.028967298138034052, 0.01960576296601567, -0.00031333323103782993, 0.010710440417360476, 0.00844154308147887, -0.0109342223275632, -0.010057744421032615, -0.0064399399771637965, 0.001697011150417728, -0.0012999541166384468, -0.04555200717895808, 0.0077080362265491455, 0.022228981970159108, 0.00784479163137913, 0.024964091929403905, 0.012220967379906297, -0.006564263157129469, -0.005793459627606811, 0.027550013327631847, -0.0032013214184547912, 0.006324941198676997, -0.02501382082886115, 0.014247434933949992, 0.013576089203341824, -0.055149755554720944, -0.017591727636836283, 0.01353879252874889, 0.0095666673479408, 0.021209532080705102, 0.01826307336744445, 0.02538678943743561, 0.0026340970844843897, -0.022701410240293176, 0.026008406268586533, 0.00047048547306454953, -0.008049924738624105, -0.0020078192167472296, -0.018586313076561663, -0.016012822971875472, -0.010219364275591222, -0.0323737519652419]\n"
          ]
        }
      ]
    },
    {
      "cell_type": "markdown",
      "source": [
        "# **Using HYDE**"
      ],
      "metadata": {
        "id": "2moYswgg6rx8"
      }
    },
    {
      "cell_type": "code",
      "source": [
        "from langchain.text_splitter import CharacterTextSplitter\n",
        "from langchain.vectorstores import Chroma\n",
        "\n",
        "loaders = [\n",
        "    TextLoader('/content/Data/blog.langchain.dev_announcing-langsmith_.txt'),\n",
        "    TextLoader('/content/Data/blog.langchain.dev_benchmarking-question-answering-over-csv-data_.txt'),\n",
        "    TextLoader('/content/Data/blog.langchain.dev_chat-loaders-finetune-a-chatmodel-in-your-voice_.txt'),\n",
        "]"
      ],
      "metadata": {
        "id": "Gp1Q7CiJ6uvq"
      },
      "execution_count": 51,
      "outputs": []
    },
    {
      "cell_type": "code",
      "source": [
        "docs = []\n",
        "for l in loaders:\n",
        "    docs.extend(l.load())\n",
        "\n",
        "text_splitter = CharacterTextSplitter(chunk_size=1000, chunk_overlap=20)\n",
        "\n",
        "texts = text_splitter.split_documents(docs) #split_text"
      ],
      "metadata": {
        "id": "yiAIERb97IyA"
      },
      "execution_count": 52,
      "outputs": []
    },
    {
      "cell_type": "code",
      "source": [
        "texts"
      ],
      "metadata": {
        "colab": {
          "base_uri": "https://localhost:8080/"
        },
        "id": "mmMs4kpD7K-f",
        "outputId": "973bab88-6f25-4183-d8be-fd0b3edf6ec1"
      },
      "execution_count": 53,
      "outputs": [
        {
          "output_type": "execute_result",
          "data": {
            "text/plain": [
              "[Document(page_content='URL: https://blog.langchain.dev/announcing-langsmith/\\nTitle: Announcing LangSmith, a unified platform for debugging, testing, evaluating, and monitoring your LLM applications\\n\\nLangChain exists to make it as easy as possible to develop LLM-powered applications.\\n\\nWe started with an open-source Python package when the main blocker for building LLM-powered applications was getting a simple prototype working. We remember seeing Nat Friedman tweet in late 2022 that there was “not enough tinkering happening.” The LangChain open-source packages are aimed at addressing this and we see lots of tinkering happening now (Nat agrees)–people are building everything from chatbots over internal company documents to an AI dungeon master for a Dungeons and Dragons game.', metadata={'source': '/content/Data/blog.langchain.dev_announcing-langsmith_.txt'}),\n",
              " Document(page_content='The blocker has now changed. While it’s easy to build a prototype of an application in ~5 lines of LangChain code, it’s still deceptively hard to take an application from prototype to production. The main issue that we see today is application performance–something that works ~30% of the time is good enough for a Twitter demo, but not nearly good enough for production.\\n\\nToday, we’re introducing LangSmith, a platform to help developers close the gap between prototype and production. It’s designed for building and iterating on products that can harness the power–and wrangle the complexity–of LLMs.\\n\\nLangSmith is now in closed beta. So if you’re looking for a robust, unified, system for debugging, testing, evaluating, and monitoring your LLM applications, sign up here.\\n\\nHow did we get here?', metadata={'source': '/content/Data/blog.langchain.dev_announcing-langsmith_.txt'}),\n",
              " Document(page_content='How did we get here?\\n\\nGiven the stochastic nature of LLMs, it is not easy–and there’s currently no straightforward way–to answer the simple question of “what’s happening in these models?,” let alone getting them to work reliably. The builders we hear from are running into the same roadblocks (and it’s true for our team, too):\\n\\nUnderstanding what exactly the final prompt to the LLM call is (after all the prompt template formatting, this final prompt can be long and obfuscated)\\n\\nUnderstanding what exactly is returned from the LLM call at each step (before it is post-processed or transformed in any way)\\n\\nUnderstanding the exact sequence of calls to LLM (or other resources), and how they are chained together\\n\\nTracking token usage\\n\\nManaging costs\\n\\nTracking (and debugging) latency\\n\\nNot having a good dataset to evaluate their application over\\n\\nNot having good metrics with which to evaluate their application\\n\\nUnderstanding how users are interacting with the product', metadata={'source': '/content/Data/blog.langchain.dev_announcing-langsmith_.txt'}),\n",
              " Document(page_content='All of these problems have parallels in traditional software engineering. And, in response, a set of practices and tools for debugging, testing, logging, monitoring, etc. has emerged to help developers abstract away common infrastructure and focus on what really matters - building their applications. LLM application developers deserve the same.\\n\\nLangSmith aspires to be that platform. Over the last few months, we’ve been working directly with some early design partners and testing it on our own internal workflows, and we’ve found LangSmith helps teams in 5 core ways:\\n\\nDebugging\\n\\nLangSmith gives you full visibility into model inputs and output of every step in the chain of events. This makes it easy for teams to experiment with new chains and prompt templates, and spot the source of unexpected results, errors, or latency issues. We’ll also expose latency and token usage so that you can identify which calls are causing issues.', metadata={'source': '/content/Data/blog.langchain.dev_announcing-langsmith_.txt'}),\n",
              " Document(page_content='We’ve also made it easy to change and rerun examples from the UI. We added this feature after seeing teams take logs of bad examples and copy-paste into the OpenAI playground to tweak the prompt until they got a good result. We wanted to eliminate that friction, and now with the click of a button, you can go from a log to a playground where you can actively edit. This is currently supported for both OpenAI and Anthropic models, with support for more coming soon. We’re also working on supporting this for chains in general.\\n\\nThis deep visibility into model performance has been particularly helpful for teams developing complex applications. LangSmith helped Streamlit and Snowflake implement agents that could intelligently and reliably answer questions about their data.', metadata={'source': '/content/Data/blog.langchain.dev_announcing-langsmith_.txt'}),\n",
              " Document(page_content='\"LangChain has been instrumental in helping us prototype intelligent agents at Snowflake,” said Adrien Treuille, Director of Product at Snowflake. “LangSmith was easy to integrate, and the agnostic open source API made it very flexible to adapt to our implementation,” tacked on Richard Meng, Senior Software Engineer at Snowflake.\\n\\nBoston Consulting Group also built a highly-customized, and highly performant, series of applications on top of LangChain’s framework by relying on this same infrastructure.', metadata={'source': '/content/Data/blog.langchain.dev_announcing-langsmith_.txt'}),\n",
              " Document(page_content=\"“We are proud of being one of the early LangChain design partners and users of LangSmith,” Said Dan Sack, Managing Director and Partner at BCG. “The use of LangSmith has been key to bringing production-ready LLM applications to our clients. LangSmith's ease of integration and intuitive UI enabled us to have an evaluation pipeline up and running very quickly. Additionally, tracing and evaluating the complex agent prompt chains is much easier, reducing the time required to debug and refine our prompts, and giving us the confidence to move to deployment.”\", metadata={'source': '/content/Data/blog.langchain.dev_announcing-langsmith_.txt'}),\n",
              " Document(page_content='In another example of debugging in action, we partnered with DeepLearningAI to equip learners in the recently-released LangChain courses with access to LangSmith. This allowed students to easily visualize the exact sequence of calls, and the inputs and outputs at each step in the chain with precision. Students can understand exactly what the chains, prompts, and LLMs were doing, which helps build intuition as they learn to create new and more sophisticated applications.\\n\\nTesting\\n\\nOne of the main questions we see developers grapple with is: “If I change this chain/prompt, how does that affect my outputs?” The most effective way to answer this question is to curate a dataset of examples that you care about, and then run any changed prompts/chains over this dataset. LangSmith first makes it easy to create these datasets from traces or by uploading datasets you’ve curated manually. You can then easily run chains and prompts over those data sets.', metadata={'source': '/content/Data/blog.langchain.dev_announcing-langsmith_.txt'}),\n",
              " Document(page_content='The first helpful step is simply manually looking at the new inputs and outputs. Although this may seem unsatisfyingly basic, it actually has some benefits - many of the companies we’ve spoken to actually like some manual touch points because it allows them to develop better intuition about how to interact with LLMs. This intuition can prove incredibly valuable when trying to think about how to improve the application. The main unlock we hope to provide is a clear interface for letting developers easily see the inputs and outputs for each data point, as without that visibility they cannot build up that intuition.', metadata={'source': '/content/Data/blog.langchain.dev_announcing-langsmith_.txt'}),\n",
              " Document(page_content='Today, we primarily hear from teams that want to bring their prototype into production, and are narrowing in on specific prompts they’d like to improve. Klarna is building industry-leading AI integrations that go beyond a simple call to a language model, and instead rely on a series of calls. As they focus on a specific section, LangSmith has provided the tools and data they need to ensure no regressions occur.\\n\\nIn parallel, we’re starting to hear from more and more ambitious teams that are striving for a more effective approach.\\n\\nEvaluating\\n\\nLangSmith integrates seamlessly with our open source collection of evaluation modules. These modules have two main types of evaluation: heuristics and LLMs. Heuristic Evaluations will use logic like regexes to evaluate the correctness of an answer. LLM evaluations will use LLMs to evaluate themselves.', metadata={'source': '/content/Data/blog.langchain.dev_announcing-langsmith_.txt'}),\n",
              " Document(page_content='We are extremely bullish on LLM assisted evaluation over the long term. Critics of this approach will say that it’s conceptually shaky and practically costly (time and money). But, we’ve been seeing some very compelling evidence come out of top labs that this is a viable strategy. And, as we collectively make improvements to these models–both private and open source–and usage becomes more ubiquitous, we expect costs to come down considerably.\\n\\nMonitoring', metadata={'source': '/content/Data/blog.langchain.dev_announcing-langsmith_.txt'}),\n",
              " Document(page_content='Monitoring\\n\\nWhile debugging, testing, and evaluating can help you get from prototype to production, the work doesn’t stop once you ship. Developers need to actively track performance, and ideally, optimize that performance based on feedback. We consistently see developers relying on LangSmith to track the system-level performance of their application (like latency and cost), track the model/chain performance (through associating feedback with runs), debug issues (diving into a particular run that went wrong), and establish a broad understanding of how users are interacting with their application and what their experience is like.\\n\\nAmbitious startups like Mendable, Multi-On and Quivr, who are already serving thousands of users are actively using LangSmith to not only monitor overall usage, but also use those insights to take action on critical issues.', metadata={'source': '/content/Data/blog.langchain.dev_announcing-langsmith_.txt'}),\n",
              " Document(page_content='“Thanks to Langchain smith we were able to analyze our LLM calls, understand the performance of the different chain methods ( stuff vs reduce) for QA and improve upon it. It even helped us debug and understand errors we made. We are consistently using it to improve our prompt engineering and look forward to the new features,” said Stan Girard, Head of GenAI at Theodo and creator of Quivr.\\n\\nA unified platform\\n\\nWhile each of these product areas provide unique value, often at a specific point in time in the development process, we believe a great deal of the long term impact of LangSmith will come from having a single, fully-integrated hub to do this work from. We see teams with all kinds of Rube Goldberg-machine-like processes for managing their LLM applications, and we want to make that a thing of the past.', metadata={'source': '/content/Data/blog.langchain.dev_announcing-langsmith_.txt'}),\n",
              " Document(page_content='As a very simple example, we considered it to be table stakes for LangSmith to help users easily create datasets from existing logs and use them immediately for testing and evaluation, seamlessly connecting the logging/debugging workflows to the testing/evaluation ones.\\n\\nFintual, a Latin American startup with big dreams to help their citizens build wealth through a personalized financial advisor, found LangSmith early in their LLM development journey. “As soon as we heard about LangSmith, we moved our entire development stack onto it. We could build the evaluation, testing, and monitoring tools we needed in-house. But it would be 1000x worse, take us 10x longer, and require a team 2x the size,” said Fintual leader Jose Pena.\\n\\n“Because we are building financial products, the bar for accuracy, personalization, and security is particularly high. LangSmith helps us build products we are confident putting in front of users.”', metadata={'source': '/content/Data/blog.langchain.dev_announcing-langsmith_.txt'}),\n",
              " Document(page_content='We can’t wait to bring these benefits to more teams. And we’ve got a long list of features on the roadmap like analytics, playgrounds, collaboration, in-context learning, prompt creation, and more.\\n\\nFinally, we recognize that we cannot build ALL the functionality you will need to make it easy to make your applications production ready today. We’ve made it possible to export datasets in the format OpenAI evals expects so you can contribute them there. This data can be also used directly to fine tune your models on the Fireworks platform (and we aim to make it easy to plug into other fine-tuning systems as well). Finally, we’ve made logs exportable in a generic format and worked with teams like Context to ensure that you can load them into their analytics engine and run analytics over them in there.\\n\\nWe can’t wait to see what you build.', metadata={'source': '/content/Data/blog.langchain.dev_announcing-langsmith_.txt'}),\n",
              " Document(page_content=\"URL: https://blog.langchain.dev/benchmarking-question-answering-over-csv-data/\\nTitle: Benchmarking Question/Answering Over CSV Data\\n\\nThis is a bit of a longer post. It's a deep dive on question-answering over tabular data. We discuss (and use) CSV data in this post, but a lot of the same ideas apply to SQL data. It covers:\\n\\nBackground Motivation: why this is an interesting task\\n\\nInitial Application: how we set up a simple Streamlit app in order to gather a good distribution of real questions\\n\\nInitial Solution: our initial solution and some conceptual considerations\\n\\nDebugging with LangSmith: what we saw people asking, and what issues our initial solution had\\n\\nEvaluation Setup: how we evaluated solutions\\n\\nImproved Solution: the final improved solution we arrived at\\n\\nAs a sneak preview, the improved solution we arrived at was a custom agent that used OpenAI functions and had access to two tools: a Python REPL and a retriever.\", metadata={'source': '/content/Data/blog.langchain.dev_benchmarking-question-answering-over-csv-data_.txt'}),\n",
              " Document(page_content=\"We've open-sourced everything - the app we used to gather feedback, the dataset, the eval script - at this repo. We've also made a YouTube video walking through the content in this blog, if that's more your style.\\n\\nBackground Motivation\\n\\nThere's a pretty standard recipe for question over text data at this point. On the other hand, one area where we've heard consistent asks for improvement is with regards to tabular (CSV) data. Lots of enterprise data is contained in CSVs, and exposing a natural language interface over it can enable easy insights. The problem is that it's far less clear how to accomplish this.\\n\\nA few weeks ago we decided to focus on this for a bit but quickly ran into an issue–we didn't really know what types of questions people expected to be able ask CSV data, and we didn't have any good way to evaluate this applications.\\n\\n💡 Evaluation of LLM applications is often hard because of a lack of data and a lack of metrics.\", metadata={'source': '/content/Data/blog.langchain.dev_benchmarking-question-answering-over-csv-data_.txt'}),\n",
              " Document(page_content=\"In traditional machine learning you usually start with a dataset of inputs and outputs, and you use this to train and then evaluate your model. However, because LLMs are fantastic zero shot learners, it is now possible to use a prompt to quickly build an application based on just an idea, and no data. While this is incredibly powerful in terms of enabling developers to build new applications quickly, it leads to difficulty in evaluating because you lack that data. This is why we've built LangSmith in a way where constructing datasets is as easy as possible.\\n\\nLikewise, there's often not great metrics for evaluating LLM applications. The outputs are often natural language, and traditional NLP metrics like BLEU and ROUGE aren't great. But what is good at understanding natural language? LLMs! We're pretty bullish on LLM assisted evaluation and have invested in building a bunch of evaluators that use LLMs to do the evaluation.\", metadata={'source': '/content/Data/blog.langchain.dev_benchmarking-question-answering-over-csv-data_.txt'}),\n",
              " Document(page_content=\"So how did we apply these ideas to our task of creating a better application for answering questions over tabular data? We'll dive into these in more detail in the next sections, but at a high level we:\\n\\nUsed LangSmith to flag interesting datapoints and used that to construct a dataset of examples\\n\\nUsed LLMs to evaluate correctness\\n\\nInitial Application\\n\\nFirst, we set about creating a dataset of questions and ground truth answers. Part of the issue here was didn't even know what type of questions people would want to ask of their tabular data. We could have made some educated guesses, or tried to generate synthetic questions to ask. But we wanted to optimize instead for real questions, as we also wanted to do a bit of exploration here into what types of questions real users would want to ask.\\n\\n💡 Before you launch an app it can be tough to guess how users may interact with it. Rather than guessing, one strategy is launch quickly and early and gather real data.\", metadata={'source': '/content/Data/blog.langchain.dev_benchmarking-question-answering-over-csv-data_.txt'}),\n",
              " Document(page_content='In order to do this we decided to spin up a quick demo application and put that out in the wild. We would then log actual user questions along with any feedback about the answers that they gave us. To gather feedback we added a simple \"thumps up\"/\"thumbs down\" button to the application. We would use LangSmith to monitor all the interactions and feedback, and then we would manually review the interactions and create a dataset consisting of any interesting ones. This is done easily from the LangSmith UI - there is an \"Add to Dataset\" button on all logs.', metadata={'source': '/content/Data/blog.langchain.dev_benchmarking-question-answering-over-csv-data_.txt'}),\n",
              " Document(page_content=\"There's also the question of what type of data we wanted to gather. We considered two approaches: (1) let users upload their own CSV and ask questions of that, (2) fix the CSV and gather questions over that. We opted for (2) for a few reasons. First - it would make it simpler for people to play around with, likely leading to more responses. Second - it would probably make it easier to evaluate. Third - we specifically wanted to be logging and looking at user questions, and we didn't want to do this over any confidential CSV that someone might upload. However, this does have several downsides. We would have to choose a CSV to use, and this CSV may not be representative of other CSVs - both in the size and shape of the data, as well as the questions people may want to ask of it.\", metadata={'source': '/content/Data/blog.langchain.dev_benchmarking-question-answering-over-csv-data_.txt'}),\n",
              " Document(page_content=\"For our example application we chose the classic Titanic dataset - a record of all passengers on the Titanic and whether the survived, often used for example data science projects. We created this simple application in Streamlit, put it out in the world, and asked people to give feedback. You can view the hosted app here, and the source code here.\\n\\nThrough this, we gathered ~400 interactions. Of those, about 200 had some form of feedback. Using LangSmith, we drilled into datapoints with bad feedback (and some with good) and manually labeled them and added them to a dataset we created. We did this until we had about 50 datapoints.\\n\\nNow it was time to improve our system! Before talking about how we improved, let's first discuss (1) what the initial system was (2) what issues it had, and (3) how we would evaluate the system to measure any improvements.\\n\\nInitial Solution\", metadata={'source': '/content/Data/blog.langchain.dev_benchmarking-question-answering-over-csv-data_.txt'}),\n",
              " Document(page_content='Initial Solution\\n\\nThe Titanic dataset has a mix of columns in it. Some of them are numeric (age, number of siblings, fare), some of them are categorical (station embarked, cabin) and there\\'s one text column (name).\\n\\nWhile a person\\'s name isn\\'t super text heavy, it is still text heavy enough to cause some issues. For example if a question is asked about \"John Smith\", there a bunch of variants of how that name could be represented: Mr. John Smith (title), Smith, John (order), Jon Smith (typo), John Jacob Smith (middle name), etc. This can make it tricky to filter rows exactly by name, or even do lookups. Therefor, from the start we knew we had to include some more fuzzy based functionality. However, we also guessed that people would want to ask some questions about aggregations (\"who paid the most for their fare\") or the like, and so we probably need some functionality to do that.', metadata={'source': '/content/Data/blog.langchain.dev_benchmarking-question-answering-over-csv-data_.txt'}),\n",
              " Document(page_content=\"💡 Tabular data that contains text can be particularly tough to deal with, as retrieval is likely needed in some form, but pure retrieval probably isn't enough.\\n\\nRetrieval\\n\\nFor the natural language bit, we wanted to use a traditional retrieval system. We weren't going to get too fancy, so we just wanted to use a simple vectorstore and look up results based on cosine similarity with the input question.\\n\\nIn order to do this we needed to load a CSV into a vectorstore. We did this using the logic of our CSVLoader. What this does under the hood is:\\n\\nLoad each row as its own document Represent the text of each document as a list of Column: value pairs, each on their own line.\", metadata={'source': '/content/Data/blog.langchain.dev_benchmarking-question-answering-over-csv-data_.txt'}),\n",
              " Document(page_content='Digging into point (2) a bit more, there\\'s a few ways you could represent a row of CSV as a document. You could represent it as JSON, as a CSV, or - as we ended up doing - a formatted piece of text. Very concretely, if you had a CSV row with the following values: {\"col1\": \"foo\", \"col2\": \"bar\"} what this ends up looking like after you format it is:\\n\\ncol1: foo col2: bar\\n\\nWhile this may not seem all that interesting, a BIG part of LLM applications is proper data engineering to communicate data to the LLM most effectively. Anecdotally, we\\'ve found this representation of tabular (and also JSON) data to be most efficient when the values could contain textual values.\\n\\nQuery Language\\n\\nAside from retrieval, we also figured people would want to ask questions that required some type of query language. For example - \"who paid the most for their fare\". There are two approaches we considered here.', metadata={'source': '/content/Data/blog.langchain.dev_benchmarking-question-answering-over-csv-data_.txt'}),\n",
              " Document(page_content=\"First, we considered using a Python REPL and asking the language model to write code to help answer the user's question. This has the benefit of being very flexible. This also has the downside of maybe being TOO flexible - it could enable execution of arbitrary code.\\n\\nSecond, we considered using kork to give access to a predetermined set of functions. kork is a library that basically whitelists a set of functions that can be used. It's less general - you have to declare all functions that can be run - but it's safer.\\n\\nTo start, we went with kork . We weren't entirely sure about what people would ask, so we defined a few functions (filter, sum, contains) and gave it access to that.\\n\\nOur first solution ran retrieval and kork in parallel, and then combined the answers.\\n\\nDebugging with LangSmith\\n\\nPeople started asking questions and the feedback starting rolling in. Only about 1/3 of feedback was positive. What was going wrong? There was two main sources of errors:\\n\\nData Formatting\", metadata={'source': '/content/Data/blog.langchain.dev_benchmarking-question-answering-over-csv-data_.txt'}),\n",
              " Document(page_content='Data Formatting\\n\\nA lot of the functions we wrote for kork would return a dataframe. This dataframe was then inserted into a prompt and passed to the language model. There was then a question of how that dataframe was formatted as a string to be passed to the language model.\\n\\nThis was important for answering questions like Who was in cabin C128 . The returned dataframe would have hopefully filtered to the correct row and be returning all relevant information. Before we launched the app, we tested questions like this and it was working fine. However, after we launched the app and started to look at the responses we noticed it was failing terribly at a large number of these types of questions.\\n\\nWe used LangSmith to inspect the traces to try to get a sense of what was going on. We could see that the correct query was being generated... but when that dataframe was passed into the prompt the formatting was being messed up. We expected it look something like:', metadata={'source': '/content/Data/blog.langchain.dev_benchmarking-question-answering-over-csv-data_.txt'}),\n",
              " Document(page_content=\"But instead it was looking something like:\\n\\nAfter some more debugging, we discovered that how a dataframe is represented as string may change depending on what platform you are on. In this case, it was being represented differently locally compared to Streamlit cloud. After some more debugging, we figured out that we could fix that inconsistency by specifying some parameters:\\n\\npd.set_option('display.max_rows', 20) pd.set_option('display.max_columns', 20)\\n\\nDoing this fixed a lot of our issues! It also shows how LangSmith can be extremely helpful in debugging LLM issues. The main parts of bringing an LLM application from prototype to production are prompt engineering and data engineering. Understand what exactly the data looks like when you are passing it to an LLM is crucial for debugging performance issues. We've heard from several users of LangSmith who have found these types of data engineering issues only after using LangSmith to inspect the exact inputs to LLMs more carefully.\", metadata={'source': '/content/Data/blog.langchain.dev_benchmarking-question-answering-over-csv-data_.txt'}),\n",
              " Document(page_content=\"💡 If data is not passed to the language model in a clear way, it will make it really tricky for the language model to reason about it correcting. Using LangSmith to make sure the final text looks reasonable, and debug any data processing steps, is a great way to catch any bugs here.\\n\\nLimited kork Functionality\\n\\nIt turns out the set of functions we gave to kork was not NEARLY enough to cover the long tail of questions users would ask.\\n\\nThere are two potential fixes to this. One, we could try to add more functions to kork . Second, we could revert to using a Python REPL.\\n\\nEvaluation Setup\\n\\nSo we've now constructed our dataset of real world examples. We've also done some manual debugging and identified some areas of errors and have some ideas for how to improve. How exactly do we go about measuring whether we've improved?\", metadata={'source': '/content/Data/blog.langchain.dev_benchmarking-question-answering-over-csv-data_.txt'}),\n",
              " Document(page_content='For an example of why this is non-trivial, let\\'s consider the question Who is in cabin C128 . The correct answer in the CSV is Williams-Lambert, Mr. Fletcher Fellows . But there are a LOT of ways a language model could respond that should be considered \"correct\":\\n\\nMr. Fletcher Fellows Williams-Lambert\\n\\nThe person in cabin C128 was Mr. Fletcher Fellows Williams-Lambert.\\n\\nFletcher Williams-Lambert\\n\\nMr. Williams-Lambert was in that cabin\\n\\nIn order to properly evaluate these natural language answers... we turned to a language model. We decided to use our standard qa evaluator, which takes as input:\\n\\nThe input\\n\\nThe ground truth answer\\n\\nA predicted answer\\n\\nFrom there, it formats a prompt template with those values and passes that to a language model to get back a response.', metadata={'source': '/content/Data/blog.langchain.dev_benchmarking-question-answering-over-csv-data_.txt'}),\n",
              " Document(page_content=\"Even still, this is NOT perfect. For example, one of the questions we evaluated on was male to female ratio? . It's pretty unclear what the answer to that question should be. We had labelled the answer as There were 577 males and 314 females, for a ratio of 1.84 . In one test run, the language model responded The ratio of males to females in the dataframe is approximately 0.65 to 0.35. This means that there are about 65% males and 35% females . Our LLM evaluator marked that answer as INCORRECT, even though it probably likely correct.\", metadata={'source': '/content/Data/blog.langchain.dev_benchmarking-question-answering-over-csv-data_.txt'}),\n",
              " Document(page_content='Does this mean there is no use for an LLM evaluator? We do not believe so. Rather, we believe that LLM evaluators are still useful. For starters, they are markedly better than other \"general\" evaluation methods we\\'ve tried. Secondly, even if occasionally correct that can be totally fine if you\\'re not treating the grades as gospel. For example - don\\'t blindly accept the LLM scores, but rather treat them as indications of where it may be worth looking. Even if you still need to do human evaluation on some data points, using LLM assisted evaluation can help guide you to the most interesting datapoint to look at.\\n\\n💡 Evaluating LLM output using LLMs is NOT perfect, but we think this is currently the best available solution and are bullish on it in the long run.\\n\\nImproved Solution\\n\\nFinally, we arrive at the exciting part of the blog. Did we manage to improve our solution? And how did we do so?\\n\\nOur final solution is:\\n\\nAn agent powered by OpenAIFunctions ( OpenAIFunctionsAgent )\\n\\n) GPT-4', metadata={'source': '/content/Data/blog.langchain.dev_benchmarking-question-answering-over-csv-data_.txt'}),\n",
              " Document(page_content=\") GPT-4\\n\\nTwo tools: a Python REPL and a retriever\\n\\nA custom prompt with custom instructions on how to think about when to use the Python REPL vs the retriever\\n\\nThis provides several benefits. First, by giving it access to a Python REPL we give it the ability to do all sorts of queries and analysis. However, as we'll see in some of the comparisons below, the Python REPL can have issues when dealing with text data - in this case the Name column. That is where the retriever can come in handy.\\n\\n💡 Our final solution is an agent with two tools: a Python REPL and a retriever. This allows it to answer questions about the unstructured text, but also perform more traditional data analysis operations.\", metadata={'source': '/content/Data/blog.langchain.dev_benchmarking-question-answering-over-csv-data_.txt'}),\n",
              " Document(page_content='Note that we do include some instructions in the prompt specific to the Titanic dataset. Specifically, we tell it that it should try to use the retriever for the Name column and the Python REPL for most other things. We did this because with generic wording it was having some trouble reasoning about when to use it. This does mean that comparing to generic solutions (as we do below) is a bit unfair. As a follow up, we would love to see a more generic prompt presented that does not include dataset specific logic. However, we also believe that in order to really improve the performance of your application you will likely need to use a custom prompt and NOT rely on generic defaults.', metadata={'source': '/content/Data/blog.langchain.dev_benchmarking-question-answering-over-csv-data_.txt'}),\n",
              " Document(page_content=\"Now let's look at some results and compare to other methods. First, we compare to our standard Pandas Agent (using both GPT-3.5 as well as GPT-4). Next, we compare to PandasAI - one of the top open source libraries for interacting with Pandas DataFrames. A table of performance is below. Again, this is over 50 datapoints and some of the evaluations may not be 100% accurate, so we'll also present some concrete examples after the fact.\\n\\nNote: these were all run on LangSmith. We're working on making evaluation runs publicly sharable.\\n\\nThe Pandas Agent and PandasAI performed roughly the same. They struggled on questions involving people's names. For example, for the following question:\\n\\nHow many siblings does Carrie Johnston have?\\n\\nThe code generate is:\\n\\n# First, we need to find the row for Carrie Johnston carrie_johnston = df[df['Name'].str.contains('Carrie Johnston')] # Then, we can find the number of siblings she has num_siblings = carrie_johnston['SibSp'].values[0] num_siblings\", metadata={'source': '/content/Data/blog.langchain.dev_benchmarking-question-answering-over-csv-data_.txt'}),\n",
              " Document(page_content='However, df[df[\\'Name\\'].str.contains(\\'Carrie Johnston\\')] does not return any rows because her name appears as Johnston, Miss. Catherine Helen \"Carrie\"\\n\\nLooking at the four example our custom agent gets wrong, we can see that a lot of the mistakes aren\\'t that bad.\\n\\nIn one case it filters based on age (the ground truth answer we added had no filtering - maybe there should have been?)\\n\\nIn another case it stops listing after 10 - this is actually because the DataFrame when printed out didn\\'t actually show the whole contents.\\n\\nIn a third case it just has a different interpretation of how to respond (but the facts look correct)\\n\\nAnd finally, it messes up because it uses the retriever to search for names, and the retriever is limited to four responses.\\n\\nConclusion', metadata={'source': '/content/Data/blog.langchain.dev_benchmarking-question-answering-over-csv-data_.txt'}),\n",
              " Document(page_content=\"Conclusion\\n\\nWe're pretty satisfied with the final solution we arrived at - and most of the feedback had been positive as well. We're also pretty happy with the dataset we've put together and think it can be useful in evaluating these types of applications.\\n\\nAt the same time, we recognize that there is always room for improvements - on both fronts. The dataset can be improved/added to, the evaluators can likely be improved, and we're especially excited to see more solutions to this problem of question-answering over CSV data!\\n\\nWe've open-sourced everything - the app we used to gather feedback, the dataset, the eval script - at this repo.\", metadata={'source': '/content/Data/blog.langchain.dev_benchmarking-question-answering-over-csv-data_.txt'}),\n",
              " Document(page_content='URL: https://blog.langchain.dev/chat-loaders-finetune-a-chatmodel-in-your-voice/\\nTitle: Chat Loaders: Fine-tune a ChatModel in your Voice\\n\\nSummary\\n\\nWe are adding a new integration type, ChatLoaders, to make it easier to fine-tune models on your own unique writing style. These utilities help convert data from popular messaging platforms to chat messages compatible with fine-tuning formats like that supported by OpenAI.\\n\\nThank you to Greg Kamradt for Misbah Syed for their thought leadership on this.\\n\\nImportant Links:\\n\\nContext\\n\\nOn Tuesday, OpenAI announced improved fine-tuning support, extending the service to larger chat models like GPT-3.5-turbo. This enables anyone to customize these larger, more capable models for their own use cases. They also teased support for fine-tuning GPT-4 later this year.\\n\\nWhile fine-tuning is typically not advised for teaching an LLM substantially new knowledge or for factual recall; it is good for style transfer.', metadata={'source': '/content/Data/blog.langchain.dev_chat-loaders-finetune-a-chatmodel-in-your-voice_.txt'}),\n",
              " Document(page_content='We\\'ve had a lot of community members ask about the best ways to get ChatGPT to respond \"in your own voice\" - fine-tuning is an excellent way to do so!\\n\\nGreat people on Twitter like Greg Kamdrat have also been bullish on this use case:\\n\\nSetting the tone/style of the output is top of the list for me\\n\\nFine-tuning as a service to businesses that matches their tone\\n\\nCurrently investigating...will report back https://t.co/235WSJzxet pic.twitter.com/KDzMrdqccv — Greg Kamradt (@GregKamradt) August 22, 2023\\n\\nFine-tuning on your communications could be useful for a variety of applications, such as responding to customers in your brand\\'s voice, generating content that is more aware of your team\\'s unique jargon, chatting reliably in a target language, or just for fun!', metadata={'source': '/content/Data/blog.langchain.dev_chat-loaders-finetune-a-chatmodel-in-your-voice_.txt'}),\n",
              " Document(page_content=\"Why is this better than direct instructions? Style and tone can be hard to describe! Most of us don't write like ChatGPT, and it can sometimes be frustratingly difficult to get the LLM to consistently respond in a particular voice (especially over longer conversations).\\n\\nWhy is this better than few-shot examples? It can be challenging to capture your voice in only a few concise snippets! Fine-tuning lets you provide a larger number of examples the model can learn from without having to see them every time you want to query the model.\\n\\nChatLoaders\\n\\nAt LangChain, we want to make it as easy as possible for you to take advantage of this improved fine-tuning support. To make it simple to adapt a model to your voice, we're adding a new integration type: ChatLoaders .\", metadata={'source': '/content/Data/blog.langchain.dev_chat-loaders-finetune-a-chatmodel-in-your-voice_.txt'}),\n",
              " Document(page_content=\"These utilities take data exported from popular messaging platforms and convert them to LangChain message objects, which you can then easily convert platform-agnostic message formats, such as OpenAI, Llama 2, and others. This training data can be used directly for fine-tuning a model.\\n\\nWe've added loaders for the following popular messaging platforms so far:\\n\\nFacebook Messenger\\n\\nSlack\\n\\nTelegram\\n\\nWhatsApp\\n\\nWe have also added a recipe on how to do so for Discord and Twitter (using Apify) and plan to integrate additional chat loaders in the near future. If you have a favorite messaging platform you'd like to support, we'd love to help you land a PR!\\n\\nTo get you started, we've added an end-to-end example notebook to the LangChain documentation showing how to fine-tune gpt-3.5-turbo (the model behind ChatGPT) on an example set of Facebook messages.\\n\\n❗ Please ensure all participants of your conversations support the decision to train a model on the chat data before proceeding.\", metadata={'source': '/content/Data/blog.langchain.dev_chat-loaders-finetune-a-chatmodel-in-your-voice_.txt'}),\n",
              " Document(page_content='Once you have your fine-tuned model, you can use the model name directly in LangChain\\'s ChatOpenAI class:\\n\\nfrom langchain.chat_models import ChatOpenAI llm = ChatOpenAI(model=\"ft:gpt-3.5-turbo-0613:{openaiOrg}::{modelId}\") llm.predict(\"What classes are you taking this year?\")\\n\\nThen you can plug this into any other LangChain component!\\n\\nEnd-to-End Example\\n\\nWe\\'ve also created an end-to-end example of finetuning a model based on Elon Musk\\'s tweets. This uses Apify to load data. Note that it\\'s less than 100 examples so results may not be the most amazing they could be.\\n\\nWe open-sourced this example at the GitHub repo here. We also hosted it on Streamlit app so you can easily play around with it here.\\n\\nWebinar\\n\\nThere is a lot more to discuss on this topic. What types of messages are best for finetuning? What others sources of data exist for this? How many points do you need?\\n\\nWe\\'ll be discussing this and more next week in a webinar with Greg Kamradt. Come join!\\n\\nConclusion', metadata={'source': '/content/Data/blog.langchain.dev_chat-loaders-finetune-a-chatmodel-in-your-voice_.txt'}),\n",
              " Document(page_content=\"Conclusion\\n\\nWe're excited to see all the creative applications fine-tuning unlocks. We have implemented a few ChatLoaders already, but we need your help to make it easier to create your own personalized model. Help us create more ChatLoaders!\", metadata={'source': '/content/Data/blog.langchain.dev_chat-loaders-finetune-a-chatmodel-in-your-voice_.txt'})]"
            ]
          },
          "metadata": {},
          "execution_count": 53
        }
      ]
    },
    {
      "cell_type": "code",
      "source": [
        "prompt_template = \"\"\"Please answer the user's question as related to Large Language Models\n",
        "Question: {question}\n",
        "Answer:\"\"\"\n",
        "\n",
        "prompt = PromptTemplate(input_variables=[\"question\"], template=prompt_template)\n",
        "\n",
        "llm_chain = LLMChain(llm=llm, prompt=prompt)"
      ],
      "metadata": {
        "id": "lqTR4Ksn7M7R"
      },
      "execution_count": 54,
      "outputs": []
    },
    {
      "cell_type": "code",
      "source": [
        "embeddings = HypotheticalDocumentEmbedder(\n",
        "    llm_chain=llm_chain,\n",
        "    base_embeddings=embeddings\n",
        ")"
      ],
      "metadata": {
        "id": "RH0jL7mc7Pvm"
      },
      "execution_count": 55,
      "outputs": []
    },
    {
      "cell_type": "code",
      "source": [
        "docsearch = Chroma.from_documents(texts, embeddings)\n",
        "\n",
        "query = \"What are chat loaders?\"\n",
        "docs = docsearch.similarity_search(query)"
      ],
      "metadata": {
        "colab": {
          "base_uri": "https://localhost:8080/"
        },
        "id": "Qd703aFG7Rxr",
        "outputId": "1dd3980e-a4e8-4f2d-c3df-91b3387ef642"
      },
      "execution_count": 56,
      "outputs": [
        {
          "output_type": "stream",
          "name": "stdout",
          "text": [
            "\u001b[32;1m\u001b[1;3m[llm/start]\u001b[0m \u001b[1m[1:llm:OpenAI] Entering LLM run with input:\n",
            "\u001b[0m{\n",
            "  \"prompts\": [\n",
            "    \"Please answer the user's question as related to Large Language Models\\nQuestion: What are chat loaders?\\nAnswer:\"\n",
            "  ]\n",
            "}\n",
            "\u001b[36;1m\u001b[1;3m[llm/end]\u001b[0m \u001b[1m[1:llm:OpenAI] [1.33s] Exiting LLM run with output:\n",
            "\u001b[0m{\n",
            "  \"generations\": [\n",
            "    [\n",
            "      {\n",
            "        \"text\": \" Chat loaders are a type of Large Language Model (LLM) designed to assist with generating human-like responses in conversational applications, such as chatbots. These models are trained on vast amounts of text data and use Artificial Intelligence (AI) to understand and respond to user input in a natural and coherent manner. Chat loaders are often used in customer service, virtual assistants, and other chat-based applications to enhance the user experience and provide more personalized interactions.\",\n",
            "        \"generation_info\": {\n",
            "          \"finish_reason\": \"stop\",\n",
            "          \"logprobs\": null\n",
            "        },\n",
            "        \"type\": \"Generation\"\n",
            "      }\n",
            "    ]\n",
            "  ],\n",
            "  \"llm_output\": {\n",
            "    \"token_usage\": {\n",
            "      \"prompt_tokens\": 22,\n",
            "      \"total_tokens\": 112,\n",
            "      \"completion_tokens\": 90\n",
            "    },\n",
            "    \"model_name\": \"gpt-3.5-turbo-instruct\"\n",
            "  },\n",
            "  \"run\": null\n",
            "}\n"
          ]
        }
      ]
    },
    {
      "cell_type": "code",
      "source": [
        "print(docs[0].page_content)"
      ],
      "metadata": {
        "colab": {
          "base_uri": "https://localhost:8080/"
        },
        "id": "qoz2OVkh7TeT",
        "outputId": "71b192dc-43f3-4bd8-aa0f-01c3ad1cb8d8"
      },
      "execution_count": 57,
      "outputs": [
        {
          "output_type": "stream",
          "name": "stdout",
          "text": [
            "Why is this better than direct instructions? Style and tone can be hard to describe! Most of us don't write like ChatGPT, and it can sometimes be frustratingly difficult to get the LLM to consistently respond in a particular voice (especially over longer conversations).\n",
            "\n",
            "Why is this better than few-shot examples? It can be challenging to capture your voice in only a few concise snippets! Fine-tuning lets you provide a larger number of examples the model can learn from without having to see them every time you want to query the model.\n",
            "\n",
            "ChatLoaders\n",
            "\n",
            "At LangChain, we want to make it as easy as possible for you to take advantage of this improved fine-tuning support. To make it simple to adapt a model to your voice, we're adding a new integration type: ChatLoaders .\n"
          ]
        }
      ]
    },
    {
      "cell_type": "code",
      "source": [],
      "metadata": {
        "id": "TS5wX_Ff7XwQ"
      },
      "execution_count": null,
      "outputs": []
    }
  ]
}