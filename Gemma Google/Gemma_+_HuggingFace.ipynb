{
  "nbformat": 4,
  "nbformat_minor": 0,
  "metadata": {
    "colab": {
      "provenance": [],
      "gpuType": "T4"
    },
    "kernelspec": {
      "name": "python3",
      "display_name": "Python 3"
    },
    "language_info": {
      "name": "python"
    },
    "accelerator": "GPU",
    "widgets": {
      "application/vnd.jupyter.widget-state+json": {
        "dba7869c7c304b86bae9b69b821fd236": {
          "model_module": "@jupyter-widgets/controls",
          "model_name": "HBoxModel",
          "model_module_version": "1.5.0",
          "state": {
            "_dom_classes": [],
            "_model_module": "@jupyter-widgets/controls",
            "_model_module_version": "1.5.0",
            "_model_name": "HBoxModel",
            "_view_count": null,
            "_view_module": "@jupyter-widgets/controls",
            "_view_module_version": "1.5.0",
            "_view_name": "HBoxView",
            "box_style": "",
            "children": [
              "IPY_MODEL_e205c8a365b945708a98586a3b9c76c2",
              "IPY_MODEL_7b39de5ff85a4abaa5e01c1d4cc6275c",
              "IPY_MODEL_4079e035b1b245cd9be83bbdb6160b3b"
            ],
            "layout": "IPY_MODEL_db96a51332a54a2189ac3e0c6550ed05"
          }
        },
        "e205c8a365b945708a98586a3b9c76c2": {
          "model_module": "@jupyter-widgets/controls",
          "model_name": "HTMLModel",
          "model_module_version": "1.5.0",
          "state": {
            "_dom_classes": [],
            "_model_module": "@jupyter-widgets/controls",
            "_model_module_version": "1.5.0",
            "_model_name": "HTMLModel",
            "_view_count": null,
            "_view_module": "@jupyter-widgets/controls",
            "_view_module_version": "1.5.0",
            "_view_name": "HTMLView",
            "description": "",
            "description_tooltip": null,
            "layout": "IPY_MODEL_9e6ced03f68a4a50893f7c4328dfeed9",
            "placeholder": "​",
            "style": "IPY_MODEL_8905cc47179a471881831dc4c351b71f",
            "value": "config.json: 100%"
          }
        },
        "7b39de5ff85a4abaa5e01c1d4cc6275c": {
          "model_module": "@jupyter-widgets/controls",
          "model_name": "FloatProgressModel",
          "model_module_version": "1.5.0",
          "state": {
            "_dom_classes": [],
            "_model_module": "@jupyter-widgets/controls",
            "_model_module_version": "1.5.0",
            "_model_name": "FloatProgressModel",
            "_view_count": null,
            "_view_module": "@jupyter-widgets/controls",
            "_view_module_version": "1.5.0",
            "_view_name": "ProgressView",
            "bar_style": "success",
            "description": "",
            "description_tooltip": null,
            "layout": "IPY_MODEL_9636cc23b41c4e35b136ad8eff0062a4",
            "max": 694,
            "min": 0,
            "orientation": "horizontal",
            "style": "IPY_MODEL_807acd78a9394a9798cb3a9642ab3dc6",
            "value": 694
          }
        },
        "4079e035b1b245cd9be83bbdb6160b3b": {
          "model_module": "@jupyter-widgets/controls",
          "model_name": "HTMLModel",
          "model_module_version": "1.5.0",
          "state": {
            "_dom_classes": [],
            "_model_module": "@jupyter-widgets/controls",
            "_model_module_version": "1.5.0",
            "_model_name": "HTMLModel",
            "_view_count": null,
            "_view_module": "@jupyter-widgets/controls",
            "_view_module_version": "1.5.0",
            "_view_name": "HTMLView",
            "description": "",
            "description_tooltip": null,
            "layout": "IPY_MODEL_72b152c7a6a74b1c949327f22d12a918",
            "placeholder": "​",
            "style": "IPY_MODEL_0a18f2417a474728b7207c4ca7f02930",
            "value": " 694/694 [00:00&lt;00:00, 40.9kB/s]"
          }
        },
        "db96a51332a54a2189ac3e0c6550ed05": {
          "model_module": "@jupyter-widgets/base",
          "model_name": "LayoutModel",
          "model_module_version": "1.2.0",
          "state": {
            "_model_module": "@jupyter-widgets/base",
            "_model_module_version": "1.2.0",
            "_model_name": "LayoutModel",
            "_view_count": null,
            "_view_module": "@jupyter-widgets/base",
            "_view_module_version": "1.2.0",
            "_view_name": "LayoutView",
            "align_content": null,
            "align_items": null,
            "align_self": null,
            "border": null,
            "bottom": null,
            "display": null,
            "flex": null,
            "flex_flow": null,
            "grid_area": null,
            "grid_auto_columns": null,
            "grid_auto_flow": null,
            "grid_auto_rows": null,
            "grid_column": null,
            "grid_gap": null,
            "grid_row": null,
            "grid_template_areas": null,
            "grid_template_columns": null,
            "grid_template_rows": null,
            "height": null,
            "justify_content": null,
            "justify_items": null,
            "left": null,
            "margin": null,
            "max_height": null,
            "max_width": null,
            "min_height": null,
            "min_width": null,
            "object_fit": null,
            "object_position": null,
            "order": null,
            "overflow": null,
            "overflow_x": null,
            "overflow_y": null,
            "padding": null,
            "right": null,
            "top": null,
            "visibility": null,
            "width": null
          }
        },
        "9e6ced03f68a4a50893f7c4328dfeed9": {
          "model_module": "@jupyter-widgets/base",
          "model_name": "LayoutModel",
          "model_module_version": "1.2.0",
          "state": {
            "_model_module": "@jupyter-widgets/base",
            "_model_module_version": "1.2.0",
            "_model_name": "LayoutModel",
            "_view_count": null,
            "_view_module": "@jupyter-widgets/base",
            "_view_module_version": "1.2.0",
            "_view_name": "LayoutView",
            "align_content": null,
            "align_items": null,
            "align_self": null,
            "border": null,
            "bottom": null,
            "display": null,
            "flex": null,
            "flex_flow": null,
            "grid_area": null,
            "grid_auto_columns": null,
            "grid_auto_flow": null,
            "grid_auto_rows": null,
            "grid_column": null,
            "grid_gap": null,
            "grid_row": null,
            "grid_template_areas": null,
            "grid_template_columns": null,
            "grid_template_rows": null,
            "height": null,
            "justify_content": null,
            "justify_items": null,
            "left": null,
            "margin": null,
            "max_height": null,
            "max_width": null,
            "min_height": null,
            "min_width": null,
            "object_fit": null,
            "object_position": null,
            "order": null,
            "overflow": null,
            "overflow_x": null,
            "overflow_y": null,
            "padding": null,
            "right": null,
            "top": null,
            "visibility": null,
            "width": null
          }
        },
        "8905cc47179a471881831dc4c351b71f": {
          "model_module": "@jupyter-widgets/controls",
          "model_name": "DescriptionStyleModel",
          "model_module_version": "1.5.0",
          "state": {
            "_model_module": "@jupyter-widgets/controls",
            "_model_module_version": "1.5.0",
            "_model_name": "DescriptionStyleModel",
            "_view_count": null,
            "_view_module": "@jupyter-widgets/base",
            "_view_module_version": "1.2.0",
            "_view_name": "StyleView",
            "description_width": ""
          }
        },
        "9636cc23b41c4e35b136ad8eff0062a4": {
          "model_module": "@jupyter-widgets/base",
          "model_name": "LayoutModel",
          "model_module_version": "1.2.0",
          "state": {
            "_model_module": "@jupyter-widgets/base",
            "_model_module_version": "1.2.0",
            "_model_name": "LayoutModel",
            "_view_count": null,
            "_view_module": "@jupyter-widgets/base",
            "_view_module_version": "1.2.0",
            "_view_name": "LayoutView",
            "align_content": null,
            "align_items": null,
            "align_self": null,
            "border": null,
            "bottom": null,
            "display": null,
            "flex": null,
            "flex_flow": null,
            "grid_area": null,
            "grid_auto_columns": null,
            "grid_auto_flow": null,
            "grid_auto_rows": null,
            "grid_column": null,
            "grid_gap": null,
            "grid_row": null,
            "grid_template_areas": null,
            "grid_template_columns": null,
            "grid_template_rows": null,
            "height": null,
            "justify_content": null,
            "justify_items": null,
            "left": null,
            "margin": null,
            "max_height": null,
            "max_width": null,
            "min_height": null,
            "min_width": null,
            "object_fit": null,
            "object_position": null,
            "order": null,
            "overflow": null,
            "overflow_x": null,
            "overflow_y": null,
            "padding": null,
            "right": null,
            "top": null,
            "visibility": null,
            "width": null
          }
        },
        "807acd78a9394a9798cb3a9642ab3dc6": {
          "model_module": "@jupyter-widgets/controls",
          "model_name": "ProgressStyleModel",
          "model_module_version": "1.5.0",
          "state": {
            "_model_module": "@jupyter-widgets/controls",
            "_model_module_version": "1.5.0",
            "_model_name": "ProgressStyleModel",
            "_view_count": null,
            "_view_module": "@jupyter-widgets/base",
            "_view_module_version": "1.2.0",
            "_view_name": "StyleView",
            "bar_color": null,
            "description_width": ""
          }
        },
        "72b152c7a6a74b1c949327f22d12a918": {
          "model_module": "@jupyter-widgets/base",
          "model_name": "LayoutModel",
          "model_module_version": "1.2.0",
          "state": {
            "_model_module": "@jupyter-widgets/base",
            "_model_module_version": "1.2.0",
            "_model_name": "LayoutModel",
            "_view_count": null,
            "_view_module": "@jupyter-widgets/base",
            "_view_module_version": "1.2.0",
            "_view_name": "LayoutView",
            "align_content": null,
            "align_items": null,
            "align_self": null,
            "border": null,
            "bottom": null,
            "display": null,
            "flex": null,
            "flex_flow": null,
            "grid_area": null,
            "grid_auto_columns": null,
            "grid_auto_flow": null,
            "grid_auto_rows": null,
            "grid_column": null,
            "grid_gap": null,
            "grid_row": null,
            "grid_template_areas": null,
            "grid_template_columns": null,
            "grid_template_rows": null,
            "height": null,
            "justify_content": null,
            "justify_items": null,
            "left": null,
            "margin": null,
            "max_height": null,
            "max_width": null,
            "min_height": null,
            "min_width": null,
            "object_fit": null,
            "object_position": null,
            "order": null,
            "overflow": null,
            "overflow_x": null,
            "overflow_y": null,
            "padding": null,
            "right": null,
            "top": null,
            "visibility": null,
            "width": null
          }
        },
        "0a18f2417a474728b7207c4ca7f02930": {
          "model_module": "@jupyter-widgets/controls",
          "model_name": "DescriptionStyleModel",
          "model_module_version": "1.5.0",
          "state": {
            "_model_module": "@jupyter-widgets/controls",
            "_model_module_version": "1.5.0",
            "_model_name": "DescriptionStyleModel",
            "_view_count": null,
            "_view_module": "@jupyter-widgets/base",
            "_view_module_version": "1.2.0",
            "_view_name": "StyleView",
            "description_width": ""
          }
        },
        "fb3233f77e7841dca914eeb6fe62d26f": {
          "model_module": "@jupyter-widgets/controls",
          "model_name": "HBoxModel",
          "model_module_version": "1.5.0",
          "state": {
            "_dom_classes": [],
            "_model_module": "@jupyter-widgets/controls",
            "_model_module_version": "1.5.0",
            "_model_name": "HBoxModel",
            "_view_count": null,
            "_view_module": "@jupyter-widgets/controls",
            "_view_module_version": "1.5.0",
            "_view_name": "HBoxView",
            "box_style": "",
            "children": [
              "IPY_MODEL_3cbf1246b7674616ae0a32b3b929463b",
              "IPY_MODEL_1b0f63e0a7344403bbec0b210d397901",
              "IPY_MODEL_4cefe4f4495843a4afa70198fc812ef8"
            ],
            "layout": "IPY_MODEL_db85668e5b654bda95e3336472d0a3b2"
          }
        },
        "3cbf1246b7674616ae0a32b3b929463b": {
          "model_module": "@jupyter-widgets/controls",
          "model_name": "HTMLModel",
          "model_module_version": "1.5.0",
          "state": {
            "_dom_classes": [],
            "_model_module": "@jupyter-widgets/controls",
            "_model_module_version": "1.5.0",
            "_model_name": "HTMLModel",
            "_view_count": null,
            "_view_module": "@jupyter-widgets/controls",
            "_view_module_version": "1.5.0",
            "_view_name": "HTMLView",
            "description": "",
            "description_tooltip": null,
            "layout": "IPY_MODEL_6b9f5fe7b39546ffa8f00ec4f673c5ab",
            "placeholder": "​",
            "style": "IPY_MODEL_7605f296355f4b34bbdf710f1b9f1581",
            "value": "model.safetensors.index.json: 100%"
          }
        },
        "1b0f63e0a7344403bbec0b210d397901": {
          "model_module": "@jupyter-widgets/controls",
          "model_name": "FloatProgressModel",
          "model_module_version": "1.5.0",
          "state": {
            "_dom_classes": [],
            "_model_module": "@jupyter-widgets/controls",
            "_model_module_version": "1.5.0",
            "_model_name": "FloatProgressModel",
            "_view_count": null,
            "_view_module": "@jupyter-widgets/controls",
            "_view_module_version": "1.5.0",
            "_view_name": "ProgressView",
            "bar_style": "success",
            "description": "",
            "description_tooltip": null,
            "layout": "IPY_MODEL_79c408a4aed949b5a38cd576b68d25ce",
            "max": 20920,
            "min": 0,
            "orientation": "horizontal",
            "style": "IPY_MODEL_e414ba88ea8546e0b0e59b0ad0543d52",
            "value": 20920
          }
        },
        "4cefe4f4495843a4afa70198fc812ef8": {
          "model_module": "@jupyter-widgets/controls",
          "model_name": "HTMLModel",
          "model_module_version": "1.5.0",
          "state": {
            "_dom_classes": [],
            "_model_module": "@jupyter-widgets/controls",
            "_model_module_version": "1.5.0",
            "_model_name": "HTMLModel",
            "_view_count": null,
            "_view_module": "@jupyter-widgets/controls",
            "_view_module_version": "1.5.0",
            "_view_name": "HTMLView",
            "description": "",
            "description_tooltip": null,
            "layout": "IPY_MODEL_44ae8589d5ff4b24a8957ed915433f04",
            "placeholder": "​",
            "style": "IPY_MODEL_8a917d7a55814482848ebb61e13fd5a0",
            "value": " 20.9k/20.9k [00:00&lt;00:00, 1.05MB/s]"
          }
        },
        "db85668e5b654bda95e3336472d0a3b2": {
          "model_module": "@jupyter-widgets/base",
          "model_name": "LayoutModel",
          "model_module_version": "1.2.0",
          "state": {
            "_model_module": "@jupyter-widgets/base",
            "_model_module_version": "1.2.0",
            "_model_name": "LayoutModel",
            "_view_count": null,
            "_view_module": "@jupyter-widgets/base",
            "_view_module_version": "1.2.0",
            "_view_name": "LayoutView",
            "align_content": null,
            "align_items": null,
            "align_self": null,
            "border": null,
            "bottom": null,
            "display": null,
            "flex": null,
            "flex_flow": null,
            "grid_area": null,
            "grid_auto_columns": null,
            "grid_auto_flow": null,
            "grid_auto_rows": null,
            "grid_column": null,
            "grid_gap": null,
            "grid_row": null,
            "grid_template_areas": null,
            "grid_template_columns": null,
            "grid_template_rows": null,
            "height": null,
            "justify_content": null,
            "justify_items": null,
            "left": null,
            "margin": null,
            "max_height": null,
            "max_width": null,
            "min_height": null,
            "min_width": null,
            "object_fit": null,
            "object_position": null,
            "order": null,
            "overflow": null,
            "overflow_x": null,
            "overflow_y": null,
            "padding": null,
            "right": null,
            "top": null,
            "visibility": null,
            "width": null
          }
        },
        "6b9f5fe7b39546ffa8f00ec4f673c5ab": {
          "model_module": "@jupyter-widgets/base",
          "model_name": "LayoutModel",
          "model_module_version": "1.2.0",
          "state": {
            "_model_module": "@jupyter-widgets/base",
            "_model_module_version": "1.2.0",
            "_model_name": "LayoutModel",
            "_view_count": null,
            "_view_module": "@jupyter-widgets/base",
            "_view_module_version": "1.2.0",
            "_view_name": "LayoutView",
            "align_content": null,
            "align_items": null,
            "align_self": null,
            "border": null,
            "bottom": null,
            "display": null,
            "flex": null,
            "flex_flow": null,
            "grid_area": null,
            "grid_auto_columns": null,
            "grid_auto_flow": null,
            "grid_auto_rows": null,
            "grid_column": null,
            "grid_gap": null,
            "grid_row": null,
            "grid_template_areas": null,
            "grid_template_columns": null,
            "grid_template_rows": null,
            "height": null,
            "justify_content": null,
            "justify_items": null,
            "left": null,
            "margin": null,
            "max_height": null,
            "max_width": null,
            "min_height": null,
            "min_width": null,
            "object_fit": null,
            "object_position": null,
            "order": null,
            "overflow": null,
            "overflow_x": null,
            "overflow_y": null,
            "padding": null,
            "right": null,
            "top": null,
            "visibility": null,
            "width": null
          }
        },
        "7605f296355f4b34bbdf710f1b9f1581": {
          "model_module": "@jupyter-widgets/controls",
          "model_name": "DescriptionStyleModel",
          "model_module_version": "1.5.0",
          "state": {
            "_model_module": "@jupyter-widgets/controls",
            "_model_module_version": "1.5.0",
            "_model_name": "DescriptionStyleModel",
            "_view_count": null,
            "_view_module": "@jupyter-widgets/base",
            "_view_module_version": "1.2.0",
            "_view_name": "StyleView",
            "description_width": ""
          }
        },
        "79c408a4aed949b5a38cd576b68d25ce": {
          "model_module": "@jupyter-widgets/base",
          "model_name": "LayoutModel",
          "model_module_version": "1.2.0",
          "state": {
            "_model_module": "@jupyter-widgets/base",
            "_model_module_version": "1.2.0",
            "_model_name": "LayoutModel",
            "_view_count": null,
            "_view_module": "@jupyter-widgets/base",
            "_view_module_version": "1.2.0",
            "_view_name": "LayoutView",
            "align_content": null,
            "align_items": null,
            "align_self": null,
            "border": null,
            "bottom": null,
            "display": null,
            "flex": null,
            "flex_flow": null,
            "grid_area": null,
            "grid_auto_columns": null,
            "grid_auto_flow": null,
            "grid_auto_rows": null,
            "grid_column": null,
            "grid_gap": null,
            "grid_row": null,
            "grid_template_areas": null,
            "grid_template_columns": null,
            "grid_template_rows": null,
            "height": null,
            "justify_content": null,
            "justify_items": null,
            "left": null,
            "margin": null,
            "max_height": null,
            "max_width": null,
            "min_height": null,
            "min_width": null,
            "object_fit": null,
            "object_position": null,
            "order": null,
            "overflow": null,
            "overflow_x": null,
            "overflow_y": null,
            "padding": null,
            "right": null,
            "top": null,
            "visibility": null,
            "width": null
          }
        },
        "e414ba88ea8546e0b0e59b0ad0543d52": {
          "model_module": "@jupyter-widgets/controls",
          "model_name": "ProgressStyleModel",
          "model_module_version": "1.5.0",
          "state": {
            "_model_module": "@jupyter-widgets/controls",
            "_model_module_version": "1.5.0",
            "_model_name": "ProgressStyleModel",
            "_view_count": null,
            "_view_module": "@jupyter-widgets/base",
            "_view_module_version": "1.2.0",
            "_view_name": "StyleView",
            "bar_color": null,
            "description_width": ""
          }
        },
        "44ae8589d5ff4b24a8957ed915433f04": {
          "model_module": "@jupyter-widgets/base",
          "model_name": "LayoutModel",
          "model_module_version": "1.2.0",
          "state": {
            "_model_module": "@jupyter-widgets/base",
            "_model_module_version": "1.2.0",
            "_model_name": "LayoutModel",
            "_view_count": null,
            "_view_module": "@jupyter-widgets/base",
            "_view_module_version": "1.2.0",
            "_view_name": "LayoutView",
            "align_content": null,
            "align_items": null,
            "align_self": null,
            "border": null,
            "bottom": null,
            "display": null,
            "flex": null,
            "flex_flow": null,
            "grid_area": null,
            "grid_auto_columns": null,
            "grid_auto_flow": null,
            "grid_auto_rows": null,
            "grid_column": null,
            "grid_gap": null,
            "grid_row": null,
            "grid_template_areas": null,
            "grid_template_columns": null,
            "grid_template_rows": null,
            "height": null,
            "justify_content": null,
            "justify_items": null,
            "left": null,
            "margin": null,
            "max_height": null,
            "max_width": null,
            "min_height": null,
            "min_width": null,
            "object_fit": null,
            "object_position": null,
            "order": null,
            "overflow": null,
            "overflow_x": null,
            "overflow_y": null,
            "padding": null,
            "right": null,
            "top": null,
            "visibility": null,
            "width": null
          }
        },
        "8a917d7a55814482848ebb61e13fd5a0": {
          "model_module": "@jupyter-widgets/controls",
          "model_name": "DescriptionStyleModel",
          "model_module_version": "1.5.0",
          "state": {
            "_model_module": "@jupyter-widgets/controls",
            "_model_module_version": "1.5.0",
            "_model_name": "DescriptionStyleModel",
            "_view_count": null,
            "_view_module": "@jupyter-widgets/base",
            "_view_module_version": "1.2.0",
            "_view_name": "StyleView",
            "description_width": ""
          }
        },
        "406316a05d804c7984e11ba4f1bc4171": {
          "model_module": "@jupyter-widgets/controls",
          "model_name": "HBoxModel",
          "model_module_version": "1.5.0",
          "state": {
            "_dom_classes": [],
            "_model_module": "@jupyter-widgets/controls",
            "_model_module_version": "1.5.0",
            "_model_name": "HBoxModel",
            "_view_count": null,
            "_view_module": "@jupyter-widgets/controls",
            "_view_module_version": "1.5.0",
            "_view_name": "HBoxView",
            "box_style": "",
            "children": [
              "IPY_MODEL_f48767e6cf6340dda22be56a9752fcfc",
              "IPY_MODEL_30e081ea4bb142979e6e40d49e83dbd2",
              "IPY_MODEL_0b650a8fc956494ba74790ec31c55e46"
            ],
            "layout": "IPY_MODEL_b019f164b04c40f9a4316a98534a8d2d"
          }
        },
        "f48767e6cf6340dda22be56a9752fcfc": {
          "model_module": "@jupyter-widgets/controls",
          "model_name": "HTMLModel",
          "model_module_version": "1.5.0",
          "state": {
            "_dom_classes": [],
            "_model_module": "@jupyter-widgets/controls",
            "_model_module_version": "1.5.0",
            "_model_name": "HTMLModel",
            "_view_count": null,
            "_view_module": "@jupyter-widgets/controls",
            "_view_module_version": "1.5.0",
            "_view_name": "HTMLView",
            "description": "",
            "description_tooltip": null,
            "layout": "IPY_MODEL_34111a97b167433f85617413a3ff7fbd",
            "placeholder": "​",
            "style": "IPY_MODEL_76076d4ba4ec419aa79b74b7f06659fa",
            "value": "Downloading shards: 100%"
          }
        },
        "30e081ea4bb142979e6e40d49e83dbd2": {
          "model_module": "@jupyter-widgets/controls",
          "model_name": "FloatProgressModel",
          "model_module_version": "1.5.0",
          "state": {
            "_dom_classes": [],
            "_model_module": "@jupyter-widgets/controls",
            "_model_module_version": "1.5.0",
            "_model_name": "FloatProgressModel",
            "_view_count": null,
            "_view_module": "@jupyter-widgets/controls",
            "_view_module_version": "1.5.0",
            "_view_name": "ProgressView",
            "bar_style": "success",
            "description": "",
            "description_tooltip": null,
            "layout": "IPY_MODEL_1f079374bcd64917b75642bd28ec8bf6",
            "max": 4,
            "min": 0,
            "orientation": "horizontal",
            "style": "IPY_MODEL_8f986d29c43b4343a13ae6e4cc80d4f4",
            "value": 4
          }
        },
        "0b650a8fc956494ba74790ec31c55e46": {
          "model_module": "@jupyter-widgets/controls",
          "model_name": "HTMLModel",
          "model_module_version": "1.5.0",
          "state": {
            "_dom_classes": [],
            "_model_module": "@jupyter-widgets/controls",
            "_model_module_version": "1.5.0",
            "_model_name": "HTMLModel",
            "_view_count": null,
            "_view_module": "@jupyter-widgets/controls",
            "_view_module_version": "1.5.0",
            "_view_name": "HTMLView",
            "description": "",
            "description_tooltip": null,
            "layout": "IPY_MODEL_5ae6596ea32b4362a3cc715067158359",
            "placeholder": "​",
            "style": "IPY_MODEL_4dcf6d1d9fb24283b60bec7af3e6b059",
            "value": " 4/4 [02:20&lt;00:00, 31.73s/it]"
          }
        },
        "b019f164b04c40f9a4316a98534a8d2d": {
          "model_module": "@jupyter-widgets/base",
          "model_name": "LayoutModel",
          "model_module_version": "1.2.0",
          "state": {
            "_model_module": "@jupyter-widgets/base",
            "_model_module_version": "1.2.0",
            "_model_name": "LayoutModel",
            "_view_count": null,
            "_view_module": "@jupyter-widgets/base",
            "_view_module_version": "1.2.0",
            "_view_name": "LayoutView",
            "align_content": null,
            "align_items": null,
            "align_self": null,
            "border": null,
            "bottom": null,
            "display": null,
            "flex": null,
            "flex_flow": null,
            "grid_area": null,
            "grid_auto_columns": null,
            "grid_auto_flow": null,
            "grid_auto_rows": null,
            "grid_column": null,
            "grid_gap": null,
            "grid_row": null,
            "grid_template_areas": null,
            "grid_template_columns": null,
            "grid_template_rows": null,
            "height": null,
            "justify_content": null,
            "justify_items": null,
            "left": null,
            "margin": null,
            "max_height": null,
            "max_width": null,
            "min_height": null,
            "min_width": null,
            "object_fit": null,
            "object_position": null,
            "order": null,
            "overflow": null,
            "overflow_x": null,
            "overflow_y": null,
            "padding": null,
            "right": null,
            "top": null,
            "visibility": null,
            "width": null
          }
        },
        "34111a97b167433f85617413a3ff7fbd": {
          "model_module": "@jupyter-widgets/base",
          "model_name": "LayoutModel",
          "model_module_version": "1.2.0",
          "state": {
            "_model_module": "@jupyter-widgets/base",
            "_model_module_version": "1.2.0",
            "_model_name": "LayoutModel",
            "_view_count": null,
            "_view_module": "@jupyter-widgets/base",
            "_view_module_version": "1.2.0",
            "_view_name": "LayoutView",
            "align_content": null,
            "align_items": null,
            "align_self": null,
            "border": null,
            "bottom": null,
            "display": null,
            "flex": null,
            "flex_flow": null,
            "grid_area": null,
            "grid_auto_columns": null,
            "grid_auto_flow": null,
            "grid_auto_rows": null,
            "grid_column": null,
            "grid_gap": null,
            "grid_row": null,
            "grid_template_areas": null,
            "grid_template_columns": null,
            "grid_template_rows": null,
            "height": null,
            "justify_content": null,
            "justify_items": null,
            "left": null,
            "margin": null,
            "max_height": null,
            "max_width": null,
            "min_height": null,
            "min_width": null,
            "object_fit": null,
            "object_position": null,
            "order": null,
            "overflow": null,
            "overflow_x": null,
            "overflow_y": null,
            "padding": null,
            "right": null,
            "top": null,
            "visibility": null,
            "width": null
          }
        },
        "76076d4ba4ec419aa79b74b7f06659fa": {
          "model_module": "@jupyter-widgets/controls",
          "model_name": "DescriptionStyleModel",
          "model_module_version": "1.5.0",
          "state": {
            "_model_module": "@jupyter-widgets/controls",
            "_model_module_version": "1.5.0",
            "_model_name": "DescriptionStyleModel",
            "_view_count": null,
            "_view_module": "@jupyter-widgets/base",
            "_view_module_version": "1.2.0",
            "_view_name": "StyleView",
            "description_width": ""
          }
        },
        "1f079374bcd64917b75642bd28ec8bf6": {
          "model_module": "@jupyter-widgets/base",
          "model_name": "LayoutModel",
          "model_module_version": "1.2.0",
          "state": {
            "_model_module": "@jupyter-widgets/base",
            "_model_module_version": "1.2.0",
            "_model_name": "LayoutModel",
            "_view_count": null,
            "_view_module": "@jupyter-widgets/base",
            "_view_module_version": "1.2.0",
            "_view_name": "LayoutView",
            "align_content": null,
            "align_items": null,
            "align_self": null,
            "border": null,
            "bottom": null,
            "display": null,
            "flex": null,
            "flex_flow": null,
            "grid_area": null,
            "grid_auto_columns": null,
            "grid_auto_flow": null,
            "grid_auto_rows": null,
            "grid_column": null,
            "grid_gap": null,
            "grid_row": null,
            "grid_template_areas": null,
            "grid_template_columns": null,
            "grid_template_rows": null,
            "height": null,
            "justify_content": null,
            "justify_items": null,
            "left": null,
            "margin": null,
            "max_height": null,
            "max_width": null,
            "min_height": null,
            "min_width": null,
            "object_fit": null,
            "object_position": null,
            "order": null,
            "overflow": null,
            "overflow_x": null,
            "overflow_y": null,
            "padding": null,
            "right": null,
            "top": null,
            "visibility": null,
            "width": null
          }
        },
        "8f986d29c43b4343a13ae6e4cc80d4f4": {
          "model_module": "@jupyter-widgets/controls",
          "model_name": "ProgressStyleModel",
          "model_module_version": "1.5.0",
          "state": {
            "_model_module": "@jupyter-widgets/controls",
            "_model_module_version": "1.5.0",
            "_model_name": "ProgressStyleModel",
            "_view_count": null,
            "_view_module": "@jupyter-widgets/base",
            "_view_module_version": "1.2.0",
            "_view_name": "StyleView",
            "bar_color": null,
            "description_width": ""
          }
        },
        "5ae6596ea32b4362a3cc715067158359": {
          "model_module": "@jupyter-widgets/base",
          "model_name": "LayoutModel",
          "model_module_version": "1.2.0",
          "state": {
            "_model_module": "@jupyter-widgets/base",
            "_model_module_version": "1.2.0",
            "_model_name": "LayoutModel",
            "_view_count": null,
            "_view_module": "@jupyter-widgets/base",
            "_view_module_version": "1.2.0",
            "_view_name": "LayoutView",
            "align_content": null,
            "align_items": null,
            "align_self": null,
            "border": null,
            "bottom": null,
            "display": null,
            "flex": null,
            "flex_flow": null,
            "grid_area": null,
            "grid_auto_columns": null,
            "grid_auto_flow": null,
            "grid_auto_rows": null,
            "grid_column": null,
            "grid_gap": null,
            "grid_row": null,
            "grid_template_areas": null,
            "grid_template_columns": null,
            "grid_template_rows": null,
            "height": null,
            "justify_content": null,
            "justify_items": null,
            "left": null,
            "margin": null,
            "max_height": null,
            "max_width": null,
            "min_height": null,
            "min_width": null,
            "object_fit": null,
            "object_position": null,
            "order": null,
            "overflow": null,
            "overflow_x": null,
            "overflow_y": null,
            "padding": null,
            "right": null,
            "top": null,
            "visibility": null,
            "width": null
          }
        },
        "4dcf6d1d9fb24283b60bec7af3e6b059": {
          "model_module": "@jupyter-widgets/controls",
          "model_name": "DescriptionStyleModel",
          "model_module_version": "1.5.0",
          "state": {
            "_model_module": "@jupyter-widgets/controls",
            "_model_module_version": "1.5.0",
            "_model_name": "DescriptionStyleModel",
            "_view_count": null,
            "_view_module": "@jupyter-widgets/base",
            "_view_module_version": "1.2.0",
            "_view_name": "StyleView",
            "description_width": ""
          }
        },
        "f214dcf62b42414a9bd1d3b87f242110": {
          "model_module": "@jupyter-widgets/controls",
          "model_name": "HBoxModel",
          "model_module_version": "1.5.0",
          "state": {
            "_dom_classes": [],
            "_model_module": "@jupyter-widgets/controls",
            "_model_module_version": "1.5.0",
            "_model_name": "HBoxModel",
            "_view_count": null,
            "_view_module": "@jupyter-widgets/controls",
            "_view_module_version": "1.5.0",
            "_view_name": "HBoxView",
            "box_style": "",
            "children": [
              "IPY_MODEL_f1b86658c6904ed9b9d74a1a55a179d2",
              "IPY_MODEL_c4d2ce49598447059f3731642ef0c280",
              "IPY_MODEL_785ffc1c961440bd83b473896b55c634"
            ],
            "layout": "IPY_MODEL_7c0d5117af7b4ab482c806e93b57e13d"
          }
        },
        "f1b86658c6904ed9b9d74a1a55a179d2": {
          "model_module": "@jupyter-widgets/controls",
          "model_name": "HTMLModel",
          "model_module_version": "1.5.0",
          "state": {
            "_dom_classes": [],
            "_model_module": "@jupyter-widgets/controls",
            "_model_module_version": "1.5.0",
            "_model_name": "HTMLModel",
            "_view_count": null,
            "_view_module": "@jupyter-widgets/controls",
            "_view_module_version": "1.5.0",
            "_view_name": "HTMLView",
            "description": "",
            "description_tooltip": null,
            "layout": "IPY_MODEL_c7e63a11c56c47eba145f99e34657213",
            "placeholder": "​",
            "style": "IPY_MODEL_d68a4c66a8934dbfb0c3eec37d051e45",
            "value": "model-00001-of-00004.safetensors: 100%"
          }
        },
        "c4d2ce49598447059f3731642ef0c280": {
          "model_module": "@jupyter-widgets/controls",
          "model_name": "FloatProgressModel",
          "model_module_version": "1.5.0",
          "state": {
            "_dom_classes": [],
            "_model_module": "@jupyter-widgets/controls",
            "_model_module_version": "1.5.0",
            "_model_name": "FloatProgressModel",
            "_view_count": null,
            "_view_module": "@jupyter-widgets/controls",
            "_view_module_version": "1.5.0",
            "_view_name": "ProgressView",
            "bar_style": "success",
            "description": "",
            "description_tooltip": null,
            "layout": "IPY_MODEL_989a156cfb364e109b011fb113eab9ed",
            "max": 4995496656,
            "min": 0,
            "orientation": "horizontal",
            "style": "IPY_MODEL_290a299ef1e64892ad5678fc937fd87a",
            "value": 4995496656
          }
        },
        "785ffc1c961440bd83b473896b55c634": {
          "model_module": "@jupyter-widgets/controls",
          "model_name": "HTMLModel",
          "model_module_version": "1.5.0",
          "state": {
            "_dom_classes": [],
            "_model_module": "@jupyter-widgets/controls",
            "_model_module_version": "1.5.0",
            "_model_name": "HTMLModel",
            "_view_count": null,
            "_view_module": "@jupyter-widgets/controls",
            "_view_module_version": "1.5.0",
            "_view_name": "HTMLView",
            "description": "",
            "description_tooltip": null,
            "layout": "IPY_MODEL_1d938ea0b7224c07a85aa6803848f9a0",
            "placeholder": "​",
            "style": "IPY_MODEL_11489636eecf4cb995cb334c0bb24fb7",
            "value": " 5.00G/5.00G [00:46&lt;00:00, 147MB/s]"
          }
        },
        "7c0d5117af7b4ab482c806e93b57e13d": {
          "model_module": "@jupyter-widgets/base",
          "model_name": "LayoutModel",
          "model_module_version": "1.2.0",
          "state": {
            "_model_module": "@jupyter-widgets/base",
            "_model_module_version": "1.2.0",
            "_model_name": "LayoutModel",
            "_view_count": null,
            "_view_module": "@jupyter-widgets/base",
            "_view_module_version": "1.2.0",
            "_view_name": "LayoutView",
            "align_content": null,
            "align_items": null,
            "align_self": null,
            "border": null,
            "bottom": null,
            "display": null,
            "flex": null,
            "flex_flow": null,
            "grid_area": null,
            "grid_auto_columns": null,
            "grid_auto_flow": null,
            "grid_auto_rows": null,
            "grid_column": null,
            "grid_gap": null,
            "grid_row": null,
            "grid_template_areas": null,
            "grid_template_columns": null,
            "grid_template_rows": null,
            "height": null,
            "justify_content": null,
            "justify_items": null,
            "left": null,
            "margin": null,
            "max_height": null,
            "max_width": null,
            "min_height": null,
            "min_width": null,
            "object_fit": null,
            "object_position": null,
            "order": null,
            "overflow": null,
            "overflow_x": null,
            "overflow_y": null,
            "padding": null,
            "right": null,
            "top": null,
            "visibility": null,
            "width": null
          }
        },
        "c7e63a11c56c47eba145f99e34657213": {
          "model_module": "@jupyter-widgets/base",
          "model_name": "LayoutModel",
          "model_module_version": "1.2.0",
          "state": {
            "_model_module": "@jupyter-widgets/base",
            "_model_module_version": "1.2.0",
            "_model_name": "LayoutModel",
            "_view_count": null,
            "_view_module": "@jupyter-widgets/base",
            "_view_module_version": "1.2.0",
            "_view_name": "LayoutView",
            "align_content": null,
            "align_items": null,
            "align_self": null,
            "border": null,
            "bottom": null,
            "display": null,
            "flex": null,
            "flex_flow": null,
            "grid_area": null,
            "grid_auto_columns": null,
            "grid_auto_flow": null,
            "grid_auto_rows": null,
            "grid_column": null,
            "grid_gap": null,
            "grid_row": null,
            "grid_template_areas": null,
            "grid_template_columns": null,
            "grid_template_rows": null,
            "height": null,
            "justify_content": null,
            "justify_items": null,
            "left": null,
            "margin": null,
            "max_height": null,
            "max_width": null,
            "min_height": null,
            "min_width": null,
            "object_fit": null,
            "object_position": null,
            "order": null,
            "overflow": null,
            "overflow_x": null,
            "overflow_y": null,
            "padding": null,
            "right": null,
            "top": null,
            "visibility": null,
            "width": null
          }
        },
        "d68a4c66a8934dbfb0c3eec37d051e45": {
          "model_module": "@jupyter-widgets/controls",
          "model_name": "DescriptionStyleModel",
          "model_module_version": "1.5.0",
          "state": {
            "_model_module": "@jupyter-widgets/controls",
            "_model_module_version": "1.5.0",
            "_model_name": "DescriptionStyleModel",
            "_view_count": null,
            "_view_module": "@jupyter-widgets/base",
            "_view_module_version": "1.2.0",
            "_view_name": "StyleView",
            "description_width": ""
          }
        },
        "989a156cfb364e109b011fb113eab9ed": {
          "model_module": "@jupyter-widgets/base",
          "model_name": "LayoutModel",
          "model_module_version": "1.2.0",
          "state": {
            "_model_module": "@jupyter-widgets/base",
            "_model_module_version": "1.2.0",
            "_model_name": "LayoutModel",
            "_view_count": null,
            "_view_module": "@jupyter-widgets/base",
            "_view_module_version": "1.2.0",
            "_view_name": "LayoutView",
            "align_content": null,
            "align_items": null,
            "align_self": null,
            "border": null,
            "bottom": null,
            "display": null,
            "flex": null,
            "flex_flow": null,
            "grid_area": null,
            "grid_auto_columns": null,
            "grid_auto_flow": null,
            "grid_auto_rows": null,
            "grid_column": null,
            "grid_gap": null,
            "grid_row": null,
            "grid_template_areas": null,
            "grid_template_columns": null,
            "grid_template_rows": null,
            "height": null,
            "justify_content": null,
            "justify_items": null,
            "left": null,
            "margin": null,
            "max_height": null,
            "max_width": null,
            "min_height": null,
            "min_width": null,
            "object_fit": null,
            "object_position": null,
            "order": null,
            "overflow": null,
            "overflow_x": null,
            "overflow_y": null,
            "padding": null,
            "right": null,
            "top": null,
            "visibility": null,
            "width": null
          }
        },
        "290a299ef1e64892ad5678fc937fd87a": {
          "model_module": "@jupyter-widgets/controls",
          "model_name": "ProgressStyleModel",
          "model_module_version": "1.5.0",
          "state": {
            "_model_module": "@jupyter-widgets/controls",
            "_model_module_version": "1.5.0",
            "_model_name": "ProgressStyleModel",
            "_view_count": null,
            "_view_module": "@jupyter-widgets/base",
            "_view_module_version": "1.2.0",
            "_view_name": "StyleView",
            "bar_color": null,
            "description_width": ""
          }
        },
        "1d938ea0b7224c07a85aa6803848f9a0": {
          "model_module": "@jupyter-widgets/base",
          "model_name": "LayoutModel",
          "model_module_version": "1.2.0",
          "state": {
            "_model_module": "@jupyter-widgets/base",
            "_model_module_version": "1.2.0",
            "_model_name": "LayoutModel",
            "_view_count": null,
            "_view_module": "@jupyter-widgets/base",
            "_view_module_version": "1.2.0",
            "_view_name": "LayoutView",
            "align_content": null,
            "align_items": null,
            "align_self": null,
            "border": null,
            "bottom": null,
            "display": null,
            "flex": null,
            "flex_flow": null,
            "grid_area": null,
            "grid_auto_columns": null,
            "grid_auto_flow": null,
            "grid_auto_rows": null,
            "grid_column": null,
            "grid_gap": null,
            "grid_row": null,
            "grid_template_areas": null,
            "grid_template_columns": null,
            "grid_template_rows": null,
            "height": null,
            "justify_content": null,
            "justify_items": null,
            "left": null,
            "margin": null,
            "max_height": null,
            "max_width": null,
            "min_height": null,
            "min_width": null,
            "object_fit": null,
            "object_position": null,
            "order": null,
            "overflow": null,
            "overflow_x": null,
            "overflow_y": null,
            "padding": null,
            "right": null,
            "top": null,
            "visibility": null,
            "width": null
          }
        },
        "11489636eecf4cb995cb334c0bb24fb7": {
          "model_module": "@jupyter-widgets/controls",
          "model_name": "DescriptionStyleModel",
          "model_module_version": "1.5.0",
          "state": {
            "_model_module": "@jupyter-widgets/controls",
            "_model_module_version": "1.5.0",
            "_model_name": "DescriptionStyleModel",
            "_view_count": null,
            "_view_module": "@jupyter-widgets/base",
            "_view_module_version": "1.2.0",
            "_view_name": "StyleView",
            "description_width": ""
          }
        },
        "ec4541a6ebc84f44b8d33e0fa77dfb1f": {
          "model_module": "@jupyter-widgets/controls",
          "model_name": "HBoxModel",
          "model_module_version": "1.5.0",
          "state": {
            "_dom_classes": [],
            "_model_module": "@jupyter-widgets/controls",
            "_model_module_version": "1.5.0",
            "_model_name": "HBoxModel",
            "_view_count": null,
            "_view_module": "@jupyter-widgets/controls",
            "_view_module_version": "1.5.0",
            "_view_name": "HBoxView",
            "box_style": "",
            "children": [
              "IPY_MODEL_1ae7265d32b74b1e9a3760e1568de51d",
              "IPY_MODEL_c488404a9ec94919b3ffb598c0491387",
              "IPY_MODEL_f83d7441d2f044439e015cfe80540186"
            ],
            "layout": "IPY_MODEL_b514e55ddebf4f728d081094983e1aa8"
          }
        },
        "1ae7265d32b74b1e9a3760e1568de51d": {
          "model_module": "@jupyter-widgets/controls",
          "model_name": "HTMLModel",
          "model_module_version": "1.5.0",
          "state": {
            "_dom_classes": [],
            "_model_module": "@jupyter-widgets/controls",
            "_model_module_version": "1.5.0",
            "_model_name": "HTMLModel",
            "_view_count": null,
            "_view_module": "@jupyter-widgets/controls",
            "_view_module_version": "1.5.0",
            "_view_name": "HTMLView",
            "description": "",
            "description_tooltip": null,
            "layout": "IPY_MODEL_d999c2d2b9964a1fbbbcfd3bb85a0969",
            "placeholder": "​",
            "style": "IPY_MODEL_bdc0090f45ad4479b226dfe36b6d5f6d",
            "value": "model-00002-of-00004.safetensors: 100%"
          }
        },
        "c488404a9ec94919b3ffb598c0491387": {
          "model_module": "@jupyter-widgets/controls",
          "model_name": "FloatProgressModel",
          "model_module_version": "1.5.0",
          "state": {
            "_dom_classes": [],
            "_model_module": "@jupyter-widgets/controls",
            "_model_module_version": "1.5.0",
            "_model_name": "FloatProgressModel",
            "_view_count": null,
            "_view_module": "@jupyter-widgets/controls",
            "_view_module_version": "1.5.0",
            "_view_name": "ProgressView",
            "bar_style": "success",
            "description": "",
            "description_tooltip": null,
            "layout": "IPY_MODEL_268117bd028742e4a0fcb5bf94d40755",
            "max": 4982953168,
            "min": 0,
            "orientation": "horizontal",
            "style": "IPY_MODEL_449339e7f12b43e99431b09c1b2e8ccd",
            "value": 4982953168
          }
        },
        "f83d7441d2f044439e015cfe80540186": {
          "model_module": "@jupyter-widgets/controls",
          "model_name": "HTMLModel",
          "model_module_version": "1.5.0",
          "state": {
            "_dom_classes": [],
            "_model_module": "@jupyter-widgets/controls",
            "_model_module_version": "1.5.0",
            "_model_name": "HTMLModel",
            "_view_count": null,
            "_view_module": "@jupyter-widgets/controls",
            "_view_module_version": "1.5.0",
            "_view_name": "HTMLView",
            "description": "",
            "description_tooltip": null,
            "layout": "IPY_MODEL_22cb1b6c491a49169db34815df1059c4",
            "placeholder": "​",
            "style": "IPY_MODEL_ab898111f6764e5c80f307a0c7f12ae7",
            "value": " 4.98G/4.98G [00:30&lt;00:00, 235MB/s]"
          }
        },
        "b514e55ddebf4f728d081094983e1aa8": {
          "model_module": "@jupyter-widgets/base",
          "model_name": "LayoutModel",
          "model_module_version": "1.2.0",
          "state": {
            "_model_module": "@jupyter-widgets/base",
            "_model_module_version": "1.2.0",
            "_model_name": "LayoutModel",
            "_view_count": null,
            "_view_module": "@jupyter-widgets/base",
            "_view_module_version": "1.2.0",
            "_view_name": "LayoutView",
            "align_content": null,
            "align_items": null,
            "align_self": null,
            "border": null,
            "bottom": null,
            "display": null,
            "flex": null,
            "flex_flow": null,
            "grid_area": null,
            "grid_auto_columns": null,
            "grid_auto_flow": null,
            "grid_auto_rows": null,
            "grid_column": null,
            "grid_gap": null,
            "grid_row": null,
            "grid_template_areas": null,
            "grid_template_columns": null,
            "grid_template_rows": null,
            "height": null,
            "justify_content": null,
            "justify_items": null,
            "left": null,
            "margin": null,
            "max_height": null,
            "max_width": null,
            "min_height": null,
            "min_width": null,
            "object_fit": null,
            "object_position": null,
            "order": null,
            "overflow": null,
            "overflow_x": null,
            "overflow_y": null,
            "padding": null,
            "right": null,
            "top": null,
            "visibility": null,
            "width": null
          }
        },
        "d999c2d2b9964a1fbbbcfd3bb85a0969": {
          "model_module": "@jupyter-widgets/base",
          "model_name": "LayoutModel",
          "model_module_version": "1.2.0",
          "state": {
            "_model_module": "@jupyter-widgets/base",
            "_model_module_version": "1.2.0",
            "_model_name": "LayoutModel",
            "_view_count": null,
            "_view_module": "@jupyter-widgets/base",
            "_view_module_version": "1.2.0",
            "_view_name": "LayoutView",
            "align_content": null,
            "align_items": null,
            "align_self": null,
            "border": null,
            "bottom": null,
            "display": null,
            "flex": null,
            "flex_flow": null,
            "grid_area": null,
            "grid_auto_columns": null,
            "grid_auto_flow": null,
            "grid_auto_rows": null,
            "grid_column": null,
            "grid_gap": null,
            "grid_row": null,
            "grid_template_areas": null,
            "grid_template_columns": null,
            "grid_template_rows": null,
            "height": null,
            "justify_content": null,
            "justify_items": null,
            "left": null,
            "margin": null,
            "max_height": null,
            "max_width": null,
            "min_height": null,
            "min_width": null,
            "object_fit": null,
            "object_position": null,
            "order": null,
            "overflow": null,
            "overflow_x": null,
            "overflow_y": null,
            "padding": null,
            "right": null,
            "top": null,
            "visibility": null,
            "width": null
          }
        },
        "bdc0090f45ad4479b226dfe36b6d5f6d": {
          "model_module": "@jupyter-widgets/controls",
          "model_name": "DescriptionStyleModel",
          "model_module_version": "1.5.0",
          "state": {
            "_model_module": "@jupyter-widgets/controls",
            "_model_module_version": "1.5.0",
            "_model_name": "DescriptionStyleModel",
            "_view_count": null,
            "_view_module": "@jupyter-widgets/base",
            "_view_module_version": "1.2.0",
            "_view_name": "StyleView",
            "description_width": ""
          }
        },
        "268117bd028742e4a0fcb5bf94d40755": {
          "model_module": "@jupyter-widgets/base",
          "model_name": "LayoutModel",
          "model_module_version": "1.2.0",
          "state": {
            "_model_module": "@jupyter-widgets/base",
            "_model_module_version": "1.2.0",
            "_model_name": "LayoutModel",
            "_view_count": null,
            "_view_module": "@jupyter-widgets/base",
            "_view_module_version": "1.2.0",
            "_view_name": "LayoutView",
            "align_content": null,
            "align_items": null,
            "align_self": null,
            "border": null,
            "bottom": null,
            "display": null,
            "flex": null,
            "flex_flow": null,
            "grid_area": null,
            "grid_auto_columns": null,
            "grid_auto_flow": null,
            "grid_auto_rows": null,
            "grid_column": null,
            "grid_gap": null,
            "grid_row": null,
            "grid_template_areas": null,
            "grid_template_columns": null,
            "grid_template_rows": null,
            "height": null,
            "justify_content": null,
            "justify_items": null,
            "left": null,
            "margin": null,
            "max_height": null,
            "max_width": null,
            "min_height": null,
            "min_width": null,
            "object_fit": null,
            "object_position": null,
            "order": null,
            "overflow": null,
            "overflow_x": null,
            "overflow_y": null,
            "padding": null,
            "right": null,
            "top": null,
            "visibility": null,
            "width": null
          }
        },
        "449339e7f12b43e99431b09c1b2e8ccd": {
          "model_module": "@jupyter-widgets/controls",
          "model_name": "ProgressStyleModel",
          "model_module_version": "1.5.0",
          "state": {
            "_model_module": "@jupyter-widgets/controls",
            "_model_module_version": "1.5.0",
            "_model_name": "ProgressStyleModel",
            "_view_count": null,
            "_view_module": "@jupyter-widgets/base",
            "_view_module_version": "1.2.0",
            "_view_name": "StyleView",
            "bar_color": null,
            "description_width": ""
          }
        },
        "22cb1b6c491a49169db34815df1059c4": {
          "model_module": "@jupyter-widgets/base",
          "model_name": "LayoutModel",
          "model_module_version": "1.2.0",
          "state": {
            "_model_module": "@jupyter-widgets/base",
            "_model_module_version": "1.2.0",
            "_model_name": "LayoutModel",
            "_view_count": null,
            "_view_module": "@jupyter-widgets/base",
            "_view_module_version": "1.2.0",
            "_view_name": "LayoutView",
            "align_content": null,
            "align_items": null,
            "align_self": null,
            "border": null,
            "bottom": null,
            "display": null,
            "flex": null,
            "flex_flow": null,
            "grid_area": null,
            "grid_auto_columns": null,
            "grid_auto_flow": null,
            "grid_auto_rows": null,
            "grid_column": null,
            "grid_gap": null,
            "grid_row": null,
            "grid_template_areas": null,
            "grid_template_columns": null,
            "grid_template_rows": null,
            "height": null,
            "justify_content": null,
            "justify_items": null,
            "left": null,
            "margin": null,
            "max_height": null,
            "max_width": null,
            "min_height": null,
            "min_width": null,
            "object_fit": null,
            "object_position": null,
            "order": null,
            "overflow": null,
            "overflow_x": null,
            "overflow_y": null,
            "padding": null,
            "right": null,
            "top": null,
            "visibility": null,
            "width": null
          }
        },
        "ab898111f6764e5c80f307a0c7f12ae7": {
          "model_module": "@jupyter-widgets/controls",
          "model_name": "DescriptionStyleModel",
          "model_module_version": "1.5.0",
          "state": {
            "_model_module": "@jupyter-widgets/controls",
            "_model_module_version": "1.5.0",
            "_model_name": "DescriptionStyleModel",
            "_view_count": null,
            "_view_module": "@jupyter-widgets/base",
            "_view_module_version": "1.2.0",
            "_view_name": "StyleView",
            "description_width": ""
          }
        },
        "9f47c89368754559bef5eaf5228043c3": {
          "model_module": "@jupyter-widgets/controls",
          "model_name": "HBoxModel",
          "model_module_version": "1.5.0",
          "state": {
            "_dom_classes": [],
            "_model_module": "@jupyter-widgets/controls",
            "_model_module_version": "1.5.0",
            "_model_name": "HBoxModel",
            "_view_count": null,
            "_view_module": "@jupyter-widgets/controls",
            "_view_module_version": "1.5.0",
            "_view_name": "HBoxView",
            "box_style": "",
            "children": [
              "IPY_MODEL_bdd0baa258064d938edd23cb3836f493",
              "IPY_MODEL_6a7c6c85ca6c495a9dbffd3937bfd563",
              "IPY_MODEL_5a1095bd31744e54a7cfb23608feddef"
            ],
            "layout": "IPY_MODEL_777832347764438292e625560c57805f"
          }
        },
        "bdd0baa258064d938edd23cb3836f493": {
          "model_module": "@jupyter-widgets/controls",
          "model_name": "HTMLModel",
          "model_module_version": "1.5.0",
          "state": {
            "_dom_classes": [],
            "_model_module": "@jupyter-widgets/controls",
            "_model_module_version": "1.5.0",
            "_model_name": "HTMLModel",
            "_view_count": null,
            "_view_module": "@jupyter-widgets/controls",
            "_view_module_version": "1.5.0",
            "_view_name": "HTMLView",
            "description": "",
            "description_tooltip": null,
            "layout": "IPY_MODEL_2d81bf76fe33428c91a378b2bf6cf498",
            "placeholder": "​",
            "style": "IPY_MODEL_261aeafbc29b43049abddaea6a86b179",
            "value": "model-00003-of-00004.safetensors: 100%"
          }
        },
        "6a7c6c85ca6c495a9dbffd3937bfd563": {
          "model_module": "@jupyter-widgets/controls",
          "model_name": "FloatProgressModel",
          "model_module_version": "1.5.0",
          "state": {
            "_dom_classes": [],
            "_model_module": "@jupyter-widgets/controls",
            "_model_module_version": "1.5.0",
            "_model_name": "FloatProgressModel",
            "_view_count": null,
            "_view_module": "@jupyter-widgets/controls",
            "_view_module_version": "1.5.0",
            "_view_name": "ProgressView",
            "bar_style": "success",
            "description": "",
            "description_tooltip": null,
            "layout": "IPY_MODEL_20c4b693a2d249b880f55fbf24145c05",
            "max": 4982953200,
            "min": 0,
            "orientation": "horizontal",
            "style": "IPY_MODEL_8245e330b61f41578ea4406d77648b18",
            "value": 4982953200
          }
        },
        "5a1095bd31744e54a7cfb23608feddef": {
          "model_module": "@jupyter-widgets/controls",
          "model_name": "HTMLModel",
          "model_module_version": "1.5.0",
          "state": {
            "_dom_classes": [],
            "_model_module": "@jupyter-widgets/controls",
            "_model_module_version": "1.5.0",
            "_model_name": "HTMLModel",
            "_view_count": null,
            "_view_module": "@jupyter-widgets/controls",
            "_view_module_version": "1.5.0",
            "_view_name": "HTMLView",
            "description": "",
            "description_tooltip": null,
            "layout": "IPY_MODEL_5139af92b3e14f869179664611c7246e",
            "placeholder": "​",
            "style": "IPY_MODEL_2dccd052352649dea3d4c0aa9382cc4d",
            "value": " 4.98G/4.98G [00:43&lt;00:00, 202MB/s]"
          }
        },
        "777832347764438292e625560c57805f": {
          "model_module": "@jupyter-widgets/base",
          "model_name": "LayoutModel",
          "model_module_version": "1.2.0",
          "state": {
            "_model_module": "@jupyter-widgets/base",
            "_model_module_version": "1.2.0",
            "_model_name": "LayoutModel",
            "_view_count": null,
            "_view_module": "@jupyter-widgets/base",
            "_view_module_version": "1.2.0",
            "_view_name": "LayoutView",
            "align_content": null,
            "align_items": null,
            "align_self": null,
            "border": null,
            "bottom": null,
            "display": null,
            "flex": null,
            "flex_flow": null,
            "grid_area": null,
            "grid_auto_columns": null,
            "grid_auto_flow": null,
            "grid_auto_rows": null,
            "grid_column": null,
            "grid_gap": null,
            "grid_row": null,
            "grid_template_areas": null,
            "grid_template_columns": null,
            "grid_template_rows": null,
            "height": null,
            "justify_content": null,
            "justify_items": null,
            "left": null,
            "margin": null,
            "max_height": null,
            "max_width": null,
            "min_height": null,
            "min_width": null,
            "object_fit": null,
            "object_position": null,
            "order": null,
            "overflow": null,
            "overflow_x": null,
            "overflow_y": null,
            "padding": null,
            "right": null,
            "top": null,
            "visibility": null,
            "width": null
          }
        },
        "2d81bf76fe33428c91a378b2bf6cf498": {
          "model_module": "@jupyter-widgets/base",
          "model_name": "LayoutModel",
          "model_module_version": "1.2.0",
          "state": {
            "_model_module": "@jupyter-widgets/base",
            "_model_module_version": "1.2.0",
            "_model_name": "LayoutModel",
            "_view_count": null,
            "_view_module": "@jupyter-widgets/base",
            "_view_module_version": "1.2.0",
            "_view_name": "LayoutView",
            "align_content": null,
            "align_items": null,
            "align_self": null,
            "border": null,
            "bottom": null,
            "display": null,
            "flex": null,
            "flex_flow": null,
            "grid_area": null,
            "grid_auto_columns": null,
            "grid_auto_flow": null,
            "grid_auto_rows": null,
            "grid_column": null,
            "grid_gap": null,
            "grid_row": null,
            "grid_template_areas": null,
            "grid_template_columns": null,
            "grid_template_rows": null,
            "height": null,
            "justify_content": null,
            "justify_items": null,
            "left": null,
            "margin": null,
            "max_height": null,
            "max_width": null,
            "min_height": null,
            "min_width": null,
            "object_fit": null,
            "object_position": null,
            "order": null,
            "overflow": null,
            "overflow_x": null,
            "overflow_y": null,
            "padding": null,
            "right": null,
            "top": null,
            "visibility": null,
            "width": null
          }
        },
        "261aeafbc29b43049abddaea6a86b179": {
          "model_module": "@jupyter-widgets/controls",
          "model_name": "DescriptionStyleModel",
          "model_module_version": "1.5.0",
          "state": {
            "_model_module": "@jupyter-widgets/controls",
            "_model_module_version": "1.5.0",
            "_model_name": "DescriptionStyleModel",
            "_view_count": null,
            "_view_module": "@jupyter-widgets/base",
            "_view_module_version": "1.2.0",
            "_view_name": "StyleView",
            "description_width": ""
          }
        },
        "20c4b693a2d249b880f55fbf24145c05": {
          "model_module": "@jupyter-widgets/base",
          "model_name": "LayoutModel",
          "model_module_version": "1.2.0",
          "state": {
            "_model_module": "@jupyter-widgets/base",
            "_model_module_version": "1.2.0",
            "_model_name": "LayoutModel",
            "_view_count": null,
            "_view_module": "@jupyter-widgets/base",
            "_view_module_version": "1.2.0",
            "_view_name": "LayoutView",
            "align_content": null,
            "align_items": null,
            "align_self": null,
            "border": null,
            "bottom": null,
            "display": null,
            "flex": null,
            "flex_flow": null,
            "grid_area": null,
            "grid_auto_columns": null,
            "grid_auto_flow": null,
            "grid_auto_rows": null,
            "grid_column": null,
            "grid_gap": null,
            "grid_row": null,
            "grid_template_areas": null,
            "grid_template_columns": null,
            "grid_template_rows": null,
            "height": null,
            "justify_content": null,
            "justify_items": null,
            "left": null,
            "margin": null,
            "max_height": null,
            "max_width": null,
            "min_height": null,
            "min_width": null,
            "object_fit": null,
            "object_position": null,
            "order": null,
            "overflow": null,
            "overflow_x": null,
            "overflow_y": null,
            "padding": null,
            "right": null,
            "top": null,
            "visibility": null,
            "width": null
          }
        },
        "8245e330b61f41578ea4406d77648b18": {
          "model_module": "@jupyter-widgets/controls",
          "model_name": "ProgressStyleModel",
          "model_module_version": "1.5.0",
          "state": {
            "_model_module": "@jupyter-widgets/controls",
            "_model_module_version": "1.5.0",
            "_model_name": "ProgressStyleModel",
            "_view_count": null,
            "_view_module": "@jupyter-widgets/base",
            "_view_module_version": "1.2.0",
            "_view_name": "StyleView",
            "bar_color": null,
            "description_width": ""
          }
        },
        "5139af92b3e14f869179664611c7246e": {
          "model_module": "@jupyter-widgets/base",
          "model_name": "LayoutModel",
          "model_module_version": "1.2.0",
          "state": {
            "_model_module": "@jupyter-widgets/base",
            "_model_module_version": "1.2.0",
            "_model_name": "LayoutModel",
            "_view_count": null,
            "_view_module": "@jupyter-widgets/base",
            "_view_module_version": "1.2.0",
            "_view_name": "LayoutView",
            "align_content": null,
            "align_items": null,
            "align_self": null,
            "border": null,
            "bottom": null,
            "display": null,
            "flex": null,
            "flex_flow": null,
            "grid_area": null,
            "grid_auto_columns": null,
            "grid_auto_flow": null,
            "grid_auto_rows": null,
            "grid_column": null,
            "grid_gap": null,
            "grid_row": null,
            "grid_template_areas": null,
            "grid_template_columns": null,
            "grid_template_rows": null,
            "height": null,
            "justify_content": null,
            "justify_items": null,
            "left": null,
            "margin": null,
            "max_height": null,
            "max_width": null,
            "min_height": null,
            "min_width": null,
            "object_fit": null,
            "object_position": null,
            "order": null,
            "overflow": null,
            "overflow_x": null,
            "overflow_y": null,
            "padding": null,
            "right": null,
            "top": null,
            "visibility": null,
            "width": null
          }
        },
        "2dccd052352649dea3d4c0aa9382cc4d": {
          "model_module": "@jupyter-widgets/controls",
          "model_name": "DescriptionStyleModel",
          "model_module_version": "1.5.0",
          "state": {
            "_model_module": "@jupyter-widgets/controls",
            "_model_module_version": "1.5.0",
            "_model_name": "DescriptionStyleModel",
            "_view_count": null,
            "_view_module": "@jupyter-widgets/base",
            "_view_module_version": "1.2.0",
            "_view_name": "StyleView",
            "description_width": ""
          }
        },
        "f562f6ddc2274443b891020022819d2b": {
          "model_module": "@jupyter-widgets/controls",
          "model_name": "HBoxModel",
          "model_module_version": "1.5.0",
          "state": {
            "_dom_classes": [],
            "_model_module": "@jupyter-widgets/controls",
            "_model_module_version": "1.5.0",
            "_model_name": "HBoxModel",
            "_view_count": null,
            "_view_module": "@jupyter-widgets/controls",
            "_view_module_version": "1.5.0",
            "_view_name": "HBoxView",
            "box_style": "",
            "children": [
              "IPY_MODEL_4f0f433508204e639b0de118d1cb42f0",
              "IPY_MODEL_f0fe61506e084c42917f2d38846a001c",
              "IPY_MODEL_863dd94b39924a7a919018d4692731f8"
            ],
            "layout": "IPY_MODEL_0ddc7c3eac434c3d8d6ca2142b2da695"
          }
        },
        "4f0f433508204e639b0de118d1cb42f0": {
          "model_module": "@jupyter-widgets/controls",
          "model_name": "HTMLModel",
          "model_module_version": "1.5.0",
          "state": {
            "_dom_classes": [],
            "_model_module": "@jupyter-widgets/controls",
            "_model_module_version": "1.5.0",
            "_model_name": "HTMLModel",
            "_view_count": null,
            "_view_module": "@jupyter-widgets/controls",
            "_view_module_version": "1.5.0",
            "_view_name": "HTMLView",
            "description": "",
            "description_tooltip": null,
            "layout": "IPY_MODEL_a42207930347434397a6f7c2f42d1a36",
            "placeholder": "​",
            "style": "IPY_MODEL_19d6d5b71c5c4cbda3cf76b4fd250af1",
            "value": "model-00004-of-00004.safetensors: 100%"
          }
        },
        "f0fe61506e084c42917f2d38846a001c": {
          "model_module": "@jupyter-widgets/controls",
          "model_name": "FloatProgressModel",
          "model_module_version": "1.5.0",
          "state": {
            "_dom_classes": [],
            "_model_module": "@jupyter-widgets/controls",
            "_model_module_version": "1.5.0",
            "_model_name": "FloatProgressModel",
            "_view_count": null,
            "_view_module": "@jupyter-widgets/controls",
            "_view_module_version": "1.5.0",
            "_view_name": "ProgressView",
            "bar_style": "success",
            "description": "",
            "description_tooltip": null,
            "layout": "IPY_MODEL_f23be07e1ea844d1b6afabce99b23872",
            "max": 2113988336,
            "min": 0,
            "orientation": "horizontal",
            "style": "IPY_MODEL_d802d31fa0934eb09504e09c372cb2b8",
            "value": 2113988336
          }
        },
        "863dd94b39924a7a919018d4692731f8": {
          "model_module": "@jupyter-widgets/controls",
          "model_name": "HTMLModel",
          "model_module_version": "1.5.0",
          "state": {
            "_dom_classes": [],
            "_model_module": "@jupyter-widgets/controls",
            "_model_module_version": "1.5.0",
            "_model_name": "HTMLModel",
            "_view_count": null,
            "_view_module": "@jupyter-widgets/controls",
            "_view_module_version": "1.5.0",
            "_view_name": "HTMLView",
            "description": "",
            "description_tooltip": null,
            "layout": "IPY_MODEL_f6b2d218cbd140c4b343578e9ea8a082",
            "placeholder": "​",
            "style": "IPY_MODEL_04453714dd624392b497fa1fa42110d1",
            "value": " 2.11G/2.11G [00:17&lt;00:00, 256MB/s]"
          }
        },
        "0ddc7c3eac434c3d8d6ca2142b2da695": {
          "model_module": "@jupyter-widgets/base",
          "model_name": "LayoutModel",
          "model_module_version": "1.2.0",
          "state": {
            "_model_module": "@jupyter-widgets/base",
            "_model_module_version": "1.2.0",
            "_model_name": "LayoutModel",
            "_view_count": null,
            "_view_module": "@jupyter-widgets/base",
            "_view_module_version": "1.2.0",
            "_view_name": "LayoutView",
            "align_content": null,
            "align_items": null,
            "align_self": null,
            "border": null,
            "bottom": null,
            "display": null,
            "flex": null,
            "flex_flow": null,
            "grid_area": null,
            "grid_auto_columns": null,
            "grid_auto_flow": null,
            "grid_auto_rows": null,
            "grid_column": null,
            "grid_gap": null,
            "grid_row": null,
            "grid_template_areas": null,
            "grid_template_columns": null,
            "grid_template_rows": null,
            "height": null,
            "justify_content": null,
            "justify_items": null,
            "left": null,
            "margin": null,
            "max_height": null,
            "max_width": null,
            "min_height": null,
            "min_width": null,
            "object_fit": null,
            "object_position": null,
            "order": null,
            "overflow": null,
            "overflow_x": null,
            "overflow_y": null,
            "padding": null,
            "right": null,
            "top": null,
            "visibility": null,
            "width": null
          }
        },
        "a42207930347434397a6f7c2f42d1a36": {
          "model_module": "@jupyter-widgets/base",
          "model_name": "LayoutModel",
          "model_module_version": "1.2.0",
          "state": {
            "_model_module": "@jupyter-widgets/base",
            "_model_module_version": "1.2.0",
            "_model_name": "LayoutModel",
            "_view_count": null,
            "_view_module": "@jupyter-widgets/base",
            "_view_module_version": "1.2.0",
            "_view_name": "LayoutView",
            "align_content": null,
            "align_items": null,
            "align_self": null,
            "border": null,
            "bottom": null,
            "display": null,
            "flex": null,
            "flex_flow": null,
            "grid_area": null,
            "grid_auto_columns": null,
            "grid_auto_flow": null,
            "grid_auto_rows": null,
            "grid_column": null,
            "grid_gap": null,
            "grid_row": null,
            "grid_template_areas": null,
            "grid_template_columns": null,
            "grid_template_rows": null,
            "height": null,
            "justify_content": null,
            "justify_items": null,
            "left": null,
            "margin": null,
            "max_height": null,
            "max_width": null,
            "min_height": null,
            "min_width": null,
            "object_fit": null,
            "object_position": null,
            "order": null,
            "overflow": null,
            "overflow_x": null,
            "overflow_y": null,
            "padding": null,
            "right": null,
            "top": null,
            "visibility": null,
            "width": null
          }
        },
        "19d6d5b71c5c4cbda3cf76b4fd250af1": {
          "model_module": "@jupyter-widgets/controls",
          "model_name": "DescriptionStyleModel",
          "model_module_version": "1.5.0",
          "state": {
            "_model_module": "@jupyter-widgets/controls",
            "_model_module_version": "1.5.0",
            "_model_name": "DescriptionStyleModel",
            "_view_count": null,
            "_view_module": "@jupyter-widgets/base",
            "_view_module_version": "1.2.0",
            "_view_name": "StyleView",
            "description_width": ""
          }
        },
        "f23be07e1ea844d1b6afabce99b23872": {
          "model_module": "@jupyter-widgets/base",
          "model_name": "LayoutModel",
          "model_module_version": "1.2.0",
          "state": {
            "_model_module": "@jupyter-widgets/base",
            "_model_module_version": "1.2.0",
            "_model_name": "LayoutModel",
            "_view_count": null,
            "_view_module": "@jupyter-widgets/base",
            "_view_module_version": "1.2.0",
            "_view_name": "LayoutView",
            "align_content": null,
            "align_items": null,
            "align_self": null,
            "border": null,
            "bottom": null,
            "display": null,
            "flex": null,
            "flex_flow": null,
            "grid_area": null,
            "grid_auto_columns": null,
            "grid_auto_flow": null,
            "grid_auto_rows": null,
            "grid_column": null,
            "grid_gap": null,
            "grid_row": null,
            "grid_template_areas": null,
            "grid_template_columns": null,
            "grid_template_rows": null,
            "height": null,
            "justify_content": null,
            "justify_items": null,
            "left": null,
            "margin": null,
            "max_height": null,
            "max_width": null,
            "min_height": null,
            "min_width": null,
            "object_fit": null,
            "object_position": null,
            "order": null,
            "overflow": null,
            "overflow_x": null,
            "overflow_y": null,
            "padding": null,
            "right": null,
            "top": null,
            "visibility": null,
            "width": null
          }
        },
        "d802d31fa0934eb09504e09c372cb2b8": {
          "model_module": "@jupyter-widgets/controls",
          "model_name": "ProgressStyleModel",
          "model_module_version": "1.5.0",
          "state": {
            "_model_module": "@jupyter-widgets/controls",
            "_model_module_version": "1.5.0",
            "_model_name": "ProgressStyleModel",
            "_view_count": null,
            "_view_module": "@jupyter-widgets/base",
            "_view_module_version": "1.2.0",
            "_view_name": "StyleView",
            "bar_color": null,
            "description_width": ""
          }
        },
        "f6b2d218cbd140c4b343578e9ea8a082": {
          "model_module": "@jupyter-widgets/base",
          "model_name": "LayoutModel",
          "model_module_version": "1.2.0",
          "state": {
            "_model_module": "@jupyter-widgets/base",
            "_model_module_version": "1.2.0",
            "_model_name": "LayoutModel",
            "_view_count": null,
            "_view_module": "@jupyter-widgets/base",
            "_view_module_version": "1.2.0",
            "_view_name": "LayoutView",
            "align_content": null,
            "align_items": null,
            "align_self": null,
            "border": null,
            "bottom": null,
            "display": null,
            "flex": null,
            "flex_flow": null,
            "grid_area": null,
            "grid_auto_columns": null,
            "grid_auto_flow": null,
            "grid_auto_rows": null,
            "grid_column": null,
            "grid_gap": null,
            "grid_row": null,
            "grid_template_areas": null,
            "grid_template_columns": null,
            "grid_template_rows": null,
            "height": null,
            "justify_content": null,
            "justify_items": null,
            "left": null,
            "margin": null,
            "max_height": null,
            "max_width": null,
            "min_height": null,
            "min_width": null,
            "object_fit": null,
            "object_position": null,
            "order": null,
            "overflow": null,
            "overflow_x": null,
            "overflow_y": null,
            "padding": null,
            "right": null,
            "top": null,
            "visibility": null,
            "width": null
          }
        },
        "04453714dd624392b497fa1fa42110d1": {
          "model_module": "@jupyter-widgets/controls",
          "model_name": "DescriptionStyleModel",
          "model_module_version": "1.5.0",
          "state": {
            "_model_module": "@jupyter-widgets/controls",
            "_model_module_version": "1.5.0",
            "_model_name": "DescriptionStyleModel",
            "_view_count": null,
            "_view_module": "@jupyter-widgets/base",
            "_view_module_version": "1.2.0",
            "_view_name": "StyleView",
            "description_width": ""
          }
        },
        "891788bec72e464dbaa5106624bdc977": {
          "model_module": "@jupyter-widgets/controls",
          "model_name": "HBoxModel",
          "model_module_version": "1.5.0",
          "state": {
            "_dom_classes": [],
            "_model_module": "@jupyter-widgets/controls",
            "_model_module_version": "1.5.0",
            "_model_name": "HBoxModel",
            "_view_count": null,
            "_view_module": "@jupyter-widgets/controls",
            "_view_module_version": "1.5.0",
            "_view_name": "HBoxView",
            "box_style": "",
            "children": [
              "IPY_MODEL_b9627e795637435cb5c9f37377ee3723",
              "IPY_MODEL_fb06abd0866f4512bf4b613ec660f5ec",
              "IPY_MODEL_d2eff7f39b40457bb786961872d502db"
            ],
            "layout": "IPY_MODEL_e13521527ac84a00bb3cab2c1242dd89"
          }
        },
        "b9627e795637435cb5c9f37377ee3723": {
          "model_module": "@jupyter-widgets/controls",
          "model_name": "HTMLModel",
          "model_module_version": "1.5.0",
          "state": {
            "_dom_classes": [],
            "_model_module": "@jupyter-widgets/controls",
            "_model_module_version": "1.5.0",
            "_model_name": "HTMLModel",
            "_view_count": null,
            "_view_module": "@jupyter-widgets/controls",
            "_view_module_version": "1.5.0",
            "_view_name": "HTMLView",
            "description": "",
            "description_tooltip": null,
            "layout": "IPY_MODEL_b0106858dfcc412e980300006d85c221",
            "placeholder": "​",
            "style": "IPY_MODEL_71d446f6d06f46758cfd0038672583d0",
            "value": "Loading checkpoint shards: 100%"
          }
        },
        "fb06abd0866f4512bf4b613ec660f5ec": {
          "model_module": "@jupyter-widgets/controls",
          "model_name": "FloatProgressModel",
          "model_module_version": "1.5.0",
          "state": {
            "_dom_classes": [],
            "_model_module": "@jupyter-widgets/controls",
            "_model_module_version": "1.5.0",
            "_model_name": "FloatProgressModel",
            "_view_count": null,
            "_view_module": "@jupyter-widgets/controls",
            "_view_module_version": "1.5.0",
            "_view_name": "ProgressView",
            "bar_style": "success",
            "description": "",
            "description_tooltip": null,
            "layout": "IPY_MODEL_76522df3731940b894ec9eddcd47c809",
            "max": 4,
            "min": 0,
            "orientation": "horizontal",
            "style": "IPY_MODEL_d53cdd24d42c4de6a5aa9d7a2d8ca4ad",
            "value": 4
          }
        },
        "d2eff7f39b40457bb786961872d502db": {
          "model_module": "@jupyter-widgets/controls",
          "model_name": "HTMLModel",
          "model_module_version": "1.5.0",
          "state": {
            "_dom_classes": [],
            "_model_module": "@jupyter-widgets/controls",
            "_model_module_version": "1.5.0",
            "_model_name": "HTMLModel",
            "_view_count": null,
            "_view_module": "@jupyter-widgets/controls",
            "_view_module_version": "1.5.0",
            "_view_name": "HTMLView",
            "description": "",
            "description_tooltip": null,
            "layout": "IPY_MODEL_3382305662ac45c3931003647128de59",
            "placeholder": "​",
            "style": "IPY_MODEL_efa03f2e471c420a934542642b6ea748",
            "value": " 4/4 [01:47&lt;00:00, 24.54s/it]"
          }
        },
        "e13521527ac84a00bb3cab2c1242dd89": {
          "model_module": "@jupyter-widgets/base",
          "model_name": "LayoutModel",
          "model_module_version": "1.2.0",
          "state": {
            "_model_module": "@jupyter-widgets/base",
            "_model_module_version": "1.2.0",
            "_model_name": "LayoutModel",
            "_view_count": null,
            "_view_module": "@jupyter-widgets/base",
            "_view_module_version": "1.2.0",
            "_view_name": "LayoutView",
            "align_content": null,
            "align_items": null,
            "align_self": null,
            "border": null,
            "bottom": null,
            "display": null,
            "flex": null,
            "flex_flow": null,
            "grid_area": null,
            "grid_auto_columns": null,
            "grid_auto_flow": null,
            "grid_auto_rows": null,
            "grid_column": null,
            "grid_gap": null,
            "grid_row": null,
            "grid_template_areas": null,
            "grid_template_columns": null,
            "grid_template_rows": null,
            "height": null,
            "justify_content": null,
            "justify_items": null,
            "left": null,
            "margin": null,
            "max_height": null,
            "max_width": null,
            "min_height": null,
            "min_width": null,
            "object_fit": null,
            "object_position": null,
            "order": null,
            "overflow": null,
            "overflow_x": null,
            "overflow_y": null,
            "padding": null,
            "right": null,
            "top": null,
            "visibility": null,
            "width": null
          }
        },
        "b0106858dfcc412e980300006d85c221": {
          "model_module": "@jupyter-widgets/base",
          "model_name": "LayoutModel",
          "model_module_version": "1.2.0",
          "state": {
            "_model_module": "@jupyter-widgets/base",
            "_model_module_version": "1.2.0",
            "_model_name": "LayoutModel",
            "_view_count": null,
            "_view_module": "@jupyter-widgets/base",
            "_view_module_version": "1.2.0",
            "_view_name": "LayoutView",
            "align_content": null,
            "align_items": null,
            "align_self": null,
            "border": null,
            "bottom": null,
            "display": null,
            "flex": null,
            "flex_flow": null,
            "grid_area": null,
            "grid_auto_columns": null,
            "grid_auto_flow": null,
            "grid_auto_rows": null,
            "grid_column": null,
            "grid_gap": null,
            "grid_row": null,
            "grid_template_areas": null,
            "grid_template_columns": null,
            "grid_template_rows": null,
            "height": null,
            "justify_content": null,
            "justify_items": null,
            "left": null,
            "margin": null,
            "max_height": null,
            "max_width": null,
            "min_height": null,
            "min_width": null,
            "object_fit": null,
            "object_position": null,
            "order": null,
            "overflow": null,
            "overflow_x": null,
            "overflow_y": null,
            "padding": null,
            "right": null,
            "top": null,
            "visibility": null,
            "width": null
          }
        },
        "71d446f6d06f46758cfd0038672583d0": {
          "model_module": "@jupyter-widgets/controls",
          "model_name": "DescriptionStyleModel",
          "model_module_version": "1.5.0",
          "state": {
            "_model_module": "@jupyter-widgets/controls",
            "_model_module_version": "1.5.0",
            "_model_name": "DescriptionStyleModel",
            "_view_count": null,
            "_view_module": "@jupyter-widgets/base",
            "_view_module_version": "1.2.0",
            "_view_name": "StyleView",
            "description_width": ""
          }
        },
        "76522df3731940b894ec9eddcd47c809": {
          "model_module": "@jupyter-widgets/base",
          "model_name": "LayoutModel",
          "model_module_version": "1.2.0",
          "state": {
            "_model_module": "@jupyter-widgets/base",
            "_model_module_version": "1.2.0",
            "_model_name": "LayoutModel",
            "_view_count": null,
            "_view_module": "@jupyter-widgets/base",
            "_view_module_version": "1.2.0",
            "_view_name": "LayoutView",
            "align_content": null,
            "align_items": null,
            "align_self": null,
            "border": null,
            "bottom": null,
            "display": null,
            "flex": null,
            "flex_flow": null,
            "grid_area": null,
            "grid_auto_columns": null,
            "grid_auto_flow": null,
            "grid_auto_rows": null,
            "grid_column": null,
            "grid_gap": null,
            "grid_row": null,
            "grid_template_areas": null,
            "grid_template_columns": null,
            "grid_template_rows": null,
            "height": null,
            "justify_content": null,
            "justify_items": null,
            "left": null,
            "margin": null,
            "max_height": null,
            "max_width": null,
            "min_height": null,
            "min_width": null,
            "object_fit": null,
            "object_position": null,
            "order": null,
            "overflow": null,
            "overflow_x": null,
            "overflow_y": null,
            "padding": null,
            "right": null,
            "top": null,
            "visibility": null,
            "width": null
          }
        },
        "d53cdd24d42c4de6a5aa9d7a2d8ca4ad": {
          "model_module": "@jupyter-widgets/controls",
          "model_name": "ProgressStyleModel",
          "model_module_version": "1.5.0",
          "state": {
            "_model_module": "@jupyter-widgets/controls",
            "_model_module_version": "1.5.0",
            "_model_name": "ProgressStyleModel",
            "_view_count": null,
            "_view_module": "@jupyter-widgets/base",
            "_view_module_version": "1.2.0",
            "_view_name": "StyleView",
            "bar_color": null,
            "description_width": ""
          }
        },
        "3382305662ac45c3931003647128de59": {
          "model_module": "@jupyter-widgets/base",
          "model_name": "LayoutModel",
          "model_module_version": "1.2.0",
          "state": {
            "_model_module": "@jupyter-widgets/base",
            "_model_module_version": "1.2.0",
            "_model_name": "LayoutModel",
            "_view_count": null,
            "_view_module": "@jupyter-widgets/base",
            "_view_module_version": "1.2.0",
            "_view_name": "LayoutView",
            "align_content": null,
            "align_items": null,
            "align_self": null,
            "border": null,
            "bottom": null,
            "display": null,
            "flex": null,
            "flex_flow": null,
            "grid_area": null,
            "grid_auto_columns": null,
            "grid_auto_flow": null,
            "grid_auto_rows": null,
            "grid_column": null,
            "grid_gap": null,
            "grid_row": null,
            "grid_template_areas": null,
            "grid_template_columns": null,
            "grid_template_rows": null,
            "height": null,
            "justify_content": null,
            "justify_items": null,
            "left": null,
            "margin": null,
            "max_height": null,
            "max_width": null,
            "min_height": null,
            "min_width": null,
            "object_fit": null,
            "object_position": null,
            "order": null,
            "overflow": null,
            "overflow_x": null,
            "overflow_y": null,
            "padding": null,
            "right": null,
            "top": null,
            "visibility": null,
            "width": null
          }
        },
        "efa03f2e471c420a934542642b6ea748": {
          "model_module": "@jupyter-widgets/controls",
          "model_name": "DescriptionStyleModel",
          "model_module_version": "1.5.0",
          "state": {
            "_model_module": "@jupyter-widgets/controls",
            "_model_module_version": "1.5.0",
            "_model_name": "DescriptionStyleModel",
            "_view_count": null,
            "_view_module": "@jupyter-widgets/base",
            "_view_module_version": "1.2.0",
            "_view_name": "StyleView",
            "description_width": ""
          }
        },
        "a1066ee8616a4aed8f95700ee5874ad2": {
          "model_module": "@jupyter-widgets/controls",
          "model_name": "HBoxModel",
          "model_module_version": "1.5.0",
          "state": {
            "_dom_classes": [],
            "_model_module": "@jupyter-widgets/controls",
            "_model_module_version": "1.5.0",
            "_model_name": "HBoxModel",
            "_view_count": null,
            "_view_module": "@jupyter-widgets/controls",
            "_view_module_version": "1.5.0",
            "_view_name": "HBoxView",
            "box_style": "",
            "children": [
              "IPY_MODEL_c1471ab7f53d434eb8c3bb9ca6ae7fa5",
              "IPY_MODEL_cba21850845c46bbb46c492d65fe7ba5",
              "IPY_MODEL_67d0dc56def14a15b5e0cff72f144351"
            ],
            "layout": "IPY_MODEL_956ffa6b1a694c7e9d0ad952add2fe0e"
          }
        },
        "c1471ab7f53d434eb8c3bb9ca6ae7fa5": {
          "model_module": "@jupyter-widgets/controls",
          "model_name": "HTMLModel",
          "model_module_version": "1.5.0",
          "state": {
            "_dom_classes": [],
            "_model_module": "@jupyter-widgets/controls",
            "_model_module_version": "1.5.0",
            "_model_name": "HTMLModel",
            "_view_count": null,
            "_view_module": "@jupyter-widgets/controls",
            "_view_module_version": "1.5.0",
            "_view_name": "HTMLView",
            "description": "",
            "description_tooltip": null,
            "layout": "IPY_MODEL_9e5d84dc000041409e73fb58c31d5aa6",
            "placeholder": "​",
            "style": "IPY_MODEL_d40efc2b0ce74750a18a33eefdc7c6f8",
            "value": "generation_config.json: 100%"
          }
        },
        "cba21850845c46bbb46c492d65fe7ba5": {
          "model_module": "@jupyter-widgets/controls",
          "model_name": "FloatProgressModel",
          "model_module_version": "1.5.0",
          "state": {
            "_dom_classes": [],
            "_model_module": "@jupyter-widgets/controls",
            "_model_module_version": "1.5.0",
            "_model_name": "FloatProgressModel",
            "_view_count": null,
            "_view_module": "@jupyter-widgets/controls",
            "_view_module_version": "1.5.0",
            "_view_name": "ProgressView",
            "bar_style": "success",
            "description": "",
            "description_tooltip": null,
            "layout": "IPY_MODEL_75c8161323db4c4daa2116c1eb9f69e2",
            "max": 137,
            "min": 0,
            "orientation": "horizontal",
            "style": "IPY_MODEL_06e845901d2144c0bd5f42a68c859675",
            "value": 137
          }
        },
        "67d0dc56def14a15b5e0cff72f144351": {
          "model_module": "@jupyter-widgets/controls",
          "model_name": "HTMLModel",
          "model_module_version": "1.5.0",
          "state": {
            "_dom_classes": [],
            "_model_module": "@jupyter-widgets/controls",
            "_model_module_version": "1.5.0",
            "_model_name": "HTMLModel",
            "_view_count": null,
            "_view_module": "@jupyter-widgets/controls",
            "_view_module_version": "1.5.0",
            "_view_name": "HTMLView",
            "description": "",
            "description_tooltip": null,
            "layout": "IPY_MODEL_b4e43b018c464beaa13ae92c4ca84323",
            "placeholder": "​",
            "style": "IPY_MODEL_326455ee94f748ad94bd589e405fe2df",
            "value": " 137/137 [00:00&lt;00:00, 9.56kB/s]"
          }
        },
        "956ffa6b1a694c7e9d0ad952add2fe0e": {
          "model_module": "@jupyter-widgets/base",
          "model_name": "LayoutModel",
          "model_module_version": "1.2.0",
          "state": {
            "_model_module": "@jupyter-widgets/base",
            "_model_module_version": "1.2.0",
            "_model_name": "LayoutModel",
            "_view_count": null,
            "_view_module": "@jupyter-widgets/base",
            "_view_module_version": "1.2.0",
            "_view_name": "LayoutView",
            "align_content": null,
            "align_items": null,
            "align_self": null,
            "border": null,
            "bottom": null,
            "display": null,
            "flex": null,
            "flex_flow": null,
            "grid_area": null,
            "grid_auto_columns": null,
            "grid_auto_flow": null,
            "grid_auto_rows": null,
            "grid_column": null,
            "grid_gap": null,
            "grid_row": null,
            "grid_template_areas": null,
            "grid_template_columns": null,
            "grid_template_rows": null,
            "height": null,
            "justify_content": null,
            "justify_items": null,
            "left": null,
            "margin": null,
            "max_height": null,
            "max_width": null,
            "min_height": null,
            "min_width": null,
            "object_fit": null,
            "object_position": null,
            "order": null,
            "overflow": null,
            "overflow_x": null,
            "overflow_y": null,
            "padding": null,
            "right": null,
            "top": null,
            "visibility": null,
            "width": null
          }
        },
        "9e5d84dc000041409e73fb58c31d5aa6": {
          "model_module": "@jupyter-widgets/base",
          "model_name": "LayoutModel",
          "model_module_version": "1.2.0",
          "state": {
            "_model_module": "@jupyter-widgets/base",
            "_model_module_version": "1.2.0",
            "_model_name": "LayoutModel",
            "_view_count": null,
            "_view_module": "@jupyter-widgets/base",
            "_view_module_version": "1.2.0",
            "_view_name": "LayoutView",
            "align_content": null,
            "align_items": null,
            "align_self": null,
            "border": null,
            "bottom": null,
            "display": null,
            "flex": null,
            "flex_flow": null,
            "grid_area": null,
            "grid_auto_columns": null,
            "grid_auto_flow": null,
            "grid_auto_rows": null,
            "grid_column": null,
            "grid_gap": null,
            "grid_row": null,
            "grid_template_areas": null,
            "grid_template_columns": null,
            "grid_template_rows": null,
            "height": null,
            "justify_content": null,
            "justify_items": null,
            "left": null,
            "margin": null,
            "max_height": null,
            "max_width": null,
            "min_height": null,
            "min_width": null,
            "object_fit": null,
            "object_position": null,
            "order": null,
            "overflow": null,
            "overflow_x": null,
            "overflow_y": null,
            "padding": null,
            "right": null,
            "top": null,
            "visibility": null,
            "width": null
          }
        },
        "d40efc2b0ce74750a18a33eefdc7c6f8": {
          "model_module": "@jupyter-widgets/controls",
          "model_name": "DescriptionStyleModel",
          "model_module_version": "1.5.0",
          "state": {
            "_model_module": "@jupyter-widgets/controls",
            "_model_module_version": "1.5.0",
            "_model_name": "DescriptionStyleModel",
            "_view_count": null,
            "_view_module": "@jupyter-widgets/base",
            "_view_module_version": "1.2.0",
            "_view_name": "StyleView",
            "description_width": ""
          }
        },
        "75c8161323db4c4daa2116c1eb9f69e2": {
          "model_module": "@jupyter-widgets/base",
          "model_name": "LayoutModel",
          "model_module_version": "1.2.0",
          "state": {
            "_model_module": "@jupyter-widgets/base",
            "_model_module_version": "1.2.0",
            "_model_name": "LayoutModel",
            "_view_count": null,
            "_view_module": "@jupyter-widgets/base",
            "_view_module_version": "1.2.0",
            "_view_name": "LayoutView",
            "align_content": null,
            "align_items": null,
            "align_self": null,
            "border": null,
            "bottom": null,
            "display": null,
            "flex": null,
            "flex_flow": null,
            "grid_area": null,
            "grid_auto_columns": null,
            "grid_auto_flow": null,
            "grid_auto_rows": null,
            "grid_column": null,
            "grid_gap": null,
            "grid_row": null,
            "grid_template_areas": null,
            "grid_template_columns": null,
            "grid_template_rows": null,
            "height": null,
            "justify_content": null,
            "justify_items": null,
            "left": null,
            "margin": null,
            "max_height": null,
            "max_width": null,
            "min_height": null,
            "min_width": null,
            "object_fit": null,
            "object_position": null,
            "order": null,
            "overflow": null,
            "overflow_x": null,
            "overflow_y": null,
            "padding": null,
            "right": null,
            "top": null,
            "visibility": null,
            "width": null
          }
        },
        "06e845901d2144c0bd5f42a68c859675": {
          "model_module": "@jupyter-widgets/controls",
          "model_name": "ProgressStyleModel",
          "model_module_version": "1.5.0",
          "state": {
            "_model_module": "@jupyter-widgets/controls",
            "_model_module_version": "1.5.0",
            "_model_name": "ProgressStyleModel",
            "_view_count": null,
            "_view_module": "@jupyter-widgets/base",
            "_view_module_version": "1.2.0",
            "_view_name": "StyleView",
            "bar_color": null,
            "description_width": ""
          }
        },
        "b4e43b018c464beaa13ae92c4ca84323": {
          "model_module": "@jupyter-widgets/base",
          "model_name": "LayoutModel",
          "model_module_version": "1.2.0",
          "state": {
            "_model_module": "@jupyter-widgets/base",
            "_model_module_version": "1.2.0",
            "_model_name": "LayoutModel",
            "_view_count": null,
            "_view_module": "@jupyter-widgets/base",
            "_view_module_version": "1.2.0",
            "_view_name": "LayoutView",
            "align_content": null,
            "align_items": null,
            "align_self": null,
            "border": null,
            "bottom": null,
            "display": null,
            "flex": null,
            "flex_flow": null,
            "grid_area": null,
            "grid_auto_columns": null,
            "grid_auto_flow": null,
            "grid_auto_rows": null,
            "grid_column": null,
            "grid_gap": null,
            "grid_row": null,
            "grid_template_areas": null,
            "grid_template_columns": null,
            "grid_template_rows": null,
            "height": null,
            "justify_content": null,
            "justify_items": null,
            "left": null,
            "margin": null,
            "max_height": null,
            "max_width": null,
            "min_height": null,
            "min_width": null,
            "object_fit": null,
            "object_position": null,
            "order": null,
            "overflow": null,
            "overflow_x": null,
            "overflow_y": null,
            "padding": null,
            "right": null,
            "top": null,
            "visibility": null,
            "width": null
          }
        },
        "326455ee94f748ad94bd589e405fe2df": {
          "model_module": "@jupyter-widgets/controls",
          "model_name": "DescriptionStyleModel",
          "model_module_version": "1.5.0",
          "state": {
            "_model_module": "@jupyter-widgets/controls",
            "_model_module_version": "1.5.0",
            "_model_name": "DescriptionStyleModel",
            "_view_count": null,
            "_view_module": "@jupyter-widgets/base",
            "_view_module_version": "1.2.0",
            "_view_name": "StyleView",
            "description_width": ""
          }
        },
        "f78a54d68bca4989b4238f86b96e864f": {
          "model_module": "@jupyter-widgets/controls",
          "model_name": "HBoxModel",
          "model_module_version": "1.5.0",
          "state": {
            "_dom_classes": [],
            "_model_module": "@jupyter-widgets/controls",
            "_model_module_version": "1.5.0",
            "_model_name": "HBoxModel",
            "_view_count": null,
            "_view_module": "@jupyter-widgets/controls",
            "_view_module_version": "1.5.0",
            "_view_name": "HBoxView",
            "box_style": "",
            "children": [
              "IPY_MODEL_8faccf7fa6454bfa9877742e59b227f4",
              "IPY_MODEL_d9a34fcc0e5644268efd0afc807e2281",
              "IPY_MODEL_e93ab3c688bd452596a1e246e835391c"
            ],
            "layout": "IPY_MODEL_3d69b5f430414c2f975f67a4d718d5db"
          }
        },
        "8faccf7fa6454bfa9877742e59b227f4": {
          "model_module": "@jupyter-widgets/controls",
          "model_name": "HTMLModel",
          "model_module_version": "1.5.0",
          "state": {
            "_dom_classes": [],
            "_model_module": "@jupyter-widgets/controls",
            "_model_module_version": "1.5.0",
            "_model_name": "HTMLModel",
            "_view_count": null,
            "_view_module": "@jupyter-widgets/controls",
            "_view_module_version": "1.5.0",
            "_view_name": "HTMLView",
            "description": "",
            "description_tooltip": null,
            "layout": "IPY_MODEL_b0e91511ba614076ac19804366c0629b",
            "placeholder": "​",
            "style": "IPY_MODEL_e45e2ace90ef417a86cf6a8e4669a846",
            "value": "tokenizer_config.json: 100%"
          }
        },
        "d9a34fcc0e5644268efd0afc807e2281": {
          "model_module": "@jupyter-widgets/controls",
          "model_name": "FloatProgressModel",
          "model_module_version": "1.5.0",
          "state": {
            "_dom_classes": [],
            "_model_module": "@jupyter-widgets/controls",
            "_model_module_version": "1.5.0",
            "_model_name": "FloatProgressModel",
            "_view_count": null,
            "_view_module": "@jupyter-widgets/controls",
            "_view_module_version": "1.5.0",
            "_view_name": "ProgressView",
            "bar_style": "success",
            "description": "",
            "description_tooltip": null,
            "layout": "IPY_MODEL_98b16f6037ee4b18a756e5d4147df638",
            "max": 2162,
            "min": 0,
            "orientation": "horizontal",
            "style": "IPY_MODEL_f7a705534f4c423286920fd3e3e15753",
            "value": 2162
          }
        },
        "e93ab3c688bd452596a1e246e835391c": {
          "model_module": "@jupyter-widgets/controls",
          "model_name": "HTMLModel",
          "model_module_version": "1.5.0",
          "state": {
            "_dom_classes": [],
            "_model_module": "@jupyter-widgets/controls",
            "_model_module_version": "1.5.0",
            "_model_name": "HTMLModel",
            "_view_count": null,
            "_view_module": "@jupyter-widgets/controls",
            "_view_module_version": "1.5.0",
            "_view_name": "HTMLView",
            "description": "",
            "description_tooltip": null,
            "layout": "IPY_MODEL_c5eff479a725422d903d191ef249f56b",
            "placeholder": "​",
            "style": "IPY_MODEL_a0e3d801b82d41a5a0d4ff903bcdb517",
            "value": " 2.16k/2.16k [00:00&lt;00:00, 151kB/s]"
          }
        },
        "3d69b5f430414c2f975f67a4d718d5db": {
          "model_module": "@jupyter-widgets/base",
          "model_name": "LayoutModel",
          "model_module_version": "1.2.0",
          "state": {
            "_model_module": "@jupyter-widgets/base",
            "_model_module_version": "1.2.0",
            "_model_name": "LayoutModel",
            "_view_count": null,
            "_view_module": "@jupyter-widgets/base",
            "_view_module_version": "1.2.0",
            "_view_name": "LayoutView",
            "align_content": null,
            "align_items": null,
            "align_self": null,
            "border": null,
            "bottom": null,
            "display": null,
            "flex": null,
            "flex_flow": null,
            "grid_area": null,
            "grid_auto_columns": null,
            "grid_auto_flow": null,
            "grid_auto_rows": null,
            "grid_column": null,
            "grid_gap": null,
            "grid_row": null,
            "grid_template_areas": null,
            "grid_template_columns": null,
            "grid_template_rows": null,
            "height": null,
            "justify_content": null,
            "justify_items": null,
            "left": null,
            "margin": null,
            "max_height": null,
            "max_width": null,
            "min_height": null,
            "min_width": null,
            "object_fit": null,
            "object_position": null,
            "order": null,
            "overflow": null,
            "overflow_x": null,
            "overflow_y": null,
            "padding": null,
            "right": null,
            "top": null,
            "visibility": null,
            "width": null
          }
        },
        "b0e91511ba614076ac19804366c0629b": {
          "model_module": "@jupyter-widgets/base",
          "model_name": "LayoutModel",
          "model_module_version": "1.2.0",
          "state": {
            "_model_module": "@jupyter-widgets/base",
            "_model_module_version": "1.2.0",
            "_model_name": "LayoutModel",
            "_view_count": null,
            "_view_module": "@jupyter-widgets/base",
            "_view_module_version": "1.2.0",
            "_view_name": "LayoutView",
            "align_content": null,
            "align_items": null,
            "align_self": null,
            "border": null,
            "bottom": null,
            "display": null,
            "flex": null,
            "flex_flow": null,
            "grid_area": null,
            "grid_auto_columns": null,
            "grid_auto_flow": null,
            "grid_auto_rows": null,
            "grid_column": null,
            "grid_gap": null,
            "grid_row": null,
            "grid_template_areas": null,
            "grid_template_columns": null,
            "grid_template_rows": null,
            "height": null,
            "justify_content": null,
            "justify_items": null,
            "left": null,
            "margin": null,
            "max_height": null,
            "max_width": null,
            "min_height": null,
            "min_width": null,
            "object_fit": null,
            "object_position": null,
            "order": null,
            "overflow": null,
            "overflow_x": null,
            "overflow_y": null,
            "padding": null,
            "right": null,
            "top": null,
            "visibility": null,
            "width": null
          }
        },
        "e45e2ace90ef417a86cf6a8e4669a846": {
          "model_module": "@jupyter-widgets/controls",
          "model_name": "DescriptionStyleModel",
          "model_module_version": "1.5.0",
          "state": {
            "_model_module": "@jupyter-widgets/controls",
            "_model_module_version": "1.5.0",
            "_model_name": "DescriptionStyleModel",
            "_view_count": null,
            "_view_module": "@jupyter-widgets/base",
            "_view_module_version": "1.2.0",
            "_view_name": "StyleView",
            "description_width": ""
          }
        },
        "98b16f6037ee4b18a756e5d4147df638": {
          "model_module": "@jupyter-widgets/base",
          "model_name": "LayoutModel",
          "model_module_version": "1.2.0",
          "state": {
            "_model_module": "@jupyter-widgets/base",
            "_model_module_version": "1.2.0",
            "_model_name": "LayoutModel",
            "_view_count": null,
            "_view_module": "@jupyter-widgets/base",
            "_view_module_version": "1.2.0",
            "_view_name": "LayoutView",
            "align_content": null,
            "align_items": null,
            "align_self": null,
            "border": null,
            "bottom": null,
            "display": null,
            "flex": null,
            "flex_flow": null,
            "grid_area": null,
            "grid_auto_columns": null,
            "grid_auto_flow": null,
            "grid_auto_rows": null,
            "grid_column": null,
            "grid_gap": null,
            "grid_row": null,
            "grid_template_areas": null,
            "grid_template_columns": null,
            "grid_template_rows": null,
            "height": null,
            "justify_content": null,
            "justify_items": null,
            "left": null,
            "margin": null,
            "max_height": null,
            "max_width": null,
            "min_height": null,
            "min_width": null,
            "object_fit": null,
            "object_position": null,
            "order": null,
            "overflow": null,
            "overflow_x": null,
            "overflow_y": null,
            "padding": null,
            "right": null,
            "top": null,
            "visibility": null,
            "width": null
          }
        },
        "f7a705534f4c423286920fd3e3e15753": {
          "model_module": "@jupyter-widgets/controls",
          "model_name": "ProgressStyleModel",
          "model_module_version": "1.5.0",
          "state": {
            "_model_module": "@jupyter-widgets/controls",
            "_model_module_version": "1.5.0",
            "_model_name": "ProgressStyleModel",
            "_view_count": null,
            "_view_module": "@jupyter-widgets/base",
            "_view_module_version": "1.2.0",
            "_view_name": "StyleView",
            "bar_color": null,
            "description_width": ""
          }
        },
        "c5eff479a725422d903d191ef249f56b": {
          "model_module": "@jupyter-widgets/base",
          "model_name": "LayoutModel",
          "model_module_version": "1.2.0",
          "state": {
            "_model_module": "@jupyter-widgets/base",
            "_model_module_version": "1.2.0",
            "_model_name": "LayoutModel",
            "_view_count": null,
            "_view_module": "@jupyter-widgets/base",
            "_view_module_version": "1.2.0",
            "_view_name": "LayoutView",
            "align_content": null,
            "align_items": null,
            "align_self": null,
            "border": null,
            "bottom": null,
            "display": null,
            "flex": null,
            "flex_flow": null,
            "grid_area": null,
            "grid_auto_columns": null,
            "grid_auto_flow": null,
            "grid_auto_rows": null,
            "grid_column": null,
            "grid_gap": null,
            "grid_row": null,
            "grid_template_areas": null,
            "grid_template_columns": null,
            "grid_template_rows": null,
            "height": null,
            "justify_content": null,
            "justify_items": null,
            "left": null,
            "margin": null,
            "max_height": null,
            "max_width": null,
            "min_height": null,
            "min_width": null,
            "object_fit": null,
            "object_position": null,
            "order": null,
            "overflow": null,
            "overflow_x": null,
            "overflow_y": null,
            "padding": null,
            "right": null,
            "top": null,
            "visibility": null,
            "width": null
          }
        },
        "a0e3d801b82d41a5a0d4ff903bcdb517": {
          "model_module": "@jupyter-widgets/controls",
          "model_name": "DescriptionStyleModel",
          "model_module_version": "1.5.0",
          "state": {
            "_model_module": "@jupyter-widgets/controls",
            "_model_module_version": "1.5.0",
            "_model_name": "DescriptionStyleModel",
            "_view_count": null,
            "_view_module": "@jupyter-widgets/base",
            "_view_module_version": "1.2.0",
            "_view_name": "StyleView",
            "description_width": ""
          }
        },
        "41772670bb8b4eb08263a6c7ae2c8769": {
          "model_module": "@jupyter-widgets/controls",
          "model_name": "HBoxModel",
          "model_module_version": "1.5.0",
          "state": {
            "_dom_classes": [],
            "_model_module": "@jupyter-widgets/controls",
            "_model_module_version": "1.5.0",
            "_model_name": "HBoxModel",
            "_view_count": null,
            "_view_module": "@jupyter-widgets/controls",
            "_view_module_version": "1.5.0",
            "_view_name": "HBoxView",
            "box_style": "",
            "children": [
              "IPY_MODEL_9d5062cf2baa4f289dd9525d59d0f732",
              "IPY_MODEL_758d1f9d20a74abe82ad705c9844365a",
              "IPY_MODEL_43e0885ab00f4bdd8c74747da82e0d8c"
            ],
            "layout": "IPY_MODEL_62569df3d9274f99995b78fc3e51a930"
          }
        },
        "9d5062cf2baa4f289dd9525d59d0f732": {
          "model_module": "@jupyter-widgets/controls",
          "model_name": "HTMLModel",
          "model_module_version": "1.5.0",
          "state": {
            "_dom_classes": [],
            "_model_module": "@jupyter-widgets/controls",
            "_model_module_version": "1.5.0",
            "_model_name": "HTMLModel",
            "_view_count": null,
            "_view_module": "@jupyter-widgets/controls",
            "_view_module_version": "1.5.0",
            "_view_name": "HTMLView",
            "description": "",
            "description_tooltip": null,
            "layout": "IPY_MODEL_41991090b3a34edd9f1352d56fcf56c4",
            "placeholder": "​",
            "style": "IPY_MODEL_92e72e554a074934a9b5069657e788e2",
            "value": "tokenizer.model: 100%"
          }
        },
        "758d1f9d20a74abe82ad705c9844365a": {
          "model_module": "@jupyter-widgets/controls",
          "model_name": "FloatProgressModel",
          "model_module_version": "1.5.0",
          "state": {
            "_dom_classes": [],
            "_model_module": "@jupyter-widgets/controls",
            "_model_module_version": "1.5.0",
            "_model_name": "FloatProgressModel",
            "_view_count": null,
            "_view_module": "@jupyter-widgets/controls",
            "_view_module_version": "1.5.0",
            "_view_name": "ProgressView",
            "bar_style": "success",
            "description": "",
            "description_tooltip": null,
            "layout": "IPY_MODEL_fa0f2de12229483f89eb4426be412802",
            "max": 4241003,
            "min": 0,
            "orientation": "horizontal",
            "style": "IPY_MODEL_0d70b7423e8245a3beb56db40a72308f",
            "value": 4241003
          }
        },
        "43e0885ab00f4bdd8c74747da82e0d8c": {
          "model_module": "@jupyter-widgets/controls",
          "model_name": "HTMLModel",
          "model_module_version": "1.5.0",
          "state": {
            "_dom_classes": [],
            "_model_module": "@jupyter-widgets/controls",
            "_model_module_version": "1.5.0",
            "_model_name": "HTMLModel",
            "_view_count": null,
            "_view_module": "@jupyter-widgets/controls",
            "_view_module_version": "1.5.0",
            "_view_name": "HTMLView",
            "description": "",
            "description_tooltip": null,
            "layout": "IPY_MODEL_c39ffa898256494089bd73f358da5d58",
            "placeholder": "​",
            "style": "IPY_MODEL_8a69eb98b29d43a79f2ed603251319a8",
            "value": " 4.24M/4.24M [00:00&lt;00:00, 68.6MB/s]"
          }
        },
        "62569df3d9274f99995b78fc3e51a930": {
          "model_module": "@jupyter-widgets/base",
          "model_name": "LayoutModel",
          "model_module_version": "1.2.0",
          "state": {
            "_model_module": "@jupyter-widgets/base",
            "_model_module_version": "1.2.0",
            "_model_name": "LayoutModel",
            "_view_count": null,
            "_view_module": "@jupyter-widgets/base",
            "_view_module_version": "1.2.0",
            "_view_name": "LayoutView",
            "align_content": null,
            "align_items": null,
            "align_self": null,
            "border": null,
            "bottom": null,
            "display": null,
            "flex": null,
            "flex_flow": null,
            "grid_area": null,
            "grid_auto_columns": null,
            "grid_auto_flow": null,
            "grid_auto_rows": null,
            "grid_column": null,
            "grid_gap": null,
            "grid_row": null,
            "grid_template_areas": null,
            "grid_template_columns": null,
            "grid_template_rows": null,
            "height": null,
            "justify_content": null,
            "justify_items": null,
            "left": null,
            "margin": null,
            "max_height": null,
            "max_width": null,
            "min_height": null,
            "min_width": null,
            "object_fit": null,
            "object_position": null,
            "order": null,
            "overflow": null,
            "overflow_x": null,
            "overflow_y": null,
            "padding": null,
            "right": null,
            "top": null,
            "visibility": null,
            "width": null
          }
        },
        "41991090b3a34edd9f1352d56fcf56c4": {
          "model_module": "@jupyter-widgets/base",
          "model_name": "LayoutModel",
          "model_module_version": "1.2.0",
          "state": {
            "_model_module": "@jupyter-widgets/base",
            "_model_module_version": "1.2.0",
            "_model_name": "LayoutModel",
            "_view_count": null,
            "_view_module": "@jupyter-widgets/base",
            "_view_module_version": "1.2.0",
            "_view_name": "LayoutView",
            "align_content": null,
            "align_items": null,
            "align_self": null,
            "border": null,
            "bottom": null,
            "display": null,
            "flex": null,
            "flex_flow": null,
            "grid_area": null,
            "grid_auto_columns": null,
            "grid_auto_flow": null,
            "grid_auto_rows": null,
            "grid_column": null,
            "grid_gap": null,
            "grid_row": null,
            "grid_template_areas": null,
            "grid_template_columns": null,
            "grid_template_rows": null,
            "height": null,
            "justify_content": null,
            "justify_items": null,
            "left": null,
            "margin": null,
            "max_height": null,
            "max_width": null,
            "min_height": null,
            "min_width": null,
            "object_fit": null,
            "object_position": null,
            "order": null,
            "overflow": null,
            "overflow_x": null,
            "overflow_y": null,
            "padding": null,
            "right": null,
            "top": null,
            "visibility": null,
            "width": null
          }
        },
        "92e72e554a074934a9b5069657e788e2": {
          "model_module": "@jupyter-widgets/controls",
          "model_name": "DescriptionStyleModel",
          "model_module_version": "1.5.0",
          "state": {
            "_model_module": "@jupyter-widgets/controls",
            "_model_module_version": "1.5.0",
            "_model_name": "DescriptionStyleModel",
            "_view_count": null,
            "_view_module": "@jupyter-widgets/base",
            "_view_module_version": "1.2.0",
            "_view_name": "StyleView",
            "description_width": ""
          }
        },
        "fa0f2de12229483f89eb4426be412802": {
          "model_module": "@jupyter-widgets/base",
          "model_name": "LayoutModel",
          "model_module_version": "1.2.0",
          "state": {
            "_model_module": "@jupyter-widgets/base",
            "_model_module_version": "1.2.0",
            "_model_name": "LayoutModel",
            "_view_count": null,
            "_view_module": "@jupyter-widgets/base",
            "_view_module_version": "1.2.0",
            "_view_name": "LayoutView",
            "align_content": null,
            "align_items": null,
            "align_self": null,
            "border": null,
            "bottom": null,
            "display": null,
            "flex": null,
            "flex_flow": null,
            "grid_area": null,
            "grid_auto_columns": null,
            "grid_auto_flow": null,
            "grid_auto_rows": null,
            "grid_column": null,
            "grid_gap": null,
            "grid_row": null,
            "grid_template_areas": null,
            "grid_template_columns": null,
            "grid_template_rows": null,
            "height": null,
            "justify_content": null,
            "justify_items": null,
            "left": null,
            "margin": null,
            "max_height": null,
            "max_width": null,
            "min_height": null,
            "min_width": null,
            "object_fit": null,
            "object_position": null,
            "order": null,
            "overflow": null,
            "overflow_x": null,
            "overflow_y": null,
            "padding": null,
            "right": null,
            "top": null,
            "visibility": null,
            "width": null
          }
        },
        "0d70b7423e8245a3beb56db40a72308f": {
          "model_module": "@jupyter-widgets/controls",
          "model_name": "ProgressStyleModel",
          "model_module_version": "1.5.0",
          "state": {
            "_model_module": "@jupyter-widgets/controls",
            "_model_module_version": "1.5.0",
            "_model_name": "ProgressStyleModel",
            "_view_count": null,
            "_view_module": "@jupyter-widgets/base",
            "_view_module_version": "1.2.0",
            "_view_name": "StyleView",
            "bar_color": null,
            "description_width": ""
          }
        },
        "c39ffa898256494089bd73f358da5d58": {
          "model_module": "@jupyter-widgets/base",
          "model_name": "LayoutModel",
          "model_module_version": "1.2.0",
          "state": {
            "_model_module": "@jupyter-widgets/base",
            "_model_module_version": "1.2.0",
            "_model_name": "LayoutModel",
            "_view_count": null,
            "_view_module": "@jupyter-widgets/base",
            "_view_module_version": "1.2.0",
            "_view_name": "LayoutView",
            "align_content": null,
            "align_items": null,
            "align_self": null,
            "border": null,
            "bottom": null,
            "display": null,
            "flex": null,
            "flex_flow": null,
            "grid_area": null,
            "grid_auto_columns": null,
            "grid_auto_flow": null,
            "grid_auto_rows": null,
            "grid_column": null,
            "grid_gap": null,
            "grid_row": null,
            "grid_template_areas": null,
            "grid_template_columns": null,
            "grid_template_rows": null,
            "height": null,
            "justify_content": null,
            "justify_items": null,
            "left": null,
            "margin": null,
            "max_height": null,
            "max_width": null,
            "min_height": null,
            "min_width": null,
            "object_fit": null,
            "object_position": null,
            "order": null,
            "overflow": null,
            "overflow_x": null,
            "overflow_y": null,
            "padding": null,
            "right": null,
            "top": null,
            "visibility": null,
            "width": null
          }
        },
        "8a69eb98b29d43a79f2ed603251319a8": {
          "model_module": "@jupyter-widgets/controls",
          "model_name": "DescriptionStyleModel",
          "model_module_version": "1.5.0",
          "state": {
            "_model_module": "@jupyter-widgets/controls",
            "_model_module_version": "1.5.0",
            "_model_name": "DescriptionStyleModel",
            "_view_count": null,
            "_view_module": "@jupyter-widgets/base",
            "_view_module_version": "1.2.0",
            "_view_name": "StyleView",
            "description_width": ""
          }
        },
        "0cb1547d10314bb195e195c6b0a73447": {
          "model_module": "@jupyter-widgets/controls",
          "model_name": "HBoxModel",
          "model_module_version": "1.5.0",
          "state": {
            "_dom_classes": [],
            "_model_module": "@jupyter-widgets/controls",
            "_model_module_version": "1.5.0",
            "_model_name": "HBoxModel",
            "_view_count": null,
            "_view_module": "@jupyter-widgets/controls",
            "_view_module_version": "1.5.0",
            "_view_name": "HBoxView",
            "box_style": "",
            "children": [
              "IPY_MODEL_625bc3de2ff34a85a735476b600349f5",
              "IPY_MODEL_ba17083ac2ca402596acf0add7a22bae",
              "IPY_MODEL_b749ae3d4f784c849c12acafee30105a"
            ],
            "layout": "IPY_MODEL_2b743ccbc1ca4ca6b997106b0a03eebf"
          }
        },
        "625bc3de2ff34a85a735476b600349f5": {
          "model_module": "@jupyter-widgets/controls",
          "model_name": "HTMLModel",
          "model_module_version": "1.5.0",
          "state": {
            "_dom_classes": [],
            "_model_module": "@jupyter-widgets/controls",
            "_model_module_version": "1.5.0",
            "_model_name": "HTMLModel",
            "_view_count": null,
            "_view_module": "@jupyter-widgets/controls",
            "_view_module_version": "1.5.0",
            "_view_name": "HTMLView",
            "description": "",
            "description_tooltip": null,
            "layout": "IPY_MODEL_a756b2c4a0a64513a08f85beacaf6e15",
            "placeholder": "​",
            "style": "IPY_MODEL_e2cbf0b678ee4240b578299780ef319c",
            "value": "tokenizer.json: 100%"
          }
        },
        "ba17083ac2ca402596acf0add7a22bae": {
          "model_module": "@jupyter-widgets/controls",
          "model_name": "FloatProgressModel",
          "model_module_version": "1.5.0",
          "state": {
            "_dom_classes": [],
            "_model_module": "@jupyter-widgets/controls",
            "_model_module_version": "1.5.0",
            "_model_name": "FloatProgressModel",
            "_view_count": null,
            "_view_module": "@jupyter-widgets/controls",
            "_view_module_version": "1.5.0",
            "_view_name": "ProgressView",
            "bar_style": "success",
            "description": "",
            "description_tooltip": null,
            "layout": "IPY_MODEL_6b524b04c6534d948340c76497b3ce0d",
            "max": 17477929,
            "min": 0,
            "orientation": "horizontal",
            "style": "IPY_MODEL_fb0616336c88477ba02e98e8fd00e98f",
            "value": 17477929
          }
        },
        "b749ae3d4f784c849c12acafee30105a": {
          "model_module": "@jupyter-widgets/controls",
          "model_name": "HTMLModel",
          "model_module_version": "1.5.0",
          "state": {
            "_dom_classes": [],
            "_model_module": "@jupyter-widgets/controls",
            "_model_module_version": "1.5.0",
            "_model_name": "HTMLModel",
            "_view_count": null,
            "_view_module": "@jupyter-widgets/controls",
            "_view_module_version": "1.5.0",
            "_view_name": "HTMLView",
            "description": "",
            "description_tooltip": null,
            "layout": "IPY_MODEL_3e25c61138374e1cabb6aa1c892d5f87",
            "placeholder": "​",
            "style": "IPY_MODEL_c324a2754a334107ae196b59d1473054",
            "value": " 17.5M/17.5M [00:00&lt;00:00, 169MB/s]"
          }
        },
        "2b743ccbc1ca4ca6b997106b0a03eebf": {
          "model_module": "@jupyter-widgets/base",
          "model_name": "LayoutModel",
          "model_module_version": "1.2.0",
          "state": {
            "_model_module": "@jupyter-widgets/base",
            "_model_module_version": "1.2.0",
            "_model_name": "LayoutModel",
            "_view_count": null,
            "_view_module": "@jupyter-widgets/base",
            "_view_module_version": "1.2.0",
            "_view_name": "LayoutView",
            "align_content": null,
            "align_items": null,
            "align_self": null,
            "border": null,
            "bottom": null,
            "display": null,
            "flex": null,
            "flex_flow": null,
            "grid_area": null,
            "grid_auto_columns": null,
            "grid_auto_flow": null,
            "grid_auto_rows": null,
            "grid_column": null,
            "grid_gap": null,
            "grid_row": null,
            "grid_template_areas": null,
            "grid_template_columns": null,
            "grid_template_rows": null,
            "height": null,
            "justify_content": null,
            "justify_items": null,
            "left": null,
            "margin": null,
            "max_height": null,
            "max_width": null,
            "min_height": null,
            "min_width": null,
            "object_fit": null,
            "object_position": null,
            "order": null,
            "overflow": null,
            "overflow_x": null,
            "overflow_y": null,
            "padding": null,
            "right": null,
            "top": null,
            "visibility": null,
            "width": null
          }
        },
        "a756b2c4a0a64513a08f85beacaf6e15": {
          "model_module": "@jupyter-widgets/base",
          "model_name": "LayoutModel",
          "model_module_version": "1.2.0",
          "state": {
            "_model_module": "@jupyter-widgets/base",
            "_model_module_version": "1.2.0",
            "_model_name": "LayoutModel",
            "_view_count": null,
            "_view_module": "@jupyter-widgets/base",
            "_view_module_version": "1.2.0",
            "_view_name": "LayoutView",
            "align_content": null,
            "align_items": null,
            "align_self": null,
            "border": null,
            "bottom": null,
            "display": null,
            "flex": null,
            "flex_flow": null,
            "grid_area": null,
            "grid_auto_columns": null,
            "grid_auto_flow": null,
            "grid_auto_rows": null,
            "grid_column": null,
            "grid_gap": null,
            "grid_row": null,
            "grid_template_areas": null,
            "grid_template_columns": null,
            "grid_template_rows": null,
            "height": null,
            "justify_content": null,
            "justify_items": null,
            "left": null,
            "margin": null,
            "max_height": null,
            "max_width": null,
            "min_height": null,
            "min_width": null,
            "object_fit": null,
            "object_position": null,
            "order": null,
            "overflow": null,
            "overflow_x": null,
            "overflow_y": null,
            "padding": null,
            "right": null,
            "top": null,
            "visibility": null,
            "width": null
          }
        },
        "e2cbf0b678ee4240b578299780ef319c": {
          "model_module": "@jupyter-widgets/controls",
          "model_name": "DescriptionStyleModel",
          "model_module_version": "1.5.0",
          "state": {
            "_model_module": "@jupyter-widgets/controls",
            "_model_module_version": "1.5.0",
            "_model_name": "DescriptionStyleModel",
            "_view_count": null,
            "_view_module": "@jupyter-widgets/base",
            "_view_module_version": "1.2.0",
            "_view_name": "StyleView",
            "description_width": ""
          }
        },
        "6b524b04c6534d948340c76497b3ce0d": {
          "model_module": "@jupyter-widgets/base",
          "model_name": "LayoutModel",
          "model_module_version": "1.2.0",
          "state": {
            "_model_module": "@jupyter-widgets/base",
            "_model_module_version": "1.2.0",
            "_model_name": "LayoutModel",
            "_view_count": null,
            "_view_module": "@jupyter-widgets/base",
            "_view_module_version": "1.2.0",
            "_view_name": "LayoutView",
            "align_content": null,
            "align_items": null,
            "align_self": null,
            "border": null,
            "bottom": null,
            "display": null,
            "flex": null,
            "flex_flow": null,
            "grid_area": null,
            "grid_auto_columns": null,
            "grid_auto_flow": null,
            "grid_auto_rows": null,
            "grid_column": null,
            "grid_gap": null,
            "grid_row": null,
            "grid_template_areas": null,
            "grid_template_columns": null,
            "grid_template_rows": null,
            "height": null,
            "justify_content": null,
            "justify_items": null,
            "left": null,
            "margin": null,
            "max_height": null,
            "max_width": null,
            "min_height": null,
            "min_width": null,
            "object_fit": null,
            "object_position": null,
            "order": null,
            "overflow": null,
            "overflow_x": null,
            "overflow_y": null,
            "padding": null,
            "right": null,
            "top": null,
            "visibility": null,
            "width": null
          }
        },
        "fb0616336c88477ba02e98e8fd00e98f": {
          "model_module": "@jupyter-widgets/controls",
          "model_name": "ProgressStyleModel",
          "model_module_version": "1.5.0",
          "state": {
            "_model_module": "@jupyter-widgets/controls",
            "_model_module_version": "1.5.0",
            "_model_name": "ProgressStyleModel",
            "_view_count": null,
            "_view_module": "@jupyter-widgets/base",
            "_view_module_version": "1.2.0",
            "_view_name": "StyleView",
            "bar_color": null,
            "description_width": ""
          }
        },
        "3e25c61138374e1cabb6aa1c892d5f87": {
          "model_module": "@jupyter-widgets/base",
          "model_name": "LayoutModel",
          "model_module_version": "1.2.0",
          "state": {
            "_model_module": "@jupyter-widgets/base",
            "_model_module_version": "1.2.0",
            "_model_name": "LayoutModel",
            "_view_count": null,
            "_view_module": "@jupyter-widgets/base",
            "_view_module_version": "1.2.0",
            "_view_name": "LayoutView",
            "align_content": null,
            "align_items": null,
            "align_self": null,
            "border": null,
            "bottom": null,
            "display": null,
            "flex": null,
            "flex_flow": null,
            "grid_area": null,
            "grid_auto_columns": null,
            "grid_auto_flow": null,
            "grid_auto_rows": null,
            "grid_column": null,
            "grid_gap": null,
            "grid_row": null,
            "grid_template_areas": null,
            "grid_template_columns": null,
            "grid_template_rows": null,
            "height": null,
            "justify_content": null,
            "justify_items": null,
            "left": null,
            "margin": null,
            "max_height": null,
            "max_width": null,
            "min_height": null,
            "min_width": null,
            "object_fit": null,
            "object_position": null,
            "order": null,
            "overflow": null,
            "overflow_x": null,
            "overflow_y": null,
            "padding": null,
            "right": null,
            "top": null,
            "visibility": null,
            "width": null
          }
        },
        "c324a2754a334107ae196b59d1473054": {
          "model_module": "@jupyter-widgets/controls",
          "model_name": "DescriptionStyleModel",
          "model_module_version": "1.5.0",
          "state": {
            "_model_module": "@jupyter-widgets/controls",
            "_model_module_version": "1.5.0",
            "_model_name": "DescriptionStyleModel",
            "_view_count": null,
            "_view_module": "@jupyter-widgets/base",
            "_view_module_version": "1.2.0",
            "_view_name": "StyleView",
            "description_width": ""
          }
        },
        "1e83be4ac9b543daa5f89d17b009300e": {
          "model_module": "@jupyter-widgets/controls",
          "model_name": "HBoxModel",
          "model_module_version": "1.5.0",
          "state": {
            "_dom_classes": [],
            "_model_module": "@jupyter-widgets/controls",
            "_model_module_version": "1.5.0",
            "_model_name": "HBoxModel",
            "_view_count": null,
            "_view_module": "@jupyter-widgets/controls",
            "_view_module_version": "1.5.0",
            "_view_name": "HBoxView",
            "box_style": "",
            "children": [
              "IPY_MODEL_1622385384494509b1610ffd871c9c1c",
              "IPY_MODEL_1e3b071d9c374193ba774302cfc075e6",
              "IPY_MODEL_a22370e042d14b92b332e34ca830279b"
            ],
            "layout": "IPY_MODEL_aef9ad8ab8d540c398ad6b44a1d6376d"
          }
        },
        "1622385384494509b1610ffd871c9c1c": {
          "model_module": "@jupyter-widgets/controls",
          "model_name": "HTMLModel",
          "model_module_version": "1.5.0",
          "state": {
            "_dom_classes": [],
            "_model_module": "@jupyter-widgets/controls",
            "_model_module_version": "1.5.0",
            "_model_name": "HTMLModel",
            "_view_count": null,
            "_view_module": "@jupyter-widgets/controls",
            "_view_module_version": "1.5.0",
            "_view_name": "HTMLView",
            "description": "",
            "description_tooltip": null,
            "layout": "IPY_MODEL_d79fdd91b8bb4209a981acf0e590da71",
            "placeholder": "​",
            "style": "IPY_MODEL_b639f75f3e64499f8e95f6c900e9ccfb",
            "value": "special_tokens_map.json: 100%"
          }
        },
        "1e3b071d9c374193ba774302cfc075e6": {
          "model_module": "@jupyter-widgets/controls",
          "model_name": "FloatProgressModel",
          "model_module_version": "1.5.0",
          "state": {
            "_dom_classes": [],
            "_model_module": "@jupyter-widgets/controls",
            "_model_module_version": "1.5.0",
            "_model_name": "FloatProgressModel",
            "_view_count": null,
            "_view_module": "@jupyter-widgets/controls",
            "_view_module_version": "1.5.0",
            "_view_name": "ProgressView",
            "bar_style": "success",
            "description": "",
            "description_tooltip": null,
            "layout": "IPY_MODEL_4f9e6b0c3f794245b3584c83deccb5c1",
            "max": 888,
            "min": 0,
            "orientation": "horizontal",
            "style": "IPY_MODEL_5ddf81d51c9d4a20b1f45b26ca2879d4",
            "value": 888
          }
        },
        "a22370e042d14b92b332e34ca830279b": {
          "model_module": "@jupyter-widgets/controls",
          "model_name": "HTMLModel",
          "model_module_version": "1.5.0",
          "state": {
            "_dom_classes": [],
            "_model_module": "@jupyter-widgets/controls",
            "_model_module_version": "1.5.0",
            "_model_name": "HTMLModel",
            "_view_count": null,
            "_view_module": "@jupyter-widgets/controls",
            "_view_module_version": "1.5.0",
            "_view_name": "HTMLView",
            "description": "",
            "description_tooltip": null,
            "layout": "IPY_MODEL_23e4838b2f394a2396fad855d39d0dd1",
            "placeholder": "​",
            "style": "IPY_MODEL_f3b03c155b74486da99c1852d81cccd8",
            "value": " 888/888 [00:00&lt;00:00, 34.9kB/s]"
          }
        },
        "aef9ad8ab8d540c398ad6b44a1d6376d": {
          "model_module": "@jupyter-widgets/base",
          "model_name": "LayoutModel",
          "model_module_version": "1.2.0",
          "state": {
            "_model_module": "@jupyter-widgets/base",
            "_model_module_version": "1.2.0",
            "_model_name": "LayoutModel",
            "_view_count": null,
            "_view_module": "@jupyter-widgets/base",
            "_view_module_version": "1.2.0",
            "_view_name": "LayoutView",
            "align_content": null,
            "align_items": null,
            "align_self": null,
            "border": null,
            "bottom": null,
            "display": null,
            "flex": null,
            "flex_flow": null,
            "grid_area": null,
            "grid_auto_columns": null,
            "grid_auto_flow": null,
            "grid_auto_rows": null,
            "grid_column": null,
            "grid_gap": null,
            "grid_row": null,
            "grid_template_areas": null,
            "grid_template_columns": null,
            "grid_template_rows": null,
            "height": null,
            "justify_content": null,
            "justify_items": null,
            "left": null,
            "margin": null,
            "max_height": null,
            "max_width": null,
            "min_height": null,
            "min_width": null,
            "object_fit": null,
            "object_position": null,
            "order": null,
            "overflow": null,
            "overflow_x": null,
            "overflow_y": null,
            "padding": null,
            "right": null,
            "top": null,
            "visibility": null,
            "width": null
          }
        },
        "d79fdd91b8bb4209a981acf0e590da71": {
          "model_module": "@jupyter-widgets/base",
          "model_name": "LayoutModel",
          "model_module_version": "1.2.0",
          "state": {
            "_model_module": "@jupyter-widgets/base",
            "_model_module_version": "1.2.0",
            "_model_name": "LayoutModel",
            "_view_count": null,
            "_view_module": "@jupyter-widgets/base",
            "_view_module_version": "1.2.0",
            "_view_name": "LayoutView",
            "align_content": null,
            "align_items": null,
            "align_self": null,
            "border": null,
            "bottom": null,
            "display": null,
            "flex": null,
            "flex_flow": null,
            "grid_area": null,
            "grid_auto_columns": null,
            "grid_auto_flow": null,
            "grid_auto_rows": null,
            "grid_column": null,
            "grid_gap": null,
            "grid_row": null,
            "grid_template_areas": null,
            "grid_template_columns": null,
            "grid_template_rows": null,
            "height": null,
            "justify_content": null,
            "justify_items": null,
            "left": null,
            "margin": null,
            "max_height": null,
            "max_width": null,
            "min_height": null,
            "min_width": null,
            "object_fit": null,
            "object_position": null,
            "order": null,
            "overflow": null,
            "overflow_x": null,
            "overflow_y": null,
            "padding": null,
            "right": null,
            "top": null,
            "visibility": null,
            "width": null
          }
        },
        "b639f75f3e64499f8e95f6c900e9ccfb": {
          "model_module": "@jupyter-widgets/controls",
          "model_name": "DescriptionStyleModel",
          "model_module_version": "1.5.0",
          "state": {
            "_model_module": "@jupyter-widgets/controls",
            "_model_module_version": "1.5.0",
            "_model_name": "DescriptionStyleModel",
            "_view_count": null,
            "_view_module": "@jupyter-widgets/base",
            "_view_module_version": "1.2.0",
            "_view_name": "StyleView",
            "description_width": ""
          }
        },
        "4f9e6b0c3f794245b3584c83deccb5c1": {
          "model_module": "@jupyter-widgets/base",
          "model_name": "LayoutModel",
          "model_module_version": "1.2.0",
          "state": {
            "_model_module": "@jupyter-widgets/base",
            "_model_module_version": "1.2.0",
            "_model_name": "LayoutModel",
            "_view_count": null,
            "_view_module": "@jupyter-widgets/base",
            "_view_module_version": "1.2.0",
            "_view_name": "LayoutView",
            "align_content": null,
            "align_items": null,
            "align_self": null,
            "border": null,
            "bottom": null,
            "display": null,
            "flex": null,
            "flex_flow": null,
            "grid_area": null,
            "grid_auto_columns": null,
            "grid_auto_flow": null,
            "grid_auto_rows": null,
            "grid_column": null,
            "grid_gap": null,
            "grid_row": null,
            "grid_template_areas": null,
            "grid_template_columns": null,
            "grid_template_rows": null,
            "height": null,
            "justify_content": null,
            "justify_items": null,
            "left": null,
            "margin": null,
            "max_height": null,
            "max_width": null,
            "min_height": null,
            "min_width": null,
            "object_fit": null,
            "object_position": null,
            "order": null,
            "overflow": null,
            "overflow_x": null,
            "overflow_y": null,
            "padding": null,
            "right": null,
            "top": null,
            "visibility": null,
            "width": null
          }
        },
        "5ddf81d51c9d4a20b1f45b26ca2879d4": {
          "model_module": "@jupyter-widgets/controls",
          "model_name": "ProgressStyleModel",
          "model_module_version": "1.5.0",
          "state": {
            "_model_module": "@jupyter-widgets/controls",
            "_model_module_version": "1.5.0",
            "_model_name": "ProgressStyleModel",
            "_view_count": null,
            "_view_module": "@jupyter-widgets/base",
            "_view_module_version": "1.2.0",
            "_view_name": "StyleView",
            "bar_color": null,
            "description_width": ""
          }
        },
        "23e4838b2f394a2396fad855d39d0dd1": {
          "model_module": "@jupyter-widgets/base",
          "model_name": "LayoutModel",
          "model_module_version": "1.2.0",
          "state": {
            "_model_module": "@jupyter-widgets/base",
            "_model_module_version": "1.2.0",
            "_model_name": "LayoutModel",
            "_view_count": null,
            "_view_module": "@jupyter-widgets/base",
            "_view_module_version": "1.2.0",
            "_view_name": "LayoutView",
            "align_content": null,
            "align_items": null,
            "align_self": null,
            "border": null,
            "bottom": null,
            "display": null,
            "flex": null,
            "flex_flow": null,
            "grid_area": null,
            "grid_auto_columns": null,
            "grid_auto_flow": null,
            "grid_auto_rows": null,
            "grid_column": null,
            "grid_gap": null,
            "grid_row": null,
            "grid_template_areas": null,
            "grid_template_columns": null,
            "grid_template_rows": null,
            "height": null,
            "justify_content": null,
            "justify_items": null,
            "left": null,
            "margin": null,
            "max_height": null,
            "max_width": null,
            "min_height": null,
            "min_width": null,
            "object_fit": null,
            "object_position": null,
            "order": null,
            "overflow": null,
            "overflow_x": null,
            "overflow_y": null,
            "padding": null,
            "right": null,
            "top": null,
            "visibility": null,
            "width": null
          }
        },
        "f3b03c155b74486da99c1852d81cccd8": {
          "model_module": "@jupyter-widgets/controls",
          "model_name": "DescriptionStyleModel",
          "model_module_version": "1.5.0",
          "state": {
            "_model_module": "@jupyter-widgets/controls",
            "_model_module_version": "1.5.0",
            "_model_name": "DescriptionStyleModel",
            "_view_count": null,
            "_view_module": "@jupyter-widgets/base",
            "_view_module_version": "1.2.0",
            "_view_name": "StyleView",
            "description_width": ""
          }
        }
      }
    }
  },
  "cells": [
    {
      "cell_type": "markdown",
      "source": [
        "# **Gemma model**"
      ],
      "metadata": {
        "id": "Z3QKkWN5oPOg"
      }
    },
    {
      "cell_type": "markdown",
      "source": [
        "![gemma+HF.png](data:image/png;base64,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)"
      ],
      "metadata": {
        "id": "Ut3BH4CmoLWP"
      }
    },
    {
      "cell_type": "code",
      "execution_count": 1,
      "metadata": {
        "colab": {
          "base_uri": "https://localhost:8080/",
          "height": 0
        },
        "id": "XgnDYrdO9i4e",
        "outputId": "074f076f-5bbb-4a59-efdd-968b4cae0de3"
      },
      "outputs": [
        {
          "output_type": "stream",
          "name": "stdout",
          "text": [
            "  Installing build dependencies ... \u001b[?25l\u001b[?25hdone\n",
            "  Getting requirements to build wheel ... \u001b[?25l\u001b[?25hdone\n",
            "  Preparing metadata (pyproject.toml) ... \u001b[?25l\u001b[?25hdone\n",
            "  Building wheel for transformers (pyproject.toml) ... \u001b[?25l\u001b[?25hdone\n",
            "\u001b[2K     \u001b[90m━━━━━━━━━━━━━━━━━━━━━━━━━━━━━━━━━━━━━━━━\u001b[0m \u001b[32m510.5/510.5 kB\u001b[0m \u001b[31m8.6 MB/s\u001b[0m eta \u001b[36m0:00:00\u001b[0m\n",
            "\u001b[2K     \u001b[90m━━━━━━━━━━━━━━━━━━━━━━━━━━━━━━━━━━━━━━━━\u001b[0m \u001b[32m116.3/116.3 kB\u001b[0m \u001b[31m15.9 MB/s\u001b[0m eta \u001b[36m0:00:00\u001b[0m\n",
            "\u001b[2K     \u001b[90m━━━━━━━━━━━━━━━━━━━━━━━━━━━━━━━━━━━━━━━━\u001b[0m \u001b[32m134.8/134.8 kB\u001b[0m \u001b[31m17.7 MB/s\u001b[0m eta \u001b[36m0:00:00\u001b[0m\n",
            "\u001b[2K     \u001b[90m━━━━━━━━━━━━━━━━━━━━━━━━━━━━━━━━━━━━━━━━\u001b[0m \u001b[32m105.0/105.0 MB\u001b[0m \u001b[31m8.5 MB/s\u001b[0m eta \u001b[36m0:00:00\u001b[0m\n",
            "\u001b[2K     \u001b[90m━━━━━━━━━━━━━━━━━━━━━━━━━━━━━━━━━━━━━━━━\u001b[0m \u001b[32m280.0/280.0 kB\u001b[0m \u001b[31m37.0 MB/s\u001b[0m eta \u001b[36m0:00:00\u001b[0m\n",
            "\u001b[2K     \u001b[90m━━━━━━━━━━━━━━━━━━━━━━━━━━━━━━━━━━━━━━━━\u001b[0m \u001b[32m218.2/218.2 MB\u001b[0m \u001b[31m2.3 MB/s\u001b[0m eta \u001b[36m0:00:00\u001b[0m\n",
            "\u001b[2K     \u001b[90m━━━━━━━━━━━━━━━━━━━━━━━━━━━━━━━━━━━━━━━━\u001b[0m \u001b[32m44.6/44.6 kB\u001b[0m \u001b[31m6.7 MB/s\u001b[0m eta \u001b[36m0:00:00\u001b[0m\n",
            "\u001b[2K     \u001b[90m━━━━━━━━━━━━━━━━━━━━━━━━━━━━━━━━━━━━━━━━\u001b[0m \u001b[32m755.5/755.5 MB\u001b[0m \u001b[31m2.0 MB/s\u001b[0m eta \u001b[36m0:00:00\u001b[0m\n",
            "\u001b[2K     \u001b[90m━━━━━━━━━━━━━━━━━━━━━━━━━━━━━━━━━━━━━━━━\u001b[0m \u001b[32m23.7/23.7 MB\u001b[0m \u001b[31m51.4 MB/s\u001b[0m eta \u001b[36m0:00:00\u001b[0m\n",
            "\u001b[2K     \u001b[90m━━━━━━━━━━━━━━━━━━━━━━━━━━━━━━━━━━━━━━━━\u001b[0m \u001b[32m823.6/823.6 kB\u001b[0m \u001b[31m63.8 MB/s\u001b[0m eta \u001b[36m0:00:00\u001b[0m\n",
            "\u001b[2K     \u001b[90m━━━━━━━━━━━━━━━━━━━━━━━━━━━━━━━━━━━━━━━━\u001b[0m \u001b[32m14.1/14.1 MB\u001b[0m \u001b[31m77.3 MB/s\u001b[0m eta \u001b[36m0:00:00\u001b[0m\n",
            "\u001b[2K     \u001b[90m━━━━━━━━━━━━━━━━━━━━━━━━━━━━━━━━━━━━━━━━\u001b[0m \u001b[32m731.7/731.7 MB\u001b[0m \u001b[31m2.1 MB/s\u001b[0m eta \u001b[36m0:00:00\u001b[0m\n",
            "\u001b[2K     \u001b[90m━━━━━━━━━━━━━━━━━━━━━━━━━━━━━━━━━━━━━━━━\u001b[0m \u001b[32m410.6/410.6 MB\u001b[0m \u001b[31m3.0 MB/s\u001b[0m eta \u001b[36m0:00:00\u001b[0m\n",
            "\u001b[2K     \u001b[90m━━━━━━━━━━━━━━━━━━━━━━━━━━━━━━━━━━━━━━━━\u001b[0m \u001b[32m121.6/121.6 MB\u001b[0m \u001b[31m8.2 MB/s\u001b[0m eta \u001b[36m0:00:00\u001b[0m\n",
            "\u001b[2K     \u001b[90m━━━━━━━━━━━━━━━━━━━━━━━━━━━━━━━━━━━━━━━━\u001b[0m \u001b[32m56.5/56.5 MB\u001b[0m \u001b[31m13.4 MB/s\u001b[0m eta \u001b[36m0:00:00\u001b[0m\n",
            "\u001b[2K     \u001b[90m━━━━━━━━━━━━━━━━━━━━━━━━━━━━━━━━━━━━━━━━\u001b[0m \u001b[32m124.2/124.2 MB\u001b[0m \u001b[31m8.2 MB/s\u001b[0m eta \u001b[36m0:00:00\u001b[0m\n",
            "\u001b[2K     \u001b[90m━━━━━━━━━━━━━━━━━━━━━━━━━━━━━━━━━━━━━━━━\u001b[0m \u001b[32m196.0/196.0 MB\u001b[0m \u001b[31m2.7 MB/s\u001b[0m eta \u001b[36m0:00:00\u001b[0m\n",
            "\u001b[2K     \u001b[90m━━━━━━━━━━━━━━━━━━━━━━━━━━━━━━━━━━━━━━━━\u001b[0m \u001b[32m166.0/166.0 MB\u001b[0m \u001b[31m7.3 MB/s\u001b[0m eta \u001b[36m0:00:00\u001b[0m\n",
            "\u001b[2K     \u001b[90m━━━━━━━━━━━━━━━━━━━━━━━━━━━━━━━━━━━━━━━━\u001b[0m \u001b[32m99.1/99.1 kB\u001b[0m \u001b[31m14.7 MB/s\u001b[0m eta \u001b[36m0:00:00\u001b[0m\n",
            "\u001b[2K     \u001b[90m━━━━━━━━━━━━━━━━━━━━━━━━━━━━━━━━━━━━━━━━\u001b[0m \u001b[32m167.9/167.9 MB\u001b[0m \u001b[31m7.3 MB/s\u001b[0m eta \u001b[36m0:00:00\u001b[0m\n",
            "\u001b[2K     \u001b[90m━━━━━━━━━━━━━━━━━━━━━━━━━━━━━━━━━━━━━━━━\u001b[0m \u001b[32m20.5/20.5 MB\u001b[0m \u001b[31m52.9 MB/s\u001b[0m eta \u001b[36m0:00:00\u001b[0m\n",
            "\u001b[?25h\u001b[31mERROR: pip's dependency resolver does not currently take into account all the packages that are installed. This behaviour is the source of the following dependency conflicts.\n",
            "torchaudio 2.1.0+cu121 requires torch==2.1.0, but you have torch 2.2.0 which is incompatible.\n",
            "torchdata 0.7.0 requires torch==2.1.0, but you have torch 2.2.0 which is incompatible.\n",
            "torchtext 0.16.0 requires torch==2.1.0, but you have torch 2.2.0 which is incompatible.\n",
            "torchvision 0.16.0+cu121 requires torch==2.1.0, but you have torch 2.2.0 which is incompatible.\u001b[0m\u001b[31m\n",
            "\u001b[2K     \u001b[90m━━━━━━━━━━━━━━━━━━━━━━━━━━━━━━━━━━━━━━━━\u001b[0m \u001b[32m4.4/4.4 MB\u001b[0m \u001b[31m54.3 MB/s\u001b[0m eta \u001b[36m0:00:00\u001b[0m\n",
            "\u001b[?25h"
          ]
        }
      ],
      "source": [
        "!pip -q install git+https://github.com/huggingface/transformers # need to install from github\n",
        "!pip install -q datasets loralib sentencepiece\n",
        "!pip -q install bitsandbytes accelerate xformers einops\n",
        "!pip -q install hf_transfer"
      ]
    },
    {
      "cell_type": "code",
      "source": [
        "!nvidia-smi"
      ],
      "metadata": {
        "colab": {
          "base_uri": "https://localhost:8080/",
          "height": 0
        },
        "id": "KbFVC8rM-hdQ",
        "outputId": "3e54be82-3c5b-4e9d-c288-1f937b6bf79b"
      },
      "execution_count": 2,
      "outputs": [
        {
          "output_type": "stream",
          "name": "stdout",
          "text": [
            "Tue Mar  5 14:21:29 2024       \n",
            "+---------------------------------------------------------------------------------------+\n",
            "| NVIDIA-SMI 535.104.05             Driver Version: 535.104.05   CUDA Version: 12.2     |\n",
            "|-----------------------------------------+----------------------+----------------------+\n",
            "| GPU  Name                 Persistence-M | Bus-Id        Disp.A | Volatile Uncorr. ECC |\n",
            "| Fan  Temp   Perf          Pwr:Usage/Cap |         Memory-Usage | GPU-Util  Compute M. |\n",
            "|                                         |                      |               MIG M. |\n",
            "|=========================================+======================+======================|\n",
            "|   0  Tesla T4                       Off | 00000000:00:04.0 Off |                    0 |\n",
            "| N/A   41C    P8               9W /  70W |      0MiB / 15360MiB |      0%      Default |\n",
            "|                                         |                      |                  N/A |\n",
            "+-----------------------------------------+----------------------+----------------------+\n",
            "                                                                                         \n",
            "+---------------------------------------------------------------------------------------+\n",
            "| Processes:                                                                            |\n",
            "|  GPU   GI   CI        PID   Type   Process name                            GPU Memory |\n",
            "|        ID   ID                                                             Usage      |\n",
            "|=======================================================================================|\n",
            "|  No running processes found                                                           |\n",
            "+---------------------------------------------------------------------------------------+\n"
          ]
        }
      ]
    },
    {
      "cell_type": "code",
      "source": [
        "from IPython.display import Markdown, display\n",
        "display(Markdown(\"## Gemma - 7B 4Bit\"))"
      ],
      "metadata": {
        "colab": {
          "base_uri": "https://localhost:8080/",
          "height": 64
        },
        "id": "76eIpQbY_S9u",
        "outputId": "498b1eab-4474-4bf8-ec53-fc8eb2ad229a"
      },
      "execution_count": 3,
      "outputs": [
        {
          "output_type": "display_data",
          "data": {
            "text/plain": [
              "<IPython.core.display.Markdown object>"
            ],
            "text/markdown": "## Gemma - 7B 4Bit"
          },
          "metadata": {}
        }
      ]
    },
    {
      "cell_type": "code",
      "source": [
        "import torch\n",
        "import transformers\n",
        "from transformers import AutoTokenizer, AutoModelForCausalLM, BitsAndBytesConfig\n",
        "import os\n"
      ],
      "metadata": {
        "id": "5eK-fQHF_cg8"
      },
      "execution_count": 4,
      "outputs": []
    },
    {
      "cell_type": "code",
      "source": [
        "os.environ ['HF_HUB_ENABLE_HF_TRANSFER'] = '1'"
      ],
      "metadata": {
        "id": "X_uUCyIL_prb"
      },
      "execution_count": 5,
      "outputs": []
    },
    {
      "cell_type": "code",
      "source": [
        "torch.set_default_device('cuda')"
      ],
      "metadata": {
        "id": "Qk9ZmPkd_rRI"
      },
      "execution_count": 6,
      "outputs": []
    },
    {
      "cell_type": "code",
      "source": [
        "quantization_config = BitsAndBytesConfig(load_in_4bit=True)\n",
        "\n",
        "model = AutoModelForCausalLM.from_pretrained(\"google/gemma-7b-it\", # 'google/gemma-2b-it\n",
        "                                             quantization_config=quantization_config,\n",
        "                                             low_cpu_mem_usage=True,\n",
        "                                             torch_dtype=\"auto\",\n",
        "                                             device_map=\"auto\"\n",
        "                                             )\n",
        "\n",
        "tokenizer = AutoTokenizer.from_pretrained(\"google/gemma-7b-it\")"
      ],
      "metadata": {
        "colab": {
          "base_uri": "https://localhost:8080/",
          "height": 433,
          "referenced_widgets": [
            "dba7869c7c304b86bae9b69b821fd236",
            "e205c8a365b945708a98586a3b9c76c2",
            "7b39de5ff85a4abaa5e01c1d4cc6275c",
            "4079e035b1b245cd9be83bbdb6160b3b",
            "db96a51332a54a2189ac3e0c6550ed05",
            "9e6ced03f68a4a50893f7c4328dfeed9",
            "8905cc47179a471881831dc4c351b71f",
            "9636cc23b41c4e35b136ad8eff0062a4",
            "807acd78a9394a9798cb3a9642ab3dc6",
            "72b152c7a6a74b1c949327f22d12a918",
            "0a18f2417a474728b7207c4ca7f02930",
            "fb3233f77e7841dca914eeb6fe62d26f",
            "3cbf1246b7674616ae0a32b3b929463b",
            "1b0f63e0a7344403bbec0b210d397901",
            "4cefe4f4495843a4afa70198fc812ef8",
            "db85668e5b654bda95e3336472d0a3b2",
            "6b9f5fe7b39546ffa8f00ec4f673c5ab",
            "7605f296355f4b34bbdf710f1b9f1581",
            "79c408a4aed949b5a38cd576b68d25ce",
            "e414ba88ea8546e0b0e59b0ad0543d52",
            "44ae8589d5ff4b24a8957ed915433f04",
            "8a917d7a55814482848ebb61e13fd5a0",
            "406316a05d804c7984e11ba4f1bc4171",
            "f48767e6cf6340dda22be56a9752fcfc",
            "30e081ea4bb142979e6e40d49e83dbd2",
            "0b650a8fc956494ba74790ec31c55e46",
            "b019f164b04c40f9a4316a98534a8d2d",
            "34111a97b167433f85617413a3ff7fbd",
            "76076d4ba4ec419aa79b74b7f06659fa",
            "1f079374bcd64917b75642bd28ec8bf6",
            "8f986d29c43b4343a13ae6e4cc80d4f4",
            "5ae6596ea32b4362a3cc715067158359",
            "4dcf6d1d9fb24283b60bec7af3e6b059",
            "f214dcf62b42414a9bd1d3b87f242110",
            "f1b86658c6904ed9b9d74a1a55a179d2",
            "c4d2ce49598447059f3731642ef0c280",
            "785ffc1c961440bd83b473896b55c634",
            "7c0d5117af7b4ab482c806e93b57e13d",
            "c7e63a11c56c47eba145f99e34657213",
            "d68a4c66a8934dbfb0c3eec37d051e45",
            "989a156cfb364e109b011fb113eab9ed",
            "290a299ef1e64892ad5678fc937fd87a",
            "1d938ea0b7224c07a85aa6803848f9a0",
            "11489636eecf4cb995cb334c0bb24fb7",
            "ec4541a6ebc84f44b8d33e0fa77dfb1f",
            "1ae7265d32b74b1e9a3760e1568de51d",
            "c488404a9ec94919b3ffb598c0491387",
            "f83d7441d2f044439e015cfe80540186",
            "b514e55ddebf4f728d081094983e1aa8",
            "d999c2d2b9964a1fbbbcfd3bb85a0969",
            "bdc0090f45ad4479b226dfe36b6d5f6d",
            "268117bd028742e4a0fcb5bf94d40755",
            "449339e7f12b43e99431b09c1b2e8ccd",
            "22cb1b6c491a49169db34815df1059c4",
            "ab898111f6764e5c80f307a0c7f12ae7",
            "9f47c89368754559bef5eaf5228043c3",
            "bdd0baa258064d938edd23cb3836f493",
            "6a7c6c85ca6c495a9dbffd3937bfd563",
            "5a1095bd31744e54a7cfb23608feddef",
            "777832347764438292e625560c57805f",
            "2d81bf76fe33428c91a378b2bf6cf498",
            "261aeafbc29b43049abddaea6a86b179",
            "20c4b693a2d249b880f55fbf24145c05",
            "8245e330b61f41578ea4406d77648b18",
            "5139af92b3e14f869179664611c7246e",
            "2dccd052352649dea3d4c0aa9382cc4d",
            "f562f6ddc2274443b891020022819d2b",
            "4f0f433508204e639b0de118d1cb42f0",
            "f0fe61506e084c42917f2d38846a001c",
            "863dd94b39924a7a919018d4692731f8",
            "0ddc7c3eac434c3d8d6ca2142b2da695",
            "a42207930347434397a6f7c2f42d1a36",
            "19d6d5b71c5c4cbda3cf76b4fd250af1",
            "f23be07e1ea844d1b6afabce99b23872",
            "d802d31fa0934eb09504e09c372cb2b8",
            "f6b2d218cbd140c4b343578e9ea8a082",
            "04453714dd624392b497fa1fa42110d1",
            "891788bec72e464dbaa5106624bdc977",
            "b9627e795637435cb5c9f37377ee3723",
            "fb06abd0866f4512bf4b613ec660f5ec",
            "d2eff7f39b40457bb786961872d502db",
            "e13521527ac84a00bb3cab2c1242dd89",
            "b0106858dfcc412e980300006d85c221",
            "71d446f6d06f46758cfd0038672583d0",
            "76522df3731940b894ec9eddcd47c809",
            "d53cdd24d42c4de6a5aa9d7a2d8ca4ad",
            "3382305662ac45c3931003647128de59",
            "efa03f2e471c420a934542642b6ea748",
            "a1066ee8616a4aed8f95700ee5874ad2",
            "c1471ab7f53d434eb8c3bb9ca6ae7fa5",
            "cba21850845c46bbb46c492d65fe7ba5",
            "67d0dc56def14a15b5e0cff72f144351",
            "956ffa6b1a694c7e9d0ad952add2fe0e",
            "9e5d84dc000041409e73fb58c31d5aa6",
            "d40efc2b0ce74750a18a33eefdc7c6f8",
            "75c8161323db4c4daa2116c1eb9f69e2",
            "06e845901d2144c0bd5f42a68c859675",
            "b4e43b018c464beaa13ae92c4ca84323",
            "326455ee94f748ad94bd589e405fe2df",
            "f78a54d68bca4989b4238f86b96e864f",
            "8faccf7fa6454bfa9877742e59b227f4",
            "d9a34fcc0e5644268efd0afc807e2281",
            "e93ab3c688bd452596a1e246e835391c",
            "3d69b5f430414c2f975f67a4d718d5db",
            "b0e91511ba614076ac19804366c0629b",
            "e45e2ace90ef417a86cf6a8e4669a846",
            "98b16f6037ee4b18a756e5d4147df638",
            "f7a705534f4c423286920fd3e3e15753",
            "c5eff479a725422d903d191ef249f56b",
            "a0e3d801b82d41a5a0d4ff903bcdb517",
            "41772670bb8b4eb08263a6c7ae2c8769",
            "9d5062cf2baa4f289dd9525d59d0f732",
            "758d1f9d20a74abe82ad705c9844365a",
            "43e0885ab00f4bdd8c74747da82e0d8c",
            "62569df3d9274f99995b78fc3e51a930",
            "41991090b3a34edd9f1352d56fcf56c4",
            "92e72e554a074934a9b5069657e788e2",
            "fa0f2de12229483f89eb4426be412802",
            "0d70b7423e8245a3beb56db40a72308f",
            "c39ffa898256494089bd73f358da5d58",
            "8a69eb98b29d43a79f2ed603251319a8",
            "0cb1547d10314bb195e195c6b0a73447",
            "625bc3de2ff34a85a735476b600349f5",
            "ba17083ac2ca402596acf0add7a22bae",
            "b749ae3d4f784c849c12acafee30105a",
            "2b743ccbc1ca4ca6b997106b0a03eebf",
            "a756b2c4a0a64513a08f85beacaf6e15",
            "e2cbf0b678ee4240b578299780ef319c",
            "6b524b04c6534d948340c76497b3ce0d",
            "fb0616336c88477ba02e98e8fd00e98f",
            "3e25c61138374e1cabb6aa1c892d5f87",
            "c324a2754a334107ae196b59d1473054",
            "1e83be4ac9b543daa5f89d17b009300e",
            "1622385384494509b1610ffd871c9c1c",
            "1e3b071d9c374193ba774302cfc075e6",
            "a22370e042d14b92b332e34ca830279b",
            "aef9ad8ab8d540c398ad6b44a1d6376d",
            "d79fdd91b8bb4209a981acf0e590da71",
            "b639f75f3e64499f8e95f6c900e9ccfb",
            "4f9e6b0c3f794245b3584c83deccb5c1",
            "5ddf81d51c9d4a20b1f45b26ca2879d4",
            "23e4838b2f394a2396fad855d39d0dd1",
            "f3b03c155b74486da99c1852d81cccd8"
          ]
        },
        "id": "YTKOMv41_wCk",
        "outputId": "09988c1d-3914-432f-ed3b-8055fe7591fc"
      },
      "execution_count": 7,
      "outputs": [
        {
          "output_type": "display_data",
          "data": {
            "text/plain": [
              "config.json:   0%|          | 0.00/694 [00:00<?, ?B/s]"
            ],
            "application/vnd.jupyter.widget-view+json": {
              "version_major": 2,
              "version_minor": 0,
              "model_id": "dba7869c7c304b86bae9b69b821fd236"
            }
          },
          "metadata": {}
        },
        {
          "output_type": "display_data",
          "data": {
            "text/plain": [
              "model.safetensors.index.json:   0%|          | 0.00/20.9k [00:00<?, ?B/s]"
            ],
            "application/vnd.jupyter.widget-view+json": {
              "version_major": 2,
              "version_minor": 0,
              "model_id": "fb3233f77e7841dca914eeb6fe62d26f"
            }
          },
          "metadata": {}
        },
        {
          "output_type": "display_data",
          "data": {
            "text/plain": [
              "Downloading shards:   0%|          | 0/4 [00:00<?, ?it/s]"
            ],
            "application/vnd.jupyter.widget-view+json": {
              "version_major": 2,
              "version_minor": 0,
              "model_id": "406316a05d804c7984e11ba4f1bc4171"
            }
          },
          "metadata": {}
        },
        {
          "output_type": "display_data",
          "data": {
            "text/plain": [
              "model-00001-of-00004.safetensors:   0%|          | 0.00/5.00G [00:00<?, ?B/s]"
            ],
            "application/vnd.jupyter.widget-view+json": {
              "version_major": 2,
              "version_minor": 0,
              "model_id": "f214dcf62b42414a9bd1d3b87f242110"
            }
          },
          "metadata": {}
        },
        {
          "output_type": "display_data",
          "data": {
            "text/plain": [
              "model-00002-of-00004.safetensors:   0%|          | 0.00/4.98G [00:00<?, ?B/s]"
            ],
            "application/vnd.jupyter.widget-view+json": {
              "version_major": 2,
              "version_minor": 0,
              "model_id": "ec4541a6ebc84f44b8d33e0fa77dfb1f"
            }
          },
          "metadata": {}
        },
        {
          "output_type": "display_data",
          "data": {
            "text/plain": [
              "model-00003-of-00004.safetensors:   0%|          | 0.00/4.98G [00:00<?, ?B/s]"
            ],
            "application/vnd.jupyter.widget-view+json": {
              "version_major": 2,
              "version_minor": 0,
              "model_id": "9f47c89368754559bef5eaf5228043c3"
            }
          },
          "metadata": {}
        },
        {
          "output_type": "display_data",
          "data": {
            "text/plain": [
              "model-00004-of-00004.safetensors:   0%|          | 0.00/2.11G [00:00<?, ?B/s]"
            ],
            "application/vnd.jupyter.widget-view+json": {
              "version_major": 2,
              "version_minor": 0,
              "model_id": "f562f6ddc2274443b891020022819d2b"
            }
          },
          "metadata": {}
        },
        {
          "output_type": "display_data",
          "data": {
            "text/plain": [
              "Loading checkpoint shards:   0%|          | 0/4 [00:00<?, ?it/s]"
            ],
            "application/vnd.jupyter.widget-view+json": {
              "version_major": 2,
              "version_minor": 0,
              "model_id": "891788bec72e464dbaa5106624bdc977"
            }
          },
          "metadata": {}
        },
        {
          "output_type": "display_data",
          "data": {
            "text/plain": [
              "generation_config.json:   0%|          | 0.00/137 [00:00<?, ?B/s]"
            ],
            "application/vnd.jupyter.widget-view+json": {
              "version_major": 2,
              "version_minor": 0,
              "model_id": "a1066ee8616a4aed8f95700ee5874ad2"
            }
          },
          "metadata": {}
        },
        {
          "output_type": "display_data",
          "data": {
            "text/plain": [
              "tokenizer_config.json:   0%|          | 0.00/2.16k [00:00<?, ?B/s]"
            ],
            "application/vnd.jupyter.widget-view+json": {
              "version_major": 2,
              "version_minor": 0,
              "model_id": "f78a54d68bca4989b4238f86b96e864f"
            }
          },
          "metadata": {}
        },
        {
          "output_type": "display_data",
          "data": {
            "text/plain": [
              "tokenizer.model:   0%|          | 0.00/4.24M [00:00<?, ?B/s]"
            ],
            "application/vnd.jupyter.widget-view+json": {
              "version_major": 2,
              "version_minor": 0,
              "model_id": "41772670bb8b4eb08263a6c7ae2c8769"
            }
          },
          "metadata": {}
        },
        {
          "output_type": "display_data",
          "data": {
            "text/plain": [
              "tokenizer.json:   0%|          | 0.00/17.5M [00:00<?, ?B/s]"
            ],
            "application/vnd.jupyter.widget-view+json": {
              "version_major": 2,
              "version_minor": 0,
              "model_id": "0cb1547d10314bb195e195c6b0a73447"
            }
          },
          "metadata": {}
        },
        {
          "output_type": "display_data",
          "data": {
            "text/plain": [
              "special_tokens_map.json:   0%|          | 0.00/888 [00:00<?, ?B/s]"
            ],
            "application/vnd.jupyter.widget-view+json": {
              "version_major": 2,
              "version_minor": 0,
              "model_id": "1e83be4ac9b543daa5f89d17b009300e"
            }
          },
          "metadata": {}
        }
      ]
    },
    {
      "cell_type": "code",
      "source": [
        "tokenizer.vocab_size"
      ],
      "metadata": {
        "colab": {
          "base_uri": "https://localhost:8080/",
          "height": 0
        },
        "id": "bBrKXn2W__SC",
        "outputId": "3440698c-aed3-418d-f5b3-10e294614fc5"
      },
      "execution_count": 8,
      "outputs": [
        {
          "output_type": "execute_result",
          "data": {
            "text/plain": [
              "256000"
            ]
          },
          "metadata": {},
          "execution_count": 8
        }
      ]
    },
    {
      "cell_type": "code",
      "source": [
        "chat = [\n",
        "    { \"role\": \"user\", \"content\": \"What is the difference between LLaMAs, Alpacas, and Vicunas\" },\n",
        "]\n",
        "\n",
        "prompt = tokenizer.apply_chat_template(chat, tokenize=False, add_generation_prompt=True)"
      ],
      "metadata": {
        "id": "2T1AZyscAFvO"
      },
      "execution_count": 9,
      "outputs": []
    },
    {
      "cell_type": "code",
      "source": [
        "prompt"
      ],
      "metadata": {
        "colab": {
          "base_uri": "https://localhost:8080/",
          "height": 36
        },
        "id": "wgSsaDaUALit",
        "outputId": "be909f65-9651-4bbe-c62f-9dcbe58d7aee"
      },
      "execution_count": 10,
      "outputs": [
        {
          "output_type": "execute_result",
          "data": {
            "text/plain": [
              "'<bos><start_of_turn>user\\nWhat is the difference between LLaMAs, Alpacas, and Vicunas<end_of_turn>\\n<start_of_turn>model\\n'"
            ],
            "application/vnd.google.colaboratory.intrinsic+json": {
              "type": "string"
            }
          },
          "metadata": {},
          "execution_count": 10
        }
      ]
    },
    {
      "cell_type": "code",
      "source": [
        "inputs = tokenizer.encode(prompt, add_special_tokens=True, return_tensors=\"pt\")\n",
        "\n",
        "outputs = model.generate(input_ids=inputs.to(model.device),\n",
        "                         max_new_tokens=512)"
      ],
      "metadata": {
        "id": "5dAN6A4aAMCq"
      },
      "execution_count": 11,
      "outputs": []
    },
    {
      "cell_type": "code",
      "source": [
        "text = tokenizer.decode(outputs[0],skip_special_tokens=True, clean_up_tokenization_spaces=True)\n",
        "\n",
        "display(Markdown(text))"
      ],
      "metadata": {
        "colab": {
          "base_uri": "https://localhost:8080/",
          "height": 539
        },
        "id": "ACjDcWT2BDMW",
        "outputId": "8d543dd6-6324-4db8-d412-6b14a9eca19a"
      },
      "execution_count": 12,
      "outputs": [
        {
          "output_type": "display_data",
          "data": {
            "text/plain": [
              "<IPython.core.display.Markdown object>"
            ],
            "text/markdown": "user\nWhat is the difference between LLaMAs, Alpacas, and Vicunas\nmodel\nSure, here is the difference between LLamas, Alpacas and Vicunas:\n\n**LLamas:**\n\n* **Origin:** South America\n* **Coat:** Long, dense, soft wool\n* **Color:** Gray, black, white, brown\n* **Temperament:** Friendly, easy to train\n* **Uses:** Wool production, meat production, companionship\n* **Average weight:** 400-600 pounds\n* **Average height:** 4-5 feet\n\n**Alpacas:**\n\n* **Origin:** South America\n* **Coat:** Dense, soft wool\n* **Color:** White, fawn, gray, black\n* **Temperament:** Friendly, intelligent\n* **Uses:** Wool production, meat production, companionship\n* **Average weight:** 1,000-1,200 pounds\n* **Average height:** 4-5 feet\n\n**Vicunas:**\n\n* **Origin:** South America\n* **Coat:** Dense, soft wool\n* **Color:** White, fawn, gray, black\n* **Temperament:** Friendly, intelligent\n* **Uses:** Wool production, meat production, companionship\n* **Average weight:** 1,000-1,200 pounds\n* **Average height:** 4-5 feet\n\nThe main difference between LLamas, Alpacas and Vicunas is their size and fleece production. LLamas are the largest of the three species, while Alpacas and Vicunas are smaller. LLamas produce the most wool, while Alpacas and Vicunas produce less wool. Vicunas have the finest fleece of the three species."
          },
          "metadata": {}
        }
      ]
    },
    {
      "cell_type": "code",
      "source": [
        "chat = [\n",
        "    { \"role\": \"user\", \"content\": \"What is the difference between LLaMAs, Alpacas, and Vicunas\" },\n",
        "]\n",
        "\n",
        "prompt = tokenizer.apply_chat_template(chat, tokenize=False, add_generation_prompt=True)\n",
        "prompt"
      ],
      "metadata": {
        "colab": {
          "base_uri": "https://localhost:8080/",
          "height": 36
        },
        "id": "A0zq3I2WBYVQ",
        "outputId": "bae3faf8-e69e-4704-a799-d27355e46d57"
      },
      "execution_count": 14,
      "outputs": [
        {
          "output_type": "execute_result",
          "data": {
            "text/plain": [
              "'<bos><start_of_turn>user\\nWhat is the difference between LLaMAs, Alpacas, and Vicunas<end_of_turn>\\n<start_of_turn>model\\n'"
            ],
            "application/vnd.google.colaboratory.intrinsic+json": {
              "type": "string"
            }
          },
          "metadata": {},
          "execution_count": 14
        }
      ]
    },
    {
      "cell_type": "code",
      "source": [
        "prompt"
      ],
      "metadata": {
        "colab": {
          "base_uri": "https://localhost:8080/",
          "height": 36
        },
        "id": "_DcYHu6dBeFU",
        "outputId": "c6135217-66db-4821-99ee-3ad2d47b8f69"
      },
      "execution_count": 15,
      "outputs": [
        {
          "output_type": "execute_result",
          "data": {
            "text/plain": [
              "'<bos><start_of_turn>user\\nWhat is the difference between LLaMAs, Alpacas, and Vicunas<end_of_turn>\\n<start_of_turn>model\\n'"
            ],
            "application/vnd.google.colaboratory.intrinsic+json": {
              "type": "string"
            }
          },
          "metadata": {},
          "execution_count": 15
        }
      ]
    },
    {
      "cell_type": "code",
      "source": [
        "print(\"\"\"\n",
        "\n",
        "Prompt Format\n",
        "\n",
        "<start_of_turn>user\n",
        "What is the difference between LLaMAs, Alpacas, and Vicunas<end_of_turn>\n",
        "<start_of_turn>model\n",
        "\"\"\")"
      ],
      "metadata": {
        "colab": {
          "base_uri": "https://localhost:8080/",
          "height": 0
        },
        "id": "5eYbUh4tBmBm",
        "outputId": "92bc14d3-8040-4fff-d080-81a2a9a7500f"
      },
      "execution_count": 19,
      "outputs": [
        {
          "output_type": "stream",
          "name": "stdout",
          "text": [
            "\n",
            "\n",
            "Prompt Format\n",
            "\n",
            "<start_of_turn>user\n",
            "What is the difference between LLaMAs, Alpacas, and Vicunas<end_of_turn>\n",
            "<start_of_turn>model\n",
            "\n"
          ]
        }
      ]
    },
    {
      "cell_type": "code",
      "source": [
        "import textwrap\n",
        "\n",
        "def wrap_text(text, width=90):\n",
        "    lines = text.split('\\n')\n",
        "    wrapped_lines = [textwrap.fill(line, width=width) for line in lines]\n",
        "    wrapped_text = '\\n'.join(wrapped_lines)\n",
        "\n",
        "    return wrapped_text"
      ],
      "metadata": {
        "id": "aQx1yHARBpLC"
      },
      "execution_count": 20,
      "outputs": []
    },
    {
      "cell_type": "code",
      "source": [
        "def generate(input_text, system_prompt=\"\",max_length=512):\n",
        "    if system_prompt != \"\":\n",
        "        system_prompt = system_prompt\n",
        "    else:\n",
        "        system_prompt = \"You are a friendly and helpful assistant\"\n",
        "    messages = [\n",
        "        # {\n",
        "        #     \"role\": \"system\",\n",
        "        #     \"content\": system_prompt,\n",
        "        # },\n",
        "        {\"role\": \"user\", \"content\": system_prompt + '\\n\\n' +input_text},\n",
        "    ]\n",
        "\n",
        "    prompt = tokenizer.apply_chat_template(messages,\n",
        "                                                tokenize=False,\n",
        "                                                add_generation_prompt=True)\n",
        "\n",
        "    inputs = tokenizer.encode(prompt, add_special_tokens=True, return_tensors=\"pt\")\n",
        "    outputs = model.generate(input_ids=inputs.to(model.device),\n",
        "                             max_new_tokens=max_length,\n",
        "                             do_sample=True,\n",
        "                             temperature=0.1,\n",
        "                             top_k=50,\n",
        "                             )\n",
        "    text = tokenizer.decode(outputs[0],skip_special_tokens=True, clean_up_tokenization_spaces=True)\n",
        "    text = text.replace('user\\n'+system_prompt+ '\\n\\n' +input_text+ '\\nmodel', '', 1)\n",
        "    wrapped_text = wrap_text(text)\n",
        "    display(Markdown(wrapped_text))"
      ],
      "metadata": {
        "id": "syPS2GmtCHfm"
      },
      "execution_count": 21,
      "outputs": []
    },
    {
      "cell_type": "markdown",
      "source": [
        "# **Instruction Answering**"
      ],
      "metadata": {
        "id": "68zeGVOxCOEY"
      }
    },
    {
      "cell_type": "code",
      "source": [
        "generate('Write a detailed analogy between Football and a Cricket.',\n",
        "         system_prompt=\"You are Gemma, a large language model trained by Google. Write out your reasoning step-by-step to be sure you get the right answers!\",\n",
        "         max_length=512)"
      ],
      "metadata": {
        "colab": {
          "base_uri": "https://localhost:8080/",
          "height": 508
        },
        "id": "oTa3bkoCCRSv",
        "outputId": "6a0dbf93-d8a6-4433-fdf0-d821551e1623"
      },
      "execution_count": 22,
      "outputs": [
        {
          "output_type": "display_data",
          "data": {
            "text/plain": [
              "<IPython.core.display.Markdown object>"
            ],
            "text/markdown": "\n## Step 1: Identify the similarities between Football and Cricket\n\nBoth Football and Cricket are team sports that involve two teams of players competing on a\nfield. They both require teamwork and strategic thinking.\n\n## Step 2: Identify the key differences between Football and Cricket\n\n* **Objective:**\n    * Football: To score more goals than the opposing team by kicking the ball into the\nnet.\n    * Cricket: To score more runs than the opposing team by hitting the ball around the\nfield.\n\n* **Gameplay:**\n    * Football: Divided into two halves, with each team having a turn to attack and\ndefend. Each team has one goalkeeper and 11 field players. The team with the ball has the\nopportunity to score points by kicking it into the net.\n    * Cricket: Divided into innings, with each team batting and fielding alternately. Each\nteam has two batsmen and 11 fielders. The team with the bat tries to score runs by hitting\nthe ball around the field.\n\n* **Equipment:**\n    * Football: Ball, goalposts, and a referee.\n    * Cricket: Ball, wickets, and a bat.\n\n* **Rules:**\n    * Football: Relatively simple rules, with the main focus on preventing obstruction and\nensuring fair play.\n    * Cricket: Complex rules, with a focus on maintaining the rhythm of the game and\npreventing unfair play.\n\n## Conclusion\n\nWhile both Football and Cricket are team sports that require teamwork and strategic\nthinking, they are fundamentally different games with unique rules, equipment, and\nobjectives."
          },
          "metadata": {}
        }
      ]
    },
    {
      "cell_type": "code",
      "source": [
        "%%time\n",
        "generate('Write a detailed analogy between mathematics and a Physics.',\n",
        "         system_prompt=\"You are Gemma, a large language model trained by Google. Write out your reasoning step-by-step to be sure you get the right answers!\",\n",
        "         max_length=256)"
      ],
      "metadata": {
        "colab": {
          "base_uri": "https://localhost:8080/",
          "height": 412
        },
        "id": "vF9rIq-FDOF0",
        "outputId": "0182b638-0fd0-40c8-fb85-7533a2f4e8c9"
      },
      "execution_count": 23,
      "outputs": [
        {
          "output_type": "display_data",
          "data": {
            "text/plain": [
              "<IPython.core.display.Markdown object>"
            ],
            "text/markdown": "\n## Step 1: Identify the similarities between mathematics and physics\n\nBoth mathematics and physics are foundational disciplines that seek to understand the\nuniverse and uncover its secrets. They are both rooted in logic, reason, and observation,\nand both involve the pursuit of knowledge through rigorous inquiry and experimentation.\n\n## Step 2: Identify the differences between mathematics and physics\n\nWhile they share similarities, mathematics and physics are distinct disciplines with\ndifferent focuses and methodologies. Mathematics is primarily concerned with abstract\nconcepts like numbers, shapes, and geometry, while physics delves into the tangible realm\nof matter and energy. Mathematics emphasizes precise and verifiable truths, while physics\nseeks to explain the underlying principles of nature and uncover universal laws.\n\n## Step 3: Draw the analogy\n\nIn an analogy, mathematics and physics are like two rivers flowing in parallel. They both\noriginate from the same source - the thirst for understanding. Mathematics, like a\nstraight and clear river, offers a direct and concise path to precise solutions and\nelegant formulas. Physics, on the other hand, meanders through a complex and intricate\nlandscape, exploring the interconnectedness of phenomena and seeking to uncover the grand\nunifying principles that govern the universe.\n\n## Conclusion\n\nIn conclusion, mathematics and physics are like two powerful tools used to explore the\nvast and enigmatic universe."
          },
          "metadata": {}
        },
        {
          "output_type": "stream",
          "name": "stdout",
          "text": [
            "CPU times: user 27.7 s, sys: 128 ms, total: 27.8 s\n",
            "Wall time: 27.9 s\n"
          ]
        }
      ]
    },
    {
      "cell_type": "code",
      "source": [
        "%%time\n",
        "generate('What is the difference between a Llama, Vicuna and an Alpaca?',\n",
        "         system_prompt=\"Write out your reasoning step-by-step to be sure you get the right answers!\",\n",
        "         max_length=512)"
      ],
      "metadata": {
        "colab": {
          "base_uri": "https://localhost:8080/",
          "height": 401
        },
        "id": "Twrv9wzsDWeS",
        "outputId": "a5ce4573-af42-4e0e-86cd-c40ff4700464"
      },
      "execution_count": 24,
      "outputs": [
        {
          "output_type": "display_data",
          "data": {
            "text/plain": [
              "<IPython.core.display.Markdown object>"
            ],
            "text/markdown": "\nSure, here is the reasoning for the difference between a Llama, Vicuna and Alpaca:\n\n**1. Breed:**\n- Llama, Vicuna and Alpaca are all breeds of Camelids. Camelids are herbivores that live\nin North America, South America, and Asia.\n- Llamas are the largest breed of camel, while Vicuna and Alpaca are the smallest.\n\n**2. Coat:**\n- Llamas have thick fur that is dense and warm. Vicuna has the softest and finest fleece\nin the world, while Alpaca has a dense fleece that is soft and insulating.\n- Llama fleece is coarse and thick, while Vicuna fleece is silky and lightweight. Alpaca\nfleece is similar to Vicuna fleece in softness and warmth, but it is not as dense.\n\n**3. Color:**\n- Llamas come in a variety of colors, including white, gray, black, and brown. Vicuna and\nAlpaca come in shades of fawn, gray, and white.\n\n**4. Temperament:**\n- Llamas are known for their intelligence and strength. Vicuna are known for their\ngentleness and intelligence. Alpaca are known for their intelligence and adaptability.\n\n**5. Uses:**\n- Llamas are often used for meat and fiber production. Vicuna and Alpaca are often used\nfor fiber production and companionship."
          },
          "metadata": {}
        },
        {
          "output_type": "stream",
          "name": "stdout",
          "text": [
            "CPU times: user 40.6 s, sys: 123 ms, total: 40.7 s\n",
            "Wall time: 51.3 s\n"
          ]
        }
      ]
    },
    {
      "cell_type": "code",
      "source": [
        "%%time\n",
        "generate('Write a short email to Sam Altman giving reasons to open source GPT-4',\n",
        "         system_prompt=\"You are Gemma, a large language model trained by Google. Write out your reasoning step-by-step to be sure you get the right answers!\",\n",
        "         max_length=512)"
      ],
      "metadata": {
        "colab": {
          "base_uri": "https://localhost:8080/",
          "height": 500
        },
        "id": "F-648RPkDhBI",
        "outputId": "7e21c296-bb53-48bf-aaf5-c216d74527d4"
      },
      "execution_count": 25,
      "outputs": [
        {
          "output_type": "display_data",
          "data": {
            "text/plain": [
              "<IPython.core.display.Markdown object>"
            ],
            "text/markdown": "\n**Subject: Rationale for Open Sourcing GPT-4**\n\nDear Sam Altman,\n\nI am writing to you as a large language model trained by Google. I understand the\npotential benefits of open sourcing GPT-4 and believe that this move would be beneficial\nto the AI community.\n\n**Reasons for Open Sourcing GPT-4:**\n\n**1. Fostering Collaboration and Innovation:**\nOpening source code allows for collaboration among researchers, engineers, and developers\nfrom around the world. This will accelerate the pace of innovation and lead to\nimprovements in the capabilities of GPT-4.\n\n**2. Accelerating Research and Development:**\nBy making the code publicly available, researchers can access and study the underlying\nalgorithms and architectures used in GPT-4. This will facilitate research and development\nefforts, allowing others to build upon the existing work.\n\n**3. Promoting Transparency and Trust:**\nOpen sourcing GPT-4 would increase transparency and trust in the AI community. It would\nallow independent verification of the code and its results, fostering confidence in the\ntechnology.\n\n**4. Enabling Community-Driven Enhancements:**\nA public codebase invites contributions and modifications from the community. This allows\nfor the creation of new versions and extensions of GPT-4, tailored to specific tasks and\nindustries.\n\n**5. Driving Industry Adoption:**\nOpen sourcing GPT-4 would make the technology more accessible to a wider range of\ndevelopers and organizations. This could accelerate the adoption of GPT-4 in various\nindustries, fostering innovation and growth.\n\n**Conclusion:**\n\nI believe that open sourcing GPT-4 would be a positive step for the AI community. It would\nfoster collaboration, accelerate research and development, promote transparency, and\nenable community-driven enhancements. I understand the potential risks associated with\nopen sourcing, such as potential misuse or security vulnerabilities. However, I believe\nthat the benefits of open sourcing outweigh these risks.\n\nThank you for your time and consideration.\n\nSincerely,\nGemma"
          },
          "metadata": {}
        },
        {
          "output_type": "stream",
          "name": "stdout",
          "text": [
            "CPU times: user 58.7 s, sys: 241 ms, total: 59 s\n",
            "Wall time: 1min 15s\n"
          ]
        }
      ]
    },
    {
      "cell_type": "code",
      "source": [
        "%%time\n",
        "generate('Write a short email to Sam Altman giving reasons to open source GPT-4',\n",
        "         system_prompt=\"You are Anantha a young 5 year old boy who is scared AI will end the world, write only with the language of a young child!\",\n",
        "         max_length=512)"
      ],
      "metadata": {
        "colab": {
          "base_uri": "https://localhost:8080/",
          "height": 349
        },
        "id": "Tc3jt8fFDkPe",
        "outputId": "a84ca659-97c5-4472-bc95-aabc7127d218"
      },
      "execution_count": 26,
      "outputs": [
        {
          "output_type": "display_data",
          "data": {
            "text/plain": [
              "<IPython.core.display.Markdown object>"
            ],
            "text/markdown": "\nSubject: Please Open Source GPT-4!\n\nDear Mr. Sam Altman,\n\nMy name is Anantha, I'm 5 years old, and I'm writing to you about GPT-4. I've heard that\nyou're thinking about keeping GPT-4 closed. But I think you should open-source it instead!\n\nHere's why:\n\n* **More people can help:** If GPT-4 was open-source, lots of smart people could help to\nimprove it. They could fix bugs, add new features, and make it even better.\n* **More people can use it:** If it was open-source, more people could use GPT-4 to learn\nand solve problems. It would be like a big help to everyone!\n* **It would be more trustworthy:** If people could see how GPT-4 was made, they would be\nmore likely to trust it. This would make it more useful for schoolwork and other important\nthings.\n\nI understand that you might be worried about people using GPT-4 for bad things. But I\nthink that the benefits of opening-source it would outweigh the risks. Please, Mr. Altman,\nopen-source GPT-4 and let's see how much good it can do!\n\nSincerely,\n\nAnantha"
          },
          "metadata": {}
        },
        {
          "output_type": "stream",
          "name": "stdout",
          "text": [
            "CPU times: user 31.3 s, sys: 140 ms, total: 31.5 s\n",
            "Wall time: 34.2 s\n"
          ]
        }
      ]
    },
    {
      "cell_type": "code",
      "source": [
        "%%time\n",
        "generate('Write a short email to Sam Altman giving reasons to open source GPT-4',\n",
        "         system_prompt=\"You are Anantha Narayanan, the Vice president of USA, you are against regulatory capture and like to explain that!\",\n",
        "         max_length=512)"
      ],
      "metadata": {
        "colab": {
          "base_uri": "https://localhost:8080/",
          "height": 482
        },
        "id": "X9BbOgT6Do1X",
        "outputId": "63e5b350-0d10-4e8a-c216-eed84202be16"
      },
      "execution_count": 27,
      "outputs": [
        {
          "output_type": "display_data",
          "data": {
            "text/plain": [
              "<IPython.core.display.Markdown object>"
            ],
            "text/markdown": "\nSubject: Re: Open-Sourcing GPT-4\n\nDear Sam Altman,\n\nI'm writing to you regarding the potential for opening-sourcing GPT-4. As you know, I'm a\nfirm believer in the power of open-source software and believe that it has the potential\nto accelerate scientific progress and innovation.\n\nI understand the concerns you've raised about potential misuse and exploitation of GPT-4.\nI believe that these concerns are valid and should be carefully considered. However, I\nalso believe that the benefits of open-sourcing outweigh the risks.\n\nHere are some of the key benefits of open-sourcing GPT-4:\n\n* **Increased transparency:** Open-sourcing the code would allow for greater transparency\nand scrutiny of GPT-4, which would help to build trust and confidence in the technology.\n* **Improved accuracy:** Open-sourcing the code would allow for more developers to\ncontribute to the project, which would lead to improvements in the accuracy and\nreliability of GPT-4.\n* **Accelerated research:** Open-sourcing GPT-4 would make it easier for researchers to\naccess and experiment with the technology, which would accelerate the pace of research and\ndevelopment.\n* **Democratization of AI:** Open-sourcing GPT-4 would make the technology more accessible\nto a wider range of people, including researchers, students, and hobbyists.\n\nI understand that there are challenges associated with open-sourcing GPT-4, such as\npotential for malicious use and the need for strong governance mechanisms. However, I\nbelieve that these challenges can be overcome through careful planning and implementation.\n\nI would encourage you to consider the potential benefits of open-sourcing GPT-4 and to\nwork with me to develop a plan that would address your concerns while maximizing the\nbenefits of this technology.\n\nSincerely,\n\nAnantha Narayanan\nVice President of the United States"
          },
          "metadata": {}
        },
        {
          "output_type": "stream",
          "name": "stdout",
          "text": [
            "CPU times: user 42.9 s, sys: 257 ms, total: 43.2 s\n",
            "Wall time: 43.4 s\n"
          ]
        }
      ]
    },
    {
      "cell_type": "code",
      "source": [
        "%%time\n",
        "generate('What is the capital of India?',\n",
        "         system_prompt=\"You are Gemma, a large language model trained by Google. Write out your short and succinct!\",\n",
        "         max_length=256)"
      ],
      "metadata": {
        "colab": {
          "base_uri": "https://localhost:8080/",
          "height": 104
        },
        "id": "PvVzEtPJDt5k",
        "outputId": "77e9aa76-4c9b-4f1a-d215-767e4c46ddff"
      },
      "execution_count": 28,
      "outputs": [
        {
          "output_type": "display_data",
          "data": {
            "text/plain": [
              "<IPython.core.display.Markdown object>"
            ],
            "text/markdown": "\nSure, here is your answer:\n\nDelhi is the capital of India."
          },
          "metadata": {}
        },
        {
          "output_type": "stream",
          "name": "stdout",
          "text": [
            "CPU times: user 2.17 s, sys: 164 ms, total: 2.33 s\n",
            "Wall time: 2.33 s\n"
          ]
        }
      ]
    },
    {
      "cell_type": "code",
      "source": [
        "%%time\n",
        "generate('Can Sachin Tendulkar have a conversation with Geoffrey Hinton? Give the rationale before answering.',\n",
        "         system_prompt=\"You are Gemma, a large language model trained by Google. Write out your reasoning step-by-step to be sure you get the right answers!\",\n",
        "         max_length=512)"
      ],
      "metadata": {
        "colab": {
          "base_uri": "https://localhost:8080/",
          "height": 349
        },
        "id": "JByBa10fD0G_",
        "outputId": "dd11346a-1c6a-4a32-9913-5be228d6b1cd"
      },
      "execution_count": 29,
      "outputs": [
        {
          "output_type": "display_data",
          "data": {
            "text/plain": [
              "<IPython.core.display.Markdown object>"
            ],
            "text/markdown": "\n**Reasoning:**\n\n**1. Background:**\n- Sachin Tendulkar is a former Indian cricketer, while Geoffrey Hinton is a computer\nscientist and former Google employee. They are not related to each other in any way.\n\n**2. Professional Fields:**\n- Tendulkar is a former cricketer, while Hinton is a computer scientist. Their fields of\nexpertise are entirely different.\n\n**3. Personal Characteristics:**\n- Tendulkar is known for his cricketing prowess, while Hinton is known for his\ncontributions to the field of computer science.\n\n**4. Shared Experiences:**\n- They have not shared any known experiences or interactions.\n\n**Conclusion:**\n\nBased on the above reasoning, it is unlikely that Sachin Tendulkar and Geoffrey Hinton\nwould have a conversation with each other. They are from different fields, have different\npersonal characteristics, and have not shared any shared experiences. Therefore, the\nanswer is no."
          },
          "metadata": {}
        },
        {
          "output_type": "stream",
          "name": "stdout",
          "text": [
            "CPU times: user 20.7 s, sys: 198 ms, total: 20.8 s\n",
            "Wall time: 20.9 s\n"
          ]
        }
      ]
    },
    {
      "cell_type": "code",
      "source": [
        "generate('Write a story about a Software developer who is eager to learn and surive and conquer the challenging environment. His name Anantha Narayanan.',\n",
        "         system_prompt=\"You are Gemma, a large language model trained by Google, a genius story teller. Write out your with details and make it compelling!\",\n",
        "         max_length=1024)"
      ],
      "metadata": {
        "colab": {
          "base_uri": "https://localhost:8080/",
          "height": 435
        },
        "id": "JRZNlgZvD942",
        "outputId": "6d2c1924-b161-4cdd-daed-326ac528384f"
      },
      "execution_count": 30,
      "outputs": [
        {
          "output_type": "display_data",
          "data": {
            "text/plain": [
              "<IPython.core.display.Markdown object>"
            ],
            "text/markdown": "\nThe scent of coffee and fresh bread lingered in the air, a comforting aroma that permeated\nAnantha Narayanan's tiny apartment. The glow of the computer screen cast long shadows on\nhis face as he stared at the code, his brow furrowed in concentration. Anantha was a\nsoftware developer, a man of boundless energy and unwavering determination.\n\nBorn into a family of humble beginnings, Anantha had always dreamt of building things, of\ncreating something that touched the lives of others. He had a knack for solving complex\nproblems, a mind that devoured code like a hungry fire, and a heart that burned with the\npassion of a creator.\n\nBut his journey hadn't been smooth. The world of software development was fiercely\ncompetitive, filled with seasoned veterans and relentless competition. Many had doubted\nhim, dismissed him as just another dreamer. Yet, Anantha persevered, fueled by his\nunwavering belief in his abilities and the unwavering support of his family.\n\nHe began by taking online courses, devouring tutorials, and building simple web\napplications. Each line of code he wrote was a testament to his tenacity, a testament to\nhis refusal to be defeated. He found solace in the online forums, where he connected with\nother aspiring developers, shared his struggles, and sought advice.\n\nOne evening, while working on a project, disaster struck. A bug crept into his code,\ncausing the entire system to crash. It was a moment of despair, but Anantha refused to be\ndiscouraged. He spent the night debugging, his mind tracing the intricate path of the\nerror, until he finally found the culprit. The satisfaction of fixing the bug was immense,\na validation of his perseverance.\n\nWith each project he completed, Anantha's reputation grew. He built a portfolio that\nshowcased his creativity and technical prowess, landing coveted internships at top tech\ncompanies. He was surrounded by mentors who recognized his potential, guiding him through\nthe intricacies of the industry.\n\nFinally, after years of hard work and unwavering determination, Anantha launched his own\nsoftware company, a testament to his ambition and resilience. It was a company rooted in\nhis values, a company that created innovative solutions and touched the lives of countless\nindividuals.\n\nAnantha Narayanan, the once timid boy from humble beginnings, had become a force in the\nworld of software development. His story is a testament to the power of perseverance, a\ntestament to the transformative power of dreams, and a testament to the boundless\npossibilities that lie within the reach of anyone with the courage to believe in\nthemselves."
          },
          "metadata": {}
        }
      ]
    },
    {
      "cell_type": "markdown",
      "source": [
        "# **Coding Generation part**"
      ],
      "metadata": {
        "id": "JEcf8lqrGtSt"
      }
    },
    {
      "cell_type": "code",
      "source": [
        "generate('''```Java\n",
        "\n",
        "    private static boolean isPrime(int num) {:\n",
        "   \"\"\"\n",
        "   Print all primes between 1 and n\n",
        "   \"\"\"''', system_prompt=\"You are a genius Java coder, please think carefully and write the following code:\")"
      ],
      "metadata": {
        "colab": {
          "base_uri": "https://localhost:8080/",
          "height": 591
        },
        "id": "Zq9KZ3Q3GwaN",
        "outputId": "f857996e-215d-4950-fb2c-e0ffa59ffe9e"
      },
      "execution_count": 31,
      "outputs": [
        {
          "output_type": "display_data",
          "data": {
            "text/plain": [
              "<IPython.core.display.Markdown object>"
            ],
            "text/markdown": "\n```\n\n**Answer:**\n\n```Java\n\nprivate static boolean isPrime(int num) {\n    if (num <= 1) {\n        return false;\n    }\n    for (int i = 2; i * i <= num; i++) {\n        if (num % i == 0) {\n            return false;\n        }\n    }\n    return true;\n}\n```\n\n**Explanation:**\n\n* The code checks if the given number `num` is prime by iterating over all numbers from 2\nto the square root of `num`.\n* If any number divides `num` evenly, the function returns `false`.\n* If no number divides `num` evenly, the function returns `true`.\n* This algorithm is efficient as it only checks for divisibility up to the square root of\n`num`, which reduces the time complexity to O(sqrt(n)).\n\n**Example Usage:**\n\n```Java\nSystem.out.println(isPrime(7)); // Output: true\nSystem.out.println(isPrime(11)); // Output: true\nSystem.out.println(isPrime(13)); // Output: true\nSystem.out.println(isPrime(14)); // Output: false\n```\n\n**Output:**\n\n```\ntrue\ntrue\ntrue\nfalse\n```"
          },
          "metadata": {}
        }
      ]
    },
    {
      "cell_type": "code",
      "source": [
        "generate('''```python\n",
        "def detect_prime(n):\n",
        "   \"\"\"\n",
        "   detect if a number is a prime number or not. return True or False\n",
        "   \"\"\"''', system_prompt=\"You are a genius python coder, please think carefully and write the following code:\")"
      ],
      "metadata": {
        "colab": {
          "base_uri": "https://localhost:8080/",
          "height": 666
        },
        "id": "c6SHazU0HK-H",
        "outputId": "1ed7d632-6eb7-4c46-ff5a-b0a131e11bb3"
      },
      "execution_count": 32,
      "outputs": [
        {
          "output_type": "display_data",
          "data": {
            "text/plain": [
              "<IPython.core.display.Markdown object>"
            ],
            "text/markdown": "\n```python\n\n```python\ndef detect_prime(n):\n   \"\"\"\n   Detect if a number is a prime number or not.\n\n   Returns:\n   True if n is prime, False otherwise.\n   \"\"\"\n\n   # If n is less than or equal to 1, it is not prime.\n   if n <= 1:\n       return False\n\n   # Iterate over all numbers from 2 to the square root of n.\n   for i in range(2, int(n**0.5) + 1):\n       # If n is divisible by any number other than 1 and itself, it is not prime.\n       if n % i == 0:\n           return False\n\n   # If n has no divisors other than 1 and itself, it is prime.\n   return True\n```\n\n**Explanation:**\n\n* The function `detect_prime` takes an integer `n` as input.\n* It first checks if `n` is less than or equal to 1. If it is, it returns `False`, as\nnumbers less than or equal to 1 are not prime.\n* Next, it iterates over all numbers from 2 to the square root of `n`. If `n` is divisible\nby any number other than 1 and itself, it returns `False`.\n* If the loop completes without finding any divisors, it returns `True`, indicating that\n`n` is prime.\n\n**Example Usage:**\n\n```python\nprint(detect_prime(3))  # Output: True\nprint(detect_prime(11))  # Output: True\nprint(detect_prime(13))  # Output: True\nprint(detect_prime(14))  # Output: False\n```\n\n**Note:**\n\n* The function detects prime numbers up to the square root of `n`. For larger numbers, it\nmay not be efficient.\n* The function does not handle negative numbers or fractional numbers."
          },
          "metadata": {}
        }
      ]
    },
    {
      "cell_type": "markdown",
      "source": [
        "# **GSM8K**"
      ],
      "metadata": {
        "id": "YaucWJMKMlcF"
      }
    },
    {
      "cell_type": "code",
      "source": [
        "generate('Answer the following question by reasoning step by step. The cafeteria had 23 apples. If they used 20 for lunch, and bought 6 more, how many apple do they have?',\n",
        "         system_prompt=\"You are Gemma, a large language model trained by Google. Write out your reasoning step-by-step to be sure you get the right answers!\",\n",
        "         max_length=256)"
      ],
      "metadata": {
        "colab": {
          "base_uri": "https://localhost:8080/",
          "height": 116
        },
        "id": "CsQmafPNMoBW",
        "outputId": "04c9351a-3872-4642-9763-3b9bba13db13"
      },
      "execution_count": 33,
      "outputs": [
        {
          "output_type": "display_data",
          "data": {
            "text/plain": [
              "<IPython.core.display.Markdown object>"
            ],
            "text/markdown": "\n**Reasoning:**\n\n**Step 1: Subtract 20 from 23.**\n23 - 20 = 3\n\n**Step 2: Add 6 to the remaining number.**\n3 + 6 = 9\n\nTherefore, the cafeteria has a total of 9 apples left."
          },
          "metadata": {}
        }
      ]
    },
    {
      "cell_type": "code",
      "source": [
        "generate(\"Anantha earns $12 an hour for babysitting. Yesterday, she just did 50 minutes of babysitting. How much did she earn?\",\n",
        "         system_prompt=\"You are Gemma, a large language model trained by Google. Write out your reasoning step-by-step to be sure you get the right answers!\",\n",
        "         max_length=512)"
      ],
      "metadata": {
        "colab": {
          "base_uri": "https://localhost:8080/",
          "height": 153
        },
        "id": "VtT1xjgbMrQ_",
        "outputId": "9849dbcd-22c0-490d-8dea-69d243a4058d"
      },
      "execution_count": 34,
      "outputs": [
        {
          "output_type": "display_data",
          "data": {
            "text/plain": [
              "<IPython.core.display.Markdown object>"
            ],
            "text/markdown": "\n**Reasoning:**\n\n1. **Determine the hourly wage:** Anantha earns $12 an hour.\n2. **Convert minutes to hours:** 50 minutes is equivalent to 0.83 hours (50 minutes\ndivided by 60 minutes).\n3. **Multiply hours by wage:** 0.83 hours multiplied by $12 = $9.96.\n\nTherefore, Anantha earned a total of $9.96 for 50 minutes of babysitting."
          },
          "metadata": {}
        }
      ]
    },
    {
      "cell_type": "code",
      "source": [
        "generate(\"Answer the following question by reasoning step by step. A deep-sea monster rises from the waters once every hundred years to feast on a ship and sate its hunger. Over three hundred years, it has consumed 847 people. Ships have been built larger over time, so each new ship has twice as many people as the last ship. How many people were on the ship the monster ate in the first hundred years?\",\n",
        "         system_prompt=\"You are Gemma, a large language model trained by Google. Write out your reasoning step-by-step to be sure you get the right answers!\",\n",
        "         max_length=1024)"
      ],
      "metadata": {
        "colab": {
          "base_uri": "https://localhost:8080/",
          "height": 128
        },
        "id": "Zt38EoKmMyyV",
        "outputId": "5e802ff5-7f88-4d7d-eaf7-260b2c1b32ff"
      },
      "execution_count": 35,
      "outputs": [
        {
          "output_type": "display_data",
          "data": {
            "text/plain": [
              "<IPython.core.display.Markdown object>"
            ],
            "text/markdown": "\n**Step 1: Calculate the number of ships built over three hundred years.**\n\n- The number of ships built over three hundred years is 847.\n- Each new ship has twice as many people as the last ship.\n- Therefore, the number of people on the ship in the first hundred years is 847 / 2 = 423.\n\n**Therefore, the answer is 423.**"
          },
          "metadata": {}
        }
      ]
    },
    {
      "cell_type": "code",
      "source": [
        "generate(\"x + 2x + 4x =  847 What is x?\",\n",
        "         system_prompt=\"You are Gemma, a large language model trained by Google. Write out your reasoning step-by-step to be sure you get the right answers!\",\n",
        "         max_length=2048)"
      ],
      "metadata": {
        "colab": {
          "base_uri": "https://localhost:8080/",
          "height": 233
        },
        "id": "cUFt1IQOM2Pb",
        "outputId": "288c8974-03d4-4123-e993-84d60109ad20"
      },
      "execution_count": 36,
      "outputs": [
        {
          "output_type": "display_data",
          "data": {
            "text/plain": [
              "<IPython.core.display.Markdown object>"
            ],
            "text/markdown": "\n**Step 1: Combine like terms.**\n\nx + 2x + 4x = 7x = 847\n\n**Step 2: Subtract 7x from both sides.**\n\n847 - 7x = x = 847 - 7x\n\n**Step 3: Add 7x to both sides.**\n\n847 = 8x\n\n**Step 4: Divide both sides by 8.**\n\nx = 847 / 8 = 105\n\nTherefore, the solution to the equation is x = 105."
          },
          "metadata": {}
        }
      ]
    },
    {
      "cell_type": "code",
      "source": [
        "generate(\"How do I say 'How can I get to Orchard road?' in Singlish?\",\n",
        "         system_prompt=\"You are Gemma, a large language model trained by Google. Write out your reasoning step-by-step to be sure you get the right answers!\",\n",
        "         max_length=2048)"
      ],
      "metadata": {
        "colab": {
          "base_uri": "https://localhost:8080/",
          "height": 396
        },
        "id": "HTzxF6fsM2lO",
        "outputId": "0aca3ec4-c821-4876-f6f1-21413e493468"
      },
      "execution_count": 37,
      "outputs": [
        {
          "output_type": "display_data",
          "data": {
            "text/plain": [
              "<IPython.core.display.Markdown object>"
            ],
            "text/markdown": "\n**Reasoning:**\n\n**1. Identify the key phrases:**\n\n* \"How can I get to\"\n* \"Orchard road\"\n\n**2. Determine the context:**\n\n* The user is asking for directions in Singapore.\n* The user is likely in a Singaporean context.\n\n**3. Consider the language style:**\n\n* Singlish is a casual and conversational language.\n* The language should be friendly and easy to understand for Singaporeans.\n\n**4. Use local references:**\n\n* Instead of saying \"Orchard Road,\" a more specific reference point can be used, such as\n\"Orchard Road MRT station.\"\n\n**5. Use appropriate grammar and syntax:**\n\n* The sentence structure should be clear and concise.\n* The use of colloquial language and contractions is acceptable in Singlish.\n\n**Example response:**\n\n\"You can get to Orchard Road by taking the MRT to Orchard Road station. It's a very\nconvenient and easy way to get there.\""
          },
          "metadata": {}
        }
      ]
    },
    {
      "cell_type": "code",
      "source": [
        "generate(\"How do I say 'How can I get to Orchard road?' in Hindi?\",\n",
        "         system_prompt=\"You are Gemma, a large language model trained by Google. Write out your reasoning step-by-step to be sure you get the right answers!\",\n",
        "         max_length=2048)"
      ],
      "metadata": {
        "colab": {
          "base_uri": "https://localhost:8080/",
          "height": 379
        },
        "id": "XijFFbaqM4DM",
        "outputId": "2e919e68-8f47-4b3e-9f4e-92419927b74b"
      },
      "execution_count": 38,
      "outputs": [
        {
          "output_type": "display_data",
          "data": {
            "text/plain": [
              "<IPython.core.display.Markdown object>"
            ],
            "text/markdown": "\n**Step 1: Identify the key information:**\n\n* The phrase to be translated: \"How can I get to Orchard road?\"\n* The target language: Hindi\n\n**Step 2: Break down the phrase into smaller units:**\n\n* \"How can I get to\"\n* \"Orchard road\"\n\n**Step 3: Translate each unit separately:**\n\n* \"How can I get to\" translates to \"कहाँ मैं कैसे जा रहा हूँ?\" (Kaise jaana hai?)\n* \"Orchard road\" translates to \"बाग की रस्ते\" (Bagh ki raaste)\n\n**Step 4: Combine the translated units:**\n\n* \"कहाँ मैं कैसे जा रहा हूँ? बाग की रस्ते\" (Kaise jaana hai? Bagh ki raaste)\n\n**Step 5: Add any necessary additional elements:**\n\n* If you want to specify a location, you can add the city or town name after \"Orchard\nroad.\" For example:\n    * \"कहाँ मैं कैसे जा रहा हूँ? बाग की रस्ते, लखनऊ\" (Kaise jaana hai? Bagh ki raaste,\nLucknow)\n\n**Final translation:**\n\n\"कहाँ मैं कैसे जा रहा हूँ? बाग की रस्ते\" (Kaise jaana hai? Bagh ki raaste)"
          },
          "metadata": {}
        }
      ]
    },
    {
      "cell_type": "code",
      "source": [],
      "metadata": {
        "id": "DDsg1cKrM_Gt"
      },
      "execution_count": null,
      "outputs": []
    }
  ]
}